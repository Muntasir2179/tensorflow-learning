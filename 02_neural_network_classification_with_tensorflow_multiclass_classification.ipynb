{
  "nbformat": 4,
  "nbformat_minor": 0,
  "metadata": {
    "colab": {
      "provenance": [],
      "toc_visible": true,
      "gpuType": "T4",
      "authorship_tag": "ABX9TyNrPdfktTzv7NERDSS4kios",
      "include_colab_link": true
    },
    "kernelspec": {
      "name": "python3",
      "display_name": "Python 3"
    },
    "language_info": {
      "name": "python"
    },
    "accelerator": "GPU"
  },
  "cells": [
    {
      "cell_type": "markdown",
      "metadata": {
        "id": "view-in-github",
        "colab_type": "text"
      },
      "source": [
        "<a href=\"https://colab.research.google.com/github/Muntasir2179/tensorflow-learning/blob/classification-NN-modeling/02_neural_network_classification_with_tensorflow_multiclass_classification.ipynb\" target=\"_parent\"><img src=\"https://colab.research.google.com/assets/colab-badge.svg\" alt=\"Open In Colab\"/></a>"
      ]
    },
    {
      "cell_type": "markdown",
      "source": [
        "# This is the continuation of the part 2 neural network classification-\n",
        "\n",
        "* This part will cover the `multiclass classification` task.\n",
        "* Here we will work with TensorFlow Mnist Fashion Dataset.\n",
        "* Which has 10 classes and 70000 images of 28x28 pixels."
      ],
      "metadata": {
        "id": "ldwa9xIFWucu"
      }
    },
    {
      "cell_type": "markdown",
      "source": [
        "## Importing dataset"
      ],
      "metadata": {
        "id": "a0O5JR6mZm8R"
      }
    },
    {
      "cell_type": "code",
      "execution_count": 1,
      "metadata": {
        "id": "v3N_m_3eWjvG"
      },
      "outputs": [],
      "source": [
        "import tensorflow as tf\n",
        "from tensorflow.keras.datasets import fashion_mnist"
      ]
    },
    {
      "cell_type": "code",
      "source": [
        "(train_data, train_labels), (test_data, test_labels) = fashion_mnist.load_data()"
      ],
      "metadata": {
        "colab": {
          "base_uri": "https://localhost:8080/"
        },
        "id": "vQHqsgQ3Z3ct",
        "outputId": "b17e9e03-6be3-4ea1-f9e8-3399d42eb5e5"
      },
      "execution_count": 2,
      "outputs": [
        {
          "output_type": "stream",
          "name": "stdout",
          "text": [
            "Downloading data from https://storage.googleapis.com/tensorflow/tf-keras-datasets/train-labels-idx1-ubyte.gz\n",
            "29515/29515 [==============================] - 0s 1us/step\n",
            "Downloading data from https://storage.googleapis.com/tensorflow/tf-keras-datasets/train-images-idx3-ubyte.gz\n",
            "26421880/26421880 [==============================] - 2s 0us/step\n",
            "Downloading data from https://storage.googleapis.com/tensorflow/tf-keras-datasets/t10k-labels-idx1-ubyte.gz\n",
            "5148/5148 [==============================] - 0s 0us/step\n",
            "Downloading data from https://storage.googleapis.com/tensorflow/tf-keras-datasets/t10k-images-idx3-ubyte.gz\n",
            "4422102/4422102 [==============================] - 1s 0us/step\n"
          ]
        }
      ]
    },
    {
      "cell_type": "code",
      "source": [
        "# showing the first training example\n",
        "print(f'Training sample:\\n{train_data[0]}\\n')\n",
        "print(f'Training label:\\n{train_labels[0]}\\n')"
      ],
      "metadata": {
        "colab": {
          "base_uri": "https://localhost:8080/"
        },
        "id": "1MBHAN5OaNRg",
        "outputId": "e3cff020-e664-4937-d16e-2c3008a18637"
      },
      "execution_count": 3,
      "outputs": [
        {
          "output_type": "stream",
          "name": "stdout",
          "text": [
            "Training sample:\n",
            "[[  0   0   0   0   0   0   0   0   0   0   0   0   0   0   0   0   0   0\n",
            "    0   0   0   0   0   0   0   0   0   0]\n",
            " [  0   0   0   0   0   0   0   0   0   0   0   0   0   0   0   0   0   0\n",
            "    0   0   0   0   0   0   0   0   0   0]\n",
            " [  0   0   0   0   0   0   0   0   0   0   0   0   0   0   0   0   0   0\n",
            "    0   0   0   0   0   0   0   0   0   0]\n",
            " [  0   0   0   0   0   0   0   0   0   0   0   0   1   0   0  13  73   0\n",
            "    0   1   4   0   0   0   0   1   1   0]\n",
            " [  0   0   0   0   0   0   0   0   0   0   0   0   3   0  36 136 127  62\n",
            "   54   0   0   0   1   3   4   0   0   3]\n",
            " [  0   0   0   0   0   0   0   0   0   0   0   0   6   0 102 204 176 134\n",
            "  144 123  23   0   0   0   0  12  10   0]\n",
            " [  0   0   0   0   0   0   0   0   0   0   0   0   0   0 155 236 207 178\n",
            "  107 156 161 109  64  23  77 130  72  15]\n",
            " [  0   0   0   0   0   0   0   0   0   0   0   1   0  69 207 223 218 216\n",
            "  216 163 127 121 122 146 141  88 172  66]\n",
            " [  0   0   0   0   0   0   0   0   0   1   1   1   0 200 232 232 233 229\n",
            "  223 223 215 213 164 127 123 196 229   0]\n",
            " [  0   0   0   0   0   0   0   0   0   0   0   0   0 183 225 216 223 228\n",
            "  235 227 224 222 224 221 223 245 173   0]\n",
            " [  0   0   0   0   0   0   0   0   0   0   0   0   0 193 228 218 213 198\n",
            "  180 212 210 211 213 223 220 243 202   0]\n",
            " [  0   0   0   0   0   0   0   0   0   1   3   0  12 219 220 212 218 192\n",
            "  169 227 208 218 224 212 226 197 209  52]\n",
            " [  0   0   0   0   0   0   0   0   0   0   6   0  99 244 222 220 218 203\n",
            "  198 221 215 213 222 220 245 119 167  56]\n",
            " [  0   0   0   0   0   0   0   0   0   4   0   0  55 236 228 230 228 240\n",
            "  232 213 218 223 234 217 217 209  92   0]\n",
            " [  0   0   1   4   6   7   2   0   0   0   0   0 237 226 217 223 222 219\n",
            "  222 221 216 223 229 215 218 255  77   0]\n",
            " [  0   3   0   0   0   0   0   0   0  62 145 204 228 207 213 221 218 208\n",
            "  211 218 224 223 219 215 224 244 159   0]\n",
            " [  0   0   0   0  18  44  82 107 189 228 220 222 217 226 200 205 211 230\n",
            "  224 234 176 188 250 248 233 238 215   0]\n",
            " [  0  57 187 208 224 221 224 208 204 214 208 209 200 159 245 193 206 223\n",
            "  255 255 221 234 221 211 220 232 246   0]\n",
            " [  3 202 228 224 221 211 211 214 205 205 205 220 240  80 150 255 229 221\n",
            "  188 154 191 210 204 209 222 228 225   0]\n",
            " [ 98 233 198 210 222 229 229 234 249 220 194 215 217 241  65  73 106 117\n",
            "  168 219 221 215 217 223 223 224 229  29]\n",
            " [ 75 204 212 204 193 205 211 225 216 185 197 206 198 213 240 195 227 245\n",
            "  239 223 218 212 209 222 220 221 230  67]\n",
            " [ 48 203 183 194 213 197 185 190 194 192 202 214 219 221 220 236 225 216\n",
            "  199 206 186 181 177 172 181 205 206 115]\n",
            " [  0 122 219 193 179 171 183 196 204 210 213 207 211 210 200 196 194 191\n",
            "  195 191 198 192 176 156 167 177 210  92]\n",
            " [  0   0  74 189 212 191 175 172 175 181 185 188 189 188 193 198 204 209\n",
            "  210 210 211 188 188 194 192 216 170   0]\n",
            " [  2   0   0   0  66 200 222 237 239 242 246 243 244 221 220 193 191 179\n",
            "  182 182 181 176 166 168  99  58   0   0]\n",
            " [  0   0   0   0   0   0   0  40  61  44  72  41  35   0   0   0   0   0\n",
            "    0   0   0   0   0   0   0   0   0   0]\n",
            " [  0   0   0   0   0   0   0   0   0   0   0   0   0   0   0   0   0   0\n",
            "    0   0   0   0   0   0   0   0   0   0]\n",
            " [  0   0   0   0   0   0   0   0   0   0   0   0   0   0   0   0   0   0\n",
            "    0   0   0   0   0   0   0   0   0   0]]\n",
            "\n",
            "Training label:\n",
            "9\n",
            "\n"
          ]
        }
      ]
    },
    {
      "cell_type": "code",
      "source": [
        "# check the shape of a single example\n",
        "train_data[0].shape, train_labels[0].shape"
      ],
      "metadata": {
        "colab": {
          "base_uri": "https://localhost:8080/"
        },
        "id": "PQIzXFQfa9uF",
        "outputId": "e1d2e3dd-8e50-4365-f498-9e4ee99b24ef"
      },
      "execution_count": 4,
      "outputs": [
        {
          "output_type": "execute_result",
          "data": {
            "text/plain": [
              "((28, 28), ())"
            ]
          },
          "metadata": {},
          "execution_count": 4
        }
      ]
    },
    {
      "cell_type": "code",
      "source": [
        "# plot a single sample\n",
        "import matplotlib.pyplot as plt\n",
        "plt.imshow(train_data[0])"
      ],
      "metadata": {
        "colab": {
          "base_uri": "https://localhost:8080/",
          "height": 447
        },
        "id": "qz0bDjRObMJ2",
        "outputId": "38317d18-f28b-41a5-f371-f78c55f9efed"
      },
      "execution_count": 5,
      "outputs": [
        {
          "output_type": "execute_result",
          "data": {
            "text/plain": [
              "<matplotlib.image.AxesImage at 0x7e1ca3932320>"
            ]
          },
          "metadata": {},
          "execution_count": 5
        },
        {
          "output_type": "display_data",
          "data": {
            "text/plain": [
              "<Figure size 640x480 with 1 Axes>"
            ],
            "image/png": "[encoded data removed]"
          },
          "metadata": {}
        }
      ]
    },
    {
      "cell_type": "code",
      "source": [
        "# check out the samples label\n",
        "train_labels[7]"
      ],
      "metadata": {
        "colab": {
          "base_uri": "https://localhost:8080/"
        },
        "id": "qd3XdQ9icTnb",
        "outputId": "3ca78e8a-5950-463a-94dd-f6a9abb55ae0"
      },
      "execution_count": 6,
      "outputs": [
        {
          "output_type": "execute_result",
          "data": {
            "text/plain": [
              "2"
            ]
          },
          "metadata": {},
          "execution_count": 6
        }
      ]
    },
    {
      "cell_type": "code",
      "source": [
        "# creating a small list so we can index onto our training labels so they're human-readable\n",
        "class_names = ['T-shirt/top', 'Trouser', 'Pullover', 'Dress', 'Coat', 'Sandal', 'Shirt', 'Sneaker', 'Bag', 'Ankle boot']\n",
        "len(class_names)"
      ],
      "metadata": {
        "colab": {
          "base_uri": "https://localhost:8080/"
        },
        "id": "Hcm-orHNdFst",
        "outputId": "edd6af72-3caa-4131-9c7d-483a3097c56b"
      },
      "execution_count": 7,
      "outputs": [
        {
          "output_type": "execute_result",
          "data": {
            "text/plain": [
              "10"
            ]
          },
          "metadata": {},
          "execution_count": 7
        }
      ]
    },
    {
      "cell_type": "code",
      "source": [
        "# plot an example image and its label\n",
        "index_of_choice = 17\n",
        "plt.imshow(train_data[index_of_choice], cmap=plt.cm.binary)\n",
        "plt.title(class_names[train_labels[index_of_choice]])"
      ],
      "metadata": {
        "colab": {
          "base_uri": "https://localhost:8080/",
          "height": 469
        },
        "id": "JIbn50bMciHc",
        "outputId": "674798ff-4ded-4607-c5bc-b9b2f40e098d"
      },
      "execution_count": 8,
      "outputs": [
        {
          "output_type": "execute_result",
          "data": {
            "text/plain": [
              "Text(0.5, 1.0, 'T-shirt/top')"
            ]
          },
          "metadata": {},
          "execution_count": 8
        },
        {
          "output_type": "display_data",
          "data": {
            "text/plain": [
              "<Figure size 640x480 with 1 Axes>"
            ],
            "image/png": "[encoded data removed]"
          },
          "metadata": {}
        }
      ]
    },
    {
      "cell_type": "code",
      "source": [
        "# plot multiple random images of fashion MNIST\n",
        "import random\n",
        "plt.figure(figsize=(7,7))\n",
        "for i in range(4):\n",
        "  ax = plt.subplot(2, 2, i+1)\n",
        "  rand_index = random.choice(range(len(train_data)))\n",
        "  plt.imshow(train_data[rand_index], cmap=plt.cm.binary)\n",
        "  plt.title(class_names[train_labels[rand_index]])\n",
        "  plt.axis(False)"
      ],
      "metadata": {
        "colab": {
          "base_uri": "https://localhost:8080/",
          "height": 598
        },
        "id": "1hjfsc6je9cb",
        "outputId": "4d94f63f-d7c8-4fd7-8fe3-627cef662960"
      },
      "execution_count": 9,
      "outputs": [
        {
          "output_type": "display_data",
          "data": {
            "text/plain": [
              "<Figure size 700x700 with 4 Axes>"
            ],
            "image/png": "[encoded data removed]"
          },
          "metadata": {}
        }
      ]
    },
    {
      "cell_type": "markdown",
      "source": [
        "## Building model and exploring\n",
        "\n",
        "For our multiclass classification model, we can use a similar architrecture to our binary classifications, however, we're going to have to tweak a few things:\n",
        "\n",
        "* Input shape = 28 x 28 (The shape of one image)\n",
        "* Output shape = 10 (One per class of clouthing)\n",
        "* Loss function = tf.keras.losses.CategoricalCrossentropy()\n",
        "* Output layer activation = Softmax (not sigmoid)"
      ],
      "metadata": {
        "id": "7OOoTjQ4wony"
      }
    },
    {
      "cell_type": "markdown",
      "source": [
        "### flatten layer in action"
      ],
      "metadata": {
        "id": "zASOBbTa0TcQ"
      }
    },
    {
      "cell_type": "code",
      "source": [
        "flatten_model = tf.keras.Sequential([\n",
        "    tf.keras.layers.Flatten(input_shape=(28, 28))\n",
        "])\n",
        "\n",
        "flatten_model.output_shape"
      ],
      "metadata": {
        "colab": {
          "base_uri": "https://localhost:8080/"
        },
        "id": "oRXN2DR-0ZUp",
        "outputId": "edea36ef-9b66-45d0-e5ca-9445d21bbfd3"
      },
      "execution_count": 10,
      "outputs": [
        {
          "output_type": "execute_result",
          "data": {
            "text/plain": [
              "(None, 784)"
            ]
          },
          "metadata": {},
          "execution_count": 10
        }
      ]
    },
    {
      "cell_type": "code",
      "source": [
        "28 * 28"
      ],
      "metadata": {
        "colab": {
          "base_uri": "https://localhost:8080/"
        },
        "id": "gEJWdxTk0wsg",
        "outputId": "09ee1b0e-196b-4da6-f869-11a991ba1bb9"
      },
      "execution_count": 11,
      "outputs": [
        {
          "output_type": "execute_result",
          "data": {
            "text/plain": [
              "784"
            ]
          },
          "metadata": {},
          "execution_count": 11
        }
      ]
    },
    {
      "cell_type": "markdown",
      "source": [
        "### Multiclass classification model\n",
        "\n",
        "🧮NOTE: `CategoricalCrossentropy()` does not allow integer representation of labels. It only allows `OneHot-encoded` representaiton of labels. But there is another loss function available which allows integer representation of labels which is `SparseCategoricalCrossentropy()`"
      ],
      "metadata": {
        "id": "3tZ3Ql1D07xC"
      }
    },
    {
      "cell_type": "code",
      "source": [
        "tf.random.set_seed(42)\n",
        "\n",
        "# create the model\n",
        "model_1 = tf.keras.Sequential([\n",
        "    tf.keras.layers.Flatten(input_shape=(28, 28)),\n",
        "    tf.keras.layers.Dense(4, activation='relu'),\n",
        "    tf.keras.layers.Dense(4, activation='relu'),\n",
        "    tf.keras.layers.Dense(10, activation='softmax')\n",
        "])\n",
        "\n",
        "# compile the model\n",
        "model_1.compile(loss=tf.losses.CategoricalCrossentropy(),\n",
        "                optimizer=tf.optimizers.Adam(),\n",
        "                metrics=['accuracy'])\n",
        "\n",
        "# fit the model\n",
        "model_1_history = model_1.fit(train_data,\n",
        "                              tf.one_hot(train_labels, depth=10),\n",
        "                              epochs=10,\n",
        "                              validation_data=(test_data, tf.one_hot(test_labels, depth=10)))"
      ],
      "metadata": {
        "colab": {
          "base_uri": "https://localhost:8080/"
        },
        "id": "HYdyvCPOwnTp",
        "outputId": "bffb6fec-06d4-4532-855b-ae9a86fb8157"
      },
      "execution_count": 12,
      "outputs": [
        {
          "output_type": "stream",
          "name": "stdout",
          "text": [
            "Epoch 1/10\n",
            "1875/1875 [==============================] - 15s 4ms/step - loss: 2.3602 - accuracy: 0.1175 - val_loss: 2.1459 - val_accuracy: 0.1707\n",
            "Epoch 2/10\n",
            "1875/1875 [==============================] - 10s 5ms/step - loss: 2.0005 - accuracy: 0.1950 - val_loss: 1.8001 - val_accuracy: 0.2082\n",
            "Epoch 3/10\n",
            "1875/1875 [==============================] - 11s 6ms/step - loss: 1.7445 - accuracy: 0.2346 - val_loss: 1.6898 - val_accuracy: 0.2767\n",
            "Epoch 4/10\n",
            "1875/1875 [==============================] - 6s 3ms/step - loss: 1.6653 - accuracy: 0.2842 - val_loss: 1.6433 - val_accuracy: 0.2903\n",
            "Epoch 5/10\n",
            "1875/1875 [==============================] - 7s 4ms/step - loss: 1.6323 - accuracy: 0.2898 - val_loss: 1.6223 - val_accuracy: 0.2842\n",
            "Epoch 6/10\n",
            "1875/1875 [==============================] - 7s 3ms/step - loss: 1.6139 - accuracy: 0.2898 - val_loss: 1.6087 - val_accuracy: 0.2973\n",
            "Epoch 7/10\n",
            "1875/1875 [==============================] - 6s 3ms/step - loss: 1.6036 - accuracy: 0.2905 - val_loss: 1.5991 - val_accuracy: 0.2908\n",
            "Epoch 8/10\n",
            "1875/1875 [==============================] - 9s 5ms/step - loss: 1.5963 - accuracy: 0.2844 - val_loss: 1.5938 - val_accuracy: 0.2766\n",
            "Epoch 9/10\n",
            "1875/1875 [==============================] - 7s 4ms/step - loss: 1.5915 - accuracy: 0.2828 - val_loss: 1.5893 - val_accuracy: 0.2822\n",
            "Epoch 10/10\n",
            "1875/1875 [==============================] - 7s 4ms/step - loss: 1.5865 - accuracy: 0.2845 - val_loss: 1.5856 - val_accuracy: 0.2824\n"
          ]
        }
      ]
    },
    {
      "cell_type": "code",
      "source": [
        "model_1.summary()"
      ],
      "metadata": {
        "colab": {
          "base_uri": "https://localhost:8080/"
        },
        "id": "LWZX8hPVkj5-",
        "outputId": "3fde07ae-d56c-42bc-bbe1-30afdb5efadb"
      },
      "execution_count": 13,
      "outputs": [
        {
          "output_type": "stream",
          "name": "stdout",
          "text": [
            "Model: \"sequential_1\"\n",
            "_________________________________________________________________\n",
            " Layer (type)                Output Shape              Param #   \n",
            "=================================================================\n",
            " flatten_1 (Flatten)         (None, 784)               0         \n",
            "                                                                 \n",
            " dense (Dense)               (None, 4)                 3140      \n",
            "                                                                 \n",
            " dense_1 (Dense)             (None, 4)                 20        \n",
            "                                                                 \n",
            " dense_2 (Dense)             (None, 10)                50        \n",
            "                                                                 \n",
            "=================================================================\n",
            "Total params: 3,210\n",
            "Trainable params: 3,210\n",
            "Non-trainable params: 0\n",
            "_________________________________________________________________\n"
          ]
        }
      ]
    },
    {
      "cell_type": "markdown",
      "source": [
        "📖The model is performing badly on the training and testing data.\n",
        "\n",
        "In order to improve the training and testing accuracy we have to look into the training data."
      ],
      "metadata": {
        "id": "pkG-cLUylh5r"
      }
    },
    {
      "cell_type": "code",
      "source": [
        "# chcek the min and max values of the training data\n",
        "train_data.min(), train_data.max()"
      ],
      "metadata": {
        "colab": {
          "base_uri": "https://localhost:8080/"
        },
        "id": "Qx_gwPTOmAf0",
        "outputId": "0ed87e05-b499-4788-d5ff-61cdcab556d7"
      },
      "execution_count": 14,
      "outputs": [
        {
          "output_type": "execute_result",
          "data": {
            "text/plain": [
              "(0, 255)"
            ]
          },
          "metadata": {},
          "execution_count": 14
        }
      ]
    },
    {
      "cell_type": "markdown",
      "source": [
        "**Conclusion:**\n",
        "\n",
        "Neural network prefers data to be scaled or normalized so that it can able to find patterns in the data.\n",
        "\n",
        "By scalling and normalizing it means that the values of the tensors will be within the range of 0 - 1."
      ],
      "metadata": {
        "id": "LO2D9sVlmOOs"
      }
    },
    {
      "cell_type": "code",
      "source": [
        "# normalizing our training and testing data\n",
        "train_data_norm = train_data / 255.0\n",
        "test_data_norm = test_data / 255.0\n",
        "\n",
        "# check the min and max values of the training data\n",
        "train_data_norm.min(), train_data_norm.max()"
      ],
      "metadata": {
        "colab": {
          "base_uri": "https://localhost:8080/"
        },
        "id": "IXjaqwoCmnr8",
        "outputId": "98a6c1b5-353c-4828-812c-85405a51bd77"
      },
      "execution_count": 15,
      "outputs": [
        {
          "output_type": "execute_result",
          "data": {
            "text/plain": [
              "(0.0, 1.0)"
            ]
          },
          "metadata": {},
          "execution_count": 15
        }
      ]
    },
    {
      "cell_type": "markdown",
      "source": [
        "### Training our model on normalized training data"
      ],
      "metadata": {
        "id": "u5yN2Lo2nRe6"
      }
    },
    {
      "cell_type": "code",
      "source": [
        "tf.random.set_seed(42)\n",
        "\n",
        "model_2 = tf.keras.Sequential([\n",
        "    tf.keras.layers.Flatten(input_shape=(28, 28)),\n",
        "    tf.keras.layers.Dense(4, activation='relu'),\n",
        "    tf.keras.layers.Dense(4, activation='relu'),\n",
        "    tf.keras.layers.Dense(10, activation='softmax')\n",
        "])\n",
        "\n",
        "model_2.compile(loss=tf.losses.CategoricalCrossentropy(),\n",
        "                optimizer=tf.optimizers.Adam(),\n",
        "                metrics=['accuracy'])\n",
        "\n",
        "model_2_history = model_2.fit(train_data_norm,\n",
        "            tf.one_hot(train_labels, depth=10),\n",
        "            epochs=10,\n",
        "            validation_data=(test_data_norm, tf.one_hot(test_labels, depth=10)))"
      ],
      "metadata": {
        "colab": {
          "base_uri": "https://localhost:8080/"
        },
        "id": "77KXFi8gnQDD",
        "outputId": "b0d8b515-1459-4d1e-bca0-fdd1aaf7b254"
      },
      "execution_count": 16,
      "outputs": [
        {
          "output_type": "stream",
          "name": "stdout",
          "text": [
            "Epoch 1/10\n",
            "1875/1875 [==============================] - 8s 4ms/step - loss: 1.1858 - accuracy: 0.5343 - val_loss: 0.8264 - val_accuracy: 0.6584\n",
            "Epoch 2/10\n",
            "1875/1875 [==============================] - 6s 3ms/step - loss: 0.7713 - accuracy: 0.7024 - val_loss: 0.7703 - val_accuracy: 0.7231\n",
            "Epoch 3/10\n",
            "1875/1875 [==============================] - 7s 4ms/step - loss: 0.7010 - accuracy: 0.7526 - val_loss: 0.6878 - val_accuracy: 0.7622\n",
            "Epoch 4/10\n",
            "1875/1875 [==============================] - 6s 3ms/step - loss: 0.6487 - accuracy: 0.7742 - val_loss: 0.6622 - val_accuracy: 0.7744\n",
            "Epoch 5/10\n",
            "1875/1875 [==============================] - 7s 3ms/step - loss: 0.6264 - accuracy: 0.7825 - val_loss: 0.6411 - val_accuracy: 0.7745\n",
            "Epoch 6/10\n",
            "1875/1875 [==============================] - 6s 3ms/step - loss: 0.6058 - accuracy: 0.7891 - val_loss: 0.6587 - val_accuracy: 0.7777\n",
            "Epoch 7/10\n",
            "1875/1875 [==============================] - 7s 4ms/step - loss: 0.5929 - accuracy: 0.7951 - val_loss: 0.6241 - val_accuracy: 0.7833\n",
            "Epoch 8/10\n",
            "1875/1875 [==============================] - 6s 3ms/step - loss: 0.5773 - accuracy: 0.8015 - val_loss: 0.6098 - val_accuracy: 0.7881\n",
            "Epoch 9/10\n",
            "1875/1875 [==============================] - 7s 4ms/step - loss: 0.5651 - accuracy: 0.8050 - val_loss: 0.5863 - val_accuracy: 0.7978\n",
            "Epoch 10/10\n",
            "1875/1875 [==============================] - 6s 3ms/step - loss: 0.5581 - accuracy: 0.8073 - val_loss: 0.5976 - val_accuracy: 0.7956\n"
          ]
        }
      ]
    },
    {
      "cell_type": "markdown",
      "source": [
        "### Comparison between the normalized and non-normalized data"
      ],
      "metadata": {
        "id": "DQdJD7NiqjX-"
      }
    },
    {
      "cell_type": "code",
      "source": [
        "import pandas as pd\n",
        "\n",
        "# plot non-normalized data loss curves\n",
        "pd.DataFrame(model_1_history.history).plot(title='Non-normalized Data')\n",
        "\n",
        "# plot normalized data loss curves\n",
        "pd.DataFrame(model_2_history.history).plot(title='Normalized Data')"
      ],
      "metadata": {
        "colab": {
          "base_uri": "https://localhost:8080/",
          "height": 904
        },
        "id": "UemqmGSEp6i6",
        "outputId": "1160fa8e-eca2-433e-d8f0-5d1a2188b7fa"
      },
      "execution_count": 17,
      "outputs": [
        {
          "output_type": "execute_result",
          "data": {
            "text/plain": [
              "<Axes: title={'center': 'Normalized Data'}>"
            ]
          },
          "metadata": {},
          "execution_count": 17
        },
        {
          "output_type": "display_data",
          "data": {
            "text/plain": [
              "<Figure size 640x480 with 1 Axes>"
            ],
            "image/png": "[encoded data removed]"
          },
          "metadata": {}
        },
        {
          "output_type": "display_data",
          "data": {
            "text/plain": [
              "<Figure size 640x480 with 1 Axes>"
            ],
            "image/png": "[encoded data removed]"
          },
          "metadata": {}
        }
      ]
    },
    {
      "cell_type": "markdown",
      "source": [
        "> 🔑 **Note:** The same model with even slightly different data can produce dramatically different resuts. So when we are comparing models, it's important to make sure we are comparing then on the same criteria (e.g. same architecture but different data or same data but different architecture)."
      ],
      "metadata": {
        "id": "_HQ2vlFzqzGz"
      }
    },
    {
      "cell_type": "markdown",
      "source": [
        "### Finding the ideal learning rate"
      ],
      "metadata": {
        "id": "rEbIOmwukeY4"
      }
    },
    {
      "cell_type": "code",
      "source": [
        "tf.random.set_seed(42)\n",
        "\n",
        "# creating the model\n",
        "model_3 = tf.keras.Sequential([\n",
        "    tf.keras.layers.Flatten(input_shape=(28, 28)),\n",
        "    tf.keras.layers.Dense(4, activation='relu'),\n",
        "    tf.keras.layers.Dense(4, activation='relu'),\n",
        "    tf.keras.layers.Dense(10, activation='softmax')\n",
        "])\n",
        "\n",
        "# compile the model\n",
        "model_3.compile(loss=tf.losses.SparseCategoricalCrossentropy(),\n",
        "                optimizer=tf.optimizers.Adam(),\n",
        "                metrics=['accuracy'])\n",
        "\n",
        "# creating learning rate scheduler callback\n",
        "lr_scheduler = tf.keras.callbacks.LearningRateScheduler(lambda epochs: 1e-3 * 10**(epochs/20))\n",
        "\n",
        "# fit the model\n",
        "model_3_history = model_3.fit(train_data_norm,\n",
        "                              train_labels,\n",
        "                              epochs=40,\n",
        "                              validation_data=(test_data, test_labels),\n",
        "                              callbacks=[lr_scheduler])"
      ],
      "metadata": {
        "colab": {
          "base_uri": "https://localhost:8080/"
        },
        "id": "gFd2VxAwkh_G",
        "outputId": "18b149fc-e617-407f-e45d-c9b755977e8c"
      },
      "execution_count": 19,
      "outputs": [
        {
          "output_type": "stream",
          "name": "stdout",
          "text": [
            "Epoch 1/40\n",
            "1875/1875 [==============================] - 8s 4ms/step - loss: 1.0680 - accuracy: 0.5969 - val_loss: 113.8421 - val_accuracy: 0.6842 - lr: 0.0010\n",
            "Epoch 2/40\n",
            "1875/1875 [==============================] - 6s 3ms/step - loss: 0.6718 - accuracy: 0.7600 - val_loss: 125.5368 - val_accuracy: 0.7019 - lr: 0.0011\n",
            "Epoch 3/40\n",
            "1875/1875 [==============================] - 6s 3ms/step - loss: 0.6207 - accuracy: 0.7765 - val_loss: 116.4695 - val_accuracy: 0.7131 - lr: 0.0013\n",
            "Epoch 4/40\n",
            "1875/1875 [==============================] - 6s 3ms/step - loss: 0.5971 - accuracy: 0.7853 - val_loss: 132.4911 - val_accuracy: 0.7081 - lr: 0.0014\n",
            "Epoch 5/40\n",
            "1875/1875 [==============================] - 6s 3ms/step - loss: 0.5832 - accuracy: 0.7890 - val_loss: 167.7986 - val_accuracy: 0.6897 - lr: 0.0016\n",
            "Epoch 6/40\n",
            "1875/1875 [==============================] - 6s 3ms/step - loss: 0.5713 - accuracy: 0.7949 - val_loss: 150.4536 - val_accuracy: 0.6918 - lr: 0.0018\n",
            "Epoch 7/40\n",
            "1875/1875 [==============================] - 6s 3ms/step - loss: 0.5664 - accuracy: 0.7953 - val_loss: 112.0393 - val_accuracy: 0.7340 - lr: 0.0020\n",
            "Epoch 8/40\n",
            "1875/1875 [==============================] - 6s 3ms/step - loss: 0.5597 - accuracy: 0.7988 - val_loss: 124.8454 - val_accuracy: 0.7149 - lr: 0.0022\n",
            "Epoch 9/40\n",
            "1875/1875 [==============================] - 6s 3ms/step - loss: 0.5567 - accuracy: 0.7988 - val_loss: 137.3945 - val_accuracy: 0.7047 - lr: 0.0025\n",
            "Epoch 10/40\n",
            "1875/1875 [==============================] - 6s 3ms/step - loss: 0.5546 - accuracy: 0.8002 - val_loss: 182.5875 - val_accuracy: 0.6571 - lr: 0.0028\n",
            "Epoch 11/40\n",
            "1875/1875 [==============================] - 6s 3ms/step - loss: 0.5545 - accuracy: 0.7993 - val_loss: 182.8863 - val_accuracy: 0.6601 - lr: 0.0032\n",
            "Epoch 12/40\n",
            "1875/1875 [==============================] - 6s 3ms/step - loss: 0.5533 - accuracy: 0.7997 - val_loss: 158.3962 - val_accuracy: 0.6766 - lr: 0.0035\n",
            "Epoch 13/40\n",
            "1875/1875 [==============================] - 7s 4ms/step - loss: 0.5541 - accuracy: 0.8008 - val_loss: 206.9226 - val_accuracy: 0.6223 - lr: 0.0040\n",
            "Epoch 14/40\n",
            "1875/1875 [==============================] - 6s 3ms/step - loss: 0.5535 - accuracy: 0.8018 - val_loss: 223.4675 - val_accuracy: 0.6197 - lr: 0.0045\n",
            "Epoch 15/40\n",
            "1875/1875 [==============================] - 7s 4ms/step - loss: 0.5571 - accuracy: 0.8002 - val_loss: 238.4254 - val_accuracy: 0.5594 - lr: 0.0050\n",
            "Epoch 16/40\n",
            "1875/1875 [==============================] - 6s 3ms/step - loss: 0.5600 - accuracy: 0.7997 - val_loss: 209.9789 - val_accuracy: 0.5780 - lr: 0.0056\n",
            "Epoch 17/40\n",
            "1875/1875 [==============================] - 7s 4ms/step - loss: 0.5583 - accuracy: 0.8009 - val_loss: 193.3277 - val_accuracy: 0.5622 - lr: 0.0063\n",
            "Epoch 18/40\n",
            "1875/1875 [==============================] - 6s 3ms/step - loss: 0.5641 - accuracy: 0.7974 - val_loss: 210.8180 - val_accuracy: 0.4559 - lr: 0.0071\n",
            "Epoch 19/40\n",
            "1875/1875 [==============================] - 6s 3ms/step - loss: 0.5662 - accuracy: 0.7981 - val_loss: 224.8994 - val_accuracy: 0.4395 - lr: 0.0079\n",
            "Epoch 20/40\n",
            "1875/1875 [==============================] - 6s 3ms/step - loss: 0.5740 - accuracy: 0.7951 - val_loss: 292.9453 - val_accuracy: 0.3955 - lr: 0.0089\n",
            "Epoch 21/40\n",
            "1875/1875 [==============================] - 6s 3ms/step - loss: 0.5706 - accuracy: 0.7958 - val_loss: 258.2017 - val_accuracy: 0.3846 - lr: 0.0100\n",
            "Epoch 22/40\n",
            "1875/1875 [==============================] - 6s 3ms/step - loss: 0.5729 - accuracy: 0.7961 - val_loss: 261.4780 - val_accuracy: 0.3889 - lr: 0.0112\n",
            "Epoch 23/40\n",
            "1875/1875 [==============================] - 6s 3ms/step - loss: 0.5835 - accuracy: 0.7922 - val_loss: 186.7669 - val_accuracy: 0.4991 - lr: 0.0126\n",
            "Epoch 24/40\n",
            "1875/1875 [==============================] - 6s 3ms/step - loss: 0.5869 - accuracy: 0.7917 - val_loss: 332.3870 - val_accuracy: 0.4802 - lr: 0.0141\n",
            "Epoch 25/40\n",
            "1875/1875 [==============================] - 6s 3ms/step - loss: 0.5969 - accuracy: 0.7901 - val_loss: 355.0477 - val_accuracy: 0.3989 - lr: 0.0158\n",
            "Epoch 26/40\n",
            "1875/1875 [==============================] - 6s 3ms/step - loss: 0.6089 - accuracy: 0.7852 - val_loss: 340.7686 - val_accuracy: 0.4884 - lr: 0.0178\n",
            "Epoch 27/40\n",
            "1875/1875 [==============================] - 7s 3ms/step - loss: 0.6143 - accuracy: 0.7832 - val_loss: 269.2840 - val_accuracy: 0.5190 - lr: 0.0200\n",
            "Epoch 28/40\n",
            "1875/1875 [==============================] - 6s 3ms/step - loss: 0.6266 - accuracy: 0.7750 - val_loss: 303.0248 - val_accuracy: 0.5058 - lr: 0.0224\n",
            "Epoch 29/40\n",
            "1875/1875 [==============================] - 7s 4ms/step - loss: 0.6545 - accuracy: 0.7658 - val_loss: 276.7888 - val_accuracy: 0.5735 - lr: 0.0251\n",
            "Epoch 30/40\n",
            "1875/1875 [==============================] - 6s 3ms/step - loss: 0.6789 - accuracy: 0.7491 - val_loss: 255.6645 - val_accuracy: 0.4521 - lr: 0.0282\n",
            "Epoch 31/40\n",
            "1875/1875 [==============================] - 6s 3ms/step - loss: 0.6975 - accuracy: 0.7420 - val_loss: 323.3359 - val_accuracy: 0.4120 - lr: 0.0316\n",
            "Epoch 32/40\n",
            "1875/1875 [==============================] - 6s 3ms/step - loss: 0.7164 - accuracy: 0.7380 - val_loss: 258.7021 - val_accuracy: 0.5367 - lr: 0.0355\n",
            "Epoch 33/40\n",
            "1875/1875 [==============================] - 6s 3ms/step - loss: 0.7502 - accuracy: 0.7283 - val_loss: 435.1365 - val_accuracy: 0.4556 - lr: 0.0398\n",
            "Epoch 34/40\n",
            "1875/1875 [==============================] - 6s 3ms/step - loss: 0.7775 - accuracy: 0.7197 - val_loss: 296.6357 - val_accuracy: 0.4537 - lr: 0.0447\n",
            "Epoch 35/40\n",
            "1875/1875 [==============================] - 6s 3ms/step - loss: 0.9586 - accuracy: 0.6270 - val_loss: 134.6833 - val_accuracy: 0.4576 - lr: 0.0501\n",
            "Epoch 36/40\n",
            "1875/1875 [==============================] - 6s 3ms/step - loss: 1.1045 - accuracy: 0.5394 - val_loss: 198.1762 - val_accuracy: 0.3771 - lr: 0.0562\n",
            "Epoch 37/40\n",
            "1875/1875 [==============================] - 6s 3ms/step - loss: 1.2029 - accuracy: 0.4873 - val_loss: 161.6367 - val_accuracy: 0.3829 - lr: 0.0631\n",
            "Epoch 38/40\n",
            "1875/1875 [==============================] - 6s 3ms/step - loss: 1.2684 - accuracy: 0.4837 - val_loss: 186.7345 - val_accuracy: 0.2903 - lr: 0.0708\n",
            "Epoch 39/40\n",
            "1875/1875 [==============================] - 6s 3ms/step - loss: 1.3118 - accuracy: 0.4628 - val_loss: 163.8103 - val_accuracy: 0.3561 - lr: 0.0794\n",
            "Epoch 40/40\n",
            "1875/1875 [==============================] - 6s 3ms/step - loss: 1.8017 - accuracy: 0.2755 - val_loss: 1.7791 - val_accuracy: 0.2306 - lr: 0.0891\n"
          ]
        }
      ]
    },
    {
      "cell_type": "code",
      "source": [
        "# plot the learning rate decay curve\n",
        "import matplotlib.pyplot as plt\n",
        "\n",
        "lrs = 1e-3 * (10**(tf.range(40) / 20))\n",
        "plt.semilogx(lrs, model_3_history.history['loss'])\n",
        "plt.xlabel('Learning rate')\n",
        "plt.ylabel('Loss')\n",
        "plt.title('Finding the ideal learning rate')"
      ],
      "metadata": {
        "colab": {
          "base_uri": "https://localhost:8080/",
          "height": 493
        },
        "id": "-mX335w2qW4l",
        "outputId": "070b2bcc-5d0b-4cc6-a3b7-077c18d39fed"
      },
      "execution_count": 20,
      "outputs": [
        {
          "output_type": "execute_result",
          "data": {
            "text/plain": [
              "Text(0.5, 1.0, 'Finding the ideal learning rate')"
            ]
          },
          "metadata": {},
          "execution_count": 20
        },
        {
          "output_type": "display_data",
          "data": {
            "text/plain": [
              "<Figure size 640x480 with 1 Axes>"
            ],
            "image/png": "[encoded data removed]"
          },
          "metadata": {}
        }
      ]
    },
    {
      "cell_type": "code",
      "source": [
        "# training the model with ideal learning rate\n",
        "tf.random.set_seed(42)\n",
        "\n",
        "# creating the model\n",
        "model_4 = tf.keras.Sequential([\n",
        "    tf.keras.layers.Flatten(input_shape=(28, 28)),\n",
        "    tf.keras.layers.Dense(4, activation='relu'),\n",
        "    tf.keras.layers.Dense(4, activation='relu'),\n",
        "    tf.keras.layers.Dense(10, activation='softmax')\n",
        "])\n",
        "\n",
        "# compile the model\n",
        "model_4.compile(loss=tf.losses.SparseCategoricalCrossentropy(),\n",
        "                optimizer=tf.optimizers.Adam(learning_rate=0.001),\n",
        "                metrics=['accuracy'])\n",
        "\n",
        "# fit the model\n",
        "model_4_history = model_4.fit(train_data_norm,\n",
        "                              train_labels,\n",
        "                              epochs=20,\n",
        "                              validation_data=(test_data, test_labels))"
      ],
      "metadata": {
        "colab": {
          "base_uri": "https://localhost:8080/"
        },
        "id": "b4PQ9TG_rHsM",
        "outputId": "6f5248c3-d31c-42e8-e0a1-fbb2a5a1c328"
      },
      "execution_count": 24,
      "outputs": [
        {
          "output_type": "stream",
          "name": "stdout",
          "text": [
            "Epoch 1/20\n",
            "1875/1875 [==============================] - 7s 3ms/step - loss: 1.2283 - accuracy: 0.5839 - val_loss: 100.0836 - val_accuracy: 0.6552\n",
            "Epoch 2/20\n",
            "1875/1875 [==============================] - 6s 3ms/step - loss: 0.7388 - accuracy: 0.7608 - val_loss: 129.1823 - val_accuracy: 0.6414\n",
            "Epoch 3/20\n",
            "1875/1875 [==============================] - 6s 3ms/step - loss: 0.6461 - accuracy: 0.7726 - val_loss: 127.2735 - val_accuracy: 0.6390\n",
            "Epoch 4/20\n",
            "1875/1875 [==============================] - 6s 3ms/step - loss: 0.6115 - accuracy: 0.7790 - val_loss: 142.3439 - val_accuracy: 0.6271\n",
            "Epoch 5/20\n",
            "1875/1875 [==============================] - 6s 3ms/step - loss: 0.5913 - accuracy: 0.7839 - val_loss: 149.1013 - val_accuracy: 0.6204\n",
            "Epoch 6/20\n",
            "1875/1875 [==============================] - 6s 3ms/step - loss: 0.5780 - accuracy: 0.7857 - val_loss: 147.9590 - val_accuracy: 0.6036\n",
            "Epoch 7/20\n",
            "1875/1875 [==============================] - 6s 3ms/step - loss: 0.5690 - accuracy: 0.7878 - val_loss: 133.4640 - val_accuracy: 0.6101\n",
            "Epoch 8/20\n",
            "1875/1875 [==============================] - 6s 3ms/step - loss: 0.5600 - accuracy: 0.7898 - val_loss: 140.6750 - val_accuracy: 0.6181\n",
            "Epoch 9/20\n",
            "1875/1875 [==============================] - 6s 3ms/step - loss: 0.5525 - accuracy: 0.7915 - val_loss: 148.0378 - val_accuracy: 0.5983\n",
            "Epoch 10/20\n",
            "1875/1875 [==============================] - 6s 3ms/step - loss: 0.5487 - accuracy: 0.7926 - val_loss: 151.2940 - val_accuracy: 0.5945\n",
            "Epoch 11/20\n",
            "1875/1875 [==============================] - 6s 3ms/step - loss: 0.5443 - accuracy: 0.7929 - val_loss: 183.3788 - val_accuracy: 0.5779\n",
            "Epoch 12/20\n",
            "1875/1875 [==============================] - 6s 3ms/step - loss: 0.5402 - accuracy: 0.7934 - val_loss: 156.2587 - val_accuracy: 0.5887\n",
            "Epoch 13/20\n",
            "1875/1875 [==============================] - 6s 3ms/step - loss: 0.5369 - accuracy: 0.7973 - val_loss: 154.8253 - val_accuracy: 0.5802\n",
            "Epoch 14/20\n",
            "1875/1875 [==============================] - 6s 3ms/step - loss: 0.5339 - accuracy: 0.7993 - val_loss: 148.5612 - val_accuracy: 0.5847\n",
            "Epoch 15/20\n",
            "1875/1875 [==============================] - 7s 4ms/step - loss: 0.5291 - accuracy: 0.8004 - val_loss: 153.7776 - val_accuracy: 0.5825\n",
            "Epoch 16/20\n",
            "1875/1875 [==============================] - 6s 3ms/step - loss: 0.5286 - accuracy: 0.8017 - val_loss: 175.5851 - val_accuracy: 0.5745\n",
            "Epoch 17/20\n",
            "1875/1875 [==============================] - 6s 3ms/step - loss: 0.5252 - accuracy: 0.8034 - val_loss: 152.9595 - val_accuracy: 0.5848\n",
            "Epoch 18/20\n",
            "1875/1875 [==============================] - 6s 3ms/step - loss: 0.5237 - accuracy: 0.8049 - val_loss: 155.3005 - val_accuracy: 0.5835\n",
            "Epoch 19/20\n",
            "1875/1875 [==============================] - 7s 4ms/step - loss: 0.5217 - accuracy: 0.8060 - val_loss: 164.1546 - val_accuracy: 0.5653\n",
            "Epoch 20/20\n",
            "1875/1875 [==============================] - 6s 3ms/step - loss: 0.5199 - accuracy: 0.8071 - val_loss: 167.4489 - val_accuracy: 0.5660\n"
          ]
        }
      ]
    },
    {
      "cell_type": "markdown",
      "source": [
        "### Evaluateing the model"
      ],
      "metadata": {
        "id": "MOyDioFevxk6"
      }
    },
    {
      "cell_type": "code",
      "source": [
        "import itertools\n",
        "import numpy as np\n",
        "from sklearn.metrics import confusion_matrix\n",
        "\n",
        "def make_confusion_metrics(y_true, y_pred, classes=None, figsize=(10, 10), text_size=15):\n",
        "  # create the confusion metrix\n",
        "  cm = confusion_matrix(y_true, y_pred)\n",
        "  cm_norm = cm.astype('float') / cm.sum(axis=1)[:, np.newaxis]   # normalize our confusion matrix\n",
        "  n_classes = cm.shape[0]\n",
        "\n",
        "  # let's prettify it\n",
        "  fig, ax = plt.subplots(figsize=figsize)\n",
        "  # create a matrix plot\n",
        "  cax = ax.matshow(cm, cmap=plt.cm.Blues)\n",
        "  fig.colorbar(cax)\n",
        "\n",
        "  # set labels to be classes\n",
        "  if classes:\n",
        "    labels = classes\n",
        "  else:\n",
        "    labels = np.arange(cm.shape[0])\n",
        "\n",
        "  # label the axes\n",
        "  ax.set(title='Confusion Matrix',\n",
        "        xlabel='Predicted Label',\n",
        "        ylabel='True Label',\n",
        "        xticks=np.arange(n_classes),\n",
        "        yticks=np.arange(n_classes),\n",
        "        xticklabels=labels,\n",
        "        yticklabels=labels)\n",
        "\n",
        "  # set threshhold for different colors\n",
        "  threshold = (cm.max() + cm.min()) / 2.0\n",
        "\n",
        "  # plot the text on each cell\n",
        "  for i, j in itertools.product(range(cm.shape[0]), range(cm.shape[1])):\n",
        "    plt.text(j, i, f'{cm[i, j]} ({cm_norm[i, j] * 100:.1f}%)',\n",
        "            horizontalalignment='center',\n",
        "            color='white' if cm[i, j] > threshold else 'black',\n",
        "            size=text_size)"
      ],
      "metadata": {
        "id": "o6enIFC4v0fC"
      },
      "execution_count": 25,
      "outputs": []
    },
    {
      "cell_type": "code",
      "source": [
        "class_names"
      ],
      "metadata": {
        "colab": {
          "base_uri": "https://localhost:8080/"
        },
        "id": "DVfdjvF6yUqp",
        "outputId": "7b47dba2-2187-45f4-a74f-7a457cfcdfa1"
      },
      "execution_count": 26,
      "outputs": [
        {
          "output_type": "execute_result",
          "data": {
            "text/plain": [
              "['T-shirt/top',\n",
              " 'Trouser',\n",
              " 'Pullover',\n",
              " 'Dress',\n",
              " 'Coat',\n",
              " 'Sandal',\n",
              " 'Shirt',\n",
              " 'Sneaker',\n",
              " 'Bag',\n",
              " 'Ankle boot']"
            ]
          },
          "metadata": {},
          "execution_count": 26
        }
      ]
    },
    {
      "cell_type": "code",
      "source": [
        "test_labels"
      ],
      "metadata": {
        "colab": {
          "base_uri": "https://localhost:8080/"
        },
        "id": "LEmoaSxwyZqJ",
        "outputId": "136fffe3-04d8-42f2-903e-28f5f1aea5bd"
      },
      "execution_count": 27,
      "outputs": [
        {
          "output_type": "execute_result",
          "data": {
            "text/plain": [
              "array([9, 2, 1, ..., 8, 1, 5], dtype=uint8)"
            ]
          },
          "metadata": {},
          "execution_count": 27
        }
      ]
    },
    {
      "cell_type": "code",
      "source": [
        "# make some predictions with our model\n",
        "y_probs = model_4.predict(test_data_norm)\n",
        "\n",
        "# view the first 5 predictions\n",
        "y_probs[:5]"
      ],
      "metadata": {
        "colab": {
          "base_uri": "https://localhost:8080/"
        },
        "id": "3g5DlksVydtJ",
        "outputId": "b63a11a0-0a07-44cf-a53b-fd9f45d9c7dc"
      },
      "execution_count": 28,
      "outputs": [
        {
          "output_type": "stream",
          "name": "stdout",
          "text": [
            "313/313 [==============================] - 1s 2ms/step\n"
          ]
        },
        {
          "output_type": "execute_result",
          "data": {
            "text/plain": [
              "array([[3.4277295e-05, 1.3388788e-07, 7.8412568e-11, 1.5403949e-09,\n",
              "        3.5629961e-07, 2.9029396e-01, 3.9823472e-06, 9.8567270e-02,\n",
              "        5.0999160e-04, 6.1058992e-01],\n",
              "       [5.8713518e-03, 6.2023890e-03, 5.5285800e-01, 5.9669181e-03,\n",
              "        1.9589458e-01, 5.8095739e-04, 2.3153788e-01, 2.8343939e-06,\n",
              "        1.0142982e-03, 7.0831869e-05],\n",
              "       [3.5103717e-06, 9.9998772e-01, 1.7246174e-07, 4.6146265e-06,\n",
              "        2.2503475e-06, 2.7530498e-16, 1.6663020e-06, 4.7841951e-16,\n",
              "        4.3728632e-21, 8.0466016e-08],\n",
              "       [2.0201210e-07, 9.9996352e-01, 1.7223386e-09, 3.4050150e-05,\n",
              "        1.5624339e-06, 9.1166877e-17, 7.7181951e-08, 7.5295677e-17,\n",
              "        2.4421351e-24, 5.3556397e-07],\n",
              "       [1.6083165e-01, 1.1586586e-02, 2.3457049e-01, 2.3562230e-02,\n",
              "        2.3721725e-02, 3.0518160e-04, 5.4413873e-01, 1.1986684e-04,\n",
              "        9.9593599e-04, 1.6762984e-04]], dtype=float32)"
            ]
          },
          "metadata": {},
          "execution_count": 28
        }
      ]
    },
    {
      "cell_type": "markdown",
      "source": [
        "> **🔑Note:** We have to make predictions with the same kind of data that we have used to train our model (e.g. if we have trained our model on normalized data, we should use that same kind of normalized data to predict the output)"
      ],
      "metadata": {
        "id": "9Wb7Ar6GzBhS"
      }
    },
    {
      "cell_type": "code",
      "source": [
        "y_probs[0], tf.argmax(y_probs[0]), class_names[tf.argmax(y_probs[0])]"
      ],
      "metadata": {
        "colab": {
          "base_uri": "https://localhost:8080/"
        },
        "id": "_Zld35nTz0i5",
        "outputId": "4dd7a81f-0460-4d81-f0bc-972d5608a75c"
      },
      "execution_count": 34,
      "outputs": [
        {
          "output_type": "execute_result",
          "data": {
            "text/plain": [
              "(array([3.4277295e-05, 1.3388788e-07, 7.8412568e-11, 1.5403949e-09,\n",
              "        3.5629961e-07, 2.9029396e-01, 3.9823472e-06, 9.8567270e-02,\n",
              "        5.0999160e-04, 6.1058992e-01], dtype=float32),\n",
              " <tf.Tensor: shape=(), dtype=int64, numpy=9>,\n",
              " 'Ankle boot')"
            ]
          },
          "metadata": {},
          "execution_count": 34
        }
      ]
    },
    {
      "cell_type": "code",
      "source": [
        "# convert all the predictioni probabilities into integers\n",
        "y_preds = y_probs.argmax(axis=1)\n",
        "\n",
        "# view the first 10 prediction labels\n",
        "y_preds[:10]"
      ],
      "metadata": {
        "colab": {
          "base_uri": "https://localhost:8080/"
        },
        "id": "sBikrzMd0R3z",
        "outputId": "7539b813-65f7-4358-a018-86deb1a365a0"
      },
      "execution_count": 35,
      "outputs": [
        {
          "output_type": "execute_result",
          "data": {
            "text/plain": [
              "array([9, 2, 1, 1, 6, 1, 4, 2, 5, 7])"
            ]
          },
          "metadata": {},
          "execution_count": 35
        }
      ]
    }
  ]
}