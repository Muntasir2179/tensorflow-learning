{
  "nbformat": 4,
  "nbformat_minor": 0,
  "metadata": {
    "colab": {
      "provenance": [],
      "toc_visible": true,
      "authorship_tag": "ABX9TyOfKs7XObWoGTpBIIE9Ez+g",
      "include_colab_link": true
    },
    "kernelspec": {
      "name": "python3",
      "display_name": "Python 3"
    },
    "language_info": {
      "name": "python"
    },
    "accelerator": "TPU"
  },
  "cells": [
    {
      "cell_type": "markdown",
      "metadata": {
        "id": "view-in-github",
        "colab_type": "text"
      },
      "source": [
        "<a href=\"https://colab.research.google.com/github/Muntasir2179/tensorflow-learning/blob/neural-network-regression/01_neural_network_regression_with_tensorflow.ipynb\" target=\"_parent\"><img src=\"https://colab.research.google.com/assets/colab-badge.svg\" alt=\"Open In Colab\"/></a>"
      ]
    },
    {
      "cell_type": "markdown",
      "source": [
        "## Introduction to Regression with Neural Networks in TensorFlow\n",
        "\n",
        "There are difinitions for a regression problem but in our case, we're going to simplify it: predicting a neumerical variable based on some other combination of variables, evem shorter...predicting a number."
      ],
      "metadata": {
        "id": "h7a0PkNKJryq"
      }
    },
    {
      "cell_type": "code",
      "execution_count": null,
      "metadata": {
        "colab": {
          "base_uri": "https://localhost:8080/"
        },
        "id": "pV8ZUA1GJVU6",
        "outputId": "ffb5ba68-2ee2-4c06-da43-fdf565eaa4cc"
      },
      "outputs": [
        {
          "output_type": "stream",
          "name": "stdout",
          "text": [
            "2.12.0\n"
          ]
        }
      ],
      "source": [
        "# Import TensorFLow\n",
        "import tensorflow as tf\n",
        "print(tf.__version__)"
      ]
    },
    {
      "cell_type": "markdown",
      "source": [
        "## Creating data to view and fit"
      ],
      "metadata": {
        "id": "CCsPlLOUKupp"
      }
    },
    {
      "cell_type": "code",
      "source": [
        "import numpy as np\n",
        "import matplotlib.pyplot as plt\n",
        "\n",
        "# create features\n",
        "X = np.array([-7.0, -4.0, -1.0, 2.0, 5.0, 8.0, 11.0, 14.0])\n",
        "\n",
        "# create labels\n",
        "y = np.array([3.0, 6.0, 9.0, 12.0, 15.0, 18.0, 21.0, 24.0])"
      ],
      "metadata": {
        "id": "qT-lBKLNK1va"
      },
      "execution_count": null,
      "outputs": []
    },
    {
      "cell_type": "code",
      "source": [
        "plt.scatter(X, y)"
      ],
      "metadata": {
        "colab": {
          "base_uri": "https://localhost:8080/",
          "height": 452
        },
        "id": "R3WV9iARL1Wf",
        "outputId": "ab1b72ee-e6ea-4772-ccaf-8e987770a72a"
      },
      "execution_count": null,
      "outputs": [
        {
          "output_type": "execute_result",
          "data": {
            "text/plain": [
              "<matplotlib.collections.PathCollection at 0x7a41a78b72e0>"
            ]
          },
          "metadata": {},
          "execution_count": 3
        },
        {
          "output_type": "display_data",
          "data": {
            "text/plain": [
              "<Figure size 640x480 with 1 Axes>"
            ],
            "image/png": "[encoded data removed]"
          },
          "metadata": {}
        }
      ]
    },
    {
      "cell_type": "code",
      "source": [
        "y == X + 10"
      ],
      "metadata": {
        "colab": {
          "base_uri": "https://localhost:8080/"
        },
        "id": "l65zPDBlMNWp",
        "outputId": "094b9a48-1415-4ed5-8933-ab18d6818c2c"
      },
      "execution_count": null,
      "outputs": [
        {
          "output_type": "execute_result",
          "data": {
            "text/plain": [
              "array([ True,  True,  True,  True,  True,  True,  True,  True])"
            ]
          },
          "metadata": {},
          "execution_count": 4
        }
      ]
    },
    {
      "cell_type": "markdown",
      "source": [
        "## Input and Output shapes"
      ],
      "metadata": {
        "id": "MPtbLXzSMSEU"
      }
    },
    {
      "cell_type": "code",
      "source": [
        "# let's create a demo tensor for our housing price prediction problem\n",
        "house_info = tf.constant(['bedroom', 'bathroom', 'garage'])\n",
        "house_price = tf.constant([939700])\n",
        "house_info, house_price"
      ],
      "metadata": {
        "colab": {
          "base_uri": "https://localhost:8080/"
        },
        "id": "NuKAFxExMasI",
        "outputId": "120ed58f-2d9c-4915-a59c-8352b0663475"
      },
      "execution_count": null,
      "outputs": [
        {
          "output_type": "execute_result",
          "data": {
            "text/plain": [
              "(<tf.Tensor: shape=(3,), dtype=string, numpy=array([b'bedroom', b'bathroom', b'garage'], dtype=object)>,\n",
              " <tf.Tensor: shape=(1,), dtype=int32, numpy=array([939700], dtype=int32)>)"
            ]
          },
          "metadata": {},
          "execution_count": 5
        }
      ]
    },
    {
      "cell_type": "code",
      "source": [
        "input_shape = X[0].shape\n",
        "output_shape = y[0].shape\n",
        "input_shape, output_shape"
      ],
      "metadata": {
        "colab": {
          "base_uri": "https://localhost:8080/"
        },
        "id": "oKW8OkUGODj5",
        "outputId": "b7607a84-ceb2-4534-8ec8-0e091686f06b"
      },
      "execution_count": null,
      "outputs": [
        {
          "output_type": "execute_result",
          "data": {
            "text/plain": [
              "((), ())"
            ]
          },
          "metadata": {},
          "execution_count": 6
        }
      ]
    },
    {
      "cell_type": "code",
      "source": [
        "X = np.reshape(X, (-1, 1))\n",
        "X"
      ],
      "metadata": {
        "colab": {
          "base_uri": "https://localhost:8080/"
        },
        "id": "aLXB2NLRugPK",
        "outputId": "87278871-8a02-46b8-dfc9-c4b8423b2e8d"
      },
      "execution_count": null,
      "outputs": [
        {
          "output_type": "execute_result",
          "data": {
            "text/plain": [
              "array([[-7.],\n",
              "       [-4.],\n",
              "       [-1.],\n",
              "       [ 2.],\n",
              "       [ 5.],\n",
              "       [ 8.],\n",
              "       [11.],\n",
              "       [14.]])"
            ]
          },
          "metadata": {},
          "execution_count": 7
        }
      ]
    },
    {
      "cell_type": "code",
      "source": [
        "# turn our NumPy array into tensor\n",
        "X = tf.constant(X)\n",
        "y = tf.constant(y)\n",
        "X, y"
      ],
      "metadata": {
        "colab": {
          "base_uri": "https://localhost:8080/"
        },
        "id": "Evael_plOTFP",
        "outputId": "1750a9ea-a0bb-4bad-cf40-edf75fd4608c"
      },
      "execution_count": null,
      "outputs": [
        {
          "output_type": "execute_result",
          "data": {
            "text/plain": [
              "(<tf.Tensor: shape=(8, 1), dtype=float64, numpy=\n",
              " array([[-7.],\n",
              "        [-4.],\n",
              "        [-1.],\n",
              "        [ 2.],\n",
              "        [ 5.],\n",
              "        [ 8.],\n",
              "        [11.],\n",
              "        [14.]])>,\n",
              " <tf.Tensor: shape=(8,), dtype=float64, numpy=array([ 3.,  6.,  9., 12., 15., 18., 21., 24.])>)"
            ]
          },
          "metadata": {},
          "execution_count": 8
        }
      ]
    },
    {
      "cell_type": "markdown",
      "source": [
        "## Steps in modelling with TensorFlow\n",
        "\n",
        "1. Creting a model - define the input and output layers, as well as the hidden layers of a deep learning model.\n",
        "2. Compiling a model - define the loss function (in other words, the function which tells our model how wrong it is) and the optimizer (tells our model how to improve the patterns its learning) and evaluation matrics (what we can use to interpret the performance of our model).\n",
        "3. Fitting a model - letting the model try to find patterns between X & y (features and labels)."
      ],
      "metadata": {
        "id": "cQY0Dqt9Oz_n"
      }
    },
    {
      "cell_type": "code",
      "source": [
        "tf.random.set_seed(42)"
      ],
      "metadata": {
        "id": "Bu7aA2UuP4gv"
      },
      "execution_count": null,
      "outputs": []
    },
    {
      "cell_type": "code",
      "source": [
        "# create a model using the Sequential API\n",
        "model = tf.keras.Sequential([\n",
        "    tf.keras.layers.Dense(1),\n",
        "])\n",
        "\n",
        "# compile the model\n",
        "model.compile(loss=tf.keras.losses.mae,\n",
        "              optimizer=tf.keras.optimizers.SGD(),\n",
        "              metrics=['mae'])\n",
        "\n",
        "# fit the model\n",
        "model.fit(X, y, epochs=5)"
      ],
      "metadata": {
        "colab": {
          "base_uri": "https://localhost:8080/"
        },
        "id": "w80oQ9R8TZTm",
        "outputId": "6d5c3bc9-9253-4f4b-cf5d-a90778db01d3"
      },
      "execution_count": null,
      "outputs": [
        {
          "output_type": "stream",
          "name": "stdout",
          "text": [
            "Epoch 1/5\n",
            "1/1 [==============================] - 1s 1s/step - loss: 11.1764 - mae: 11.1764\n",
            "Epoch 2/5\n",
            "1/1 [==============================] - 0s 22ms/step - loss: 11.0439 - mae: 11.0439\n",
            "Epoch 3/5\n",
            "1/1 [==============================] - 0s 48ms/step - loss: 10.9114 - mae: 10.9114\n",
            "Epoch 4/5\n",
            "1/1 [==============================] - 0s 24ms/step - loss: 10.7789 - mae: 10.7789\n",
            "Epoch 5/5\n",
            "1/1 [==============================] - 0s 23ms/step - loss: 10.6464 - mae: 10.6464\n"
          ]
        },
        {
          "output_type": "execute_result",
          "data": {
            "text/plain": [
              "<keras.callbacks.History at 0x7a41a25bc970>"
            ]
          },
          "metadata": {},
          "execution_count": 12
        }
      ]
    },
    {
      "cell_type": "markdown",
      "source": [
        "## Getting prediction form the model"
      ],
      "metadata": {
        "id": "6n3WCfFhxBCF"
      }
    },
    {
      "cell_type": "code",
      "source": [
        "model.predict([17.0])"
      ],
      "metadata": {
        "colab": {
          "base_uri": "https://localhost:8080/"
        },
        "id": "NFc3BWTAxD6h",
        "outputId": "394053e4-5cea-4f44-84dc-def1de739b4d"
      },
      "execution_count": null,
      "outputs": [
        {
          "output_type": "stream",
          "name": "stdout",
          "text": [
            "1/1 [==============================] - 0s 218ms/step\n"
          ]
        },
        {
          "output_type": "execute_result",
          "data": {
            "text/plain": [
              "array([[14.311088]], dtype=float32)"
            ]
          },
          "metadata": {},
          "execution_count": 13
        }
      ]
    },
    {
      "cell_type": "markdown",
      "source": [
        "## Improving the model\n",
        "\n",
        "We can improve our model, by altering the steps we took to create a model.\n",
        "\n",
        "1. **Creating a model** - Here we might add more layers, increases the number of hidden units (all called neurons) within each of the hidden layers, change the activation function of each layer.\n",
        "2. **Compiling model** - Here we might change the optimization function or perhaps the learning rate of the optimization function.\n",
        "3. **Fitting the model** - Here we might fit a model for more epochs (leave ot training for longer) or on more data (give the model more examples to learn from)."
      ],
      "metadata": {
        "id": "qQ9xswcEzluR"
      }
    },
    {
      "cell_type": "markdown",
      "source": [
        "### Increasing number of epochs"
      ],
      "metadata": {
        "id": "yiFieMWO5d9x"
      }
    },
    {
      "cell_type": "code",
      "source": [
        "# lets recreate the model\n",
        "# Increasing the number of epochs\n",
        "model = tf.keras.Sequential([\n",
        "    tf.keras.layers.Dense(1),\n",
        "])\n",
        "\n",
        "# compile the model\n",
        "model.compile(loss=tf.keras.losses.mae,\n",
        "              optimizer=tf.keras.optimizers.SGD(),\n",
        "              metrics=['mae'])\n",
        "\n",
        "# fit the model\n",
        "model.fit(X, y, epochs=100)"
      ],
      "metadata": {
        "colab": {
          "base_uri": "https://localhost:8080/"
        },
        "id": "62_EcQzRzlQz",
        "outputId": "e35a81ee-f72e-4587-9109-7c39f95bbe9b"
      },
      "execution_count": null,
      "outputs": [
        {
          "output_type": "stream",
          "name": "stdout",
          "text": [
            "Epoch 1/100\n",
            "1/1 [==============================] - 1s 710ms/step - loss: 20.5434 - mae: 20.5434\n",
            "Epoch 2/100\n",
            "1/1 [==============================] - 0s 23ms/step - loss: 20.2621 - mae: 20.2621\n",
            "Epoch 3/100\n",
            "1/1 [==============================] - 0s 20ms/step - loss: 19.9809 - mae: 19.9809\n",
            "Epoch 4/100\n",
            "1/1 [==============================] - 0s 17ms/step - loss: 19.6996 - mae: 19.6996\n",
            "Epoch 5/100\n",
            "1/1 [==============================] - 0s 16ms/step - loss: 19.4184 - mae: 19.4184\n",
            "Epoch 6/100\n",
            "1/1 [==============================] - 0s 17ms/step - loss: 19.1371 - mae: 19.1371\n",
            "Epoch 7/100\n",
            "1/1 [==============================] - 0s 15ms/step - loss: 18.8559 - mae: 18.8559\n",
            "Epoch 8/100\n",
            "1/1 [==============================] - 0s 16ms/step - loss: 18.5746 - mae: 18.5746\n",
            "Epoch 9/100\n",
            "1/1 [==============================] - 0s 15ms/step - loss: 18.2934 - mae: 18.2934\n",
            "Epoch 10/100\n",
            "1/1 [==============================] - 0s 20ms/step - loss: 18.0121 - mae: 18.0121\n",
            "Epoch 11/100\n",
            "1/1 [==============================] - 0s 16ms/step - loss: 17.7309 - mae: 17.7309\n",
            "Epoch 12/100\n",
            "1/1 [==============================] - 0s 15ms/step - loss: 17.4496 - mae: 17.4496\n",
            "Epoch 13/100\n",
            "1/1 [==============================] - 0s 13ms/step - loss: 17.1684 - mae: 17.1684\n",
            "Epoch 14/100\n",
            "1/1 [==============================] - 0s 15ms/step - loss: 16.8871 - mae: 16.8871\n",
            "Epoch 15/100\n",
            "1/1 [==============================] - 0s 19ms/step - loss: 16.6059 - mae: 16.6059\n",
            "Epoch 16/100\n",
            "1/1 [==============================] - 0s 15ms/step - loss: 16.3246 - mae: 16.3246\n",
            "Epoch 17/100\n",
            "1/1 [==============================] - 0s 14ms/step - loss: 16.0434 - mae: 16.0434\n",
            "Epoch 18/100\n",
            "1/1 [==============================] - 0s 12ms/step - loss: 15.7621 - mae: 15.7621\n",
            "Epoch 19/100\n",
            "1/1 [==============================] - 0s 13ms/step - loss: 15.4809 - mae: 15.4809\n",
            "Epoch 20/100\n",
            "1/1 [==============================] - 0s 14ms/step - loss: 15.1996 - mae: 15.1996\n",
            "Epoch 21/100\n",
            "1/1 [==============================] - 0s 14ms/step - loss: 14.9184 - mae: 14.9184\n",
            "Epoch 22/100\n",
            "1/1 [==============================] - 0s 13ms/step - loss: 14.6793 - mae: 14.6793\n",
            "Epoch 23/100\n",
            "1/1 [==============================] - 0s 13ms/step - loss: 14.5468 - mae: 14.5468\n",
            "Epoch 24/100\n",
            "1/1 [==============================] - 0s 13ms/step - loss: 14.4143 - mae: 14.4143\n",
            "Epoch 25/100\n",
            "1/1 [==============================] - 0s 14ms/step - loss: 14.2818 - mae: 14.2818\n",
            "Epoch 26/100\n",
            "1/1 [==============================] - 0s 14ms/step - loss: 14.1493 - mae: 14.1493\n",
            "Epoch 27/100\n",
            "1/1 [==============================] - 0s 16ms/step - loss: 14.0168 - mae: 14.0168\n",
            "Epoch 28/100\n",
            "1/1 [==============================] - 0s 15ms/step - loss: 13.8843 - mae: 13.8843\n",
            "Epoch 29/100\n",
            "1/1 [==============================] - 0s 15ms/step - loss: 13.7518 - mae: 13.7518\n",
            "Epoch 30/100\n",
            "1/1 [==============================] - 0s 13ms/step - loss: 13.6193 - mae: 13.6193\n",
            "Epoch 31/100\n",
            "1/1 [==============================] - 0s 15ms/step - loss: 13.4868 - mae: 13.4868\n",
            "Epoch 32/100\n",
            "1/1 [==============================] - 0s 13ms/step - loss: 13.3543 - mae: 13.3543\n",
            "Epoch 33/100\n",
            "1/1 [==============================] - 0s 14ms/step - loss: 13.2218 - mae: 13.2218\n",
            "Epoch 34/100\n",
            "1/1 [==============================] - 0s 15ms/step - loss: 13.0893 - mae: 13.0893\n",
            "Epoch 35/100\n",
            "1/1 [==============================] - 0s 15ms/step - loss: 12.9568 - mae: 12.9568\n",
            "Epoch 36/100\n",
            "1/1 [==============================] - 0s 17ms/step - loss: 12.8243 - mae: 12.8243\n",
            "Epoch 37/100\n",
            "1/1 [==============================] - 0s 16ms/step - loss: 12.6918 - mae: 12.6918\n",
            "Epoch 38/100\n",
            "1/1 [==============================] - 0s 13ms/step - loss: 12.5593 - mae: 12.5593\n",
            "Epoch 39/100\n",
            "1/1 [==============================] - 0s 13ms/step - loss: 12.4268 - mae: 12.4268\n",
            "Epoch 40/100\n",
            "1/1 [==============================] - 0s 14ms/step - loss: 12.2943 - mae: 12.2943\n",
            "Epoch 41/100\n",
            "1/1 [==============================] - 0s 15ms/step - loss: 12.1618 - mae: 12.1618\n",
            "Epoch 42/100\n",
            "1/1 [==============================] - 0s 15ms/step - loss: 12.0293 - mae: 12.0293\n",
            "Epoch 43/100\n",
            "1/1 [==============================] - 0s 15ms/step - loss: 11.8968 - mae: 11.8968\n",
            "Epoch 44/100\n",
            "1/1 [==============================] - 0s 13ms/step - loss: 11.7643 - mae: 11.7643\n",
            "Epoch 45/100\n",
            "1/1 [==============================] - 0s 20ms/step - loss: 11.6318 - mae: 11.6318\n",
            "Epoch 46/100\n",
            "1/1 [==============================] - 0s 16ms/step - loss: 11.4993 - mae: 11.4993\n",
            "Epoch 47/100\n",
            "1/1 [==============================] - 0s 13ms/step - loss: 11.3668 - mae: 11.3668\n",
            "Epoch 48/100\n",
            "1/1 [==============================] - 0s 14ms/step - loss: 11.2343 - mae: 11.2343\n",
            "Epoch 49/100\n",
            "1/1 [==============================] - 0s 15ms/step - loss: 11.1018 - mae: 11.1018\n",
            "Epoch 50/100\n",
            "1/1 [==============================] - 0s 14ms/step - loss: 10.9693 - mae: 10.9693\n",
            "Epoch 51/100\n",
            "1/1 [==============================] - 0s 18ms/step - loss: 10.8368 - mae: 10.8368\n",
            "Epoch 52/100\n",
            "1/1 [==============================] - 0s 16ms/step - loss: 10.7043 - mae: 10.7043\n",
            "Epoch 53/100\n",
            "1/1 [==============================] - 0s 16ms/step - loss: 10.5718 - mae: 10.5718\n",
            "Epoch 54/100\n",
            "1/1 [==============================] - 0s 14ms/step - loss: 10.4393 - mae: 10.4393\n",
            "Epoch 55/100\n",
            "1/1 [==============================] - 0s 16ms/step - loss: 10.3068 - mae: 10.3068\n",
            "Epoch 56/100\n",
            "1/1 [==============================] - 0s 15ms/step - loss: 10.1743 - mae: 10.1743\n",
            "Epoch 57/100\n",
            "1/1 [==============================] - 0s 16ms/step - loss: 10.0418 - mae: 10.0418\n",
            "Epoch 58/100\n",
            "1/1 [==============================] - 0s 17ms/step - loss: 9.9093 - mae: 9.9093\n",
            "Epoch 59/100\n",
            "1/1 [==============================] - 0s 16ms/step - loss: 9.7768 - mae: 9.7768\n",
            "Epoch 60/100\n",
            "1/1 [==============================] - 0s 14ms/step - loss: 9.6443 - mae: 9.6443\n",
            "Epoch 61/100\n",
            "1/1 [==============================] - 0s 13ms/step - loss: 9.5118 - mae: 9.5118\n",
            "Epoch 62/100\n",
            "1/1 [==============================] - 0s 14ms/step - loss: 9.3793 - mae: 9.3793\n",
            "Epoch 63/100\n",
            "1/1 [==============================] - 0s 13ms/step - loss: 9.2468 - mae: 9.2468\n",
            "Epoch 64/100\n",
            "1/1 [==============================] - 0s 12ms/step - loss: 9.1143 - mae: 9.1143\n",
            "Epoch 65/100\n",
            "1/1 [==============================] - 0s 12ms/step - loss: 8.9818 - mae: 8.9818\n",
            "Epoch 66/100\n",
            "1/1 [==============================] - 0s 25ms/step - loss: 8.8493 - mae: 8.8493\n",
            "Epoch 67/100\n",
            "1/1 [==============================] - 0s 18ms/step - loss: 8.7168 - mae: 8.7168\n",
            "Epoch 68/100\n",
            "1/1 [==============================] - 0s 17ms/step - loss: 8.5843 - mae: 8.5843\n",
            "Epoch 69/100\n",
            "1/1 [==============================] - 0s 21ms/step - loss: 8.4518 - mae: 8.4518\n",
            "Epoch 70/100\n",
            "1/1 [==============================] - 0s 33ms/step - loss: 8.3193 - mae: 8.3193\n",
            "Epoch 71/100\n",
            "1/1 [==============================] - 0s 28ms/step - loss: 8.1868 - mae: 8.1868\n",
            "Epoch 72/100\n",
            "1/1 [==============================] - 0s 15ms/step - loss: 8.0543 - mae: 8.0543\n",
            "Epoch 73/100\n",
            "1/1 [==============================] - 0s 13ms/step - loss: 7.9218 - mae: 7.9218\n",
            "Epoch 74/100\n",
            "1/1 [==============================] - 0s 13ms/step - loss: 7.7893 - mae: 7.7893\n",
            "Epoch 75/100\n",
            "1/1 [==============================] - 0s 15ms/step - loss: 7.6568 - mae: 7.6568\n",
            "Epoch 76/100\n",
            "1/1 [==============================] - 0s 15ms/step - loss: 7.5243 - mae: 7.5243\n",
            "Epoch 77/100\n",
            "1/1 [==============================] - 0s 15ms/step - loss: 7.3918 - mae: 7.3918\n",
            "Epoch 78/100\n",
            "1/1 [==============================] - 0s 13ms/step - loss: 7.2593 - mae: 7.2593\n",
            "Epoch 79/100\n",
            "1/1 [==============================] - 0s 15ms/step - loss: 7.1268 - mae: 7.1268\n",
            "Epoch 80/100\n",
            "1/1 [==============================] - 0s 14ms/step - loss: 6.9943 - mae: 6.9943\n",
            "Epoch 81/100\n",
            "1/1 [==============================] - 0s 16ms/step - loss: 6.9394 - mae: 6.9394\n",
            "Epoch 82/100\n",
            "1/1 [==============================] - 0s 15ms/step - loss: 6.9338 - mae: 6.9338\n",
            "Epoch 83/100\n",
            "1/1 [==============================] - 0s 16ms/step - loss: 6.9281 - mae: 6.9281\n",
            "Epoch 84/100\n",
            "1/1 [==============================] - 0s 14ms/step - loss: 6.9225 - mae: 6.9225\n",
            "Epoch 85/100\n",
            "1/1 [==============================] - 0s 15ms/step - loss: 6.9169 - mae: 6.9169\n",
            "Epoch 86/100\n",
            "1/1 [==============================] - 0s 14ms/step - loss: 6.9113 - mae: 6.9113\n",
            "Epoch 87/100\n",
            "1/1 [==============================] - 0s 15ms/step - loss: 6.9056 - mae: 6.9056\n",
            "Epoch 88/100\n",
            "1/1 [==============================] - 0s 14ms/step - loss: 6.9000 - mae: 6.9000\n",
            "Epoch 89/100\n",
            "1/1 [==============================] - 0s 14ms/step - loss: 6.8944 - mae: 6.8944\n",
            "Epoch 90/100\n",
            "1/1 [==============================] - 0s 17ms/step - loss: 6.8888 - mae: 6.8888\n",
            "Epoch 91/100\n",
            "1/1 [==============================] - 0s 13ms/step - loss: 6.8831 - mae: 6.8831\n",
            "Epoch 92/100\n",
            "1/1 [==============================] - 0s 13ms/step - loss: 6.8775 - mae: 6.8775\n",
            "Epoch 93/100\n",
            "1/1 [==============================] - 0s 13ms/step - loss: 6.8719 - mae: 6.8719\n",
            "Epoch 94/100\n",
            "1/1 [==============================] - 0s 15ms/step - loss: 6.8663 - mae: 6.8663\n",
            "Epoch 95/100\n",
            "1/1 [==============================] - 0s 13ms/step - loss: 6.8606 - mae: 6.8606\n",
            "Epoch 96/100\n",
            "1/1 [==============================] - 0s 16ms/step - loss: 6.8550 - mae: 6.8550\n",
            "Epoch 97/100\n",
            "1/1 [==============================] - 0s 14ms/step - loss: 6.8494 - mae: 6.8494\n",
            "Epoch 98/100\n",
            "1/1 [==============================] - 0s 14ms/step - loss: 6.8438 - mae: 6.8438\n",
            "Epoch 99/100\n",
            "1/1 [==============================] - 0s 16ms/step - loss: 6.8381 - mae: 6.8381\n",
            "Epoch 100/100\n",
            "1/1 [==============================] - 0s 13ms/step - loss: 6.8325 - mae: 6.8325\n"
          ]
        },
        {
          "output_type": "execute_result",
          "data": {
            "text/plain": [
              "<keras.callbacks.History at 0x7a41a2efbe50>"
            ]
          },
          "metadata": {},
          "execution_count": 14
        }
      ]
    },
    {
      "cell_type": "code",
      "source": [
        "# remind ourselves of the data\n",
        "X, y"
      ],
      "metadata": {
        "colab": {
          "base_uri": "https://localhost:8080/"
        },
        "id": "CuiJN-b12oVJ",
        "outputId": "fff585b6-06f0-450e-a7c6-49e00e377096"
      },
      "execution_count": null,
      "outputs": [
        {
          "output_type": "execute_result",
          "data": {
            "text/plain": [
              "(<tf.Tensor: shape=(8, 1), dtype=float64, numpy=\n",
              " array([[-7.],\n",
              "        [-4.],\n",
              "        [-1.],\n",
              "        [ 2.],\n",
              "        [ 5.],\n",
              "        [ 8.],\n",
              "        [11.],\n",
              "        [14.]])>,\n",
              " <tf.Tensor: shape=(8,), dtype=float64, numpy=array([ 3.,  6.,  9., 12., 15., 18., 21., 24.])>)"
            ]
          },
          "metadata": {},
          "execution_count": 15
        }
      ]
    },
    {
      "cell_type": "code",
      "source": [
        "# let's see if our model's predictino has improved\n",
        "model.predict([17.0])"
      ],
      "metadata": {
        "colab": {
          "base_uri": "https://localhost:8080/"
        },
        "id": "4YP60zlc2vnx",
        "outputId": "844c504c-bc97-452b-d4e5-2c8aef8e261b"
      },
      "execution_count": null,
      "outputs": [
        {
          "output_type": "stream",
          "name": "stdout",
          "text": [
            "1/1 [==============================] - 0s 92ms/step\n"
          ]
        },
        {
          "output_type": "execute_result",
          "data": {
            "text/plain": [
              "array([[29.509335]], dtype=float32)"
            ]
          },
          "metadata": {},
          "execution_count": 16
        }
      ]
    },
    {
      "cell_type": "markdown",
      "source": [
        "### Adding more hidden units with activation function"
      ],
      "metadata": {
        "id": "JJ5bRvcd5kBJ"
      }
    },
    {
      "cell_type": "code",
      "source": [
        "# redefining the model but this time we are adding more hidden units\n",
        "model = tf.keras.Sequential([\n",
        "    tf.keras.layers.Dense(50, activation=None),\n",
        "    tf.keras.layers.Dense(1)\n",
        "])\n",
        "\n",
        "# compile the model\n",
        "model.compile(loss=tf.keras.losses.mae,\n",
        "              optimizer=tf.keras.optimizers.SGD(),\n",
        "              metrics=['mae'])\n",
        "\n",
        "# fit the model\n",
        "model.fit(X, y, epochs=100)"
      ],
      "metadata": {
        "colab": {
          "base_uri": "https://localhost:8080/"
        },
        "id": "jXdf2nLI3OKy",
        "outputId": "8804fbf4-334d-4f9d-a37f-d206c7bdef56"
      },
      "execution_count": 26,
      "outputs": [
        {
          "output_type": "stream",
          "name": "stdout",
          "text": [
            "Epoch 1/100\n",
            "1/1 [==============================] - 1s 1s/step - loss: 11.9645 - mae: 11.9645\n",
            "Epoch 2/100\n",
            "1/1 [==============================] - 0s 25ms/step - loss: 11.4493 - mae: 11.4493\n",
            "Epoch 3/100\n",
            "1/1 [==============================] - 0s 32ms/step - loss: 10.9247 - mae: 10.9247\n",
            "Epoch 4/100\n",
            "1/1 [==============================] - 0s 28ms/step - loss: 10.3878 - mae: 10.3878\n",
            "Epoch 5/100\n",
            "1/1 [==============================] - 0s 27ms/step - loss: 9.8361 - mae: 9.8361\n",
            "Epoch 6/100\n",
            "1/1 [==============================] - 0s 23ms/step - loss: 9.2665 - mae: 9.2665\n",
            "Epoch 7/100\n",
            "1/1 [==============================] - 0s 22ms/step - loss: 8.6763 - mae: 8.6763\n",
            "Epoch 8/100\n",
            "1/1 [==============================] - 0s 27ms/step - loss: 8.0624 - mae: 8.0624\n",
            "Epoch 9/100\n",
            "1/1 [==============================] - 0s 40ms/step - loss: 7.4216 - mae: 7.4216\n",
            "Epoch 10/100\n",
            "1/1 [==============================] - 0s 24ms/step - loss: 7.2905 - mae: 7.2905\n",
            "Epoch 11/100\n",
            "1/1 [==============================] - 0s 24ms/step - loss: 7.2713 - mae: 7.2713\n",
            "Epoch 12/100\n",
            "1/1 [==============================] - 0s 33ms/step - loss: 7.2522 - mae: 7.2522\n",
            "Epoch 13/100\n",
            "1/1 [==============================] - 0s 26ms/step - loss: 7.2330 - mae: 7.2330\n",
            "Epoch 14/100\n",
            "1/1 [==============================] - 0s 31ms/step - loss: 7.2137 - mae: 7.2137\n",
            "Epoch 15/100\n",
            "1/1 [==============================] - 0s 30ms/step - loss: 7.1944 - mae: 7.1944\n",
            "Epoch 16/100\n",
            "1/1 [==============================] - 0s 46ms/step - loss: 7.1751 - mae: 7.1751\n",
            "Epoch 17/100\n",
            "1/1 [==============================] - 0s 40ms/step - loss: 7.1557 - mae: 7.1557\n",
            "Epoch 18/100\n",
            "1/1 [==============================] - 0s 36ms/step - loss: 7.1363 - mae: 7.1363\n",
            "Epoch 19/100\n",
            "1/1 [==============================] - 0s 34ms/step - loss: 7.1168 - mae: 7.1168\n",
            "Epoch 20/100\n",
            "1/1 [==============================] - 0s 26ms/step - loss: 7.1032 - mae: 7.1032\n",
            "Epoch 21/100\n",
            "1/1 [==============================] - 0s 20ms/step - loss: 7.0898 - mae: 7.0898\n",
            "Epoch 22/100\n",
            "1/1 [==============================] - 0s 16ms/step - loss: 7.0707 - mae: 7.0707\n",
            "Epoch 23/100\n",
            "1/1 [==============================] - 0s 46ms/step - loss: 7.0516 - mae: 7.0516\n",
            "Epoch 24/100\n",
            "1/1 [==============================] - 0s 23ms/step - loss: 7.0324 - mae: 7.0324\n",
            "Epoch 25/100\n",
            "1/1 [==============================] - 0s 23ms/step - loss: 7.0131 - mae: 7.0131\n",
            "Epoch 26/100\n",
            "1/1 [==============================] - 0s 24ms/step - loss: 6.9937 - mae: 6.9937\n",
            "Epoch 27/100\n",
            "1/1 [==============================] - 0s 28ms/step - loss: 6.9743 - mae: 6.9743\n",
            "Epoch 28/100\n",
            "1/1 [==============================] - 0s 33ms/step - loss: 6.9548 - mae: 6.9548\n",
            "Epoch 29/100\n",
            "1/1 [==============================] - 0s 26ms/step - loss: 6.9352 - mae: 6.9352\n",
            "Epoch 30/100\n",
            "1/1 [==============================] - 0s 17ms/step - loss: 6.9155 - mae: 6.9155\n",
            "Epoch 31/100\n",
            "1/1 [==============================] - 0s 20ms/step - loss: 6.8957 - mae: 6.8957\n",
            "Epoch 32/100\n",
            "1/1 [==============================] - 0s 29ms/step - loss: 6.8759 - mae: 6.8759\n",
            "Epoch 33/100\n",
            "1/1 [==============================] - 0s 41ms/step - loss: 6.8559 - mae: 6.8559\n",
            "Epoch 34/100\n",
            "1/1 [==============================] - 0s 26ms/step - loss: 6.8358 - mae: 6.8358\n",
            "Epoch 35/100\n",
            "1/1 [==============================] - 0s 22ms/step - loss: 6.8157 - mae: 6.8157\n",
            "Epoch 36/100\n",
            "1/1 [==============================] - 0s 26ms/step - loss: 6.7954 - mae: 6.7954\n",
            "Epoch 37/100\n",
            "1/1 [==============================] - 0s 18ms/step - loss: 6.7750 - mae: 6.7750\n",
            "Epoch 38/100\n",
            "1/1 [==============================] - 0s 36ms/step - loss: 6.7545 - mae: 6.7545\n",
            "Epoch 39/100\n",
            "1/1 [==============================] - 0s 20ms/step - loss: 6.7339 - mae: 6.7339\n",
            "Epoch 40/100\n",
            "1/1 [==============================] - 0s 22ms/step - loss: 6.7132 - mae: 6.7132\n",
            "Epoch 41/100\n",
            "1/1 [==============================] - 0s 25ms/step - loss: 6.6923 - mae: 6.6923\n",
            "Epoch 42/100\n",
            "1/1 [==============================] - 0s 22ms/step - loss: 6.6713 - mae: 6.6713\n",
            "Epoch 43/100\n",
            "1/1 [==============================] - 0s 22ms/step - loss: 6.6502 - mae: 6.6502\n",
            "Epoch 44/100\n",
            "1/1 [==============================] - 0s 23ms/step - loss: 6.6290 - mae: 6.6290\n",
            "Epoch 45/100\n",
            "1/1 [==============================] - 0s 25ms/step - loss: 6.6076 - mae: 6.6076\n",
            "Epoch 46/100\n",
            "1/1 [==============================] - 0s 22ms/step - loss: 6.5861 - mae: 6.5861\n",
            "Epoch 47/100\n",
            "1/1 [==============================] - 0s 38ms/step - loss: 6.5762 - mae: 6.5762\n",
            "Epoch 48/100\n",
            "1/1 [==============================] - 0s 23ms/step - loss: 6.5625 - mae: 6.5625\n",
            "Epoch 49/100\n",
            "1/1 [==============================] - 0s 21ms/step - loss: 6.5411 - mae: 6.5411\n",
            "Epoch 50/100\n",
            "1/1 [==============================] - 0s 40ms/step - loss: 6.5196 - mae: 6.5196\n",
            "Epoch 51/100\n",
            "1/1 [==============================] - 0s 36ms/step - loss: 6.4980 - mae: 6.4980\n",
            "Epoch 52/100\n",
            "1/1 [==============================] - 0s 42ms/step - loss: 6.4761 - mae: 6.4761\n",
            "Epoch 53/100\n",
            "1/1 [==============================] - 0s 31ms/step - loss: 6.4541 - mae: 6.4541\n",
            "Epoch 54/100\n",
            "1/1 [==============================] - 0s 33ms/step - loss: 6.4320 - mae: 6.4320\n",
            "Epoch 55/100\n",
            "1/1 [==============================] - 0s 42ms/step - loss: 6.4097 - mae: 6.4097\n",
            "Epoch 56/100\n",
            "1/1 [==============================] - 0s 18ms/step - loss: 6.3872 - mae: 6.3872\n",
            "Epoch 57/100\n",
            "1/1 [==============================] - 0s 20ms/step - loss: 6.3645 - mae: 6.3645\n",
            "Epoch 58/100\n",
            "1/1 [==============================] - 0s 20ms/step - loss: 6.3417 - mae: 6.3417\n",
            "Epoch 59/100\n",
            "1/1 [==============================] - 0s 30ms/step - loss: 6.3186 - mae: 6.3186\n",
            "Epoch 60/100\n",
            "1/1 [==============================] - 0s 25ms/step - loss: 6.2954 - mae: 6.2954\n",
            "Epoch 61/100\n",
            "1/1 [==============================] - 0s 28ms/step - loss: 6.2720 - mae: 6.2720\n",
            "Epoch 62/100\n",
            "1/1 [==============================] - 0s 30ms/step - loss: 6.2484 - mae: 6.2484\n",
            "Epoch 63/100\n",
            "1/1 [==============================] - 0s 29ms/step - loss: 6.2246 - mae: 6.2246\n",
            "Epoch 64/100\n",
            "1/1 [==============================] - 0s 20ms/step - loss: 6.2006 - mae: 6.2006\n",
            "Epoch 65/100\n",
            "1/1 [==============================] - 0s 23ms/step - loss: 6.1764 - mae: 6.1764\n",
            "Epoch 66/100\n",
            "1/1 [==============================] - 0s 25ms/step - loss: 6.1610 - mae: 6.1610\n",
            "Epoch 67/100\n",
            "1/1 [==============================] - 0s 21ms/step - loss: 6.1526 - mae: 6.1526\n",
            "Epoch 68/100\n",
            "1/1 [==============================] - 0s 30ms/step - loss: 6.1283 - mae: 6.1283\n",
            "Epoch 69/100\n",
            "1/1 [==============================] - 0s 23ms/step - loss: 6.1038 - mae: 6.1038\n",
            "Epoch 70/100\n",
            "1/1 [==============================] - 0s 19ms/step - loss: 6.0791 - mae: 6.0791\n",
            "Epoch 71/100\n",
            "1/1 [==============================] - 0s 22ms/step - loss: 6.0542 - mae: 6.0542\n",
            "Epoch 72/100\n",
            "1/1 [==============================] - 0s 31ms/step - loss: 6.0290 - mae: 6.0290\n",
            "Epoch 73/100\n",
            "1/1 [==============================] - 0s 33ms/step - loss: 6.0036 - mae: 6.0036\n",
            "Epoch 74/100\n",
            "1/1 [==============================] - 0s 25ms/step - loss: 5.9780 - mae: 5.9780\n",
            "Epoch 75/100\n",
            "1/1 [==============================] - 0s 32ms/step - loss: 5.9521 - mae: 5.9521\n",
            "Epoch 76/100\n",
            "1/1 [==============================] - 0s 23ms/step - loss: 5.9260 - mae: 5.9260\n",
            "Epoch 77/100\n",
            "1/1 [==============================] - 0s 18ms/step - loss: 5.8996 - mae: 5.8996\n",
            "Epoch 78/100\n",
            "1/1 [==============================] - 0s 18ms/step - loss: 5.8730 - mae: 5.8730\n",
            "Epoch 79/100\n",
            "1/1 [==============================] - 0s 28ms/step - loss: 5.8460 - mae: 5.8460\n",
            "Epoch 80/100\n",
            "1/1 [==============================] - 0s 18ms/step - loss: 5.8189 - mae: 5.8189\n",
            "Epoch 81/100\n",
            "1/1 [==============================] - 0s 22ms/step - loss: 5.7914 - mae: 5.7914\n",
            "Epoch 82/100\n",
            "1/1 [==============================] - 0s 22ms/step - loss: 5.7697 - mae: 5.7697\n",
            "Epoch 83/100\n",
            "1/1 [==============================] - 0s 39ms/step - loss: 5.7653 - mae: 5.7653\n",
            "Epoch 84/100\n",
            "1/1 [==============================] - 0s 23ms/step - loss: 5.7376 - mae: 5.7376\n",
            "Epoch 85/100\n",
            "1/1 [==============================] - 0s 34ms/step - loss: 5.7096 - mae: 5.7096\n",
            "Epoch 86/100\n",
            "1/1 [==============================] - 0s 17ms/step - loss: 5.6814 - mae: 5.6814\n",
            "Epoch 87/100\n",
            "1/1 [==============================] - 0s 18ms/step - loss: 5.6528 - mae: 5.6528\n",
            "Epoch 88/100\n",
            "1/1 [==============================] - 0s 18ms/step - loss: 5.6239 - mae: 5.6239\n",
            "Epoch 89/100\n",
            "1/1 [==============================] - 0s 17ms/step - loss: 5.5948 - mae: 5.5948\n",
            "Epoch 90/100\n",
            "1/1 [==============================] - 0s 39ms/step - loss: 5.5653 - mae: 5.5653\n",
            "Epoch 91/100\n",
            "1/1 [==============================] - 0s 25ms/step - loss: 5.5355 - mae: 5.5355\n",
            "Epoch 92/100\n",
            "1/1 [==============================] - 0s 32ms/step - loss: 5.5054 - mae: 5.5054\n",
            "Epoch 93/100\n",
            "1/1 [==============================] - 0s 46ms/step - loss: 5.4749 - mae: 5.4749\n",
            "Epoch 94/100\n",
            "1/1 [==============================] - 0s 26ms/step - loss: 5.4441 - mae: 5.4441\n",
            "Epoch 95/100\n",
            "1/1 [==============================] - 0s 21ms/step - loss: 5.4130 - mae: 5.4130\n",
            "Epoch 96/100\n",
            "1/1 [==============================] - 0s 23ms/step - loss: 5.3815 - mae: 5.3815\n",
            "Epoch 97/100\n",
            "1/1 [==============================] - 0s 20ms/step - loss: 5.3733 - mae: 5.3733\n",
            "Epoch 98/100\n",
            "1/1 [==============================] - 0s 21ms/step - loss: 5.3808 - mae: 5.3808\n",
            "Epoch 99/100\n",
            "1/1 [==============================] - 0s 23ms/step - loss: 5.4878 - mae: 5.4878\n",
            "Epoch 100/100\n",
            "1/1 [==============================] - 0s 19ms/step - loss: 5.2823 - mae: 5.2823\n"
          ]
        },
        {
          "output_type": "execute_result",
          "data": {
            "text/plain": [
              "<keras.callbacks.History at 0x7a419b3ac3a0>"
            ]
          },
          "metadata": {},
          "execution_count": 26
        }
      ]
    },
    {
      "cell_type": "code",
      "source": [
        "# remind ourselves of the data\n",
        "X, y"
      ],
      "metadata": {
        "colab": {
          "base_uri": "https://localhost:8080/"
        },
        "id": "VccH4F0g4Fwx",
        "outputId": "07b88914-4fb2-437b-d7e6-354d6f3b28d7"
      },
      "execution_count": 27,
      "outputs": [
        {
          "output_type": "execute_result",
          "data": {
            "text/plain": [
              "(<tf.Tensor: shape=(8, 1), dtype=float64, numpy=\n",
              " array([[-7.],\n",
              "        [-4.],\n",
              "        [-1.],\n",
              "        [ 2.],\n",
              "        [ 5.],\n",
              "        [ 8.],\n",
              "        [11.],\n",
              "        [14.]])>,\n",
              " <tf.Tensor: shape=(8,), dtype=float64, numpy=array([ 3.,  6.,  9., 12., 15., 18., 21., 24.])>)"
            ]
          },
          "metadata": {},
          "execution_count": 27
        }
      ]
    },
    {
      "cell_type": "code",
      "source": [
        "# getting prediction from the model\n",
        "model.predict([17.0])"
      ],
      "metadata": {
        "colab": {
          "base_uri": "https://localhost:8080/"
        },
        "id": "ebVTntJ-4JSI",
        "outputId": "e1ac3852-2548-476a-85ff-7a1f82ab4b5d"
      },
      "execution_count": 28,
      "outputs": [
        {
          "output_type": "stream",
          "name": "stderr",
          "text": [
            "WARNING:tensorflow:5 out of the last 9 calls to <function Model.make_predict_function.<locals>.predict_function at 0x7a419b370700> triggered tf.function retracing. Tracing is expensive and the excessive number of tracings could be due to (1) creating @tf.function repeatedly in a loop, (2) passing tensors with different shapes, (3) passing Python objects instead of tensors. For (1), please define your @tf.function outside of the loop. For (2), @tf.function has reduce_retracing=True option that can avoid unnecessary retracing. For (3), please refer to https://www.tensorflow.org/guide/function#controlling_retracing and https://www.tensorflow.org/api_docs/python/tf/function for  more details.\n"
          ]
        },
        {
          "output_type": "stream",
          "name": "stdout",
          "text": [
            "1/1 [==============================] - 0s 220ms/step\n"
          ]
        },
        {
          "output_type": "execute_result",
          "data": {
            "text/plain": [
              "array([[29.607084]], dtype=float32)"
            ]
          },
          "metadata": {},
          "execution_count": 28
        }
      ]
    },
    {
      "cell_type": "markdown",
      "source": [
        "### Changing the optimizatino funciton"
      ],
      "metadata": {
        "id": "5O57KjST6y_R"
      }
    },
    {
      "cell_type": "code",
      "source": [
        "model = tf.keras.Sequential([\n",
        "    tf.keras.layers.Dense(50, activation=None),\n",
        "    tf.keras.layers.Dense(1)\n",
        "])\n",
        "\n",
        "# compile the model\n",
        "model.compile(loss=tf.keras.losses.mae,\n",
        "              optimizer=tf.keras.optimizers.Adam(learning_rate=0.01),\n",
        "              metrics=['mae'])\n",
        "\n",
        "# fit the model\n",
        "model.fit(X, y, epochs=100)"
      ],
      "metadata": {
        "colab": {
          "base_uri": "https://localhost:8080/"
        },
        "id": "-2MsbAJN64hR",
        "outputId": "58a655ac-a001-4374-e22f-61ae9570d2bb"
      },
      "execution_count": 30,
      "outputs": [
        {
          "output_type": "stream",
          "name": "stdout",
          "text": [
            "Epoch 1/100\n",
            "1/1 [==============================] - 1s 703ms/step - loss: 13.2252 - mae: 13.2252\n",
            "Epoch 2/100\n",
            "1/1 [==============================] - 0s 15ms/step - loss: 12.6508 - mae: 12.6508\n",
            "Epoch 3/100\n",
            "1/1 [==============================] - 0s 17ms/step - loss: 12.0765 - mae: 12.0765\n",
            "Epoch 4/100\n",
            "1/1 [==============================] - 0s 17ms/step - loss: 11.4980 - mae: 11.4980\n",
            "Epoch 5/100\n",
            "1/1 [==============================] - 0s 18ms/step - loss: 10.9120 - mae: 10.9120\n",
            "Epoch 6/100\n",
            "1/1 [==============================] - 0s 18ms/step - loss: 10.3148 - mae: 10.3148\n",
            "Epoch 7/100\n",
            "1/1 [==============================] - 0s 19ms/step - loss: 9.7022 - mae: 9.7022\n",
            "Epoch 8/100\n",
            "1/1 [==============================] - 0s 13ms/step - loss: 9.0702 - mae: 9.0702\n",
            "Epoch 9/100\n",
            "1/1 [==============================] - 0s 14ms/step - loss: 8.4151 - mae: 8.4151\n",
            "Epoch 10/100\n",
            "1/1 [==============================] - 0s 13ms/step - loss: 7.7336 - mae: 7.7336\n",
            "Epoch 11/100\n",
            "1/1 [==============================] - 0s 13ms/step - loss: 7.0223 - mae: 7.0223\n",
            "Epoch 12/100\n",
            "1/1 [==============================] - 0s 13ms/step - loss: 6.7318 - mae: 6.7318\n",
            "Epoch 13/100\n",
            "1/1 [==============================] - 0s 16ms/step - loss: 7.0028 - mae: 7.0028\n",
            "Epoch 14/100\n",
            "1/1 [==============================] - 0s 17ms/step - loss: 7.2779 - mae: 7.2779\n",
            "Epoch 15/100\n",
            "1/1 [==============================] - 0s 16ms/step - loss: 7.5733 - mae: 7.5733\n",
            "Epoch 16/100\n",
            "1/1 [==============================] - 0s 25ms/step - loss: 7.6687 - mae: 7.6687\n",
            "Epoch 17/100\n",
            "1/1 [==============================] - 0s 17ms/step - loss: 7.5675 - mae: 7.5675\n",
            "Epoch 18/100\n",
            "1/1 [==============================] - 0s 13ms/step - loss: 7.3187 - mae: 7.3187\n",
            "Epoch 19/100\n",
            "1/1 [==============================] - 0s 14ms/step - loss: 6.9755 - mae: 6.9755\n",
            "Epoch 20/100\n",
            "1/1 [==============================] - 0s 13ms/step - loss: 6.7256 - mae: 6.7256\n",
            "Epoch 21/100\n",
            "1/1 [==============================] - 0s 13ms/step - loss: 6.4608 - mae: 6.4608\n",
            "Epoch 22/100\n",
            "1/1 [==============================] - 0s 15ms/step - loss: 6.1853 - mae: 6.1853\n",
            "Epoch 23/100\n",
            "1/1 [==============================] - 0s 14ms/step - loss: 6.0628 - mae: 6.0628\n",
            "Epoch 24/100\n",
            "1/1 [==============================] - 0s 14ms/step - loss: 6.0231 - mae: 6.0231\n",
            "Epoch 25/100\n",
            "1/1 [==============================] - 0s 17ms/step - loss: 6.1418 - mae: 6.1418\n",
            "Epoch 26/100\n",
            "1/1 [==============================] - 0s 12ms/step - loss: 6.2134 - mae: 6.2134\n",
            "Epoch 27/100\n",
            "1/1 [==============================] - 0s 13ms/step - loss: 6.1831 - mae: 6.1831\n",
            "Epoch 28/100\n",
            "1/1 [==============================] - 0s 15ms/step - loss: 6.0639 - mae: 6.0639\n",
            "Epoch 29/100\n",
            "1/1 [==============================] - 0s 14ms/step - loss: 5.8654 - mae: 5.8654\n",
            "Epoch 30/100\n",
            "1/1 [==============================] - 0s 16ms/step - loss: 5.5945 - mae: 5.5945\n",
            "Epoch 31/100\n",
            "1/1 [==============================] - 0s 16ms/step - loss: 5.4680 - mae: 5.4680\n",
            "Epoch 32/100\n",
            "1/1 [==============================] - 0s 14ms/step - loss: 5.3537 - mae: 5.3537\n",
            "Epoch 33/100\n",
            "1/1 [==============================] - 0s 15ms/step - loss: 5.3688 - mae: 5.3688\n",
            "Epoch 34/100\n",
            "1/1 [==============================] - 0s 14ms/step - loss: 5.3820 - mae: 5.3820\n",
            "Epoch 35/100\n",
            "1/1 [==============================] - 0s 13ms/step - loss: 5.3531 - mae: 5.3531\n",
            "Epoch 36/100\n",
            "1/1 [==============================] - 0s 14ms/step - loss: 5.2851 - mae: 5.2851\n",
            "Epoch 37/100\n",
            "1/1 [==============================] - 0s 15ms/step - loss: 5.1813 - mae: 5.1813\n",
            "Epoch 38/100\n",
            "1/1 [==============================] - 0s 13ms/step - loss: 5.0451 - mae: 5.0451\n",
            "Epoch 39/100\n",
            "1/1 [==============================] - 0s 13ms/step - loss: 4.8794 - mae: 4.8794\n",
            "Epoch 40/100\n",
            "1/1 [==============================] - 0s 14ms/step - loss: 4.6874 - mae: 4.6874\n",
            "Epoch 41/100\n",
            "1/1 [==============================] - 0s 15ms/step - loss: 4.4945 - mae: 4.4945\n",
            "Epoch 42/100\n",
            "1/1 [==============================] - 0s 14ms/step - loss: 4.4076 - mae: 4.4076\n",
            "Epoch 43/100\n",
            "1/1 [==============================] - 0s 14ms/step - loss: 4.3120 - mae: 4.3120\n",
            "Epoch 44/100\n",
            "1/1 [==============================] - 0s 13ms/step - loss: 4.2174 - mae: 4.2174\n",
            "Epoch 45/100\n",
            "1/1 [==============================] - 0s 13ms/step - loss: 4.0979 - mae: 4.0979\n",
            "Epoch 46/100\n",
            "1/1 [==============================] - 0s 14ms/step - loss: 3.9386 - mae: 3.9386\n",
            "Epoch 47/100\n",
            "1/1 [==============================] - 0s 14ms/step - loss: 3.7869 - mae: 3.7869\n",
            "Epoch 48/100\n",
            "1/1 [==============================] - 0s 16ms/step - loss: 3.6276 - mae: 3.6276\n",
            "Epoch 49/100\n",
            "1/1 [==============================] - 0s 14ms/step - loss: 3.5015 - mae: 3.5015\n",
            "Epoch 50/100\n",
            "1/1 [==============================] - 0s 15ms/step - loss: 3.3804 - mae: 3.3804\n",
            "Epoch 51/100\n",
            "1/1 [==============================] - 0s 16ms/step - loss: 3.2134 - mae: 3.2134\n",
            "Epoch 52/100\n",
            "1/1 [==============================] - 0s 14ms/step - loss: 3.0028 - mae: 3.0028\n",
            "Epoch 53/100\n",
            "1/1 [==============================] - 0s 14ms/step - loss: 2.8286 - mae: 2.8286\n",
            "Epoch 54/100\n",
            "1/1 [==============================] - 0s 15ms/step - loss: 2.6622 - mae: 2.6622\n",
            "Epoch 55/100\n",
            "1/1 [==============================] - 0s 15ms/step - loss: 2.5365 - mae: 2.5365\n",
            "Epoch 56/100\n",
            "1/1 [==============================] - 0s 16ms/step - loss: 2.2994 - mae: 2.2994\n",
            "Epoch 57/100\n",
            "1/1 [==============================] - 0s 14ms/step - loss: 2.0486 - mae: 2.0486\n",
            "Epoch 58/100\n",
            "1/1 [==============================] - 0s 15ms/step - loss: 1.9004 - mae: 1.9004\n",
            "Epoch 59/100\n",
            "1/1 [==============================] - 0s 20ms/step - loss: 1.7332 - mae: 1.7332\n",
            "Epoch 60/100\n",
            "1/1 [==============================] - 0s 13ms/step - loss: 1.5039 - mae: 1.5039\n",
            "Epoch 61/100\n",
            "1/1 [==============================] - 0s 15ms/step - loss: 1.1799 - mae: 1.1799\n",
            "Epoch 62/100\n",
            "1/1 [==============================] - 0s 17ms/step - loss: 0.9384 - mae: 0.9384\n",
            "Epoch 63/100\n",
            "1/1 [==============================] - 0s 16ms/step - loss: 0.7528 - mae: 0.7528\n",
            "Epoch 64/100\n",
            "1/1 [==============================] - 0s 14ms/step - loss: 0.3962 - mae: 0.3962\n",
            "Epoch 65/100\n",
            "1/1 [==============================] - 0s 14ms/step - loss: 0.3515 - mae: 0.3515\n",
            "Epoch 66/100\n",
            "1/1 [==============================] - 0s 23ms/step - loss: 0.3508 - mae: 0.3508\n",
            "Epoch 67/100\n",
            "1/1 [==============================] - 0s 19ms/step - loss: 0.3775 - mae: 0.3775\n",
            "Epoch 68/100\n",
            "1/1 [==============================] - 0s 17ms/step - loss: 0.6496 - mae: 0.6496\n",
            "Epoch 69/100\n",
            "1/1 [==============================] - 0s 16ms/step - loss: 0.7254 - mae: 0.7254\n",
            "Epoch 70/100\n",
            "1/1 [==============================] - 0s 17ms/step - loss: 0.6648 - mae: 0.6648\n",
            "Epoch 71/100\n",
            "1/1 [==============================] - 0s 17ms/step - loss: 0.7601 - mae: 0.7601\n",
            "Epoch 72/100\n",
            "1/1 [==============================] - 0s 14ms/step - loss: 0.6909 - mae: 0.6909\n",
            "Epoch 73/100\n",
            "1/1 [==============================] - 0s 15ms/step - loss: 0.6202 - mae: 0.6202\n",
            "Epoch 74/100\n",
            "1/1 [==============================] - 0s 16ms/step - loss: 0.6227 - mae: 0.6227\n",
            "Epoch 75/100\n",
            "1/1 [==============================] - 0s 14ms/step - loss: 0.4443 - mae: 0.4443\n",
            "Epoch 76/100\n",
            "1/1 [==============================] - 0s 14ms/step - loss: 0.3313 - mae: 0.3313\n",
            "Epoch 77/100\n",
            "1/1 [==============================] - 0s 16ms/step - loss: 0.2386 - mae: 0.2386\n",
            "Epoch 78/100\n",
            "1/1 [==============================] - 0s 14ms/step - loss: 0.1061 - mae: 0.1061\n",
            "Epoch 79/100\n",
            "1/1 [==============================] - 0s 14ms/step - loss: 0.4003 - mae: 0.4003\n",
            "Epoch 80/100\n",
            "1/1 [==============================] - 0s 17ms/step - loss: 0.5826 - mae: 0.5826\n",
            "Epoch 81/100\n",
            "1/1 [==============================] - 0s 17ms/step - loss: 0.5891 - mae: 0.5891\n",
            "Epoch 82/100\n",
            "1/1 [==============================] - 0s 13ms/step - loss: 0.4408 - mae: 0.4408\n",
            "Epoch 83/100\n",
            "1/1 [==============================] - 0s 14ms/step - loss: 0.3780 - mae: 0.3780\n",
            "Epoch 84/100\n",
            "1/1 [==============================] - 0s 14ms/step - loss: 0.4833 - mae: 0.4833\n",
            "Epoch 85/100\n",
            "1/1 [==============================] - 0s 12ms/step - loss: 0.3473 - mae: 0.3473\n",
            "Epoch 86/100\n",
            "1/1 [==============================] - 0s 12ms/step - loss: 0.1843 - mae: 0.1843\n",
            "Epoch 87/100\n",
            "1/1 [==============================] - 0s 12ms/step - loss: 0.2317 - mae: 0.2317\n",
            "Epoch 88/100\n",
            "1/1 [==============================] - 0s 13ms/step - loss: 0.0925 - mae: 0.0925\n",
            "Epoch 89/100\n",
            "1/1 [==============================] - 0s 15ms/step - loss: 0.3502 - mae: 0.3502\n",
            "Epoch 90/100\n",
            "1/1 [==============================] - 0s 14ms/step - loss: 0.4638 - mae: 0.4638\n",
            "Epoch 91/100\n",
            "1/1 [==============================] - 0s 15ms/step - loss: 0.3570 - mae: 0.3570\n",
            "Epoch 92/100\n",
            "1/1 [==============================] - 0s 18ms/step - loss: 0.1524 - mae: 0.1524\n",
            "Epoch 93/100\n",
            "1/1 [==============================] - 0s 15ms/step - loss: 0.2612 - mae: 0.2612\n",
            "Epoch 94/100\n",
            "1/1 [==============================] - 0s 17ms/step - loss: 0.1662 - mae: 0.1662\n",
            "Epoch 95/100\n",
            "1/1 [==============================] - 0s 14ms/step - loss: 0.1783 - mae: 0.1783\n",
            "Epoch 96/100\n",
            "1/1 [==============================] - 0s 18ms/step - loss: 0.2190 - mae: 0.2190\n",
            "Epoch 97/100\n",
            "1/1 [==============================] - 0s 14ms/step - loss: 0.1107 - mae: 0.1107\n",
            "Epoch 98/100\n",
            "1/1 [==============================] - 0s 14ms/step - loss: 0.1365 - mae: 0.1365\n",
            "Epoch 99/100\n",
            "1/1 [==============================] - 0s 14ms/step - loss: 0.0914 - mae: 0.0914\n",
            "Epoch 100/100\n",
            "1/1 [==============================] - 0s 15ms/step - loss: 0.0458 - mae: 0.0458\n"
          ]
        },
        {
          "output_type": "execute_result",
          "data": {
            "text/plain": [
              "<keras.callbacks.History at 0x7a4198efefe0>"
            ]
          },
          "metadata": {},
          "execution_count": 30
        }
      ]
    },
    {
      "cell_type": "code",
      "source": [
        "model.predict([17.0])"
      ],
      "metadata": {
        "colab": {
          "base_uri": "https://localhost:8080/"
        },
        "id": "RhpYwovr7QXw",
        "outputId": "eaf91f15-8726-4a8a-a952-3619a7426bf8"
      },
      "execution_count": 31,
      "outputs": [
        {
          "output_type": "stream",
          "name": "stderr",
          "text": [
            "WARNING:tensorflow:6 out of the last 10 calls to <function Model.make_predict_function.<locals>.predict_function at 0x7a419b373be0> triggered tf.function retracing. Tracing is expensive and the excessive number of tracings could be due to (1) creating @tf.function repeatedly in a loop, (2) passing tensors with different shapes, (3) passing Python objects instead of tensors. For (1), please define your @tf.function outside of the loop. For (2), @tf.function has reduce_retracing=True option that can avoid unnecessary retracing. For (3), please refer to https://www.tensorflow.org/guide/function#controlling_retracing and https://www.tensorflow.org/api_docs/python/tf/function for  more details.\n"
          ]
        },
        {
          "output_type": "stream",
          "name": "stdout",
          "text": [
            "1/1 [==============================] - 0s 170ms/step\n"
          ]
        },
        {
          "output_type": "execute_result",
          "data": {
            "text/plain": [
              "array([[27.215836]], dtype=float32)"
            ]
          },
          "metadata": {},
          "execution_count": 31
        }
      ]
    },
    {
      "cell_type": "markdown",
      "source": [
        "**🧮🔑Important🔑🧮:** Common ways to improve a deep learning model\n",
        "\n",
        "*   Adding layers.\n",
        "*   Increase the number of hidden units.\n",
        "*   Change the activation function.\n",
        "*   Change the optimizatino function.\n",
        "*   Change the learning rate.\n",
        "*   Fitting on more data.\n",
        "\n"
      ],
      "metadata": {
        "id": "bgicFG5H7e4A"
      }
    }
  ]
}