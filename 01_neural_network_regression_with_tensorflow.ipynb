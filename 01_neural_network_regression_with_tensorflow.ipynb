{
  "nbformat": 4,
  "nbformat_minor": 0,
  "metadata": {
    "colab": {
      "provenance": [],
      "toc_visible": true,
      "authorship_tag": "ABX9TyM3F/QxjD8MI+hwYkAfAWXj",
      "include_colab_link": true
    },
    "kernelspec": {
      "name": "python3",
      "display_name": "Python 3"
    },
    "language_info": {
      "name": "python"
    },
    "accelerator": "TPU"
  },
  "cells": [
    {
      "cell_type": "markdown",
      "metadata": {
        "id": "view-in-github",
        "colab_type": "text"
      },
      "source": [
        "<a href=\"https://colab.research.google.com/github/Muntasir2179/tensorflow-learning/blob/neural-network-regression/01_neural_network_regression_with_tensorflow.ipynb\" target=\"_parent\"><img src=\"https://colab.research.google.com/assets/colab-badge.svg\" alt=\"Open In Colab\"/></a>"
      ]
    },
    {
      "cell_type": "markdown",
      "source": [
        "## Introduction to Regression with Neural Networks in TensorFlow\n",
        "\n",
        "There are difinitions for a regression problem but in our case, we're going to simplify it: predicting a neumerical variable based on some other combination of variables, evem shorter...predicting a number."
      ],
      "metadata": {
        "id": "h7a0PkNKJryq"
      }
    },
    {
      "cell_type": "code",
      "execution_count": 1,
      "metadata": {
        "colab": {
          "base_uri": "https://localhost:8080/"
        },
        "id": "pV8ZUA1GJVU6",
        "outputId": "5bd4abe0-ebeb-4160-d841-83ba7534fb6d"
      },
      "outputs": [
        {
          "output_type": "stream",
          "name": "stdout",
          "text": [
            "2.12.0\n"
          ]
        }
      ],
      "source": [
        "# Import TensorFLow\n",
        "import tensorflow as tf\n",
        "print(tf.__version__)"
      ]
    },
    {
      "cell_type": "markdown",
      "source": [
        "## Creating data to view and fit"
      ],
      "metadata": {
        "id": "CCsPlLOUKupp"
      }
    },
    {
      "cell_type": "code",
      "source": [
        "import numpy as np\n",
        "import matplotlib.pyplot as plt\n",
        "\n",
        "# create features\n",
        "X = np.array([-7.0, -4.0, -1.0, 2.0, 5.0, 8.0, 11.0, 14.0])\n",
        "\n",
        "# create labels\n",
        "y = np.array([3.0, 6.0, 9.0, 12.0, 15.0, 18.0, 21.0, 24.0])"
      ],
      "metadata": {
        "id": "qT-lBKLNK1va"
      },
      "execution_count": 2,
      "outputs": []
    },
    {
      "cell_type": "code",
      "source": [
        "plt.scatter(X, y)"
      ],
      "metadata": {
        "colab": {
          "base_uri": "https://localhost:8080/",
          "height": 452
        },
        "id": "R3WV9iARL1Wf",
        "outputId": "548cc1b9-024f-4c5d-8c70-84b624b36342"
      },
      "execution_count": 3,
      "outputs": [
        {
          "output_type": "execute_result",
          "data": {
            "text/plain": [
              "<matplotlib.collections.PathCollection at 0x797b4a8bd0f0>"
            ]
          },
          "metadata": {},
          "execution_count": 3
        },
        {
          "output_type": "display_data",
          "data": {
            "text/plain": [
              "<Figure size 640x480 with 1 Axes>"
            ],
            "image/png": "[encoded data removed]"
          },
          "metadata": {}
        }
      ]
    },
    {
      "cell_type": "code",
      "source": [
        "y == X + 10"
      ],
      "metadata": {
        "colab": {
          "base_uri": "https://localhost:8080/"
        },
        "id": "l65zPDBlMNWp",
        "outputId": "e7bb4ff2-888b-484c-9993-fffe1e95308f"
      },
      "execution_count": 4,
      "outputs": [
        {
          "output_type": "execute_result",
          "data": {
            "text/plain": [
              "array([ True,  True,  True,  True,  True,  True,  True,  True])"
            ]
          },
          "metadata": {},
          "execution_count": 4
        }
      ]
    },
    {
      "cell_type": "markdown",
      "source": [
        "## Input and Output shapes"
      ],
      "metadata": {
        "id": "MPtbLXzSMSEU"
      }
    },
    {
      "cell_type": "code",
      "source": [
        "# let's create a demo tensor for our housing price prediction problem\n",
        "house_info = tf.constant(['bedroom', 'bathroom', 'garage'])\n",
        "house_price = tf.constant([939700])\n",
        "house_info, house_price"
      ],
      "metadata": {
        "colab": {
          "base_uri": "https://localhost:8080/"
        },
        "id": "NuKAFxExMasI",
        "outputId": "d54399a8-3c14-4eeb-a3ac-f252dade6bec"
      },
      "execution_count": 5,
      "outputs": [
        {
          "output_type": "execute_result",
          "data": {
            "text/plain": [
              "(<tf.Tensor: shape=(3,), dtype=string, numpy=array([b'bedroom', b'bathroom', b'garage'], dtype=object)>,\n",
              " <tf.Tensor: shape=(1,), dtype=int32, numpy=array([939700], dtype=int32)>)"
            ]
          },
          "metadata": {},
          "execution_count": 5
        }
      ]
    },
    {
      "cell_type": "code",
      "source": [
        "input_shape = X[0].shape\n",
        "output_shape = y[0].shape\n",
        "input_shape, output_shape"
      ],
      "metadata": {
        "colab": {
          "base_uri": "https://localhost:8080/"
        },
        "id": "oKW8OkUGODj5",
        "outputId": "acec5a40-a8c4-4eb1-dbb3-fe4670bfe549"
      },
      "execution_count": 6,
      "outputs": [
        {
          "output_type": "execute_result",
          "data": {
            "text/plain": [
              "((), ())"
            ]
          },
          "metadata": {},
          "execution_count": 6
        }
      ]
    },
    {
      "cell_type": "code",
      "source": [
        "X = np.reshape(X, (-1, 1))\n",
        "X"
      ],
      "metadata": {
        "colab": {
          "base_uri": "https://localhost:8080/"
        },
        "id": "aLXB2NLRugPK",
        "outputId": "3a79c3f5-d558-4235-aa29-3b585091e4d2"
      },
      "execution_count": 7,
      "outputs": [
        {
          "output_type": "execute_result",
          "data": {
            "text/plain": [
              "array([[-7.],\n",
              "       [-4.],\n",
              "       [-1.],\n",
              "       [ 2.],\n",
              "       [ 5.],\n",
              "       [ 8.],\n",
              "       [11.],\n",
              "       [14.]])"
            ]
          },
          "metadata": {},
          "execution_count": 7
        }
      ]
    },
    {
      "cell_type": "code",
      "source": [
        "# turn our NumPy array into tensor\n",
        "X = tf.constant(X)\n",
        "y = tf.constant(y)\n",
        "X, y"
      ],
      "metadata": {
        "colab": {
          "base_uri": "https://localhost:8080/"
        },
        "id": "Evael_plOTFP",
        "outputId": "17f7b32a-a84e-4334-8f7d-c29128e7e5fa"
      },
      "execution_count": 8,
      "outputs": [
        {
          "output_type": "execute_result",
          "data": {
            "text/plain": [
              "(<tf.Tensor: shape=(8, 1), dtype=float64, numpy=\n",
              " array([[-7.],\n",
              "        [-4.],\n",
              "        [-1.],\n",
              "        [ 2.],\n",
              "        [ 5.],\n",
              "        [ 8.],\n",
              "        [11.],\n",
              "        [14.]])>,\n",
              " <tf.Tensor: shape=(8,), dtype=float64, numpy=array([ 3.,  6.,  9., 12., 15., 18., 21., 24.])>)"
            ]
          },
          "metadata": {},
          "execution_count": 8
        }
      ]
    },
    {
      "cell_type": "markdown",
      "source": [
        "## Steps in modelling with TensorFlow\n",
        "\n",
        "1. Creting a model - define the input and output layers, as well as the hidden layers of a deep learning model.\n",
        "2. Compiling a model - define the loss function (in other words, the function which tells our model how wrong it is) and the optimizer (tells our model how to improve the patterns its learning) and evaluation matrics (what we can use to interpret the performance of our model).\n",
        "3. Fitting a model - letting the model try to find patterns between X & y (features and labels)."
      ],
      "metadata": {
        "id": "cQY0Dqt9Oz_n"
      }
    },
    {
      "cell_type": "code",
      "source": [
        "tf.random.set_seed(42)"
      ],
      "metadata": {
        "id": "Bu7aA2UuP4gv"
      },
      "execution_count": 9,
      "outputs": []
    },
    {
      "cell_type": "code",
      "source": [
        "# create a model using the Sequential API\n",
        "model = tf.keras.Sequential([\n",
        "    tf.keras.layers.Dense(1),\n",
        "])\n",
        "\n",
        "# compile the model\n",
        "model.compile(loss=tf.keras.losses.mae,\n",
        "              optimizer=tf.keras.optimizers.SGD(),\n",
        "              metrics=['mae'])\n",
        "\n",
        "# fit the model\n",
        "model.fit(X, y, epochs=5)"
      ],
      "metadata": {
        "colab": {
          "base_uri": "https://localhost:8080/"
        },
        "id": "w80oQ9R8TZTm",
        "outputId": "a96fbcfa-ca37-4c36-ecf8-e2cbb3a04535"
      },
      "execution_count": 10,
      "outputs": [
        {
          "output_type": "stream",
          "name": "stdout",
          "text": [
            "Epoch 1/5\n",
            "1/1 [==============================] - 1s 1s/step - loss: 17.0434 - mae: 17.0434\n",
            "Epoch 2/5\n",
            "1/1 [==============================] - 0s 21ms/step - loss: 16.7621 - mae: 16.7621\n",
            "Epoch 3/5\n",
            "1/1 [==============================] - 0s 24ms/step - loss: 16.4809 - mae: 16.4809\n",
            "Epoch 4/5\n",
            "1/1 [==============================] - 0s 17ms/step - loss: 16.1996 - mae: 16.1996\n",
            "Epoch 5/5\n",
            "1/1 [==============================] - 0s 17ms/step - loss: 15.9184 - mae: 15.9184\n"
          ]
        },
        {
          "output_type": "execute_result",
          "data": {
            "text/plain": [
              "<keras.callbacks.History at 0x797b45705fc0>"
            ]
          },
          "metadata": {},
          "execution_count": 10
        }
      ]
    },
    {
      "cell_type": "markdown",
      "source": [
        "## Getting prediction form the model"
      ],
      "metadata": {
        "id": "6n3WCfFhxBCF"
      }
    },
    {
      "cell_type": "code",
      "source": [
        "model.predict([17.0])"
      ],
      "metadata": {
        "colab": {
          "base_uri": "https://localhost:8080/"
        },
        "id": "NFc3BWTAxD6h",
        "outputId": "20a9dd8f-034a-4c19-fc4c-cde4979be018"
      },
      "execution_count": 11,
      "outputs": [
        {
          "output_type": "stream",
          "name": "stdout",
          "text": [
            "1/1 [==============================] - 0s 157ms/step\n"
          ]
        },
        {
          "output_type": "execute_result",
          "data": {
            "text/plain": [
              "array([[-9.402401]], dtype=float32)"
            ]
          },
          "metadata": {},
          "execution_count": 11
        }
      ]
    },
    {
      "cell_type": "markdown",
      "source": [
        "## Improving the model\n",
        "\n",
        "We can improve our model, by altering the steps we took to create a model.\n",
        "\n",
        "1. **Creating a model** - Here we might add more layers, increases the number of hidden units (all called neurons) within each of the hidden layers, change the activation function of each layer.\n",
        "2. **Compiling model** - Here we might change the optimization function or perhaps the learning rate of the optimization function.\n",
        "3. **Fitting the model** - Here we might fit a model for more epochs (leave ot training for longer) or on more data (give the model more examples to learn from)."
      ],
      "metadata": {
        "id": "qQ9xswcEzluR"
      }
    },
    {
      "cell_type": "markdown",
      "source": [
        "### Increasing number of epochs"
      ],
      "metadata": {
        "id": "yiFieMWO5d9x"
      }
    },
    {
      "cell_type": "code",
      "source": [
        "# lets recreate the model\n",
        "# Increasing the number of epochs\n",
        "model = tf.keras.Sequential([\n",
        "    tf.keras.layers.Dense(1),\n",
        "])\n",
        "\n",
        "# compile the model\n",
        "model.compile(loss=tf.keras.losses.mae,\n",
        "              optimizer=tf.keras.optimizers.SGD(),\n",
        "              metrics=['mae'])\n",
        "\n",
        "# fit the model\n",
        "model.fit(X, y, epochs=100)"
      ],
      "metadata": {
        "colab": {
          "base_uri": "https://localhost:8080/"
        },
        "id": "62_EcQzRzlQz",
        "outputId": "abda5d80-f3f5-45e6-e225-29b19597302f"
      },
      "execution_count": 12,
      "outputs": [
        {
          "output_type": "stream",
          "name": "stdout",
          "text": [
            "Epoch 1/100\n",
            "1/1 [==============================] - 1s 763ms/step - loss: 20.8299 - mae: 20.8299\n",
            "Epoch 2/100\n",
            "1/1 [==============================] - 0s 18ms/step - loss: 20.4652 - mae: 20.4652\n",
            "Epoch 3/100\n",
            "1/1 [==============================] - 0s 18ms/step - loss: 20.1840 - mae: 20.1840\n",
            "Epoch 4/100\n",
            "1/1 [==============================] - 0s 23ms/step - loss: 19.9027 - mae: 19.9027\n",
            "Epoch 5/100\n",
            "1/1 [==============================] - 0s 22ms/step - loss: 19.6215 - mae: 19.6215\n",
            "Epoch 6/100\n",
            "1/1 [==============================] - 0s 26ms/step - loss: 19.3402 - mae: 19.3402\n",
            "Epoch 7/100\n",
            "1/1 [==============================] - 0s 12ms/step - loss: 19.0590 - mae: 19.0590\n",
            "Epoch 8/100\n",
            "1/1 [==============================] - 0s 11ms/step - loss: 18.7777 - mae: 18.7777\n",
            "Epoch 9/100\n",
            "1/1 [==============================] - 0s 14ms/step - loss: 18.4965 - mae: 18.4965\n",
            "Epoch 10/100\n",
            "1/1 [==============================] - 0s 16ms/step - loss: 18.2152 - mae: 18.2152\n",
            "Epoch 11/100\n",
            "1/1 [==============================] - 0s 13ms/step - loss: 17.9340 - mae: 17.9340\n",
            "Epoch 12/100\n",
            "1/1 [==============================] - 0s 14ms/step - loss: 17.6527 - mae: 17.6527\n",
            "Epoch 13/100\n",
            "1/1 [==============================] - 0s 16ms/step - loss: 17.3715 - mae: 17.3715\n",
            "Epoch 14/100\n",
            "1/1 [==============================] - 0s 14ms/step - loss: 17.0902 - mae: 17.0902\n",
            "Epoch 15/100\n",
            "1/1 [==============================] - 0s 15ms/step - loss: 16.8090 - mae: 16.8090\n",
            "Epoch 16/100\n",
            "1/1 [==============================] - 0s 16ms/step - loss: 16.5277 - mae: 16.5277\n",
            "Epoch 17/100\n",
            "1/1 [==============================] - 0s 15ms/step - loss: 16.2465 - mae: 16.2465\n",
            "Epoch 18/100\n",
            "1/1 [==============================] - 0s 17ms/step - loss: 15.9652 - mae: 15.9652\n",
            "Epoch 19/100\n",
            "1/1 [==============================] - 0s 42ms/step - loss: 15.6840 - mae: 15.6840\n",
            "Epoch 20/100\n",
            "1/1 [==============================] - 0s 25ms/step - loss: 15.4027 - mae: 15.4027\n",
            "Epoch 21/100\n",
            "1/1 [==============================] - 0s 19ms/step - loss: 15.1215 - mae: 15.1215\n",
            "Epoch 22/100\n",
            "1/1 [==============================] - 0s 30ms/step - loss: 14.8402 - mae: 14.8402\n",
            "Epoch 23/100\n",
            "1/1 [==============================] - 0s 28ms/step - loss: 14.6247 - mae: 14.6247\n",
            "Epoch 24/100\n",
            "1/1 [==============================] - 0s 26ms/step - loss: 14.4922 - mae: 14.4922\n",
            "Epoch 25/100\n",
            "1/1 [==============================] - 0s 16ms/step - loss: 14.3597 - mae: 14.3597\n",
            "Epoch 26/100\n",
            "1/1 [==============================] - 0s 13ms/step - loss: 14.2272 - mae: 14.2272\n",
            "Epoch 27/100\n",
            "1/1 [==============================] - 0s 15ms/step - loss: 14.0947 - mae: 14.0947\n",
            "Epoch 28/100\n",
            "1/1 [==============================] - 0s 14ms/step - loss: 13.9622 - mae: 13.9622\n",
            "Epoch 29/100\n",
            "1/1 [==============================] - 0s 17ms/step - loss: 13.8297 - mae: 13.8297\n",
            "Epoch 30/100\n",
            "1/1 [==============================] - 0s 15ms/step - loss: 13.6972 - mae: 13.6972\n",
            "Epoch 31/100\n",
            "1/1 [==============================] - 0s 14ms/step - loss: 13.5647 - mae: 13.5647\n",
            "Epoch 32/100\n",
            "1/1 [==============================] - 0s 14ms/step - loss: 13.4322 - mae: 13.4322\n",
            "Epoch 33/100\n",
            "1/1 [==============================] - 0s 15ms/step - loss: 13.2997 - mae: 13.2997\n",
            "Epoch 34/100\n",
            "1/1 [==============================] - 0s 19ms/step - loss: 13.1672 - mae: 13.1672\n",
            "Epoch 35/100\n",
            "1/1 [==============================] - 0s 17ms/step - loss: 13.0347 - mae: 13.0347\n",
            "Epoch 36/100\n",
            "1/1 [==============================] - 0s 21ms/step - loss: 12.9022 - mae: 12.9022\n",
            "Epoch 37/100\n",
            "1/1 [==============================] - 0s 19ms/step - loss: 12.7697 - mae: 12.7697\n",
            "Epoch 38/100\n",
            "1/1 [==============================] - 0s 25ms/step - loss: 12.6372 - mae: 12.6372\n",
            "Epoch 39/100\n",
            "1/1 [==============================] - 0s 16ms/step - loss: 12.5047 - mae: 12.5047\n",
            "Epoch 40/100\n",
            "1/1 [==============================] - 0s 17ms/step - loss: 12.3722 - mae: 12.3722\n",
            "Epoch 41/100\n",
            "1/1 [==============================] - 0s 16ms/step - loss: 12.2397 - mae: 12.2397\n",
            "Epoch 42/100\n",
            "1/1 [==============================] - 0s 19ms/step - loss: 12.1072 - mae: 12.1072\n",
            "Epoch 43/100\n",
            "1/1 [==============================] - 0s 20ms/step - loss: 11.9747 - mae: 11.9747\n",
            "Epoch 44/100\n",
            "1/1 [==============================] - 0s 18ms/step - loss: 11.8422 - mae: 11.8422\n",
            "Epoch 45/100\n",
            "1/1 [==============================] - 0s 16ms/step - loss: 11.7097 - mae: 11.7097\n",
            "Epoch 46/100\n",
            "1/1 [==============================] - 0s 15ms/step - loss: 11.5772 - mae: 11.5772\n",
            "Epoch 47/100\n",
            "1/1 [==============================] - 0s 15ms/step - loss: 11.4447 - mae: 11.4447\n",
            "Epoch 48/100\n",
            "1/1 [==============================] - 0s 28ms/step - loss: 11.3122 - mae: 11.3122\n",
            "Epoch 49/100\n",
            "1/1 [==============================] - 0s 34ms/step - loss: 11.1797 - mae: 11.1797\n",
            "Epoch 50/100\n",
            "1/1 [==============================] - 0s 35ms/step - loss: 11.0472 - mae: 11.0472\n",
            "Epoch 51/100\n",
            "1/1 [==============================] - 0s 16ms/step - loss: 10.9147 - mae: 10.9147\n",
            "Epoch 52/100\n",
            "1/1 [==============================] - 0s 20ms/step - loss: 10.7822 - mae: 10.7822\n",
            "Epoch 53/100\n",
            "1/1 [==============================] - 0s 33ms/step - loss: 10.6497 - mae: 10.6497\n",
            "Epoch 54/100\n",
            "1/1 [==============================] - 0s 16ms/step - loss: 10.5172 - mae: 10.5172\n",
            "Epoch 55/100\n",
            "1/1 [==============================] - 0s 18ms/step - loss: 10.3847 - mae: 10.3847\n",
            "Epoch 56/100\n",
            "1/1 [==============================] - 0s 17ms/step - loss: 10.2522 - mae: 10.2522\n",
            "Epoch 57/100\n",
            "1/1 [==============================] - 0s 28ms/step - loss: 10.1197 - mae: 10.1197\n",
            "Epoch 58/100\n",
            "1/1 [==============================] - 0s 23ms/step - loss: 9.9872 - mae: 9.9872\n",
            "Epoch 59/100\n",
            "1/1 [==============================] - 0s 14ms/step - loss: 9.8547 - mae: 9.8547\n",
            "Epoch 60/100\n",
            "1/1 [==============================] - 0s 16ms/step - loss: 9.7222 - mae: 9.7222\n",
            "Epoch 61/100\n",
            "1/1 [==============================] - 0s 18ms/step - loss: 9.5897 - mae: 9.5897\n",
            "Epoch 62/100\n",
            "1/1 [==============================] - 0s 15ms/step - loss: 9.4572 - mae: 9.4572\n",
            "Epoch 63/100\n",
            "1/1 [==============================] - 0s 18ms/step - loss: 9.3247 - mae: 9.3247\n",
            "Epoch 64/100\n",
            "1/1 [==============================] - 0s 23ms/step - loss: 9.1922 - mae: 9.1922\n",
            "Epoch 65/100\n",
            "1/1 [==============================] - 0s 18ms/step - loss: 9.0597 - mae: 9.0597\n",
            "Epoch 66/100\n",
            "1/1 [==============================] - 0s 20ms/step - loss: 8.9272 - mae: 8.9272\n",
            "Epoch 67/100\n",
            "1/1 [==============================] - 0s 21ms/step - loss: 8.7947 - mae: 8.7947\n",
            "Epoch 68/100\n",
            "1/1 [==============================] - 0s 19ms/step - loss: 8.6622 - mae: 8.6622\n",
            "Epoch 69/100\n",
            "1/1 [==============================] - 0s 25ms/step - loss: 8.5297 - mae: 8.5297\n",
            "Epoch 70/100\n",
            "1/1 [==============================] - 0s 21ms/step - loss: 8.3972 - mae: 8.3972\n",
            "Epoch 71/100\n",
            "1/1 [==============================] - 0s 20ms/step - loss: 8.2647 - mae: 8.2647\n",
            "Epoch 72/100\n",
            "1/1 [==============================] - 0s 18ms/step - loss: 8.1322 - mae: 8.1322\n",
            "Epoch 73/100\n",
            "1/1 [==============================] - 0s 18ms/step - loss: 7.9997 - mae: 7.9997\n",
            "Epoch 74/100\n",
            "1/1 [==============================] - 0s 32ms/step - loss: 7.8672 - mae: 7.8672\n",
            "Epoch 75/100\n",
            "1/1 [==============================] - 0s 26ms/step - loss: 7.7347 - mae: 7.7347\n",
            "Epoch 76/100\n",
            "1/1 [==============================] - 0s 23ms/step - loss: 7.6022 - mae: 7.6022\n",
            "Epoch 77/100\n",
            "1/1 [==============================] - 0s 23ms/step - loss: 7.4697 - mae: 7.4697\n",
            "Epoch 78/100\n",
            "1/1 [==============================] - 0s 28ms/step - loss: 7.3372 - mae: 7.3372\n",
            "Epoch 79/100\n",
            "1/1 [==============================] - 0s 20ms/step - loss: 7.2047 - mae: 7.2047\n",
            "Epoch 80/100\n",
            "1/1 [==============================] - 0s 16ms/step - loss: 7.0722 - mae: 7.0722\n",
            "Epoch 81/100\n",
            "1/1 [==============================] - 0s 21ms/step - loss: 6.9431 - mae: 6.9431\n",
            "Epoch 82/100\n",
            "1/1 [==============================] - 0s 22ms/step - loss: 6.9375 - mae: 6.9375\n",
            "Epoch 83/100\n",
            "1/1 [==============================] - 0s 27ms/step - loss: 6.9319 - mae: 6.9319\n",
            "Epoch 84/100\n",
            "1/1 [==============================] - 0s 25ms/step - loss: 6.9263 - mae: 6.9263\n",
            "Epoch 85/100\n",
            "1/1 [==============================] - 0s 18ms/step - loss: 6.9206 - mae: 6.9206\n",
            "Epoch 86/100\n",
            "1/1 [==============================] - 0s 35ms/step - loss: 6.9150 - mae: 6.9150\n",
            "Epoch 87/100\n",
            "1/1 [==============================] - 0s 18ms/step - loss: 6.9094 - mae: 6.9094\n",
            "Epoch 88/100\n",
            "1/1 [==============================] - 0s 16ms/step - loss: 6.9038 - mae: 6.9038\n",
            "Epoch 89/100\n",
            "1/1 [==============================] - 0s 14ms/step - loss: 6.8981 - mae: 6.8981\n",
            "Epoch 90/100\n",
            "1/1 [==============================] - 0s 13ms/step - loss: 6.8925 - mae: 6.8925\n",
            "Epoch 91/100\n",
            "1/1 [==============================] - 0s 21ms/step - loss: 6.8869 - mae: 6.8869\n",
            "Epoch 92/100\n",
            "1/1 [==============================] - 0s 18ms/step - loss: 6.8813 - mae: 6.8813\n",
            "Epoch 93/100\n",
            "1/1 [==============================] - 0s 15ms/step - loss: 6.8756 - mae: 6.8756\n",
            "Epoch 94/100\n",
            "1/1 [==============================] - 0s 16ms/step - loss: 6.8700 - mae: 6.8700\n",
            "Epoch 95/100\n",
            "1/1 [==============================] - 0s 18ms/step - loss: 6.8644 - mae: 6.8644\n",
            "Epoch 96/100\n",
            "1/1 [==============================] - 0s 12ms/step - loss: 6.8588 - mae: 6.8588\n",
            "Epoch 97/100\n",
            "1/1 [==============================] - 0s 12ms/step - loss: 6.8531 - mae: 6.8531\n",
            "Epoch 98/100\n",
            "1/1 [==============================] - 0s 11ms/step - loss: 6.8475 - mae: 6.8475\n",
            "Epoch 99/100\n",
            "1/1 [==============================] - 0s 12ms/step - loss: 6.8419 - mae: 6.8419\n",
            "Epoch 100/100\n",
            "1/1 [==============================] - 0s 10ms/step - loss: 6.8363 - mae: 6.8363\n"
          ]
        },
        {
          "output_type": "execute_result",
          "data": {
            "text/plain": [
              "<keras.callbacks.History at 0x797b44d13460>"
            ]
          },
          "metadata": {},
          "execution_count": 12
        }
      ]
    },
    {
      "cell_type": "code",
      "source": [
        "# remind ourselves of the data\n",
        "X, y"
      ],
      "metadata": {
        "colab": {
          "base_uri": "https://localhost:8080/"
        },
        "id": "CuiJN-b12oVJ",
        "outputId": "84760731-f894-4477-baa0-f752794581ea"
      },
      "execution_count": 13,
      "outputs": [
        {
          "output_type": "execute_result",
          "data": {
            "text/plain": [
              "(<tf.Tensor: shape=(8, 1), dtype=float64, numpy=\n",
              " array([[-7.],\n",
              "        [-4.],\n",
              "        [-1.],\n",
              "        [ 2.],\n",
              "        [ 5.],\n",
              "        [ 8.],\n",
              "        [11.],\n",
              "        [14.]])>,\n",
              " <tf.Tensor: shape=(8,), dtype=float64, numpy=array([ 3.,  6.,  9., 12., 15., 18., 21., 24.])>)"
            ]
          },
          "metadata": {},
          "execution_count": 13
        }
      ]
    },
    {
      "cell_type": "code",
      "source": [
        "# let's see if our model's predictino has improved\n",
        "model.predict([17.0])"
      ],
      "metadata": {
        "colab": {
          "base_uri": "https://localhost:8080/"
        },
        "id": "4YP60zlc2vnx",
        "outputId": "7eb82eb0-64fe-45dd-db73-6871c7794ccf"
      },
      "execution_count": 14,
      "outputs": [
        {
          "output_type": "stream",
          "name": "stdout",
          "text": [
            "1/1 [==============================] - 0s 133ms/step\n"
          ]
        },
        {
          "output_type": "execute_result",
          "data": {
            "text/plain": [
              "array([[29.150229]], dtype=float32)"
            ]
          },
          "metadata": {},
          "execution_count": 14
        }
      ]
    },
    {
      "cell_type": "markdown",
      "source": [
        "### Adding more hidden units with activation function"
      ],
      "metadata": {
        "id": "JJ5bRvcd5kBJ"
      }
    },
    {
      "cell_type": "code",
      "source": [
        "# redefining the model but this time we are adding more hidden units\n",
        "model = tf.keras.Sequential([\n",
        "    tf.keras.layers.Dense(50, activation=None),\n",
        "    tf.keras.layers.Dense(1)\n",
        "])\n",
        "\n",
        "# compile the model\n",
        "model.compile(loss=tf.keras.losses.mae,\n",
        "              optimizer=tf.keras.optimizers.SGD(),\n",
        "              metrics=['mae'])\n",
        "\n",
        "# fit the model\n",
        "model.fit(X, y, epochs=100)"
      ],
      "metadata": {
        "colab": {
          "base_uri": "https://localhost:8080/"
        },
        "id": "jXdf2nLI3OKy",
        "outputId": "6969ee72-da44-4f61-f68e-de5f79d090d9"
      },
      "execution_count": 15,
      "outputs": [
        {
          "output_type": "stream",
          "name": "stdout",
          "text": [
            "Epoch 1/100\n",
            "1/1 [==============================] - 1s 1s/step - loss: 10.6828 - mae: 10.6828\n",
            "Epoch 2/100\n",
            "1/1 [==============================] - 0s 15ms/step - loss: 10.1701 - mae: 10.1701\n",
            "Epoch 3/100\n",
            "1/1 [==============================] - 0s 25ms/step - loss: 9.6413 - mae: 9.6413\n",
            "Epoch 4/100\n",
            "1/1 [==============================] - 0s 20ms/step - loss: 9.0934 - mae: 9.0934\n",
            "Epoch 5/100\n",
            "1/1 [==============================] - 0s 19ms/step - loss: 8.5238 - mae: 8.5238\n",
            "Epoch 6/100\n",
            "1/1 [==============================] - 0s 18ms/step - loss: 7.9295 - mae: 7.9295\n",
            "Epoch 7/100\n",
            "1/1 [==============================] - 0s 11ms/step - loss: 7.3588 - mae: 7.3588\n",
            "Epoch 8/100\n",
            "1/1 [==============================] - 0s 18ms/step - loss: 7.3400 - mae: 7.3400\n",
            "Epoch 9/100\n",
            "1/1 [==============================] - 0s 22ms/step - loss: 7.3212 - mae: 7.3212\n",
            "Epoch 10/100\n",
            "1/1 [==============================] - 0s 28ms/step - loss: 7.3024 - mae: 7.3024\n",
            "Epoch 11/100\n",
            "1/1 [==============================] - 0s 22ms/step - loss: 7.2836 - mae: 7.2836\n",
            "Epoch 12/100\n",
            "1/1 [==============================] - 0s 35ms/step - loss: 7.2647 - mae: 7.2647\n",
            "Epoch 13/100\n",
            "1/1 [==============================] - 0s 21ms/step - loss: 7.2458 - mae: 7.2458\n",
            "Epoch 14/100\n",
            "1/1 [==============================] - 0s 20ms/step - loss: 7.2269 - mae: 7.2269\n",
            "Epoch 15/100\n",
            "1/1 [==============================] - 0s 16ms/step - loss: 7.2079 - mae: 7.2079\n",
            "Epoch 16/100\n",
            "1/1 [==============================] - 0s 12ms/step - loss: 7.1889 - mae: 7.1889\n",
            "Epoch 17/100\n",
            "1/1 [==============================] - 0s 16ms/step - loss: 7.1698 - mae: 7.1698\n",
            "Epoch 18/100\n",
            "1/1 [==============================] - 0s 17ms/step - loss: 7.1507 - mae: 7.1507\n",
            "Epoch 19/100\n",
            "1/1 [==============================] - 0s 12ms/step - loss: 7.1315 - mae: 7.1315\n",
            "Epoch 20/100\n",
            "1/1 [==============================] - 0s 20ms/step - loss: 7.1123 - mae: 7.1123\n",
            "Epoch 21/100\n",
            "1/1 [==============================] - 0s 21ms/step - loss: 7.0930 - mae: 7.0930\n",
            "Epoch 22/100\n",
            "1/1 [==============================] - 0s 17ms/step - loss: 7.0737 - mae: 7.0737\n",
            "Epoch 23/100\n",
            "1/1 [==============================] - 0s 13ms/step - loss: 7.0543 - mae: 7.0543\n",
            "Epoch 24/100\n",
            "1/1 [==============================] - 0s 32ms/step - loss: 7.0348 - mae: 7.0348\n",
            "Epoch 25/100\n",
            "1/1 [==============================] - 0s 19ms/step - loss: 7.0152 - mae: 7.0152\n",
            "Epoch 26/100\n",
            "1/1 [==============================] - 0s 17ms/step - loss: 6.9956 - mae: 6.9956\n",
            "Epoch 27/100\n",
            "1/1 [==============================] - 0s 32ms/step - loss: 6.9759 - mae: 6.9759\n",
            "Epoch 28/100\n",
            "1/1 [==============================] - 0s 18ms/step - loss: 6.9561 - mae: 6.9561\n",
            "Epoch 29/100\n",
            "1/1 [==============================] - 0s 27ms/step - loss: 6.9362 - mae: 6.9362\n",
            "Epoch 30/100\n",
            "1/1 [==============================] - 0s 15ms/step - loss: 6.9163 - mae: 6.9163\n",
            "Epoch 31/100\n",
            "1/1 [==============================] - 0s 18ms/step - loss: 6.8962 - mae: 6.8962\n",
            "Epoch 32/100\n",
            "1/1 [==============================] - 0s 14ms/step - loss: 6.8761 - mae: 6.8761\n",
            "Epoch 33/100\n",
            "1/1 [==============================] - 0s 15ms/step - loss: 6.8558 - mae: 6.8558\n",
            "Epoch 34/100\n",
            "1/1 [==============================] - 0s 14ms/step - loss: 6.8355 - mae: 6.8355\n",
            "Epoch 35/100\n",
            "1/1 [==============================] - 0s 16ms/step - loss: 6.8151 - mae: 6.8151\n",
            "Epoch 36/100\n",
            "1/1 [==============================] - 0s 13ms/step - loss: 6.7945 - mae: 6.7945\n",
            "Epoch 37/100\n",
            "1/1 [==============================] - 0s 13ms/step - loss: 6.7738 - mae: 6.7738\n",
            "Epoch 38/100\n",
            "1/1 [==============================] - 0s 14ms/step - loss: 6.7531 - mae: 6.7531\n",
            "Epoch 39/100\n",
            "1/1 [==============================] - 0s 17ms/step - loss: 6.7322 - mae: 6.7322\n",
            "Epoch 40/100\n",
            "1/1 [==============================] - 0s 18ms/step - loss: 6.7112 - mae: 6.7112\n",
            "Epoch 41/100\n",
            "1/1 [==============================] - 0s 17ms/step - loss: 6.6900 - mae: 6.6900\n",
            "Epoch 42/100\n",
            "1/1 [==============================] - 0s 19ms/step - loss: 6.6688 - mae: 6.6688\n",
            "Epoch 43/100\n",
            "1/1 [==============================] - 0s 16ms/step - loss: 6.6474 - mae: 6.6474\n",
            "Epoch 44/100\n",
            "1/1 [==============================] - 0s 34ms/step - loss: 6.6278 - mae: 6.6278\n",
            "Epoch 45/100\n",
            "1/1 [==============================] - 0s 47ms/step - loss: 6.6233 - mae: 6.6233\n",
            "Epoch 46/100\n",
            "1/1 [==============================] - 0s 14ms/step - loss: 6.6021 - mae: 6.6021\n",
            "Epoch 47/100\n",
            "1/1 [==============================] - 0s 18ms/step - loss: 6.5808 - mae: 6.5808\n",
            "Epoch 48/100\n",
            "1/1 [==============================] - 0s 29ms/step - loss: 6.5593 - mae: 6.5593\n",
            "Epoch 49/100\n",
            "1/1 [==============================] - 0s 20ms/step - loss: 6.5376 - mae: 6.5376\n",
            "Epoch 50/100\n",
            "1/1 [==============================] - 0s 29ms/step - loss: 6.5158 - mae: 6.5158\n",
            "Epoch 51/100\n",
            "1/1 [==============================] - 0s 24ms/step - loss: 6.4939 - mae: 6.4939\n",
            "Epoch 52/100\n",
            "1/1 [==============================] - 0s 41ms/step - loss: 6.4718 - mae: 6.4718\n",
            "Epoch 53/100\n",
            "1/1 [==============================] - 0s 54ms/step - loss: 6.4495 - mae: 6.4495\n",
            "Epoch 54/100\n",
            "1/1 [==============================] - 0s 27ms/step - loss: 6.4270 - mae: 6.4270\n",
            "Epoch 55/100\n",
            "1/1 [==============================] - 0s 15ms/step - loss: 6.4044 - mae: 6.4044\n",
            "Epoch 56/100\n",
            "1/1 [==============================] - 0s 17ms/step - loss: 6.3816 - mae: 6.3816\n",
            "Epoch 57/100\n",
            "1/1 [==============================] - 0s 14ms/step - loss: 6.3587 - mae: 6.3587\n",
            "Epoch 58/100\n",
            "1/1 [==============================] - 0s 20ms/step - loss: 6.3355 - mae: 6.3355\n",
            "Epoch 59/100\n",
            "1/1 [==============================] - 0s 17ms/step - loss: 6.3122 - mae: 6.3122\n",
            "Epoch 60/100\n",
            "1/1 [==============================] - 0s 13ms/step - loss: 6.2887 - mae: 6.2887\n",
            "Epoch 61/100\n",
            "1/1 [==============================] - 0s 14ms/step - loss: 6.2650 - mae: 6.2650\n",
            "Epoch 62/100\n",
            "1/1 [==============================] - 0s 17ms/step - loss: 6.2410 - mae: 6.2410\n",
            "Epoch 63/100\n",
            "1/1 [==============================] - 0s 13ms/step - loss: 6.2197 - mae: 6.2197\n",
            "Epoch 64/100\n",
            "1/1 [==============================] - 0s 19ms/step - loss: 6.2171 - mae: 6.2171\n",
            "Epoch 65/100\n",
            "1/1 [==============================] - 0s 15ms/step - loss: 6.1932 - mae: 6.1932\n",
            "Epoch 66/100\n",
            "1/1 [==============================] - 0s 14ms/step - loss: 6.1690 - mae: 6.1690\n",
            "Epoch 67/100\n",
            "1/1 [==============================] - 0s 14ms/step - loss: 6.1447 - mae: 6.1447\n",
            "Epoch 68/100\n",
            "1/1 [==============================] - 0s 12ms/step - loss: 6.1201 - mae: 6.1201\n",
            "Epoch 69/100\n",
            "1/1 [==============================] - 0s 13ms/step - loss: 6.0953 - mae: 6.0953\n",
            "Epoch 70/100\n",
            "1/1 [==============================] - 0s 13ms/step - loss: 6.0703 - mae: 6.0703\n",
            "Epoch 71/100\n",
            "1/1 [==============================] - 0s 14ms/step - loss: 6.0451 - mae: 6.0451\n",
            "Epoch 72/100\n",
            "1/1 [==============================] - 0s 18ms/step - loss: 6.0196 - mae: 6.0196\n",
            "Epoch 73/100\n",
            "1/1 [==============================] - 0s 16ms/step - loss: 5.9939 - mae: 5.9939\n",
            "Epoch 74/100\n",
            "1/1 [==============================] - 0s 15ms/step - loss: 5.9679 - mae: 5.9679\n",
            "Epoch 75/100\n",
            "1/1 [==============================] - 0s 18ms/step - loss: 5.9417 - mae: 5.9417\n",
            "Epoch 76/100\n",
            "1/1 [==============================] - 0s 29ms/step - loss: 5.9152 - mae: 5.9152\n",
            "Epoch 77/100\n",
            "1/1 [==============================] - 0s 22ms/step - loss: 5.8885 - mae: 5.8885\n",
            "Epoch 78/100\n",
            "1/1 [==============================] - 0s 28ms/step - loss: 5.8615 - mae: 5.8615\n",
            "Epoch 79/100\n",
            "1/1 [==============================] - 0s 28ms/step - loss: 5.8407 - mae: 5.8407\n",
            "Epoch 80/100\n",
            "1/1 [==============================] - 0s 20ms/step - loss: 5.8356 - mae: 5.8356\n",
            "Epoch 81/100\n",
            "1/1 [==============================] - 0s 27ms/step - loss: 5.8084 - mae: 5.8084\n",
            "Epoch 82/100\n",
            "1/1 [==============================] - 0s 17ms/step - loss: 5.7810 - mae: 5.7810\n",
            "Epoch 83/100\n",
            "1/1 [==============================] - 0s 19ms/step - loss: 5.7532 - mae: 5.7532\n",
            "Epoch 84/100\n",
            "1/1 [==============================] - 0s 21ms/step - loss: 5.7252 - mae: 5.7252\n",
            "Epoch 85/100\n",
            "1/1 [==============================] - 0s 24ms/step - loss: 5.6969 - mae: 5.6969\n",
            "Epoch 86/100\n",
            "1/1 [==============================] - 0s 16ms/step - loss: 5.6683 - mae: 5.6683\n",
            "Epoch 87/100\n",
            "1/1 [==============================] - 0s 25ms/step - loss: 5.6394 - mae: 5.6394\n",
            "Epoch 88/100\n",
            "1/1 [==============================] - 0s 15ms/step - loss: 5.6101 - mae: 5.6101\n",
            "Epoch 89/100\n",
            "1/1 [==============================] - 0s 22ms/step - loss: 5.5806 - mae: 5.5806\n",
            "Epoch 90/100\n",
            "1/1 [==============================] - 0s 17ms/step - loss: 5.5508 - mae: 5.5508\n",
            "Epoch 91/100\n",
            "1/1 [==============================] - 0s 16ms/step - loss: 5.5206 - mae: 5.5206\n",
            "Epoch 92/100\n",
            "1/1 [==============================] - 0s 16ms/step - loss: 5.4901 - mae: 5.4901\n",
            "Epoch 93/100\n",
            "1/1 [==============================] - 0s 16ms/step - loss: 5.4596 - mae: 5.4596\n",
            "Epoch 94/100\n",
            "1/1 [==============================] - 0s 21ms/step - loss: 5.4820 - mae: 5.4820\n",
            "Epoch 95/100\n",
            "1/1 [==============================] - 0s 29ms/step - loss: 5.5678 - mae: 5.5678\n",
            "Epoch 96/100\n",
            "1/1 [==============================] - 0s 24ms/step - loss: 5.3940 - mae: 5.3940\n",
            "Epoch 97/100\n",
            "1/1 [==============================] - 0s 19ms/step - loss: 5.3623 - mae: 5.3623\n",
            "Epoch 98/100\n",
            "1/1 [==============================] - 0s 22ms/step - loss: 5.3303 - mae: 5.3303\n",
            "Epoch 99/100\n",
            "1/1 [==============================] - 0s 17ms/step - loss: 5.2979 - mae: 5.2979\n",
            "Epoch 100/100\n",
            "1/1 [==============================] - 0s 25ms/step - loss: 5.2651 - mae: 5.2651\n"
          ]
        },
        {
          "output_type": "execute_result",
          "data": {
            "text/plain": [
              "<keras.callbacks.History at 0x797b45f14f40>"
            ]
          },
          "metadata": {},
          "execution_count": 15
        }
      ]
    },
    {
      "cell_type": "code",
      "source": [
        "# remind ourselves of the data\n",
        "X, y"
      ],
      "metadata": {
        "colab": {
          "base_uri": "https://localhost:8080/"
        },
        "id": "VccH4F0g4Fwx",
        "outputId": "4712924c-4c5d-4d17-d1f7-2059e9ed0a61"
      },
      "execution_count": 16,
      "outputs": [
        {
          "output_type": "execute_result",
          "data": {
            "text/plain": [
              "(<tf.Tensor: shape=(8, 1), dtype=float64, numpy=\n",
              " array([[-7.],\n",
              "        [-4.],\n",
              "        [-1.],\n",
              "        [ 2.],\n",
              "        [ 5.],\n",
              "        [ 8.],\n",
              "        [11.],\n",
              "        [14.]])>,\n",
              " <tf.Tensor: shape=(8,), dtype=float64, numpy=array([ 3.,  6.,  9., 12., 15., 18., 21., 24.])>)"
            ]
          },
          "metadata": {},
          "execution_count": 16
        }
      ]
    },
    {
      "cell_type": "code",
      "source": [
        "# getting prediction from the model\n",
        "model.predict([17.0])"
      ],
      "metadata": {
        "colab": {
          "base_uri": "https://localhost:8080/"
        },
        "id": "ebVTntJ-4JSI",
        "outputId": "ae4186c8-0dd1-4367-eddd-ed78780bd360"
      },
      "execution_count": 17,
      "outputs": [
        {
          "output_type": "stream",
          "name": "stdout",
          "text": [
            "1/1 [==============================] - 0s 183ms/step\n"
          ]
        },
        {
          "output_type": "execute_result",
          "data": {
            "text/plain": [
              "array([[30.350973]], dtype=float32)"
            ]
          },
          "metadata": {},
          "execution_count": 17
        }
      ]
    },
    {
      "cell_type": "markdown",
      "source": [
        "### Changing the optimizatino funciton"
      ],
      "metadata": {
        "id": "5O57KjST6y_R"
      }
    },
    {
      "cell_type": "code",
      "source": [
        "model = tf.keras.Sequential([\n",
        "    tf.keras.layers.Dense(50, activation=None),\n",
        "    tf.keras.layers.Dense(1)\n",
        "])\n",
        "\n",
        "# compile the model\n",
        "model.compile(loss=tf.keras.losses.mae,\n",
        "              optimizer=tf.keras.optimizers.Adam(learning_rate=0.01),\n",
        "              metrics=['mae'])\n",
        "\n",
        "# fit the model\n",
        "model.fit(X, y, epochs=100)"
      ],
      "metadata": {
        "colab": {
          "base_uri": "https://localhost:8080/"
        },
        "id": "-2MsbAJN64hR",
        "outputId": "66e5bbc6-2d62-4cb7-b157-f5b42a539a26"
      },
      "execution_count": 18,
      "outputs": [
        {
          "output_type": "stream",
          "name": "stdout",
          "text": [
            "Epoch 1/100\n",
            "1/1 [==============================] - 3s 3s/step - loss: 13.0748 - mae: 13.0748\n",
            "Epoch 2/100\n",
            "1/1 [==============================] - 0s 32ms/step - loss: 12.3992 - mae: 12.3992\n",
            "Epoch 3/100\n",
            "1/1 [==============================] - 0s 26ms/step - loss: 11.7235 - mae: 11.7235\n",
            "Epoch 4/100\n",
            "1/1 [==============================] - 0s 26ms/step - loss: 11.0455 - mae: 11.0455\n",
            "Epoch 5/100\n",
            "1/1 [==============================] - 0s 26ms/step - loss: 10.3634 - mae: 10.3634\n",
            "Epoch 6/100\n",
            "1/1 [==============================] - 0s 23ms/step - loss: 9.6751 - mae: 9.6751\n",
            "Epoch 7/100\n",
            "1/1 [==============================] - 0s 27ms/step - loss: 8.9781 - mae: 8.9781\n",
            "Epoch 8/100\n",
            "1/1 [==============================] - 0s 12ms/step - loss: 8.2698 - mae: 8.2698\n",
            "Epoch 9/100\n",
            "1/1 [==============================] - 0s 12ms/step - loss: 7.5476 - mae: 7.5476\n",
            "Epoch 10/100\n",
            "1/1 [==============================] - 0s 17ms/step - loss: 6.8085 - mae: 6.8085\n",
            "Epoch 11/100\n",
            "1/1 [==============================] - 0s 21ms/step - loss: 6.7382 - mae: 6.7382\n",
            "Epoch 12/100\n",
            "1/1 [==============================] - 0s 28ms/step - loss: 7.0543 - mae: 7.0543\n",
            "Epoch 13/100\n",
            "1/1 [==============================] - 0s 18ms/step - loss: 7.2622 - mae: 7.2622\n",
            "Epoch 14/100\n",
            "1/1 [==============================] - 0s 17ms/step - loss: 7.4601 - mae: 7.4601\n",
            "Epoch 15/100\n",
            "1/1 [==============================] - 0s 24ms/step - loss: 7.4952 - mae: 7.4952\n",
            "Epoch 16/100\n",
            "1/1 [==============================] - 0s 14ms/step - loss: 7.3605 - mae: 7.3605\n",
            "Epoch 17/100\n",
            "1/1 [==============================] - 0s 22ms/step - loss: 7.0968 - mae: 7.0968\n",
            "Epoch 18/100\n",
            "1/1 [==============================] - 0s 13ms/step - loss: 6.8511 - mae: 6.8511\n",
            "Epoch 19/100\n",
            "1/1 [==============================] - 0s 15ms/step - loss: 6.6031 - mae: 6.6031\n",
            "Epoch 20/100\n",
            "1/1 [==============================] - 0s 19ms/step - loss: 6.3408 - mae: 6.3408\n",
            "Epoch 21/100\n",
            "1/1 [==============================] - 0s 15ms/step - loss: 6.1111 - mae: 6.1111\n",
            "Epoch 22/100\n",
            "1/1 [==============================] - 0s 15ms/step - loss: 6.0672 - mae: 6.0672\n",
            "Epoch 23/100\n",
            "1/1 [==============================] - 0s 15ms/step - loss: 6.0185 - mae: 6.0185\n",
            "Epoch 24/100\n",
            "1/1 [==============================] - 0s 21ms/step - loss: 6.1534 - mae: 6.1534\n",
            "Epoch 25/100\n",
            "1/1 [==============================] - 0s 14ms/step - loss: 6.1850 - mae: 6.1850\n",
            "Epoch 26/100\n",
            "1/1 [==============================] - 0s 11ms/step - loss: 6.1202 - mae: 6.1202\n",
            "Epoch 27/100\n",
            "1/1 [==============================] - 0s 43ms/step - loss: 5.9709 - mae: 5.9709\n",
            "Epoch 28/100\n",
            "1/1 [==============================] - 0s 24ms/step - loss: 5.7458 - mae: 5.7458\n",
            "Epoch 29/100\n",
            "1/1 [==============================] - 0s 20ms/step - loss: 5.5331 - mae: 5.5331\n",
            "Epoch 30/100\n",
            "1/1 [==============================] - 0s 32ms/step - loss: 5.4243 - mae: 5.4243\n",
            "Epoch 31/100\n",
            "1/1 [==============================] - 0s 19ms/step - loss: 5.3123 - mae: 5.3123\n",
            "Epoch 32/100\n",
            "1/1 [==============================] - 0s 18ms/step - loss: 5.3045 - mae: 5.3045\n",
            "Epoch 33/100\n",
            "1/1 [==============================] - 0s 24ms/step - loss: 5.2847 - mae: 5.2847\n",
            "Epoch 34/100\n",
            "1/1 [==============================] - 0s 31ms/step - loss: 5.2215 - mae: 5.2215\n",
            "Epoch 35/100\n",
            "1/1 [==============================] - 0s 15ms/step - loss: 5.1179 - mae: 5.1179\n",
            "Epoch 36/100\n",
            "1/1 [==============================] - 0s 14ms/step - loss: 4.9770 - mae: 4.9770\n",
            "Epoch 37/100\n",
            "1/1 [==============================] - 0s 16ms/step - loss: 4.8015 - mae: 4.8015\n",
            "Epoch 38/100\n",
            "1/1 [==============================] - 0s 14ms/step - loss: 4.5940 - mae: 4.5940\n",
            "Epoch 39/100\n",
            "1/1 [==============================] - 0s 14ms/step - loss: 4.4801 - mae: 4.4801\n",
            "Epoch 40/100\n",
            "1/1 [==============================] - 0s 14ms/step - loss: 4.3754 - mae: 4.3754\n",
            "Epoch 41/100\n",
            "1/1 [==============================] - 0s 20ms/step - loss: 4.3161 - mae: 4.3161\n",
            "Epoch 42/100\n",
            "1/1 [==============================] - 0s 22ms/step - loss: 4.2198 - mae: 4.2198\n",
            "Epoch 43/100\n",
            "1/1 [==============================] - 0s 30ms/step - loss: 4.0100 - mae: 4.0100\n",
            "Epoch 44/100\n",
            "1/1 [==============================] - 0s 32ms/step - loss: 3.8148 - mae: 3.8148\n",
            "Epoch 45/100\n",
            "1/1 [==============================] - 0s 23ms/step - loss: 3.6415 - mae: 3.6415\n",
            "Epoch 46/100\n",
            "1/1 [==============================] - 0s 22ms/step - loss: 3.5456 - mae: 3.5456\n",
            "Epoch 47/100\n",
            "1/1 [==============================] - 0s 25ms/step - loss: 3.4393 - mae: 3.4393\n",
            "Epoch 48/100\n",
            "1/1 [==============================] - 0s 34ms/step - loss: 3.2782 - mae: 3.2782\n",
            "Epoch 49/100\n",
            "1/1 [==============================] - 0s 25ms/step - loss: 3.0643 - mae: 3.0643\n",
            "Epoch 50/100\n",
            "1/1 [==============================] - 0s 14ms/step - loss: 2.7999 - mae: 2.7999\n",
            "Epoch 51/100\n",
            "1/1 [==============================] - 0s 29ms/step - loss: 2.5761 - mae: 2.5761\n",
            "Epoch 52/100\n",
            "1/1 [==============================] - 0s 21ms/step - loss: 2.4324 - mae: 2.4324\n",
            "Epoch 53/100\n",
            "1/1 [==============================] - 0s 26ms/step - loss: 2.2477 - mae: 2.2477\n",
            "Epoch 54/100\n",
            "1/1 [==============================] - 0s 24ms/step - loss: 1.9369 - mae: 1.9369\n",
            "Epoch 55/100\n",
            "1/1 [==============================] - 0s 25ms/step - loss: 1.6892 - mae: 1.6892\n",
            "Epoch 56/100\n",
            "1/1 [==============================] - 0s 26ms/step - loss: 1.5128 - mae: 1.5128\n",
            "Epoch 57/100\n",
            "1/1 [==============================] - 0s 25ms/step - loss: 1.2826 - mae: 1.2826\n",
            "Epoch 58/100\n",
            "1/1 [==============================] - 0s 26ms/step - loss: 0.9806 - mae: 0.9806\n",
            "Epoch 59/100\n",
            "1/1 [==============================] - 0s 16ms/step - loss: 0.6485 - mae: 0.6485\n",
            "Epoch 60/100\n",
            "1/1 [==============================] - 0s 15ms/step - loss: 0.5039 - mae: 0.5039\n",
            "Epoch 61/100\n",
            "1/1 [==============================] - 0s 13ms/step - loss: 0.1944 - mae: 0.1944\n",
            "Epoch 62/100\n",
            "1/1 [==============================] - 0s 14ms/step - loss: 0.4061 - mae: 0.4061\n",
            "Epoch 63/100\n",
            "1/1 [==============================] - 0s 18ms/step - loss: 0.7155 - mae: 0.7155\n",
            "Epoch 64/100\n",
            "1/1 [==============================] - 0s 21ms/step - loss: 0.7802 - mae: 0.7802\n",
            "Epoch 65/100\n",
            "1/1 [==============================] - 0s 20ms/step - loss: 0.6576 - mae: 0.6576\n",
            "Epoch 66/100\n",
            "1/1 [==============================] - 0s 17ms/step - loss: 0.8510 - mae: 0.8510\n",
            "Epoch 67/100\n",
            "1/1 [==============================] - 0s 24ms/step - loss: 0.8671 - mae: 0.8671\n",
            "Epoch 68/100\n",
            "1/1 [==============================] - 0s 37ms/step - loss: 0.6849 - mae: 0.6849\n",
            "Epoch 69/100\n",
            "1/1 [==============================] - 0s 29ms/step - loss: 0.7275 - mae: 0.7275\n",
            "Epoch 70/100\n",
            "1/1 [==============================] - 0s 29ms/step - loss: 0.6895 - mae: 0.6895\n",
            "Epoch 71/100\n",
            "1/1 [==============================] - 0s 19ms/step - loss: 0.4670 - mae: 0.4670\n",
            "Epoch 72/100\n",
            "1/1 [==============================] - 0s 19ms/step - loss: 0.3295 - mae: 0.3295\n",
            "Epoch 73/100\n",
            "1/1 [==============================] - 0s 22ms/step - loss: 0.3105 - mae: 0.3105\n",
            "Epoch 74/100\n",
            "1/1 [==============================] - 0s 19ms/step - loss: 0.0874 - mae: 0.0874\n",
            "Epoch 75/100\n",
            "1/1 [==============================] - 0s 21ms/step - loss: 0.5197 - mae: 0.5197\n",
            "Epoch 76/100\n",
            "1/1 [==============================] - 0s 15ms/step - loss: 0.6525 - mae: 0.6525\n",
            "Epoch 77/100\n",
            "1/1 [==============================] - 0s 25ms/step - loss: 0.4970 - mae: 0.4970\n",
            "Epoch 78/100\n",
            "1/1 [==============================] - 0s 49ms/step - loss: 0.3893 - mae: 0.3893\n",
            "Epoch 79/100\n",
            "1/1 [==============================] - 0s 16ms/step - loss: 0.5128 - mae: 0.5128\n",
            "Epoch 80/100\n",
            "1/1 [==============================] - 0s 25ms/step - loss: 0.4720 - mae: 0.4720\n",
            "Epoch 81/100\n",
            "1/1 [==============================] - 0s 29ms/step - loss: 0.2841 - mae: 0.2841\n",
            "Epoch 82/100\n",
            "1/1 [==============================] - 0s 33ms/step - loss: 0.2792 - mae: 0.2792\n",
            "Epoch 83/100\n",
            "1/1 [==============================] - 0s 30ms/step - loss: 0.2908 - mae: 0.2908\n",
            "Epoch 84/100\n",
            "1/1 [==============================] - 0s 24ms/step - loss: 0.1113 - mae: 0.1113\n",
            "Epoch 85/100\n",
            "1/1 [==============================] - 0s 21ms/step - loss: 0.4518 - mae: 0.4518\n",
            "Epoch 86/100\n",
            "1/1 [==============================] - 0s 15ms/step - loss: 0.5685 - mae: 0.5685\n",
            "Epoch 87/100\n",
            "1/1 [==============================] - 0s 14ms/step - loss: 0.4188 - mae: 0.4188\n",
            "Epoch 88/100\n",
            "1/1 [==============================] - 0s 16ms/step - loss: 0.2380 - mae: 0.2380\n",
            "Epoch 89/100\n",
            "1/1 [==============================] - 0s 18ms/step - loss: 0.3142 - mae: 0.3142\n",
            "Epoch 90/100\n",
            "1/1 [==============================] - 0s 32ms/step - loss: 0.2567 - mae: 0.2567\n",
            "Epoch 91/100\n",
            "1/1 [==============================] - 0s 23ms/step - loss: 0.0428 - mae: 0.0428\n",
            "Epoch 92/100\n",
            "1/1 [==============================] - 0s 18ms/step - loss: 0.0784 - mae: 0.0784\n",
            "Epoch 93/100\n",
            "1/1 [==============================] - 0s 14ms/step - loss: 0.2014 - mae: 0.2014\n",
            "Epoch 94/100\n",
            "1/1 [==============================] - 0s 23ms/step - loss: 0.1411 - mae: 0.1411\n",
            "Epoch 95/100\n",
            "1/1 [==============================] - 0s 24ms/step - loss: 0.1900 - mae: 0.1900\n",
            "Epoch 96/100\n",
            "1/1 [==============================] - 0s 14ms/step - loss: 0.2216 - mae: 0.2216\n",
            "Epoch 97/100\n",
            "1/1 [==============================] - 0s 26ms/step - loss: 0.0078 - mae: 0.0078\n",
            "Epoch 98/100\n",
            "1/1 [==============================] - 0s 24ms/step - loss: 0.4232 - mae: 0.4232\n",
            "Epoch 99/100\n",
            "1/1 [==============================] - 0s 19ms/step - loss: 0.5457 - mae: 0.5457\n",
            "Epoch 100/100\n",
            "1/1 [==============================] - 0s 28ms/step - loss: 0.3956 - mae: 0.3956\n"
          ]
        },
        {
          "output_type": "execute_result",
          "data": {
            "text/plain": [
              "<keras.callbacks.History at 0x797b45dfe3e0>"
            ]
          },
          "metadata": {},
          "execution_count": 18
        }
      ]
    },
    {
      "cell_type": "code",
      "source": [
        "model.predict([17.0])"
      ],
      "metadata": {
        "colab": {
          "base_uri": "https://localhost:8080/"
        },
        "id": "RhpYwovr7QXw",
        "outputId": "66de0463-9f67-4a64-a8c4-3164bcb882b7"
      },
      "execution_count": 19,
      "outputs": [
        {
          "output_type": "stream",
          "name": "stdout",
          "text": [
            "1/1 [==============================] - 0s 120ms/step\n"
          ]
        },
        {
          "output_type": "execute_result",
          "data": {
            "text/plain": [
              "array([[26.989664]], dtype=float32)"
            ]
          },
          "metadata": {},
          "execution_count": 19
        }
      ]
    },
    {
      "cell_type": "markdown",
      "source": [
        "**🧮🔑Important🔑🧮:** Common ways to improve a deep learning model\n",
        "\n",
        "*   Adding layers.\n",
        "*   Increase the number of hidden units.\n",
        "*   Change the activation function.\n",
        "*   Change the optimizatino function.\n",
        "*   Change the learning rate.\n",
        "*   Fitting on more data.\n",
        "\n"
      ],
      "metadata": {
        "id": "bgicFG5H7e4A"
      }
    },
    {
      "cell_type": "markdown",
      "source": [
        "### Adding more data\n",
        "\n",
        "It is good idea to visualize:\n",
        "\n",
        "*  The data - What data are we working with? What does it look like?\n",
        "*  The model itself - What does our model look like?\n",
        "*  The training of a model - How does a model performs while it learns?\n",
        "*  The predictions of the model - How do the prediction of the model line up against the ground truth (the original labels)."
      ],
      "metadata": {
        "id": "CEvz_6qnXlzo"
      }
    },
    {
      "cell_type": "code",
      "source": [
        "# making a bigger dataset\n",
        "features = tf.range(-100, 100, 4)\n",
        "labels = features + 10\n",
        "features, labels"
      ],
      "metadata": {
        "colab": {
          "base_uri": "https://localhost:8080/"
        },
        "id": "KipjMLD_Ybwp",
        "outputId": "a5bc97b5-7f2b-4711-d57f-43f97a4f965d"
      },
      "execution_count": 20,
      "outputs": [
        {
          "output_type": "execute_result",
          "data": {
            "text/plain": [
              "(<tf.Tensor: shape=(50,), dtype=int32, numpy=\n",
              " array([-100,  -96,  -92,  -88,  -84,  -80,  -76,  -72,  -68,  -64,  -60,\n",
              "         -56,  -52,  -48,  -44,  -40,  -36,  -32,  -28,  -24,  -20,  -16,\n",
              "         -12,   -8,   -4,    0,    4,    8,   12,   16,   20,   24,   28,\n",
              "          32,   36,   40,   44,   48,   52,   56,   60,   64,   68,   72,\n",
              "          76,   80,   84,   88,   92,   96], dtype=int32)>,\n",
              " <tf.Tensor: shape=(50,), dtype=int32, numpy=\n",
              " array([-90, -86, -82, -78, -74, -70, -66, -62, -58, -54, -50, -46, -42,\n",
              "        -38, -34, -30, -26, -22, -18, -14, -10,  -6,  -2,   2,   6,  10,\n",
              "         14,  18,  22,  26,  30,  34,  38,  42,  46,  50,  54,  58,  62,\n",
              "         66,  70,  74,  78,  82,  86,  90,  94,  98, 102, 106], dtype=int32)>)"
            ]
          },
          "metadata": {},
          "execution_count": 20
        }
      ]
    },
    {
      "cell_type": "code",
      "source": [
        "plt.scatter(features, labels)"
      ],
      "metadata": {
        "colab": {
          "base_uri": "https://localhost:8080/",
          "height": 447
        },
        "id": "kiX6fwFnZn-P",
        "outputId": "024e5909-41fc-4f2e-f672-3630ef1edfe8"
      },
      "execution_count": 21,
      "outputs": [
        {
          "output_type": "execute_result",
          "data": {
            "text/plain": [
              "<matplotlib.collections.PathCollection at 0x797b45809e10>"
            ]
          },
          "metadata": {},
          "execution_count": 21
        },
        {
          "output_type": "display_data",
          "data": {
            "text/plain": [
              "<Figure size 640x480 with 1 Axes>"
            ],
            "image/png": "[encoded data removed]"
          },
          "metadata": {}
        }
      ]
    },
    {
      "cell_type": "code",
      "source": [
        "plt.plot(features, labels)"
      ],
      "metadata": {
        "colab": {
          "base_uri": "https://localhost:8080/",
          "height": 447
        },
        "id": "YmQOCN8sZu9v",
        "outputId": "ab8b7408-4b2e-4a40-d598-bb8e33b17f41"
      },
      "execution_count": 22,
      "outputs": [
        {
          "output_type": "execute_result",
          "data": {
            "text/plain": [
              "[<matplotlib.lines.Line2D at 0x797b4433efe0>]"
            ]
          },
          "metadata": {},
          "execution_count": 22
        },
        {
          "output_type": "display_data",
          "data": {
            "text/plain": [
              "<Figure size 640x480 with 1 Axes>"
            ],
            "image/png": "[encoded data removed]"
          },
          "metadata": {}
        }
      ]
    },
    {
      "cell_type": "code",
      "source": [
        "features = tf.reshape(features, shape=(50,1))\n",
        "features"
      ],
      "metadata": {
        "colab": {
          "base_uri": "https://localhost:8080/"
        },
        "id": "RzlgNeobZBXA",
        "outputId": "26106dda-293f-425b-bd24-262baa5a033e"
      },
      "execution_count": 23,
      "outputs": [
        {
          "output_type": "execute_result",
          "data": {
            "text/plain": [
              "<tf.Tensor: shape=(50, 1), dtype=int32, numpy=\n",
              "array([[-100],\n",
              "       [ -96],\n",
              "       [ -92],\n",
              "       [ -88],\n",
              "       [ -84],\n",
              "       [ -80],\n",
              "       [ -76],\n",
              "       [ -72],\n",
              "       [ -68],\n",
              "       [ -64],\n",
              "       [ -60],\n",
              "       [ -56],\n",
              "       [ -52],\n",
              "       [ -48],\n",
              "       [ -44],\n",
              "       [ -40],\n",
              "       [ -36],\n",
              "       [ -32],\n",
              "       [ -28],\n",
              "       [ -24],\n",
              "       [ -20],\n",
              "       [ -16],\n",
              "       [ -12],\n",
              "       [  -8],\n",
              "       [  -4],\n",
              "       [   0],\n",
              "       [   4],\n",
              "       [   8],\n",
              "       [  12],\n",
              "       [  16],\n",
              "       [  20],\n",
              "       [  24],\n",
              "       [  28],\n",
              "       [  32],\n",
              "       [  36],\n",
              "       [  40],\n",
              "       [  44],\n",
              "       [  48],\n",
              "       [  52],\n",
              "       [  56],\n",
              "       [  60],\n",
              "       [  64],\n",
              "       [  68],\n",
              "       [  72],\n",
              "       [  76],\n",
              "       [  80],\n",
              "       [  84],\n",
              "       [  88],\n",
              "       [  92],\n",
              "       [  96]], dtype=int32)>"
            ]
          },
          "metadata": {},
          "execution_count": 23
        }
      ]
    },
    {
      "cell_type": "code",
      "source": [
        "# split the data into train and test set\n",
        "x_train = features[:40, :1]\n",
        "y_train = labels[:40]\n",
        "\n",
        "x_test = features[40:, :1]\n",
        "y_test = labels[40:]"
      ],
      "metadata": {
        "id": "48spQS9SZlzh"
      },
      "execution_count": 24,
      "outputs": []
    },
    {
      "cell_type": "code",
      "source": [
        "len(x_train), len(x_test), len(y_train), len(y_test)"
      ],
      "metadata": {
        "colab": {
          "base_uri": "https://localhost:8080/"
        },
        "id": "V9Jwelrdp4S2",
        "outputId": "64633f48-4113-4601-bd60-7d5afcae7407"
      },
      "execution_count": 25,
      "outputs": [
        {
          "output_type": "execute_result",
          "data": {
            "text/plain": [
              "(40, 10, 40, 10)"
            ]
          },
          "metadata": {},
          "execution_count": 25
        }
      ]
    },
    {
      "cell_type": "markdown",
      "source": [
        "## Visualizing the data"
      ],
      "metadata": {
        "id": "QHK1Ga8yqbS1"
      }
    },
    {
      "cell_type": "code",
      "source": [
        "plt.figure(figsize=(10, 7))\n",
        "# plot training data in blue\n",
        "plt.scatter(x_train, y_train, c='b', label='Training data')\n",
        "# plot test data\n",
        "plt.scatter(x_test, y_test, c='g', label='Test data')\n",
        "# show the legend\n",
        "plt.legend()"
      ],
      "metadata": {
        "colab": {
          "base_uri": "https://localhost:8080/",
          "height": 616
        },
        "id": "QGLaAVuSqhMV",
        "outputId": "3ba41b75-160c-4c76-c225-b52f3f0c6be1"
      },
      "execution_count": 26,
      "outputs": [
        {
          "output_type": "execute_result",
          "data": {
            "text/plain": [
              "<matplotlib.legend.Legend at 0x797b443cf910>"
            ]
          },
          "metadata": {},
          "execution_count": 26
        },
        {
          "output_type": "display_data",
          "data": {
            "text/plain": [
              "<Figure size 1000x700 with 1 Axes>"
            ],
            "image/png": "[encoded data removed]"
          },
          "metadata": {}
        }
      ]
    },
    {
      "cell_type": "markdown",
      "source": [
        "## Training a neural network"
      ],
      "metadata": {
        "id": "ChbVlUPDS_ki"
      }
    },
    {
      "cell_type": "code",
      "source": [
        "tf.shape(x_train)"
      ],
      "metadata": {
        "colab": {
          "base_uri": "https://localhost:8080/"
        },
        "id": "-7d9MnOOTQ9K",
        "outputId": "3a1d03f5-90a1-45bc-d9b8-2fbbe851840f"
      },
      "execution_count": 27,
      "outputs": [
        {
          "output_type": "execute_result",
          "data": {
            "text/plain": [
              "<tf.Tensor: shape=(2,), dtype=int32, numpy=array([40,  1], dtype=int32)>"
            ]
          },
          "metadata": {},
          "execution_count": 27
        }
      ]
    },
    {
      "cell_type": "code",
      "source": [
        "# build the model\n",
        "model = tf.keras.Sequential([\n",
        "    tf.keras.layers.Dense(10, input_shape=[1], name='input_layer'),\n",
        "    tf.keras.layers.Dense(1, name='output_layer')\n",
        "], name='neural_network')\n",
        "\n",
        "# compile the model\n",
        "model.compile(loss=tf.keras.losses.mae,\n",
        "              optimizer=tf.keras.optimizers.SGD(),\n",
        "              metrics=['mae'])"
      ],
      "metadata": {
        "id": "B77t2i8WS-ZL"
      },
      "execution_count": 28,
      "outputs": []
    },
    {
      "cell_type": "code",
      "source": [
        "model.summary()"
      ],
      "metadata": {
        "colab": {
          "base_uri": "https://localhost:8080/"
        },
        "id": "or44b1aITuJ7",
        "outputId": "f8161e20-68de-4bf7-9ec8-48dd80c00c15"
      },
      "execution_count": 29,
      "outputs": [
        {
          "output_type": "stream",
          "name": "stdout",
          "text": [
            "Model: \"neural_network\"\n",
            "_________________________________________________________________\n",
            " Layer (type)                Output Shape              Param #   \n",
            "=================================================================\n",
            " input_layer (Dense)         (None, 10)                20        \n",
            "                                                                 \n",
            " output_layer (Dense)        (None, 1)                 11        \n",
            "                                                                 \n",
            "=================================================================\n",
            "Total params: 31\n",
            "Trainable params: 31\n",
            "Non-trainable params: 0\n",
            "_________________________________________________________________\n"
          ]
        }
      ]
    },
    {
      "cell_type": "markdown",
      "source": [
        "🧮🔑**Note:**🔑🧮\n",
        "*  Total params: Total number of parameters in the model.\n",
        "*  Trainable parameters: These are the parameters (paterns) the model can update as it trains.\n",
        "*  Non-trainable params: These parameters aren't updated during training (this is typical when you bring in already learn patterns or parameters from other models during **Transfer Learning**).\n",
        "\n",
        "\n",
        "**Complete details about trainable parameters within a layer:**\n",
        "\n",
        "📖**Resource:** [https://www.youtube.com/watch?v=njKP3FqW3Sk&list=PLHkKmgGGVneX2BzZVYGqcWbFw_7ymcZqv](https://www.youtube.com/watch?v=njKP3FqW3Sk&list=PLHkKmgGGVneX2BzZVYGqcWbFw_7ymcZqv)"
      ],
      "metadata": {
        "id": "Yqli5tU9Vo9K"
      }
    },
    {
      "cell_type": "code",
      "source": [
        "# fit the model\n",
        "model.fit(x_train, y_train, epochs=100)"
      ],
      "metadata": {
        "colab": {
          "base_uri": "https://localhost:8080/"
        },
        "id": "IgNOdsqETn0y",
        "outputId": "0060e716-a44e-4866-bb6b-1bf9c01021c1"
      },
      "execution_count": 30,
      "outputs": [
        {
          "output_type": "stream",
          "name": "stdout",
          "text": [
            "Epoch 1/100\n",
            "2/2 [==============================] - 1s 9ms/step - loss: 26.2834 - mae: 26.2834\n",
            "Epoch 2/100\n",
            "2/2 [==============================] - 0s 10ms/step - loss: 24.6415 - mae: 24.6415\n",
            "Epoch 3/100\n",
            "2/2 [==============================] - 0s 10ms/step - loss: 30.5290 - mae: 30.5290\n",
            "Epoch 4/100\n",
            "2/2 [==============================] - 0s 11ms/step - loss: 24.4359 - mae: 24.4359\n",
            "Epoch 5/100\n",
            "2/2 [==============================] - 0s 11ms/step - loss: 14.5036 - mae: 14.5036\n",
            "Epoch 6/100\n",
            "2/2 [==============================] - 0s 12ms/step - loss: 11.5584 - mae: 11.5584\n",
            "Epoch 7/100\n",
            "2/2 [==============================] - 0s 12ms/step - loss: 10.9138 - mae: 10.9138\n",
            "Epoch 8/100\n",
            "2/2 [==============================] - 0s 11ms/step - loss: 10.9978 - mae: 10.9978\n",
            "Epoch 9/100\n",
            "2/2 [==============================] - 0s 14ms/step - loss: 39.2366 - mae: 39.2366\n",
            "Epoch 10/100\n",
            "2/2 [==============================] - 0s 15ms/step - loss: 26.7856 - mae: 26.7856\n",
            "Epoch 11/100\n",
            "2/2 [==============================] - 0s 15ms/step - loss: 11.0469 - mae: 11.0469\n",
            "Epoch 12/100\n",
            "2/2 [==============================] - 0s 9ms/step - loss: 24.5355 - mae: 24.5355\n",
            "Epoch 13/100\n",
            "2/2 [==============================] - 0s 19ms/step - loss: 19.0316 - mae: 19.0316\n",
            "Epoch 14/100\n",
            "2/2 [==============================] - 0s 18ms/step - loss: 23.1648 - mae: 23.1648\n",
            "Epoch 15/100\n",
            "2/2 [==============================] - 0s 14ms/step - loss: 15.0804 - mae: 15.0804\n",
            "Epoch 16/100\n",
            "2/2 [==============================] - 0s 27ms/step - loss: 11.2768 - mae: 11.2768\n",
            "Epoch 17/100\n",
            "2/2 [==============================] - 0s 21ms/step - loss: 22.9160 - mae: 22.9160\n",
            "Epoch 18/100\n",
            "2/2 [==============================] - 0s 22ms/step - loss: 11.3159 - mae: 11.3159\n",
            "Epoch 19/100\n",
            "2/2 [==============================] - 0s 8ms/step - loss: 13.8568 - mae: 13.8568\n",
            "Epoch 20/100\n",
            "2/2 [==============================] - 0s 8ms/step - loss: 11.1655 - mae: 11.1655\n",
            "Epoch 21/100\n",
            "2/2 [==============================] - 0s 30ms/step - loss: 17.1633 - mae: 17.1633\n",
            "Epoch 22/100\n",
            "2/2 [==============================] - 0s 21ms/step - loss: 15.4003 - mae: 15.4003\n",
            "Epoch 23/100\n",
            "2/2 [==============================] - 0s 17ms/step - loss: 9.2531 - mae: 9.2531\n",
            "Epoch 24/100\n",
            "2/2 [==============================] - 0s 13ms/step - loss: 17.3172 - mae: 17.3172\n",
            "Epoch 25/100\n",
            "2/2 [==============================] - 0s 24ms/step - loss: 15.9778 - mae: 15.9778\n",
            "Epoch 26/100\n",
            "2/2 [==============================] - 0s 11ms/step - loss: 21.0206 - mae: 21.0206\n",
            "Epoch 27/100\n",
            "2/2 [==============================] - 0s 9ms/step - loss: 25.7650 - mae: 25.7650\n",
            "Epoch 28/100\n",
            "2/2 [==============================] - 0s 10ms/step - loss: 18.2890 - mae: 18.2890\n",
            "Epoch 29/100\n",
            "2/2 [==============================] - 0s 12ms/step - loss: 9.2428 - mae: 9.2428\n",
            "Epoch 30/100\n",
            "2/2 [==============================] - 0s 11ms/step - loss: 28.8860 - mae: 28.8860\n",
            "Epoch 31/100\n",
            "2/2 [==============================] - 0s 10ms/step - loss: 52.2962 - mae: 52.2962\n",
            "Epoch 32/100\n",
            "2/2 [==============================] - 0s 21ms/step - loss: 11.8521 - mae: 11.8521\n",
            "Epoch 33/100\n",
            "2/2 [==============================] - 0s 9ms/step - loss: 15.3876 - mae: 15.3876\n",
            "Epoch 34/100\n",
            "2/2 [==============================] - 0s 8ms/step - loss: 12.5212 - mae: 12.5212\n",
            "Epoch 35/100\n",
            "2/2 [==============================] - 0s 8ms/step - loss: 9.1639 - mae: 9.1639\n",
            "Epoch 36/100\n",
            "2/2 [==============================] - 0s 9ms/step - loss: 16.3318 - mae: 16.3318\n",
            "Epoch 37/100\n",
            "2/2 [==============================] - 0s 13ms/step - loss: 11.1282 - mae: 11.1282\n",
            "Epoch 38/100\n",
            "2/2 [==============================] - 0s 10ms/step - loss: 18.2621 - mae: 18.2621\n",
            "Epoch 39/100\n",
            "2/2 [==============================] - 0s 11ms/step - loss: 19.1898 - mae: 19.1898\n",
            "Epoch 40/100\n",
            "2/2 [==============================] - 0s 9ms/step - loss: 20.5938 - mae: 20.5938\n",
            "Epoch 41/100\n",
            "2/2 [==============================] - 0s 10ms/step - loss: 14.7110 - mae: 14.7110\n",
            "Epoch 42/100\n",
            "2/2 [==============================] - 0s 10ms/step - loss: 12.1294 - mae: 12.1294\n",
            "Epoch 43/100\n",
            "2/2 [==============================] - 0s 15ms/step - loss: 10.6661 - mae: 10.6661\n",
            "Epoch 44/100\n",
            "2/2 [==============================] - 0s 14ms/step - loss: 31.9944 - mae: 31.9944\n",
            "Epoch 45/100\n",
            "2/2 [==============================] - 0s 9ms/step - loss: 12.3966 - mae: 12.3966\n",
            "Epoch 46/100\n",
            "2/2 [==============================] - 0s 9ms/step - loss: 17.3002 - mae: 17.3002\n",
            "Epoch 47/100\n",
            "2/2 [==============================] - 0s 11ms/step - loss: 15.8383 - mae: 15.8383\n",
            "Epoch 48/100\n",
            "2/2 [==============================] - 0s 12ms/step - loss: 8.8089 - mae: 8.8089\n",
            "Epoch 49/100\n",
            "2/2 [==============================] - 0s 11ms/step - loss: 13.0238 - mae: 13.0238\n",
            "Epoch 50/100\n",
            "2/2 [==============================] - 0s 11ms/step - loss: 12.6173 - mae: 12.6173\n",
            "Epoch 51/100\n",
            "2/2 [==============================] - 0s 26ms/step - loss: 14.6808 - mae: 14.6808\n",
            "Epoch 52/100\n",
            "2/2 [==============================] - 0s 11ms/step - loss: 18.5989 - mae: 18.5989\n",
            "Epoch 53/100\n",
            "2/2 [==============================] - 0s 48ms/step - loss: 23.8888 - mae: 23.8888\n",
            "Epoch 54/100\n",
            "2/2 [==============================] - 0s 27ms/step - loss: 24.0732 - mae: 24.0732\n",
            "Epoch 55/100\n",
            "2/2 [==============================] - 0s 12ms/step - loss: 23.3071 - mae: 23.3071\n",
            "Epoch 56/100\n",
            "2/2 [==============================] - 0s 11ms/step - loss: 10.9307 - mae: 10.9307\n",
            "Epoch 57/100\n",
            "2/2 [==============================] - 0s 17ms/step - loss: 12.8002 - mae: 12.8002\n",
            "Epoch 58/100\n",
            "2/2 [==============================] - 0s 14ms/step - loss: 9.6335 - mae: 9.6335\n",
            "Epoch 59/100\n",
            "2/2 [==============================] - 0s 11ms/step - loss: 12.5617 - mae: 12.5617\n",
            "Epoch 60/100\n",
            "2/2 [==============================] - 0s 14ms/step - loss: 12.3606 - mae: 12.3606\n",
            "Epoch 61/100\n",
            "2/2 [==============================] - 0s 13ms/step - loss: 13.2564 - mae: 13.2564\n",
            "Epoch 62/100\n",
            "2/2 [==============================] - 0s 15ms/step - loss: 17.0808 - mae: 17.0808\n",
            "Epoch 63/100\n",
            "2/2 [==============================] - 0s 13ms/step - loss: 9.0679 - mae: 9.0679\n",
            "Epoch 64/100\n",
            "2/2 [==============================] - 0s 11ms/step - loss: 17.7205 - mae: 17.7205\n",
            "Epoch 65/100\n",
            "2/2 [==============================] - 0s 11ms/step - loss: 10.5390 - mae: 10.5390\n",
            "Epoch 66/100\n",
            "2/2 [==============================] - 0s 13ms/step - loss: 21.1912 - mae: 21.1912\n",
            "Epoch 67/100\n",
            "2/2 [==============================] - 0s 18ms/step - loss: 10.5305 - mae: 10.5305\n",
            "Epoch 68/100\n",
            "2/2 [==============================] - 0s 31ms/step - loss: 14.3557 - mae: 14.3557\n",
            "Epoch 69/100\n",
            "2/2 [==============================] - 0s 23ms/step - loss: 10.6143 - mae: 10.6143\n",
            "Epoch 70/100\n",
            "2/2 [==============================] - 0s 26ms/step - loss: 12.6958 - mae: 12.6958\n",
            "Epoch 71/100\n",
            "2/2 [==============================] - 0s 19ms/step - loss: 13.1201 - mae: 13.1201\n",
            "Epoch 72/100\n",
            "2/2 [==============================] - 0s 25ms/step - loss: 19.5784 - mae: 19.5784\n",
            "Epoch 73/100\n",
            "2/2 [==============================] - 0s 40ms/step - loss: 11.1929 - mae: 11.1929\n",
            "Epoch 74/100\n",
            "2/2 [==============================] - 0s 50ms/step - loss: 21.8339 - mae: 21.8339\n",
            "Epoch 75/100\n",
            "2/2 [==============================] - 0s 38ms/step - loss: 7.2148 - mae: 7.2148\n",
            "Epoch 76/100\n",
            "2/2 [==============================] - 0s 45ms/step - loss: 9.4354 - mae: 9.4354\n",
            "Epoch 77/100\n",
            "2/2 [==============================] - 0s 35ms/step - loss: 22.0889 - mae: 22.0889\n",
            "Epoch 78/100\n",
            "2/2 [==============================] - 0s 27ms/step - loss: 17.6259 - mae: 17.6259\n",
            "Epoch 79/100\n",
            "2/2 [==============================] - 0s 38ms/step - loss: 14.8181 - mae: 14.8181\n",
            "Epoch 80/100\n",
            "2/2 [==============================] - 0s 45ms/step - loss: 25.0815 - mae: 25.0815\n",
            "Epoch 81/100\n",
            "2/2 [==============================] - 0s 37ms/step - loss: 10.8923 - mae: 10.8923\n",
            "Epoch 82/100\n",
            "2/2 [==============================] - 0s 38ms/step - loss: 12.7778 - mae: 12.7778\n",
            "Epoch 83/100\n",
            "2/2 [==============================] - 0s 40ms/step - loss: 17.5622 - mae: 17.5622\n",
            "Epoch 84/100\n",
            "2/2 [==============================] - 0s 57ms/step - loss: 7.3025 - mae: 7.3025\n",
            "Epoch 85/100\n",
            "2/2 [==============================] - 0s 66ms/step - loss: 15.0774 - mae: 15.0774\n",
            "Epoch 86/100\n",
            "2/2 [==============================] - 0s 42ms/step - loss: 15.3783 - mae: 15.3783\n",
            "Epoch 87/100\n",
            "2/2 [==============================] - 0s 22ms/step - loss: 19.2895 - mae: 19.2895\n",
            "Epoch 88/100\n",
            "2/2 [==============================] - 0s 41ms/step - loss: 29.3547 - mae: 29.3547\n",
            "Epoch 89/100\n",
            "2/2 [==============================] - 0s 26ms/step - loss: 10.1198 - mae: 10.1198\n",
            "Epoch 90/100\n",
            "2/2 [==============================] - 0s 35ms/step - loss: 21.1305 - mae: 21.1305\n",
            "Epoch 91/100\n",
            "2/2 [==============================] - 0s 44ms/step - loss: 10.4895 - mae: 10.4895\n",
            "Epoch 92/100\n",
            "2/2 [==============================] - 0s 14ms/step - loss: 18.0375 - mae: 18.0375\n",
            "Epoch 93/100\n",
            "2/2 [==============================] - 0s 24ms/step - loss: 6.5601 - mae: 6.5601\n",
            "Epoch 94/100\n",
            "2/2 [==============================] - 0s 27ms/step - loss: 11.1427 - mae: 11.1427\n",
            "Epoch 95/100\n",
            "2/2 [==============================] - 0s 22ms/step - loss: 24.4248 - mae: 24.4248\n",
            "Epoch 96/100\n",
            "2/2 [==============================] - 0s 12ms/step - loss: 10.7480 - mae: 10.7480\n",
            "Epoch 97/100\n",
            "2/2 [==============================] - 0s 16ms/step - loss: 15.3921 - mae: 15.3921\n",
            "Epoch 98/100\n",
            "2/2 [==============================] - 0s 29ms/step - loss: 8.2565 - mae: 8.2565\n",
            "Epoch 99/100\n",
            "2/2 [==============================] - 0s 18ms/step - loss: 16.5587 - mae: 16.5587\n",
            "Epoch 100/100\n",
            "2/2 [==============================] - 0s 18ms/step - loss: 14.3295 - mae: 14.3295\n"
          ]
        },
        {
          "output_type": "execute_result",
          "data": {
            "text/plain": [
              "<keras.callbacks.History at 0x797b44284fd0>"
            ]
          },
          "metadata": {},
          "execution_count": 30
        }
      ]
    },
    {
      "cell_type": "markdown",
      "source": [
        "## Evaluating model"
      ],
      "metadata": {
        "id": "vypFhvji9YIP"
      }
    },
    {
      "cell_type": "code",
      "source": [
        "from tensorflow.keras.utils import plot_model"
      ],
      "metadata": {
        "id": "ciiDvD5w9avN"
      },
      "execution_count": 31,
      "outputs": []
    },
    {
      "cell_type": "code",
      "source": [
        "plot_model(model, show_shapes=True)"
      ],
      "metadata": {
        "colab": {
          "base_uri": "https://localhost:8080/",
          "height": 312
        },
        "id": "h-IbdAoa9oKd",
        "outputId": "7e286d72-4f71-4c3c-c96c-21b8fe814a09"
      },
      "execution_count": 32,
      "outputs": [
        {
          "output_type": "execute_result",
          "data": {
            "image/png": "[encoded data removed]",
            "text/plain": [
              "<IPython.core.display.Image object>"
            ]
          },
          "metadata": {},
          "execution_count": 32
        }
      ]
    },
    {
      "cell_type": "markdown",
      "source": [
        "### Visualizing our models predictions"
      ],
      "metadata": {
        "id": "vR7tHriN_Vk9"
      }
    },
    {
      "cell_type": "code",
      "source": [
        "# make some prediction\n",
        "y_pred = model.predict(x_test)\n",
        "y_pred"
      ],
      "metadata": {
        "colab": {
          "base_uri": "https://localhost:8080/"
        },
        "id": "K6a7CILa_a7-",
        "outputId": "7c01e8a8-b187-4d21-eaf1-f8edfd328753"
      },
      "execution_count": 33,
      "outputs": [
        {
          "output_type": "stream",
          "name": "stderr",
          "text": [
            "WARNING:tensorflow:5 out of the last 5 calls to <function Model.make_predict_function.<locals>.predict_function at 0x797b4415e320> triggered tf.function retracing. Tracing is expensive and the excessive number of tracings could be due to (1) creating @tf.function repeatedly in a loop, (2) passing tensors with different shapes, (3) passing Python objects instead of tensors. For (1), please define your @tf.function outside of the loop. For (2), @tf.function has reduce_retracing=True option that can avoid unnecessary retracing. For (3), please refer to https://www.tensorflow.org/guide/function#controlling_retracing and https://www.tensorflow.org/api_docs/python/tf/function for  more details.\n"
          ]
        },
        {
          "output_type": "stream",
          "name": "stdout",
          "text": [
            "1/1 [==============================] - 0s 183ms/step\n"
          ]
        },
        {
          "output_type": "execute_result",
          "data": {
            "text/plain": [
              "array([[ 76.464226],\n",
              "       [ 81.44649 ],\n",
              "       [ 86.42876 ],\n",
              "       [ 91.411026],\n",
              "       [ 96.39329 ],\n",
              "       [101.37556 ],\n",
              "       [106.35782 ],\n",
              "       [111.34007 ],\n",
              "       [116.32234 ],\n",
              "       [121.30461 ]], dtype=float32)"
            ]
          },
          "metadata": {},
          "execution_count": 33
        }
      ]
    },
    {
      "cell_type": "code",
      "source": [
        "y_test"
      ],
      "metadata": {
        "colab": {
          "base_uri": "https://localhost:8080/"
        },
        "id": "3O8pCc6AAD_M",
        "outputId": "45b2ca4c-2489-4643-a39c-ff81ea406999"
      },
      "execution_count": 34,
      "outputs": [
        {
          "output_type": "execute_result",
          "data": {
            "text/plain": [
              "<tf.Tensor: shape=(10,), dtype=int32, numpy=array([ 70,  74,  78,  82,  86,  90,  94,  98, 102, 106], dtype=int32)>"
            ]
          },
          "metadata": {},
          "execution_count": 34
        }
      ]
    },
    {
      "cell_type": "code",
      "source": [
        "# let's create a ploting function\n",
        "def plot_prediction(train_data=x_train, train_labels=y_train, test_data=x_test, test_labels=y_test, predictions=y_pred):\n",
        "  \"\"\"\n",
        "  Plots training data, test data and compares predictions to ground truth labels.\n",
        "  \"\"\"\n",
        "  plt.figure(figsize=(10, 7))\n",
        "  # plot training data in blue\n",
        "  plt.scatter(train_data, train_labels, c='b', label='Training data')\n",
        "  # plot testing data in green\n",
        "  plt.scatter(test_data, test_labels, c='g', label='Testing data')\n",
        "  # plot models prediction in red\n",
        "  plt.scatter(test_data, predictions, c='r', label='Predictions')\n",
        "  # show legend\n",
        "  plt.legend()"
      ],
      "metadata": {
        "id": "bQ_MS8h4API2"
      },
      "execution_count": 35,
      "outputs": []
    },
    {
      "cell_type": "code",
      "source": [
        "plot_prediction()"
      ],
      "metadata": {
        "colab": {
          "base_uri": "https://localhost:8080/",
          "height": 599
        },
        "id": "rrFbUy5LCMBl",
        "outputId": "de620dab-a26e-443d-bb70-ada7041cf5a7"
      },
      "execution_count": 36,
      "outputs": [
        {
          "output_type": "display_data",
          "data": {
            "text/plain": [
              "<Figure size 1000x700 with 1 Axes>"
            ],
            "image/png": "[encoded data removed]"
          },
          "metadata": {}
        }
      ]
    },
    {
      "cell_type": "markdown",
      "source": [
        "### Evaluating models predictions with regression evaluation metrics\n",
        "\n",
        "Depending on the problem we're working on, there will be different evaluation metrics to evaluate our model.\n",
        "\n",
        "Since we're working on a regression problem, there are two main metrics:\n",
        "\n",
        "*  MAE - mean absolute error, \"on average, how wrong is each of my model's prediction\"\n",
        "*  MSE - mean square error, \"square the average errors\""
      ],
      "metadata": {
        "id": "YYRE3jipSa1O"
      }
    },
    {
      "cell_type": "code",
      "source": [
        "# evaluate the model on the test set\n",
        "model.evaluate(x_test, y_test)"
      ],
      "metadata": {
        "colab": {
          "base_uri": "https://localhost:8080/"
        },
        "id": "fRaMJjkOVGVu",
        "outputId": "9124160b-4524-486f-c637-88ed0419f947"
      },
      "execution_count": 37,
      "outputs": [
        {
          "output_type": "stream",
          "name": "stdout",
          "text": [
            "1/1 [==============================] - 0s 248ms/step - loss: 10.8844 - mae: 10.8844\n"
          ]
        },
        {
          "output_type": "execute_result",
          "data": {
            "text/plain": [
              "[10.884415626525879, 10.884415626525879]"
            ]
          },
          "metadata": {},
          "execution_count": 37
        }
      ]
    },
    {
      "cell_type": "code",
      "source": [
        "# converting y_pred into tensor\n",
        "y_pred = tf.constant(y_pred)\n",
        "y_pred"
      ],
      "metadata": {
        "colab": {
          "base_uri": "https://localhost:8080/"
        },
        "id": "pThfOsQfXM-s",
        "outputId": "3bf529a7-5d36-4815-e9f3-89ee2832edd3"
      },
      "execution_count": 38,
      "outputs": [
        {
          "output_type": "execute_result",
          "data": {
            "text/plain": [
              "<tf.Tensor: shape=(10, 1), dtype=float32, numpy=\n",
              "array([[ 76.464226],\n",
              "       [ 81.44649 ],\n",
              "       [ 86.42876 ],\n",
              "       [ 91.411026],\n",
              "       [ 96.39329 ],\n",
              "       [101.37556 ],\n",
              "       [106.35782 ],\n",
              "       [111.34007 ],\n",
              "       [116.32234 ],\n",
              "       [121.30461 ]], dtype=float32)>"
            ]
          },
          "metadata": {},
          "execution_count": 38
        }
      ]
    },
    {
      "cell_type": "code",
      "source": [
        "y_test"
      ],
      "metadata": {
        "colab": {
          "base_uri": "https://localhost:8080/"
        },
        "id": "mBdKmmVCXYO1",
        "outputId": "748e71e2-d2bf-4648-9426-9ed44e6958fe"
      },
      "execution_count": 39,
      "outputs": [
        {
          "output_type": "execute_result",
          "data": {
            "text/plain": [
              "<tf.Tensor: shape=(10,), dtype=int32, numpy=array([ 70,  74,  78,  82,  86,  90,  94,  98, 102, 106], dtype=int32)>"
            ]
          },
          "metadata": {},
          "execution_count": 39
        }
      ]
    },
    {
      "cell_type": "code",
      "source": [
        "# as the shapes of y_test and y_pred is different we have to change the shape of y_pred into (10,)\n",
        "y_pred = tf.squeeze(y_pred)\n",
        "y_pred"
      ],
      "metadata": {
        "colab": {
          "base_uri": "https://localhost:8080/"
        },
        "id": "4M2IYvMQXhfD",
        "outputId": "9c919ab5-d84a-40a8-d60d-4ee64659ebfe"
      },
      "execution_count": 40,
      "outputs": [
        {
          "output_type": "execute_result",
          "data": {
            "text/plain": [
              "<tf.Tensor: shape=(10,), dtype=float32, numpy=\n",
              "array([ 76.464226,  81.44649 ,  86.42876 ,  91.411026,  96.39329 ,\n",
              "       101.37556 , 106.35782 , 111.34007 , 116.32234 , 121.30461 ],\n",
              "      dtype=float32)>"
            ]
          },
          "metadata": {},
          "execution_count": 40
        }
      ]
    },
    {
      "cell_type": "code",
      "source": [
        "y_pred.shape, y_test.shape"
      ],
      "metadata": {
        "colab": {
          "base_uri": "https://localhost:8080/"
        },
        "id": "kcdKCBwSYXPf",
        "outputId": "1362c914-5d5b-4780-e83d-5c7de3aa286c"
      },
      "execution_count": 41,
      "outputs": [
        {
          "output_type": "execute_result",
          "data": {
            "text/plain": [
              "(TensorShape([10]), TensorShape([10]))"
            ]
          },
          "metadata": {},
          "execution_count": 41
        }
      ]
    },
    {
      "cell_type": "code",
      "source": [
        "# calculate the mean absolute error\n",
        "mae = tf.losses.MAE(y_test, y_pred)\n",
        "mae"
      ],
      "metadata": {
        "colab": {
          "base_uri": "https://localhost:8080/"
        },
        "id": "li1AHfCeVUz1",
        "outputId": "85be24eb-0bbd-4858-dddd-3a1973914ed5"
      },
      "execution_count": 42,
      "outputs": [
        {
          "output_type": "execute_result",
          "data": {
            "text/plain": [
              "<tf.Tensor: shape=(), dtype=float32, numpy=10.8844185>"
            ]
          },
          "metadata": {},
          "execution_count": 42
        }
      ]
    },
    {
      "cell_type": "code",
      "source": [
        "# calcualte the mean squared error\n",
        "mse = tf.losses.MSE(y_test, y_pred)\n",
        "mse"
      ],
      "metadata": {
        "colab": {
          "base_uri": "https://localhost:8080/"
        },
        "id": "hc04Zkd_VvUD",
        "outputId": "2430a8f3-c16b-4654-8f97-148d68c7c533"
      },
      "execution_count": 43,
      "outputs": [
        {
          "output_type": "execute_result",
          "data": {
            "text/plain": [
              "<tf.Tensor: shape=(), dtype=float32, numpy=126.43053>"
            ]
          },
          "metadata": {},
          "execution_count": 43
        }
      ]
    },
    {
      "cell_type": "code",
      "source": [
        "# making a function to use MAE and MSE\n",
        "def mae(y_true, y_pred):\n",
        "  return tf.losses.MAE(y_true=y_test, y_pred=tf.squeeze(y_pred))\n",
        "\n",
        "def mse(y_true, y_pred):\n",
        "  return tf.losses.MSE(y_true=y_test, y_pred=tf.squeeze(y_pred))"
      ],
      "metadata": {
        "id": "xQXgUKO9ZGc7"
      },
      "execution_count": 78,
      "outputs": []
    },
    {
      "cell_type": "markdown",
      "source": [
        "## Running experiments to improve our model"
      ],
      "metadata": {
        "id": "cr2yvVBwY5AH"
      }
    },
    {
      "cell_type": "markdown",
      "source": [
        "### One layer with 100 epochs"
      ],
      "metadata": {
        "id": "S0ZQ1dFxZIEs"
      }
    },
    {
      "cell_type": "code",
      "source": [
        "# set random seed\n",
        "tf.random.set_seed(42)\n",
        "\n",
        "# creating a model\n",
        "model_1 = tf.keras.Sequential([\n",
        "    tf.keras.layers.Dense(1)\n",
        "])\n",
        "\n",
        "# compile the model\n",
        "model_1.compile(loss=tf.losses.mae,\n",
        "                optimizer=tf.optimizers.SGD(),\n",
        "                metrics=['mae'])\n",
        "\n",
        "# fit the model\n",
        "model_1.fit(x_train, y_train, epochs=100)"
      ],
      "metadata": {
        "colab": {
          "base_uri": "https://localhost:8080/"
        },
        "id": "vAAlZXMAY9eT",
        "outputId": "fbe2bd0d-080d-4518-a971-242d736137fd"
      },
      "execution_count": 45,
      "outputs": [
        {
          "output_type": "stream",
          "name": "stdout",
          "text": [
            "Epoch 1/100\n",
            "2/2 [==============================] - 0s 15ms/step - loss: 38.4885 - mae: 38.4885\n",
            "Epoch 2/100\n",
            "2/2 [==============================] - 0s 9ms/step - loss: 10.7785 - mae: 10.7785\n",
            "Epoch 3/100\n",
            "2/2 [==============================] - 0s 9ms/step - loss: 11.4230 - mae: 11.4230\n",
            "Epoch 4/100\n",
            "2/2 [==============================] - 0s 9ms/step - loss: 9.4958 - mae: 9.4958\n",
            "Epoch 5/100\n",
            "2/2 [==============================] - 0s 9ms/step - loss: 10.3929 - mae: 10.3929\n",
            "Epoch 6/100\n",
            "2/2 [==============================] - 0s 8ms/step - loss: 9.6296 - mae: 9.6296\n",
            "Epoch 7/100\n",
            "2/2 [==============================] - 0s 9ms/step - loss: 8.7380 - mae: 8.7380\n",
            "Epoch 8/100\n",
            "2/2 [==============================] - 0s 8ms/step - loss: 9.0655 - mae: 9.0655\n",
            "Epoch 9/100\n",
            "2/2 [==============================] - 0s 11ms/step - loss: 19.1572 - mae: 19.1572\n",
            "Epoch 10/100\n",
            "2/2 [==============================] - 0s 7ms/step - loss: 10.3452 - mae: 10.3452\n",
            "Epoch 11/100\n",
            "2/2 [==============================] - 0s 8ms/step - loss: 8.4925 - mae: 8.4925\n",
            "Epoch 12/100\n",
            "2/2 [==============================] - 0s 8ms/step - loss: 10.8502 - mae: 10.8502\n",
            "Epoch 13/100\n",
            "2/2 [==============================] - 0s 8ms/step - loss: 9.8981 - mae: 9.8981\n",
            "Epoch 14/100\n",
            "2/2 [==============================] - 0s 9ms/step - loss: 12.1108 - mae: 12.1108\n",
            "Epoch 15/100\n",
            "2/2 [==============================] - 0s 7ms/step - loss: 12.3791 - mae: 12.3791\n",
            "Epoch 16/100\n",
            "2/2 [==============================] - 0s 8ms/step - loss: 8.4335 - mae: 8.4335\n",
            "Epoch 17/100\n",
            "2/2 [==============================] - 0s 8ms/step - loss: 13.3848 - mae: 13.3848\n",
            "Epoch 18/100\n",
            "2/2 [==============================] - 0s 7ms/step - loss: 11.1493 - mae: 11.1493\n",
            "Epoch 19/100\n",
            "2/2 [==============================] - 0s 7ms/step - loss: 18.4030 - mae: 18.4030\n",
            "Epoch 20/100\n",
            "2/2 [==============================] - 0s 8ms/step - loss: 15.1047 - mae: 15.1047\n",
            "Epoch 21/100\n",
            "2/2 [==============================] - 0s 8ms/step - loss: 11.0689 - mae: 11.0689\n",
            "Epoch 22/100\n",
            "2/2 [==============================] - 0s 10ms/step - loss: 8.1997 - mae: 8.1997\n",
            "Epoch 23/100\n",
            "2/2 [==============================] - 0s 9ms/step - loss: 9.4901 - mae: 9.4901\n",
            "Epoch 24/100\n",
            "2/2 [==============================] - 0s 8ms/step - loss: 7.6763 - mae: 7.6763\n",
            "Epoch 25/100\n",
            "2/2 [==============================] - 0s 10ms/step - loss: 13.1217 - mae: 13.1217\n",
            "Epoch 26/100\n",
            "2/2 [==============================] - 0s 7ms/step - loss: 16.4755 - mae: 16.4755\n",
            "Epoch 27/100\n",
            "2/2 [==============================] - 0s 8ms/step - loss: 13.2121 - mae: 13.2121\n",
            "Epoch 28/100\n",
            "2/2 [==============================] - 0s 7ms/step - loss: 14.3140 - mae: 14.3140\n",
            "Epoch 29/100\n",
            "2/2 [==============================] - 0s 11ms/step - loss: 10.0871 - mae: 10.0871\n",
            "Epoch 30/100\n",
            "2/2 [==============================] - 0s 9ms/step - loss: 16.4243 - mae: 16.4243\n",
            "Epoch 31/100\n",
            "2/2 [==============================] - 0s 8ms/step - loss: 23.5726 - mae: 23.5726\n",
            "Epoch 32/100\n",
            "2/2 [==============================] - 0s 8ms/step - loss: 7.6156 - mae: 7.6156\n",
            "Epoch 33/100\n",
            "2/2 [==============================] - 0s 7ms/step - loss: 9.3121 - mae: 9.3121\n",
            "Epoch 34/100\n",
            "2/2 [==============================] - 0s 7ms/step - loss: 13.6819 - mae: 13.6819\n",
            "Epoch 35/100\n",
            "2/2 [==============================] - 0s 9ms/step - loss: 11.1646 - mae: 11.1646\n",
            "Epoch 36/100\n",
            "2/2 [==============================] - 0s 7ms/step - loss: 13.3886 - mae: 13.3886\n",
            "Epoch 37/100\n",
            "2/2 [==============================] - 0s 11ms/step - loss: 9.4576 - mae: 9.4576\n",
            "Epoch 38/100\n",
            "2/2 [==============================] - 0s 9ms/step - loss: 10.1092 - mae: 10.1092\n",
            "Epoch 39/100\n",
            "2/2 [==============================] - 0s 9ms/step - loss: 10.2166 - mae: 10.2166\n",
            "Epoch 40/100\n",
            "2/2 [==============================] - 0s 9ms/step - loss: 10.9618 - mae: 10.9618\n",
            "Epoch 41/100\n",
            "2/2 [==============================] - 0s 8ms/step - loss: 7.9378 - mae: 7.9378\n",
            "Epoch 42/100\n",
            "2/2 [==============================] - 0s 8ms/step - loss: 10.5871 - mae: 10.5871\n",
            "Epoch 43/100\n",
            "2/2 [==============================] - 0s 9ms/step - loss: 7.2179 - mae: 7.2179\n",
            "Epoch 44/100\n",
            "2/2 [==============================] - 0s 11ms/step - loss: 8.0017 - mae: 8.0017\n",
            "Epoch 45/100\n",
            "2/2 [==============================] - 0s 9ms/step - loss: 9.7943 - mae: 9.7943\n",
            "Epoch 46/100\n",
            "2/2 [==============================] - 0s 8ms/step - loss: 8.8697 - mae: 8.8697\n",
            "Epoch 47/100\n",
            "2/2 [==============================] - 0s 9ms/step - loss: 7.5812 - mae: 7.5812\n",
            "Epoch 48/100\n",
            "2/2 [==============================] - 0s 8ms/step - loss: 8.5858 - mae: 8.5858\n",
            "Epoch 49/100\n",
            "2/2 [==============================] - 0s 11ms/step - loss: 9.9989 - mae: 9.9989\n",
            "Epoch 50/100\n",
            "2/2 [==============================] - 0s 8ms/step - loss: 9.0381 - mae: 9.0381\n",
            "Epoch 51/100\n",
            "2/2 [==============================] - 0s 10ms/step - loss: 10.6675 - mae: 10.6675\n",
            "Epoch 52/100\n",
            "2/2 [==============================] - 0s 8ms/step - loss: 15.3086 - mae: 15.3086\n",
            "Epoch 53/100\n",
            "2/2 [==============================] - 0s 7ms/step - loss: 14.3274 - mae: 14.3274\n",
            "Epoch 54/100\n",
            "2/2 [==============================] - 0s 9ms/step - loss: 21.6287 - mae: 21.6287\n",
            "Epoch 55/100\n",
            "2/2 [==============================] - 0s 7ms/step - loss: 15.9840 - mae: 15.9840\n",
            "Epoch 56/100\n",
            "2/2 [==============================] - 0s 8ms/step - loss: 10.3016 - mae: 10.3016\n",
            "Epoch 57/100\n",
            "2/2 [==============================] - 0s 9ms/step - loss: 9.7690 - mae: 9.7690\n",
            "Epoch 58/100\n",
            "2/2 [==============================] - 0s 10ms/step - loss: 9.0557 - mae: 9.0557\n",
            "Epoch 59/100\n",
            "2/2 [==============================] - 0s 11ms/step - loss: 8.2595 - mae: 8.2595\n",
            "Epoch 60/100\n",
            "2/2 [==============================] - 0s 8ms/step - loss: 9.3582 - mae: 9.3582\n",
            "Epoch 61/100\n",
            "2/2 [==============================] - 0s 7ms/step - loss: 11.1637 - mae: 11.1637\n",
            "Epoch 62/100\n",
            "2/2 [==============================] - 0s 8ms/step - loss: 12.0908 - mae: 12.0908\n",
            "Epoch 63/100\n",
            "2/2 [==============================] - 0s 9ms/step - loss: 7.2748 - mae: 7.2748\n",
            "Epoch 64/100\n",
            "2/2 [==============================] - 0s 8ms/step - loss: 12.4281 - mae: 12.4281\n",
            "Epoch 65/100\n",
            "2/2 [==============================] - 0s 8ms/step - loss: 10.4995 - mae: 10.4995\n",
            "Epoch 66/100\n",
            "2/2 [==============================] - 0s 9ms/step - loss: 15.6232 - mae: 15.6232\n",
            "Epoch 67/100\n",
            "2/2 [==============================] - 0s 8ms/step - loss: 10.0235 - mae: 10.0235\n",
            "Epoch 68/100\n",
            "2/2 [==============================] - 0s 9ms/step - loss: 8.7306 - mae: 8.7306\n",
            "Epoch 69/100\n",
            "2/2 [==============================] - 0s 8ms/step - loss: 13.5007 - mae: 13.5007\n",
            "Epoch 70/100\n",
            "2/2 [==============================] - 0s 8ms/step - loss: 7.4755 - mae: 7.4755\n",
            "Epoch 71/100\n",
            "2/2 [==============================] - 0s 8ms/step - loss: 12.2264 - mae: 12.2264\n",
            "Epoch 72/100\n",
            "2/2 [==============================] - 0s 8ms/step - loss: 8.5433 - mae: 8.5433\n",
            "Epoch 73/100\n",
            "2/2 [==============================] - 0s 7ms/step - loss: 7.0463 - mae: 7.0463\n",
            "Epoch 74/100\n",
            "2/2 [==============================] - 0s 8ms/step - loss: 9.9439 - mae: 9.9439\n",
            "Epoch 75/100\n",
            "2/2 [==============================] - 0s 8ms/step - loss: 9.9386 - mae: 9.9386\n",
            "Epoch 76/100\n",
            "2/2 [==============================] - 0s 8ms/step - loss: 10.1063 - mae: 10.1063\n",
            "Epoch 77/100\n",
            "2/2 [==============================] - 0s 8ms/step - loss: 12.9492 - mae: 12.9492\n",
            "Epoch 78/100\n",
            "2/2 [==============================] - 0s 8ms/step - loss: 11.1581 - mae: 11.1581\n",
            "Epoch 79/100\n",
            "2/2 [==============================] - 0s 8ms/step - loss: 14.7141 - mae: 14.7141\n",
            "Epoch 80/100\n",
            "2/2 [==============================] - 0s 8ms/step - loss: 8.9274 - mae: 8.9274\n",
            "Epoch 81/100\n",
            "2/2 [==============================] - 0s 9ms/step - loss: 10.7680 - mae: 10.7680\n",
            "Epoch 82/100\n",
            "2/2 [==============================] - 0s 9ms/step - loss: 8.4011 - mae: 8.4011\n",
            "Epoch 83/100\n",
            "2/2 [==============================] - 0s 8ms/step - loss: 9.2255 - mae: 9.2255\n",
            "Epoch 84/100\n",
            "2/2 [==============================] - 0s 8ms/step - loss: 8.9466 - mae: 8.9466\n",
            "Epoch 85/100\n",
            "2/2 [==============================] - 0s 10ms/step - loss: 13.1918 - mae: 13.1918\n",
            "Epoch 86/100\n",
            "2/2 [==============================] - 0s 11ms/step - loss: 13.7147 - mae: 13.7147\n",
            "Epoch 87/100\n",
            "2/2 [==============================] - 0s 9ms/step - loss: 13.1993 - mae: 13.1993\n",
            "Epoch 88/100\n",
            "2/2 [==============================] - 0s 10ms/step - loss: 11.5262 - mae: 11.5262\n",
            "Epoch 89/100\n",
            "2/2 [==============================] - 0s 7ms/step - loss: 7.8119 - mae: 7.8119\n",
            "Epoch 90/100\n",
            "2/2 [==============================] - 0s 8ms/step - loss: 10.9410 - mae: 10.9410\n",
            "Epoch 91/100\n",
            "2/2 [==============================] - 0s 9ms/step - loss: 6.7557 - mae: 6.7557\n",
            "Epoch 92/100\n",
            "2/2 [==============================] - 0s 9ms/step - loss: 10.1337 - mae: 10.1337\n",
            "Epoch 93/100\n",
            "2/2 [==============================] - 0s 12ms/step - loss: 7.6105 - mae: 7.6105\n",
            "Epoch 94/100\n",
            "2/2 [==============================] - 0s 10ms/step - loss: 9.2428 - mae: 9.2428\n",
            "Epoch 95/100\n",
            "2/2 [==============================] - 0s 9ms/step - loss: 10.8295 - mae: 10.8295\n",
            "Epoch 96/100\n",
            "2/2 [==============================] - 0s 8ms/step - loss: 10.3059 - mae: 10.3059\n",
            "Epoch 97/100\n",
            "2/2 [==============================] - 0s 8ms/step - loss: 7.6812 - mae: 7.6812\n",
            "Epoch 98/100\n",
            "2/2 [==============================] - 0s 7ms/step - loss: 8.6173 - mae: 8.6173\n",
            "Epoch 99/100\n",
            "2/2 [==============================] - 0s 7ms/step - loss: 9.3955 - mae: 9.3955\n",
            "Epoch 100/100\n",
            "2/2 [==============================] - 0s 8ms/step - loss: 8.8425 - mae: 8.8425\n"
          ]
        },
        {
          "output_type": "execute_result",
          "data": {
            "text/plain": [
              "<keras.callbacks.History at 0x797b441ea9b0>"
            ]
          },
          "metadata": {},
          "execution_count": 45
        }
      ]
    },
    {
      "cell_type": "code",
      "source": [
        "# make and plot predictions of our model\n",
        "y_preds_1 = model_1.predict(x_test)\n",
        "plot_prediction(predictions=y_preds_1)"
      ],
      "metadata": {
        "colab": {
          "base_uri": "https://localhost:8080/",
          "height": 654
        },
        "id": "wx4zjlAFaKPV",
        "outputId": "31ed7ecc-88aa-41e7-e9be-ac0427ab08cd"
      },
      "execution_count": 46,
      "outputs": [
        {
          "output_type": "stream",
          "name": "stderr",
          "text": [
            "WARNING:tensorflow:6 out of the last 6 calls to <function Model.make_predict_function.<locals>.predict_function at 0x797b44154160> triggered tf.function retracing. Tracing is expensive and the excessive number of tracings could be due to (1) creating @tf.function repeatedly in a loop, (2) passing tensors with different shapes, (3) passing Python objects instead of tensors. For (1), please define your @tf.function outside of the loop. For (2), @tf.function has reduce_retracing=True option that can avoid unnecessary retracing. For (3), please refer to https://www.tensorflow.org/guide/function#controlling_retracing and https://www.tensorflow.org/api_docs/python/tf/function for  more details.\n"
          ]
        },
        {
          "output_type": "stream",
          "name": "stdout",
          "text": [
            "1/1 [==============================] - 0s 57ms/step\n"
          ]
        },
        {
          "output_type": "display_data",
          "data": {
            "text/plain": [
              "<Figure size 1000x700 with 1 Axes>"
            ],
            "image/png": "[encoded data removed]"
          },
          "metadata": {}
        }
      ]
    },
    {
      "cell_type": "code",
      "source": [
        "# calculate model_1 evaluatino metrics\n",
        "mae_1 = mae(y_test, y_preds_1)\n",
        "mse_1 = mse(y_test, y_preds_1)\n",
        "mae_1, mse_1"
      ],
      "metadata": {
        "colab": {
          "base_uri": "https://localhost:8080/"
        },
        "id": "HZa1xWWSasgc",
        "outputId": "9a7c176b-d42e-4af0-e041-c223bf9a080a"
      },
      "execution_count": 47,
      "outputs": [
        {
          "output_type": "execute_result",
          "data": {
            "text/plain": [
              "(<tf.Tensor: shape=(), dtype=float32, numpy=8.591092>,\n",
              " <tf.Tensor: shape=(), dtype=float32, numpy=80.298805>)"
            ]
          },
          "metadata": {},
          "execution_count": 47
        }
      ]
    },
    {
      "cell_type": "markdown",
      "source": [
        "### Two dense layers with 100 epochs"
      ],
      "metadata": {
        "id": "UQxrBMOjcbeQ"
      }
    },
    {
      "cell_type": "code",
      "source": [
        "# set the random seed\n",
        "tf.random.set_seed(42)\n",
        "\n",
        "# creating the model\n",
        "model_2 = tf.keras.Sequential([\n",
        "    tf.keras.layers.Dense(10),\n",
        "    tf.keras.layers.Dense(1)\n",
        "])\n",
        "\n",
        "# compile the model\n",
        "model_2.compile(loss=tf.losses.mae,\n",
        "                optimizer=tf.optimizers.SGD(),\n",
        "                metrics=['mse'])\n",
        "\n",
        "# fit the model\n",
        "model_2.fit(x_train, y_train, epochs=100)"
      ],
      "metadata": {
        "colab": {
          "base_uri": "https://localhost:8080/"
        },
        "id": "xV9Qq9Y-cgUT",
        "outputId": "4cf6f52f-d2b6-4d26-d636-660ae879b2cd"
      },
      "execution_count": 67,
      "outputs": [
        {
          "output_type": "stream",
          "name": "stdout",
          "text": [
            "Epoch 1/100\n",
            "2/2 [==============================] - 0s 12ms/step - loss: 13.5736 - mse: 348.2171\n",
            "Epoch 2/100\n",
            "2/2 [==============================] - 0s 9ms/step - loss: 21.9628 - mse: 777.5837\n",
            "Epoch 3/100\n",
            "2/2 [==============================] - 0s 9ms/step - loss: 19.7418 - mse: 575.2903\n",
            "Epoch 4/100\n",
            "2/2 [==============================] - 0s 11ms/step - loss: 14.2930 - mse: 271.7239\n",
            "Epoch 5/100\n",
            "2/2 [==============================] - 0s 9ms/step - loss: 20.0115 - mse: 546.7252\n",
            "Epoch 6/100\n",
            "2/2 [==============================] - 0s 9ms/step - loss: 8.1699 - mse: 91.6243\n",
            "Epoch 7/100\n",
            "2/2 [==============================] - 0s 9ms/step - loss: 17.1474 - mse: 376.2162\n",
            "Epoch 8/100\n",
            "2/2 [==============================] - 0s 8ms/step - loss: 17.1319 - mse: 437.5057\n",
            "Epoch 9/100\n",
            "2/2 [==============================] - 0s 8ms/step - loss: 30.1395 - mse: 1239.0159\n",
            "Epoch 10/100\n",
            "2/2 [==============================] - 0s 8ms/step - loss: 11.8878 - mse: 195.1168\n",
            "Epoch 11/100\n",
            "2/2 [==============================] - 0s 7ms/step - loss: 8.9470 - mse: 109.2024\n",
            "Epoch 12/100\n",
            "2/2 [==============================] - 0s 6ms/step - loss: 20.7710 - mse: 608.6004\n",
            "Epoch 13/100\n",
            "2/2 [==============================] - 0s 10ms/step - loss: 12.2824 - mse: 188.3689\n",
            "Epoch 14/100\n",
            "2/2 [==============================] - 0s 11ms/step - loss: 36.0332 - mse: 2151.0879\n",
            "Epoch 15/100\n",
            "2/2 [==============================] - 0s 7ms/step - loss: 23.5888 - mse: 796.6740\n",
            "Epoch 16/100\n",
            "2/2 [==============================] - 0s 9ms/step - loss: 10.1615 - mse: 123.7928\n",
            "Epoch 17/100\n",
            "2/2 [==============================] - 0s 7ms/step - loss: 18.9198 - mse: 480.7405\n",
            "Epoch 18/100\n",
            "2/2 [==============================] - 0s 8ms/step - loss: 11.9324 - mse: 223.1764\n",
            "Epoch 19/100\n",
            "2/2 [==============================] - 0s 8ms/step - loss: 16.8229 - mse: 453.6515\n",
            "Epoch 20/100\n",
            "2/2 [==============================] - 0s 7ms/step - loss: 7.8412 - mse: 83.0120\n",
            "Epoch 21/100\n",
            "2/2 [==============================] - 0s 10ms/step - loss: 15.4692 - mse: 328.0532\n",
            "Epoch 22/100\n",
            "2/2 [==============================] - 0s 7ms/step - loss: 13.6371 - mse: 267.0273\n",
            "Epoch 23/100\n",
            "2/2 [==============================] - 0s 9ms/step - loss: 13.1606 - mse: 267.6590\n",
            "Epoch 24/100\n",
            "2/2 [==============================] - 0s 7ms/step - loss: 14.2415 - mse: 281.6407\n",
            "Epoch 25/100\n",
            "2/2 [==============================] - 0s 11ms/step - loss: 17.7566 - mse: 474.8638\n",
            "Epoch 26/100\n",
            "2/2 [==============================] - 0s 9ms/step - loss: 24.4481 - mse: 839.9874\n",
            "Epoch 27/100\n",
            "2/2 [==============================] - 0s 11ms/step - loss: 17.6074 - mse: 465.8467\n",
            "Epoch 28/100\n",
            "2/2 [==============================] - 0s 11ms/step - loss: 16.1808 - mse: 410.5274\n",
            "Epoch 29/100\n",
            "2/2 [==============================] - 0s 8ms/step - loss: 9.2362 - mse: 99.0071\n",
            "Epoch 30/100\n",
            "2/2 [==============================] - 0s 9ms/step - loss: 28.8156 - mse: 1476.0349\n",
            "Epoch 31/100\n",
            "2/2 [==============================] - 0s 8ms/step - loss: 52.1606 - mse: 4860.3228\n",
            "Epoch 32/100\n",
            "2/2 [==============================] - 0s 9ms/step - loss: 11.4614 - mse: 191.9199\n",
            "Epoch 33/100\n",
            "2/2 [==============================] - 0s 10ms/step - loss: 12.2035 - mse: 183.6753\n",
            "Epoch 34/100\n",
            "2/2 [==============================] - 0s 8ms/step - loss: 24.0484 - mse: 876.8511\n",
            "Epoch 35/100\n",
            "2/2 [==============================] - 0s 9ms/step - loss: 12.0025 - mse: 208.5933\n",
            "Epoch 36/100\n",
            "2/2 [==============================] - 0s 9ms/step - loss: 22.3514 - mse: 709.3519\n",
            "Epoch 37/100\n",
            "2/2 [==============================] - 0s 9ms/step - loss: 17.1430 - mse: 416.6047\n",
            "Epoch 38/100\n",
            "2/2 [==============================] - 0s 9ms/step - loss: 10.5768 - mse: 127.3773\n",
            "Epoch 39/100\n",
            "2/2 [==============================] - 0s 12ms/step - loss: 11.0946 - mse: 156.2082\n",
            "Epoch 40/100\n",
            "2/2 [==============================] - 0s 10ms/step - loss: 17.7122 - mse: 455.0191\n",
            "Epoch 41/100\n",
            "2/2 [==============================] - 0s 8ms/step - loss: 10.2813 - mse: 184.4671\n",
            "Epoch 42/100\n",
            "2/2 [==============================] - 0s 8ms/step - loss: 7.2844 - mse: 76.9563\n",
            "Epoch 43/100\n",
            "2/2 [==============================] - 0s 8ms/step - loss: 18.4017 - mse: 504.1551\n",
            "Epoch 44/100\n",
            "2/2 [==============================] - 0s 8ms/step - loss: 21.9272 - mse: 748.6710\n",
            "Epoch 45/100\n",
            "2/2 [==============================] - 0s 8ms/step - loss: 10.0801 - mse: 127.7000\n",
            "Epoch 46/100\n",
            "2/2 [==============================] - 0s 8ms/step - loss: 11.3205 - mse: 157.4038\n",
            "Epoch 47/100\n",
            "2/2 [==============================] - 0s 8ms/step - loss: 9.8439 - mse: 152.8380\n",
            "Epoch 48/100\n",
            "2/2 [==============================] - 0s 7ms/step - loss: 17.6631 - mse: 424.3756\n",
            "Epoch 49/100\n",
            "2/2 [==============================] - 0s 8ms/step - loss: 9.2975 - mse: 95.1070\n",
            "Epoch 50/100\n",
            "2/2 [==============================] - 0s 9ms/step - loss: 13.3177 - mse: 233.0563\n",
            "Epoch 51/100\n",
            "2/2 [==============================] - 0s 9ms/step - loss: 11.4115 - mse: 147.9672\n",
            "Epoch 52/100\n",
            "2/2 [==============================] - 0s 9ms/step - loss: 29.2533 - mse: 1465.9688\n",
            "Epoch 53/100\n",
            "2/2 [==============================] - 0s 12ms/step - loss: 16.6653 - mse: 410.9449\n",
            "Epoch 54/100\n",
            "2/2 [==============================] - 0s 10ms/step - loss: 21.6211 - mse: 688.7011\n",
            "Epoch 55/100\n",
            "2/2 [==============================] - 0s 10ms/step - loss: 22.0545 - mse: 727.1688\n",
            "Epoch 56/100\n",
            "2/2 [==============================] - 0s 8ms/step - loss: 11.2008 - mse: 171.3647\n",
            "Epoch 57/100\n",
            "2/2 [==============================] - 0s 9ms/step - loss: 13.1648 - mse: 215.9622\n",
            "Epoch 58/100\n",
            "2/2 [==============================] - 0s 9ms/step - loss: 9.8413 - mse: 106.8624\n",
            "Epoch 59/100\n",
            "2/2 [==============================] - 0s 8ms/step - loss: 13.3503 - mse: 251.6037\n",
            "Epoch 60/100\n",
            "2/2 [==============================] - 0s 8ms/step - loss: 10.9018 - mse: 140.2412\n",
            "Epoch 61/100\n",
            "2/2 [==============================] - 0s 8ms/step - loss: 13.5090 - mse: 243.3827\n",
            "Epoch 62/100\n",
            "2/2 [==============================] - 0s 10ms/step - loss: 17.5533 - mse: 470.3018\n",
            "Epoch 63/100\n",
            "2/2 [==============================] - 0s 8ms/step - loss: 9.1806 - mse: 87.9113\n",
            "Epoch 64/100\n",
            "2/2 [==============================] - 0s 8ms/step - loss: 18.4217 - mse: 493.2444\n",
            "Epoch 65/100\n",
            "2/2 [==============================] - 0s 12ms/step - loss: 10.1356 - mse: 115.4110\n",
            "Epoch 66/100\n",
            "2/2 [==============================] - 0s 10ms/step - loss: 24.2886 - mse: 890.5994\n",
            "Epoch 67/100\n",
            "2/2 [==============================] - 0s 11ms/step - loss: 10.9092 - mse: 143.3642\n",
            "Epoch 68/100\n",
            "2/2 [==============================] - 0s 7ms/step - loss: 10.7878 - mse: 159.8562\n",
            "Epoch 69/100\n",
            "2/2 [==============================] - 0s 8ms/step - loss: 23.2685 - mse: 782.6959\n",
            "Epoch 70/100\n",
            "2/2 [==============================] - 0s 8ms/step - loss: 8.8182 - mse: 143.6864\n",
            "Epoch 71/100\n",
            "2/2 [==============================] - 0s 8ms/step - loss: 15.9813 - mse: 347.6696\n",
            "Epoch 72/100\n",
            "2/2 [==============================] - 0s 8ms/step - loss: 8.1500 - mse: 109.8914\n",
            "Epoch 73/100\n",
            "2/2 [==============================] - 0s 9ms/step - loss: 9.4689 - mse: 153.3508\n",
            "Epoch 74/100\n",
            "2/2 [==============================] - 0s 9ms/step - loss: 28.1558 - mse: 1110.4319\n",
            "Epoch 75/100\n",
            "2/2 [==============================] - 0s 9ms/step - loss: 10.2083 - mse: 145.7243\n",
            "Epoch 76/100\n",
            "2/2 [==============================] - 0s 9ms/step - loss: 13.1581 - mse: 218.9878\n",
            "Epoch 77/100\n",
            "2/2 [==============================] - 0s 8ms/step - loss: 18.3873 - mse: 530.1976\n",
            "Epoch 78/100\n",
            "2/2 [==============================] - 0s 10ms/step - loss: 9.0255 - mse: 91.5837\n",
            "Epoch 79/100\n",
            "2/2 [==============================] - 0s 10ms/step - loss: 23.4301 - mse: 821.1299\n",
            "Epoch 80/100\n",
            "2/2 [==============================] - 0s 9ms/step - loss: 26.0998 - mse: 1046.5635\n",
            "Epoch 81/100\n",
            "2/2 [==============================] - 0s 10ms/step - loss: 11.3934 - mse: 158.2714\n",
            "Epoch 82/100\n",
            "2/2 [==============================] - 0s 12ms/step - loss: 12.5025 - mse: 227.8351\n",
            "Epoch 83/100\n",
            "2/2 [==============================] - 0s 9ms/step - loss: 17.1944 - mse: 384.5725\n",
            "Epoch 84/100\n",
            "2/2 [==============================] - 0s 8ms/step - loss: 6.6069 - mse: 64.8073\n",
            "Epoch 85/100\n",
            "2/2 [==============================] - 0s 9ms/step - loss: 20.2756 - mse: 574.7882\n",
            "Epoch 86/100\n",
            "2/2 [==============================] - 0s 10ms/step - loss: 10.1739 - mse: 115.6897\n",
            "Epoch 87/100\n",
            "2/2 [==============================] - 0s 10ms/step - loss: 24.3122 - mse: 826.9341\n",
            "Epoch 88/100\n",
            "2/2 [==============================] - 0s 8ms/step - loss: 18.9780 - mse: 511.5882\n",
            "Epoch 89/100\n",
            "2/2 [==============================] - 0s 9ms/step - loss: 7.1730 - mse: 70.4347\n",
            "Epoch 90/100\n",
            "2/2 [==============================] - 0s 8ms/step - loss: 18.2722 - mse: 495.6541\n",
            "Epoch 91/100\n",
            "2/2 [==============================] - 0s 11ms/step - loss: 13.3255 - mse: 256.3795\n",
            "Epoch 92/100\n",
            "2/2 [==============================] - 0s 9ms/step - loss: 8.7332 - mse: 127.3326\n",
            "Epoch 93/100\n",
            "2/2 [==============================] - 0s 10ms/step - loss: 14.1863 - mse: 276.3879\n",
            "Epoch 94/100\n",
            "2/2 [==============================] - 0s 9ms/step - loss: 17.1867 - mse: 437.1627\n",
            "Epoch 95/100\n",
            "2/2 [==============================] - 0s 8ms/step - loss: 16.7653 - mse: 384.6521\n",
            "Epoch 96/100\n",
            "2/2 [==============================] - 0s 11ms/step - loss: 11.1286 - mse: 209.8949\n",
            "Epoch 97/100\n",
            "2/2 [==============================] - 0s 9ms/step - loss: 21.1833 - mse: 640.5131\n",
            "Epoch 98/100\n",
            "2/2 [==============================] - 0s 9ms/step - loss: 10.4974 - mse: 139.9067\n",
            "Epoch 99/100\n",
            "2/2 [==============================] - 0s 10ms/step - loss: 14.5860 - mse: 295.5370\n",
            "Epoch 100/100\n",
            "2/2 [==============================] - 0s 8ms/step - loss: 17.7525 - mse: 467.4454\n"
          ]
        },
        {
          "output_type": "execute_result",
          "data": {
            "text/plain": [
              "<keras.callbacks.History at 0x797b450253f0>"
            ]
          },
          "metadata": {},
          "execution_count": 67
        }
      ]
    },
    {
      "cell_type": "code",
      "source": [
        "# making predictino and ploting results\n",
        "y_preds_2 = model_2.predict(x_test)\n",
        "\n",
        "# ploting the predictions\n",
        "plot_prediction(predictions=y_preds_2)"
      ],
      "metadata": {
        "colab": {
          "base_uri": "https://localhost:8080/",
          "height": 616
        },
        "id": "bLtElMMmdSKM",
        "outputId": "86f2e8c5-b0d8-46fd-d29b-30a96e1c9e21"
      },
      "execution_count": 68,
      "outputs": [
        {
          "output_type": "stream",
          "name": "stdout",
          "text": [
            "1/1 [==============================] - 0s 59ms/step\n"
          ]
        },
        {
          "output_type": "display_data",
          "data": {
            "text/plain": [
              "<Figure size 1000x700 with 1 Axes>"
            ],
            "image/png": "[encoded data removed]"
          },
          "metadata": {}
        }
      ]
    },
    {
      "cell_type": "code",
      "source": [
        "# calculating the evaluation metrics\n",
        "mae_2 = mae(y_test, y_preds_2)\n",
        "mse_2 = mse(y_test, y_preds_2)\n",
        "mae_2, mse_2"
      ],
      "metadata": {
        "colab": {
          "base_uri": "https://localhost:8080/"
        },
        "id": "bN5MATNDdw1T",
        "outputId": "0af18cc5-98fd-41c0-c418-74ad8450d5ea"
      },
      "execution_count": 69,
      "outputs": [
        {
          "output_type": "execute_result",
          "data": {
            "text/plain": [
              "(<tf.Tensor: shape=(), dtype=float32, numpy=1.9949234>,\n",
              " <tf.Tensor: shape=(), dtype=float32, numpy=5.8892684>)"
            ]
          },
          "metadata": {},
          "execution_count": 69
        }
      ]
    },
    {
      "cell_type": "markdown",
      "source": [
        "### Two layers with 500 epochs"
      ],
      "metadata": {
        "id": "asIrsQ8GflrV"
      }
    },
    {
      "cell_type": "code",
      "source": [
        "# set the random seed\n",
        "tf.random.set_seed(42)\n",
        "\n",
        "# creating the model\n",
        "model_3 = tf.keras.Sequential([\n",
        "    tf.keras.layers.Dense(10),\n",
        "    tf.keras.layers.Dense(1)\n",
        "])\n",
        "\n",
        "# compile the model\n",
        "model_3.compile(loss=tf.losses.mae,\n",
        "                optimizer=tf.optimizers.SGD(),\n",
        "                metrics=['mse'])\n",
        "\n",
        "# fit the model\n",
        "model_3.fit(x_train, y_train, epochs=500, verbose=0)"
      ],
      "metadata": {
        "colab": {
          "base_uri": "https://localhost:8080/"
        },
        "id": "IeZfEKzkftm7",
        "outputId": "07c8f210-eb1e-4b6f-825a-e66776d556e1"
      },
      "execution_count": 51,
      "outputs": [
        {
          "output_type": "execute_result",
          "data": {
            "text/plain": [
              "<keras.callbacks.History at 0x797b456074c0>"
            ]
          },
          "metadata": {},
          "execution_count": 51
        }
      ]
    },
    {
      "cell_type": "code",
      "source": [
        "# making predictino and ploting results\n",
        "y_preds_3 = model_3.predict(x_test)\n",
        "\n",
        "# ploting the predictions\n",
        "plot_prediction(predictions=y_preds_3)"
      ],
      "metadata": {
        "colab": {
          "base_uri": "https://localhost:8080/",
          "height": 616
        },
        "id": "-e-WsU1af4Ij",
        "outputId": "1e6dff51-3a84-464d-b4ac-5397ec6a7e74"
      },
      "execution_count": 52,
      "outputs": [
        {
          "output_type": "stream",
          "name": "stdout",
          "text": [
            "1/1 [==============================] - 0s 98ms/step\n"
          ]
        },
        {
          "output_type": "display_data",
          "data": {
            "text/plain": [
              "<Figure size 1000x700 with 1 Axes>"
            ],
            "image/png": "[encoded data removed]"
          },
          "metadata": {}
        }
      ]
    },
    {
      "cell_type": "code",
      "source": [
        "mae_3 = mae(y_test, y_preds_3)\n",
        "mse_3 = mse(y_test, y_preds_3)\n",
        "mae_3, mse_3"
      ],
      "metadata": {
        "colab": {
          "base_uri": "https://localhost:8080/"
        },
        "id": "iKfhjsNMgLyt",
        "outputId": "be6d11d0-eb84-4ee4-a4bf-ebb1346f042a"
      },
      "execution_count": 53,
      "outputs": [
        {
          "output_type": "execute_result",
          "data": {
            "text/plain": [
              "(<tf.Tensor: shape=(), dtype=float32, numpy=68.718765>,\n",
              " <tf.Tensor: shape=(), dtype=float32, numpy=4808.757>)"
            ]
          },
          "metadata": {},
          "execution_count": 53
        }
      ]
    },
    {
      "cell_type": "markdown",
      "source": [
        "## Compareing the results of our experiments"
      ],
      "metadata": {
        "id": "Umw0A4AcieW5"
      }
    },
    {
      "cell_type": "code",
      "source": [
        "import pandas as pd\n",
        "\n",
        "model_results = [['model_1', mae_1.numpy(), mse_1.numpy()],\n",
        "                 ['model_2', mae_2.numpy(), mse_2.numpy()],\n",
        "                 ['model_3', mae_3.numpy(), mse_3.numpy()]]\n",
        "\n",
        "all_results = pd.DataFrame(model_results, columns=['model', 'mae', 'mse'])\n",
        "all_results"
      ],
      "metadata": {
        "colab": {
          "base_uri": "https://localhost:8080/",
          "height": 143
        },
        "id": "bux66MuhikDA",
        "outputId": "06cc12ad-0fe4-4bdb-bc2b-aab57943d7cc"
      },
      "execution_count": 72,
      "outputs": [
        {
          "output_type": "execute_result",
          "data": {
            "text/plain": [
              "     model        mae          mse\n",
              "0  model_1   8.591092    80.298805\n",
              "1  model_2   1.994923     5.889268\n",
              "2  model_3  68.718765  4808.756836"
            ],
            "text/html": [
              "\n",
              "\n",
              "  <div id=\"df-16efc8b2-0938-4d67-9b0f-6566cc6daf75\">\n",
              "    <div class=\"colab-df-container\">\n",
              "      <div>\n",
              "<style scoped>\n",
              "    .dataframe tbody tr th:only-of-type {\n",
              "        vertical-align: middle;\n",
              "    }\n",
              "\n",
              "    .dataframe tbody tr th {\n",
              "        vertical-align: top;\n",
              "    }\n",
              "\n",
              "    .dataframe thead th {\n",
              "        text-align: right;\n",
              "    }\n",
              "</style>\n",
              "<table border=\"1\" class=\"dataframe\">\n",
              "  <thead>\n",
              "    <tr style=\"text-align: right;\">\n",
              "      <th></th>\n",
              "      <th>model</th>\n",
              "      <th>mae</th>\n",
              "      <th>mse</th>\n",
              "    </tr>\n",
              "  </thead>\n",
              "  <tbody>\n",
              "    <tr>\n",
              "      <th>0</th>\n",
              "      <td>model_1</td>\n",
              "      <td>8.591092</td>\n",
              "      <td>80.298805</td>\n",
              "    </tr>\n",
              "    <tr>\n",
              "      <th>1</th>\n",
              "      <td>model_2</td>\n",
              "      <td>1.994923</td>\n",
              "      <td>5.889268</td>\n",
              "    </tr>\n",
              "    <tr>\n",
              "      <th>2</th>\n",
              "      <td>model_3</td>\n",
              "      <td>68.718765</td>\n",
              "      <td>4808.756836</td>\n",
              "    </tr>\n",
              "  </tbody>\n",
              "</table>\n",
              "</div>\n",
              "      <button class=\"colab-df-convert\" onclick=\"convertToInteractive('df-16efc8b2-0938-4d67-9b0f-6566cc6daf75')\"\n",
              "              title=\"Convert this dataframe to an interactive table.\"\n",
              "              style=\"display:none;\">\n",
              "\n",
              "  <svg xmlns=\"http://www.w3.org/2000/svg\" height=\"24px\"viewBox=\"0 0 24 24\"\n",
              "       width=\"24px\">\n",
              "    <path d=\"M0 0h24v24H0V0z\" fill=\"none\"/>\n",
              "    <path d=\"M18.56 5.44l.94 2.06.94-2.06 2.06-.94-2.06-.94-.94-2.06-.94 2.06-2.06.94zm-11 1L8.5 8.5l.94-2.06 2.06-.94-2.06-.94L8.5 2.5l-.94 2.06-2.06.94zm10 10l.94 2.06.94-2.06 2.06-.94-2.06-.94-.94-2.06-.94 2.06-2.06.94z\"/><path d=\"M17.41 7.96l-1.37-1.37c-.4-.4-.92-.59-1.43-.59-.52 0-1.04.2-1.43.59L10.3 9.45l-7.72 7.72c-.78.78-.78 2.05 0 2.83L4 21.41c.39.39.9.59 1.41.59.51 0 1.02-.2 1.41-.59l7.78-7.78 2.81-2.81c.8-.78.8-2.07 0-2.86zM5.41 20L4 18.59l7.72-7.72 1.47 1.35L5.41 20z\"/>\n",
              "  </svg>\n",
              "      </button>\n",
              "\n",
              "\n",
              "\n",
              "    <div id=\"df-9385172b-8405-4dc7-8115-d2545f32ede4\">\n",
              "      <button class=\"colab-df-quickchart\" onclick=\"quickchart('df-9385172b-8405-4dc7-8115-d2545f32ede4')\"\n",
              "              title=\"Suggest charts.\"\n",
              "              style=\"display:none;\">\n",
              "\n",
              "<svg xmlns=\"http://www.w3.org/2000/svg\" height=\"24px\"viewBox=\"0 0 24 24\"\n",
              "     width=\"24px\">\n",
              "    <g>\n",
              "        <path d=\"M19 3H5c-1.1 0-2 .9-2 2v14c0 1.1.9 2 2 2h14c1.1 0 2-.9 2-2V5c0-1.1-.9-2-2-2zM9 17H7v-7h2v7zm4 0h-2V7h2v10zm4 0h-2v-4h2v4z\"/>\n",
              "    </g>\n",
              "</svg>\n",
              "      </button>\n",
              "    </div>\n",
              "\n",
              "<style>\n",
              "  .colab-df-quickchart {\n",
              "    background-color: #E8F0FE;\n",
              "    border: none;\n",
              "    border-radius: 50%;\n",
              "    cursor: pointer;\n",
              "    display: none;\n",
              "    fill: #1967D2;\n",
              "    height: 32px;\n",
              "    padding: 0 0 0 0;\n",
              "    width: 32px;\n",
              "  }\n",
              "\n",
              "  .colab-df-quickchart:hover {\n",
              "    background-color: #E2EBFA;\n",
              "    box-shadow: 0px 1px 2px rgba(60, 64, 67, 0.3), 0px 1px 3px 1px rgba(60, 64, 67, 0.15);\n",
              "    fill: #174EA6;\n",
              "  }\n",
              "\n",
              "  [theme=dark] .colab-df-quickchart {\n",
              "    background-color: #3B4455;\n",
              "    fill: #D2E3FC;\n",
              "  }\n",
              "\n",
              "  [theme=dark] .colab-df-quickchart:hover {\n",
              "    background-color: #434B5C;\n",
              "    box-shadow: 0px 1px 3px 1px rgba(0, 0, 0, 0.15);\n",
              "    filter: drop-shadow(0px 1px 2px rgba(0, 0, 0, 0.3));\n",
              "    fill: #FFFFFF;\n",
              "  }\n",
              "</style>\n",
              "\n",
              "    <script>\n",
              "      async function quickchart(key) {\n",
              "        const containerElement = document.querySelector('#' + key);\n",
              "        const charts = await google.colab.kernel.invokeFunction(\n",
              "            'suggestCharts', [key], {});\n",
              "      }\n",
              "    </script>\n",
              "\n",
              "      <script>\n",
              "\n",
              "function displayQuickchartButton(domScope) {\n",
              "  let quickchartButtonEl =\n",
              "    domScope.querySelector('#df-9385172b-8405-4dc7-8115-d2545f32ede4 button.colab-df-quickchart');\n",
              "  quickchartButtonEl.style.display =\n",
              "    google.colab.kernel.accessAllowed ? 'block' : 'none';\n",
              "}\n",
              "\n",
              "        displayQuickchartButton(document);\n",
              "      </script>\n",
              "      <style>\n",
              "    .colab-df-container {\n",
              "      display:flex;\n",
              "      flex-wrap:wrap;\n",
              "      gap: 12px;\n",
              "    }\n",
              "\n",
              "    .colab-df-convert {\n",
              "      background-color: #E8F0FE;\n",
              "      border: none;\n",
              "      border-radius: 50%;\n",
              "      cursor: pointer;\n",
              "      display: none;\n",
              "      fill: #1967D2;\n",
              "      height: 32px;\n",
              "      padding: 0 0 0 0;\n",
              "      width: 32px;\n",
              "    }\n",
              "\n",
              "    .colab-df-convert:hover {\n",
              "      background-color: #E2EBFA;\n",
              "      box-shadow: 0px 1px 2px rgba(60, 64, 67, 0.3), 0px 1px 3px 1px rgba(60, 64, 67, 0.15);\n",
              "      fill: #174EA6;\n",
              "    }\n",
              "\n",
              "    [theme=dark] .colab-df-convert {\n",
              "      background-color: #3B4455;\n",
              "      fill: #D2E3FC;\n",
              "    }\n",
              "\n",
              "    [theme=dark] .colab-df-convert:hover {\n",
              "      background-color: #434B5C;\n",
              "      box-shadow: 0px 1px 3px 1px rgba(0, 0, 0, 0.15);\n",
              "      filter: drop-shadow(0px 1px 2px rgba(0, 0, 0, 0.3));\n",
              "      fill: #FFFFFF;\n",
              "    }\n",
              "  </style>\n",
              "\n",
              "      <script>\n",
              "        const buttonEl =\n",
              "          document.querySelector('#df-16efc8b2-0938-4d67-9b0f-6566cc6daf75 button.colab-df-convert');\n",
              "        buttonEl.style.display =\n",
              "          google.colab.kernel.accessAllowed ? 'block' : 'none';\n",
              "\n",
              "        async function convertToInteractive(key) {\n",
              "          const element = document.querySelector('#df-16efc8b2-0938-4d67-9b0f-6566cc6daf75');\n",
              "          const dataTable =\n",
              "            await google.colab.kernel.invokeFunction('convertToInteractive',\n",
              "                                                     [key], {});\n",
              "          if (!dataTable) return;\n",
              "\n",
              "          const docLinkHtml = 'Like what you see? Visit the ' +\n",
              "            '<a target=\"_blank\" href=https://colab.research.google.com/notebooks/data_table.ipynb>data table notebook</a>'\n",
              "            + ' to learn more about interactive tables.';\n",
              "          element.innerHTML = '';\n",
              "          dataTable['output_type'] = 'display_data';\n",
              "          await google.colab.output.renderOutput(dataTable, element);\n",
              "          const docLink = document.createElement('div');\n",
              "          docLink.innerHTML = docLinkHtml;\n",
              "          element.appendChild(docLink);\n",
              "        }\n",
              "      </script>\n",
              "    </div>\n",
              "  </div>\n"
            ]
          },
          "metadata": {},
          "execution_count": 72
        }
      ]
    },
    {
      "cell_type": "markdown",
      "source": [
        "**Tracking our experiments**\n",
        "\n",
        "One really good habit in machine learning modelling is to track the results of our experiments.\n",
        "Luckily, there are tools to help us!\n",
        "\n",
        "📖**Resource:** As we build more models, we will want to look into using:\n",
        "*   TensorBoard - A component of the tensorFlow library to help track modelling experiments (we'll see this one later).\n",
        "*   Weights & Biases - a tool for tracking all kinds of machine learning experiments (plugs straight into TensorBoard)."
      ],
      "metadata": {
        "id": "2IJY6ksBluf7"
      }
    },
    {
      "cell_type": "markdown",
      "source": [
        "## Saving trained model\n",
        "\n",
        "Saving our model allows up to use them outside of Google Colab (or wherever they were trained)\n",
        "\n",
        "There are two main format we can save our models:\n",
        "*   The SavedModel format.\n",
        "*   The HDF5 format.\n",
        "\n"
      ],
      "metadata": {
        "id": "uajx2lbx1DbG"
      }
    },
    {
      "cell_type": "code",
      "source": [
        "# saving model using the SavedModel format\n",
        "model_2.save('best_model_SaveModel_format')"
      ],
      "metadata": {
        "colab": {
          "base_uri": "https://localhost:8080/"
        },
        "id": "QfF-Bc1f1IMJ",
        "outputId": "1e28573f-4514-4dd9-c969-3823f3111742"
      },
      "execution_count": 74,
      "outputs": [
        {
          "output_type": "stream",
          "name": "stderr",
          "text": [
            "WARNING:absl:Found untraced functions such as _update_step_xla while saving (showing 1 of 1). These functions will not be directly callable after loading.\n"
          ]
        }
      ]
    },
    {
      "cell_type": "code",
      "source": [
        "# saving model using the HDF5 format\n",
        "model_2.save('best_model_HDF5_format.h5')"
      ],
      "metadata": {
        "id": "z63S6MZN29OJ"
      },
      "execution_count": 75,
      "outputs": []
    },
    {
      "cell_type": "markdown",
      "source": [
        "## loading in a saved model"
      ],
      "metadata": {
        "id": "g6CUsz5l3w_4"
      }
    },
    {
      "cell_type": "markdown",
      "source": [
        "### SavedModel format"
      ],
      "metadata": {
        "id": "rneLOUeA62nE"
      }
    },
    {
      "cell_type": "code",
      "source": [
        "# load in the SavedModel format model\n",
        "loaded_SavedModel_format = tf.keras.models.load_model('best_model_SaveModel_format')\n",
        "loaded_SavedModel_format.summary()"
      ],
      "metadata": {
        "colab": {
          "base_uri": "https://localhost:8080/"
        },
        "id": "-u1QO-ps4FxR",
        "outputId": "1d4be5b3-dd54-474d-ae77-aca0d435000e"
      },
      "execution_count": 76,
      "outputs": [
        {
          "output_type": "stream",
          "name": "stdout",
          "text": [
            "Model: \"sequential_13\"\n",
            "_________________________________________________________________\n",
            " Layer (type)                Output Shape              Param #   \n",
            "=================================================================\n",
            " dense_23 (Dense)            (None, 10)                20        \n",
            "                                                                 \n",
            " dense_24 (Dense)            (None, 1)                 11        \n",
            "                                                                 \n",
            "=================================================================\n",
            "Total params: 31\n",
            "Trainable params: 31\n",
            "Non-trainable params: 0\n",
            "_________________________________________________________________\n"
          ]
        }
      ]
    },
    {
      "cell_type": "code",
      "source": [
        "# compare model_2 predictions with SavedModel format model predictions\n",
        "model_2_preds = model_2.predict(x_test)\n",
        "loaded_SavedModel_format_preds = loaded_SavedModel_format.predict(x_test)\n",
        "\n",
        "# comparing the MAE score\n",
        "(mae(y_true=y_test, y_pred=model_2_preds) == mae(y_true=y_test, y_pred=loaded_SavedModel_format_preds)).numpy()"
      ],
      "metadata": {
        "colab": {
          "base_uri": "https://localhost:8080/"
        },
        "id": "bcBFOySQ5ZKh",
        "outputId": "0fb9bd4b-0a54-424c-e7fe-2fac7eb79118"
      },
      "execution_count": 81,
      "outputs": [
        {
          "output_type": "stream",
          "name": "stdout",
          "text": [
            "1/1 [==============================] - 0s 129ms/step\n",
            "1/1 [==============================] - 0s 49ms/step\n"
          ]
        },
        {
          "output_type": "execute_result",
          "data": {
            "text/plain": [
              "True"
            ]
          },
          "metadata": {},
          "execution_count": 81
        }
      ]
    },
    {
      "cell_type": "code",
      "source": [
        "model_2_preds == loaded_SavedModel_format_preds"
      ],
      "metadata": {
        "colab": {
          "base_uri": "https://localhost:8080/"
        },
        "id": "fCAO87MZ6mMA",
        "outputId": "6ef21ee8-703b-4d52-a290-34a9de810541"
      },
      "execution_count": 83,
      "outputs": [
        {
          "output_type": "execute_result",
          "data": {
            "text/plain": [
              "array([[ True],\n",
              "       [ True],\n",
              "       [ True],\n",
              "       [ True],\n",
              "       [ True],\n",
              "       [ True],\n",
              "       [ True],\n",
              "       [ True],\n",
              "       [ True],\n",
              "       [ True]])"
            ]
          },
          "metadata": {},
          "execution_count": 83
        }
      ]
    },
    {
      "cell_type": "markdown",
      "source": [
        "### HDF5 format"
      ],
      "metadata": {
        "id": "7TiexEzU6-Kh"
      }
    },
    {
      "cell_type": "code",
      "source": [
        "# load in the HDF5 format model\n",
        "loaded_HDF5_format = tf.keras.models.load_model('best_model_HDF5_format.h5')\n",
        "loaded_HDF5_format.summary()"
      ],
      "metadata": {
        "colab": {
          "base_uri": "https://localhost:8080/"
        },
        "id": "vKgzeEnL4nJ4",
        "outputId": "335b8b2d-57e9-467a-ca09-744113515419"
      },
      "execution_count": 85,
      "outputs": [
        {
          "output_type": "stream",
          "name": "stdout",
          "text": [
            "Model: \"sequential_13\"\n",
            "_________________________________________________________________\n",
            " Layer (type)                Output Shape              Param #   \n",
            "=================================================================\n",
            " dense_23 (Dense)            (None, 10)                20        \n",
            "                                                                 \n",
            " dense_24 (Dense)            (None, 1)                 11        \n",
            "                                                                 \n",
            "=================================================================\n",
            "Total params: 31\n",
            "Trainable params: 31\n",
            "Non-trainable params: 0\n",
            "_________________________________________________________________\n"
          ]
        }
      ]
    },
    {
      "cell_type": "code",
      "source": [
        "# compare model_2 predictions with HDF5 format model predictions\n",
        "model_2_preds = model_2.predict(x_test)\n",
        "loaded_HDF5_format_preds = loaded_HDF5_format.predict(x_test)\n",
        "\n",
        "# comparing the MAE score\n",
        "(mae(y_true=y_test, y_pred=model_2_preds) == mae(y_true=y_test, y_pred=loaded_HDF5_format_preds)).numpy()"
      ],
      "metadata": {
        "colab": {
          "base_uri": "https://localhost:8080/"
        },
        "id": "g9z6KMfR7ZYa",
        "outputId": "83c4f197-fd66-45e4-cb28-93ab3930acd5"
      },
      "execution_count": 86,
      "outputs": [
        {
          "output_type": "stream",
          "name": "stdout",
          "text": [
            "1/1 [==============================] - 0s 25ms/step\n",
            "1/1 [==============================] - 0s 57ms/step\n"
          ]
        },
        {
          "output_type": "execute_result",
          "data": {
            "text/plain": [
              "True"
            ]
          },
          "metadata": {},
          "execution_count": 86
        }
      ]
    },
    {
      "cell_type": "code",
      "source": [
        "\n",
        "model_2_preds == loaded_HDF5_format_preds"
      ],
      "metadata": {
        "colab": {
          "base_uri": "https://localhost:8080/"
        },
        "id": "x3U_7GTu8BmJ",
        "outputId": "02bc0b33-c8ee-44eb-a1ff-4fd5cbbbe163"
      },
      "execution_count": 87,
      "outputs": [
        {
          "output_type": "execute_result",
          "data": {
            "text/plain": [
              "array([[ True],\n",
              "       [ True],\n",
              "       [ True],\n",
              "       [ True],\n",
              "       [ True],\n",
              "       [ True],\n",
              "       [ True],\n",
              "       [ True],\n",
              "       [ True],\n",
              "       [ True]])"
            ]
          },
          "metadata": {},
          "execution_count": 87
        }
      ]
    }
  ]
}