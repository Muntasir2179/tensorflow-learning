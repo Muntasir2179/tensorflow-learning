{
  "nbformat": 4,
  "nbformat_minor": 0,
  "metadata": {
    "colab": {
      "provenance": [],
      "toc_visible": true,
      "authorship_tag": "ABX9TyMc8bJlrlwtoFv1fvJETN8y",
      "include_colab_link": true
    },
    "kernelspec": {
      "name": "python3",
      "display_name": "Python 3"
    },
    "language_info": {
      "name": "python"
    },
    "accelerator": "TPU"
  },
  "cells": [
    {
      "cell_type": "markdown",
      "metadata": {
        "id": "view-in-github",
        "colab_type": "text"
      },
      "source": [
        "<a href=\"https://colab.research.google.com/github/Muntasir2179/tensorflow-learning/blob/neural-network-regression/01_neural_network_regression_with_tensorflow.ipynb\" target=\"_parent\"><img src=\"https://colab.research.google.com/assets/colab-badge.svg\" alt=\"Open In Colab\"/></a>"
      ]
    },
    {
      "cell_type": "markdown",
      "source": [
        "## Introduction to Regression with Neural Networks in TensorFlow\n",
        "\n",
        "There are difinitions for a regression problem but in our case, we're going to simplify it: predicting a neumerical variable based on some other combination of variables, evem shorter...predicting a number."
      ],
      "metadata": {
        "id": "h7a0PkNKJryq"
      }
    },
    {
      "cell_type": "code",
      "execution_count": 1,
      "metadata": {
        "colab": {
          "base_uri": "https://localhost:8080/"
        },
        "id": "pV8ZUA1GJVU6",
        "outputId": "96a15a92-fdb1-4536-b8e9-9254f36cf90b"
      },
      "outputs": [
        {
          "output_type": "stream",
          "name": "stdout",
          "text": [
            "2.12.0\n"
          ]
        }
      ],
      "source": [
        "# Import TensorFLow\n",
        "import tensorflow as tf\n",
        "print(tf.__version__)"
      ]
    },
    {
      "cell_type": "markdown",
      "source": [
        "## Creating data to view and fit"
      ],
      "metadata": {
        "id": "CCsPlLOUKupp"
      }
    },
    {
      "cell_type": "code",
      "source": [
        "import numpy as np\n",
        "import matplotlib.pyplot as plt\n",
        "\n",
        "# create features\n",
        "X = np.array([-7.0, -4.0, -1.0, 2.0, 5.0, 8.0, 11.0, 14.0])\n",
        "\n",
        "# create labels\n",
        "y = np.array([3.0, 6.0, 9.0, 12.0, 15.0, 18.0, 21.0, 24.0])"
      ],
      "metadata": {
        "id": "qT-lBKLNK1va"
      },
      "execution_count": 2,
      "outputs": []
    },
    {
      "cell_type": "code",
      "source": [
        "plt.scatter(X, y)"
      ],
      "metadata": {
        "colab": {
          "base_uri": "https://localhost:8080/",
          "height": 452
        },
        "id": "R3WV9iARL1Wf",
        "outputId": "40557d2a-0a23-429b-f93e-58b73bd048fc"
      },
      "execution_count": 3,
      "outputs": [
        {
          "output_type": "execute_result",
          "data": {
            "text/plain": [
              "<matplotlib.collections.PathCollection at 0x7e2dbb73c460>"
            ]
          },
          "metadata": {},
          "execution_count": 3
        },
        {
          "output_type": "display_data",
          "data": {
            "text/plain": [
              "<Figure size 640x480 with 1 Axes>"
            ],
            "image/png": "[encoded data removed]"
          },
          "metadata": {}
        }
      ]
    },
    {
      "cell_type": "code",
      "source": [
        "y == X + 10"
      ],
      "metadata": {
        "colab": {
          "base_uri": "https://localhost:8080/"
        },
        "id": "l65zPDBlMNWp",
        "outputId": "3c4a21e9-71ba-4a18-c32e-610ed34bf8c2"
      },
      "execution_count": 4,
      "outputs": [
        {
          "output_type": "execute_result",
          "data": {
            "text/plain": [
              "array([ True,  True,  True,  True,  True,  True,  True,  True])"
            ]
          },
          "metadata": {},
          "execution_count": 4
        }
      ]
    },
    {
      "cell_type": "markdown",
      "source": [
        "## Input and Output shapes"
      ],
      "metadata": {
        "id": "MPtbLXzSMSEU"
      }
    },
    {
      "cell_type": "code",
      "source": [
        "# let's create a demo tensor for our housing price prediction problem\n",
        "house_info = tf.constant(['bedroom', 'bathroom', 'garage'])\n",
        "house_price = tf.constant([939700])\n",
        "house_info, house_price"
      ],
      "metadata": {
        "colab": {
          "base_uri": "https://localhost:8080/"
        },
        "id": "NuKAFxExMasI",
        "outputId": "7536a8a0-9e61-4f35-f4ef-288bdbf14b63"
      },
      "execution_count": 5,
      "outputs": [
        {
          "output_type": "execute_result",
          "data": {
            "text/plain": [
              "(<tf.Tensor: shape=(3,), dtype=string, numpy=array([b'bedroom', b'bathroom', b'garage'], dtype=object)>,\n",
              " <tf.Tensor: shape=(1,), dtype=int32, numpy=array([939700], dtype=int32)>)"
            ]
          },
          "metadata": {},
          "execution_count": 5
        }
      ]
    },
    {
      "cell_type": "code",
      "source": [
        "input_shape = X[0].shape\n",
        "output_shape = y[0].shape\n",
        "input_shape, output_shape"
      ],
      "metadata": {
        "colab": {
          "base_uri": "https://localhost:8080/"
        },
        "id": "oKW8OkUGODj5",
        "outputId": "b4d29c06-75ac-4cac-8809-af3d02475c34"
      },
      "execution_count": 6,
      "outputs": [
        {
          "output_type": "execute_result",
          "data": {
            "text/plain": [
              "((), ())"
            ]
          },
          "metadata": {},
          "execution_count": 6
        }
      ]
    },
    {
      "cell_type": "code",
      "source": [
        "X = np.reshape(X, (-1, 1))\n",
        "X"
      ],
      "metadata": {
        "colab": {
          "base_uri": "https://localhost:8080/"
        },
        "id": "aLXB2NLRugPK",
        "outputId": "61f48271-226e-48d0-de1f-a1dbec15979b"
      },
      "execution_count": 7,
      "outputs": [
        {
          "output_type": "execute_result",
          "data": {
            "text/plain": [
              "array([[-7.],\n",
              "       [-4.],\n",
              "       [-1.],\n",
              "       [ 2.],\n",
              "       [ 5.],\n",
              "       [ 8.],\n",
              "       [11.],\n",
              "       [14.]])"
            ]
          },
          "metadata": {},
          "execution_count": 7
        }
      ]
    },
    {
      "cell_type": "code",
      "source": [
        "# turn our NumPy array into tensor\n",
        "X = tf.constant(X)\n",
        "y = tf.constant(y)\n",
        "X, y"
      ],
      "metadata": {
        "colab": {
          "base_uri": "https://localhost:8080/"
        },
        "id": "Evael_plOTFP",
        "outputId": "cf476c42-ca6a-4280-b543-5a5ddfd5458c"
      },
      "execution_count": 8,
      "outputs": [
        {
          "output_type": "execute_result",
          "data": {
            "text/plain": [
              "(<tf.Tensor: shape=(8, 1), dtype=float64, numpy=\n",
              " array([[-7.],\n",
              "        [-4.],\n",
              "        [-1.],\n",
              "        [ 2.],\n",
              "        [ 5.],\n",
              "        [ 8.],\n",
              "        [11.],\n",
              "        [14.]])>,\n",
              " <tf.Tensor: shape=(8,), dtype=float64, numpy=array([ 3.,  6.,  9., 12., 15., 18., 21., 24.])>)"
            ]
          },
          "metadata": {},
          "execution_count": 8
        }
      ]
    },
    {
      "cell_type": "markdown",
      "source": [
        "## Steps in modelling with TensorFlow\n",
        "\n",
        "1. Creting a model - define the input and output layers, as well as the hidden layers of a deep learning model.\n",
        "2. Compiling a model - define the loss function (in other words, the function which tells our model how wrong it is) and the optimizer (tells our model how to improve the patterns its learning) and evaluation matrics (what we can use to interpret the performance of our model).\n",
        "3. Fitting a model - letting the model try to find patterns between X & y (features and labels)."
      ],
      "metadata": {
        "id": "cQY0Dqt9Oz_n"
      }
    },
    {
      "cell_type": "code",
      "source": [
        "tf.random.set_seed(42)"
      ],
      "metadata": {
        "id": "Bu7aA2UuP4gv"
      },
      "execution_count": 9,
      "outputs": []
    },
    {
      "cell_type": "code",
      "source": [
        "# create a model using the Sequential API\n",
        "model = tf.keras.Sequential([\n",
        "    tf.keras.layers.Dense(1),\n",
        "])\n",
        "\n",
        "# compile the model\n",
        "model.compile(loss=tf.keras.losses.mae,\n",
        "              optimizer=tf.keras.optimizers.SGD(),\n",
        "              metrics=['mae'])\n",
        "\n",
        "# fit the model\n",
        "model.fit(X, y, epochs=5)"
      ],
      "metadata": {
        "colab": {
          "base_uri": "https://localhost:8080/"
        },
        "id": "w80oQ9R8TZTm",
        "outputId": "57a4bb1b-4983-4c69-9502-c5b1169df9f7"
      },
      "execution_count": 10,
      "outputs": [
        {
          "output_type": "stream",
          "name": "stdout",
          "text": [
            "Epoch 1/5\n",
            "1/1 [==============================] - 1s 627ms/step - loss: 9.0166 - mae: 9.0166\n",
            "Epoch 2/5\n",
            "1/1 [==============================] - 0s 10ms/step - loss: 8.8841 - mae: 8.8841\n",
            "Epoch 3/5\n",
            "1/1 [==============================] - 0s 17ms/step - loss: 8.7516 - mae: 8.7516\n",
            "Epoch 4/5\n",
            "1/1 [==============================] - 0s 11ms/step - loss: 8.6191 - mae: 8.6191\n",
            "Epoch 5/5\n",
            "1/1 [==============================] - 0s 12ms/step - loss: 8.4866 - mae: 8.4866\n"
          ]
        },
        {
          "output_type": "execute_result",
          "data": {
            "text/plain": [
              "<keras.callbacks.History at 0x7e2d3513b340>"
            ]
          },
          "metadata": {},
          "execution_count": 10
        }
      ]
    },
    {
      "cell_type": "markdown",
      "source": [
        "## Getting prediction form the model"
      ],
      "metadata": {
        "id": "6n3WCfFhxBCF"
      }
    },
    {
      "cell_type": "code",
      "source": [
        "model.predict([17.0])"
      ],
      "metadata": {
        "colab": {
          "base_uri": "https://localhost:8080/"
        },
        "id": "NFc3BWTAxD6h",
        "outputId": "9f352dab-65b4-435f-8b09-2a80c212a3d7"
      },
      "execution_count": 11,
      "outputs": [
        {
          "output_type": "stream",
          "name": "stdout",
          "text": [
            "1/1 [==============================] - 0s 100ms/step\n"
          ]
        },
        {
          "output_type": "execute_result",
          "data": {
            "text/plain": [
              "array([[24.801546]], dtype=float32)"
            ]
          },
          "metadata": {},
          "execution_count": 11
        }
      ]
    },
    {
      "cell_type": "markdown",
      "source": [
        "## Improving the model\n",
        "\n",
        "We can improve our model, by altering the steps we took to create a model.\n",
        "\n",
        "1. **Creating a model** - Here we might add more layers, increases the number of hidden units (all called neurons) within each of the hidden layers, change the activation function of each layer.\n",
        "2. **Compiling model** - Here we might change the optimization function or perhaps the learning rate of the optimization function.\n",
        "3. **Fitting the model** - Here we might fit a model for more epochs (leave ot training for longer) or on more data (give the model more examples to learn from)."
      ],
      "metadata": {
        "id": "qQ9xswcEzluR"
      }
    },
    {
      "cell_type": "markdown",
      "source": [
        "### Increasing number of epochs"
      ],
      "metadata": {
        "id": "yiFieMWO5d9x"
      }
    },
    {
      "cell_type": "code",
      "source": [
        "# lets recreate the model\n",
        "# Increasing the number of epochs\n",
        "model = tf.keras.Sequential([\n",
        "    tf.keras.layers.Dense(1),\n",
        "])\n",
        "\n",
        "# compile the model\n",
        "model.compile(loss=tf.keras.losses.mae,\n",
        "              optimizer=tf.keras.optimizers.SGD(),\n",
        "              metrics=['mae'])\n",
        "\n",
        "# fit the model\n",
        "model.fit(X, y, epochs=100)"
      ],
      "metadata": {
        "colab": {
          "base_uri": "https://localhost:8080/"
        },
        "id": "62_EcQzRzlQz",
        "outputId": "7b182801-0ae9-44d5-a7be-f98cea4ae3c7"
      },
      "execution_count": 12,
      "outputs": [
        {
          "output_type": "stream",
          "name": "stdout",
          "text": [
            "Epoch 1/100\n",
            "1/1 [==============================] - 0s 348ms/step - loss: 15.1179 - mae: 15.1179\n",
            "Epoch 2/100\n",
            "1/1 [==============================] - 0s 11ms/step - loss: 14.8873 - mae: 14.8873\n",
            "Epoch 3/100\n",
            "1/1 [==============================] - 0s 12ms/step - loss: 14.7548 - mae: 14.7548\n",
            "Epoch 4/100\n",
            "1/1 [==============================] - 0s 13ms/step - loss: 14.6223 - mae: 14.6223\n",
            "Epoch 5/100\n",
            "1/1 [==============================] - 0s 14ms/step - loss: 14.4898 - mae: 14.4898\n",
            "Epoch 6/100\n",
            "1/1 [==============================] - 0s 15ms/step - loss: 14.3573 - mae: 14.3573\n",
            "Epoch 7/100\n",
            "1/1 [==============================] - 0s 11ms/step - loss: 14.2248 - mae: 14.2248\n",
            "Epoch 8/100\n",
            "1/1 [==============================] - 0s 12ms/step - loss: 14.0923 - mae: 14.0923\n",
            "Epoch 9/100\n",
            "1/1 [==============================] - 0s 10ms/step - loss: 13.9598 - mae: 13.9598\n",
            "Epoch 10/100\n",
            "1/1 [==============================] - 0s 11ms/step - loss: 13.8273 - mae: 13.8273\n",
            "Epoch 11/100\n",
            "1/1 [==============================] - 0s 11ms/step - loss: 13.6948 - mae: 13.6948\n",
            "Epoch 12/100\n",
            "1/1 [==============================] - 0s 10ms/step - loss: 13.5623 - mae: 13.5623\n",
            "Epoch 13/100\n",
            "1/1 [==============================] - 0s 10ms/step - loss: 13.4298 - mae: 13.4298\n",
            "Epoch 14/100\n",
            "1/1 [==============================] - 0s 10ms/step - loss: 13.2973 - mae: 13.2973\n",
            "Epoch 15/100\n",
            "1/1 [==============================] - 0s 11ms/step - loss: 13.1648 - mae: 13.1648\n",
            "Epoch 16/100\n",
            "1/1 [==============================] - 0s 10ms/step - loss: 13.0323 - mae: 13.0323\n",
            "Epoch 17/100\n",
            "1/1 [==============================] - 0s 11ms/step - loss: 12.8998 - mae: 12.8998\n",
            "Epoch 18/100\n",
            "1/1 [==============================] - 0s 14ms/step - loss: 12.7673 - mae: 12.7673\n",
            "Epoch 19/100\n",
            "1/1 [==============================] - 0s 10ms/step - loss: 12.6348 - mae: 12.6348\n",
            "Epoch 20/100\n",
            "1/1 [==============================] - 0s 11ms/step - loss: 12.5023 - mae: 12.5023\n",
            "Epoch 21/100\n",
            "1/1 [==============================] - 0s 13ms/step - loss: 12.3698 - mae: 12.3698\n",
            "Epoch 22/100\n",
            "1/1 [==============================] - 0s 10ms/step - loss: 12.2373 - mae: 12.2373\n",
            "Epoch 23/100\n",
            "1/1 [==============================] - 0s 9ms/step - loss: 12.1048 - mae: 12.1048\n",
            "Epoch 24/100\n",
            "1/1 [==============================] - 0s 10ms/step - loss: 11.9723 - mae: 11.9723\n",
            "Epoch 25/100\n",
            "1/1 [==============================] - 0s 12ms/step - loss: 11.8398 - mae: 11.8398\n",
            "Epoch 26/100\n",
            "1/1 [==============================] - 0s 11ms/step - loss: 11.7073 - mae: 11.7073\n",
            "Epoch 27/100\n",
            "1/1 [==============================] - 0s 10ms/step - loss: 11.5748 - mae: 11.5748\n",
            "Epoch 28/100\n",
            "1/1 [==============================] - 0s 10ms/step - loss: 11.4423 - mae: 11.4423\n",
            "Epoch 29/100\n",
            "1/1 [==============================] - 0s 10ms/step - loss: 11.3098 - mae: 11.3098\n",
            "Epoch 30/100\n",
            "1/1 [==============================] - 0s 10ms/step - loss: 11.1773 - mae: 11.1773\n",
            "Epoch 31/100\n",
            "1/1 [==============================] - 0s 13ms/step - loss: 11.0448 - mae: 11.0448\n",
            "Epoch 32/100\n",
            "1/1 [==============================] - 0s 9ms/step - loss: 10.9123 - mae: 10.9123\n",
            "Epoch 33/100\n",
            "1/1 [==============================] - 0s 10ms/step - loss: 10.7798 - mae: 10.7798\n",
            "Epoch 34/100\n",
            "1/1 [==============================] - 0s 11ms/step - loss: 10.6473 - mae: 10.6473\n",
            "Epoch 35/100\n",
            "1/1 [==============================] - 0s 13ms/step - loss: 10.5148 - mae: 10.5148\n",
            "Epoch 36/100\n",
            "1/1 [==============================] - 0s 10ms/step - loss: 10.3823 - mae: 10.3823\n",
            "Epoch 37/100\n",
            "1/1 [==============================] - 0s 13ms/step - loss: 10.2498 - mae: 10.2498\n",
            "Epoch 38/100\n",
            "1/1 [==============================] - 0s 15ms/step - loss: 10.1173 - mae: 10.1173\n",
            "Epoch 39/100\n",
            "1/1 [==============================] - 0s 10ms/step - loss: 9.9848 - mae: 9.9848\n",
            "Epoch 40/100\n",
            "1/1 [==============================] - 0s 12ms/step - loss: 9.8523 - mae: 9.8523\n",
            "Epoch 41/100\n",
            "1/1 [==============================] - 0s 11ms/step - loss: 9.7198 - mae: 9.7198\n",
            "Epoch 42/100\n",
            "1/1 [==============================] - 0s 12ms/step - loss: 9.5873 - mae: 9.5873\n",
            "Epoch 43/100\n",
            "1/1 [==============================] - 0s 11ms/step - loss: 9.4548 - mae: 9.4548\n",
            "Epoch 44/100\n",
            "1/1 [==============================] - 0s 12ms/step - loss: 9.3223 - mae: 9.3223\n",
            "Epoch 45/100\n",
            "1/1 [==============================] - 0s 12ms/step - loss: 9.1898 - mae: 9.1898\n",
            "Epoch 46/100\n",
            "1/1 [==============================] - 0s 11ms/step - loss: 9.0573 - mae: 9.0573\n",
            "Epoch 47/100\n",
            "1/1 [==============================] - 0s 13ms/step - loss: 8.9248 - mae: 8.9248\n",
            "Epoch 48/100\n",
            "1/1 [==============================] - 0s 11ms/step - loss: 8.7923 - mae: 8.7923\n",
            "Epoch 49/100\n",
            "1/1 [==============================] - 0s 10ms/step - loss: 8.6598 - mae: 8.6598\n",
            "Epoch 50/100\n",
            "1/1 [==============================] - 0s 10ms/step - loss: 8.5273 - mae: 8.5273\n",
            "Epoch 51/100\n",
            "1/1 [==============================] - 0s 11ms/step - loss: 8.3948 - mae: 8.3948\n",
            "Epoch 52/100\n",
            "1/1 [==============================] - 0s 10ms/step - loss: 8.2623 - mae: 8.2623\n",
            "Epoch 53/100\n",
            "1/1 [==============================] - 0s 10ms/step - loss: 8.1298 - mae: 8.1298\n",
            "Epoch 54/100\n",
            "1/1 [==============================] - 0s 11ms/step - loss: 7.9973 - mae: 7.9973\n",
            "Epoch 55/100\n",
            "1/1 [==============================] - 0s 10ms/step - loss: 7.8648 - mae: 7.8648\n",
            "Epoch 56/100\n",
            "1/1 [==============================] - 0s 10ms/step - loss: 7.7323 - mae: 7.7323\n",
            "Epoch 57/100\n",
            "1/1 [==============================] - 0s 10ms/step - loss: 7.5998 - mae: 7.5998\n",
            "Epoch 58/100\n",
            "1/1 [==============================] - 0s 10ms/step - loss: 7.4674 - mae: 7.4674\n",
            "Epoch 59/100\n",
            "1/1 [==============================] - 0s 11ms/step - loss: 7.3348 - mae: 7.3348\n",
            "Epoch 60/100\n",
            "1/1 [==============================] - 0s 10ms/step - loss: 7.2024 - mae: 7.2024\n",
            "Epoch 61/100\n",
            "1/1 [==============================] - 0s 11ms/step - loss: 7.0698 - mae: 7.0698\n",
            "Epoch 62/100\n",
            "1/1 [==============================] - 0s 11ms/step - loss: 7.0444 - mae: 7.0444\n",
            "Epoch 63/100\n",
            "1/1 [==============================] - 0s 10ms/step - loss: 7.0387 - mae: 7.0387\n",
            "Epoch 64/100\n",
            "1/1 [==============================] - 0s 11ms/step - loss: 7.0331 - mae: 7.0331\n",
            "Epoch 65/100\n",
            "1/1 [==============================] - 0s 11ms/step - loss: 7.0275 - mae: 7.0275\n",
            "Epoch 66/100\n",
            "1/1 [==============================] - 0s 11ms/step - loss: 7.0219 - mae: 7.0219\n",
            "Epoch 67/100\n",
            "1/1 [==============================] - 0s 12ms/step - loss: 7.0163 - mae: 7.0163\n",
            "Epoch 68/100\n",
            "1/1 [==============================] - 0s 12ms/step - loss: 7.0106 - mae: 7.0106\n",
            "Epoch 69/100\n",
            "1/1 [==============================] - 0s 11ms/step - loss: 7.0050 - mae: 7.0050\n",
            "Epoch 70/100\n",
            "1/1 [==============================] - 0s 13ms/step - loss: 6.9994 - mae: 6.9994\n",
            "Epoch 71/100\n",
            "1/1 [==============================] - 0s 11ms/step - loss: 6.9938 - mae: 6.9938\n",
            "Epoch 72/100\n",
            "1/1 [==============================] - 0s 11ms/step - loss: 6.9881 - mae: 6.9881\n",
            "Epoch 73/100\n",
            "1/1 [==============================] - 0s 11ms/step - loss: 6.9825 - mae: 6.9825\n",
            "Epoch 74/100\n",
            "1/1 [==============================] - 0s 10ms/step - loss: 6.9769 - mae: 6.9769\n",
            "Epoch 75/100\n",
            "1/1 [==============================] - 0s 10ms/step - loss: 6.9713 - mae: 6.9713\n",
            "Epoch 76/100\n",
            "1/1 [==============================] - 0s 11ms/step - loss: 6.9656 - mae: 6.9656\n",
            "Epoch 77/100\n",
            "1/1 [==============================] - 0s 10ms/step - loss: 6.9600 - mae: 6.9600\n",
            "Epoch 78/100\n",
            "1/1 [==============================] - 0s 10ms/step - loss: 6.9544 - mae: 6.9544\n",
            "Epoch 79/100\n",
            "1/1 [==============================] - 0s 11ms/step - loss: 6.9488 - mae: 6.9488\n",
            "Epoch 80/100\n",
            "1/1 [==============================] - 0s 12ms/step - loss: 6.9431 - mae: 6.9431\n",
            "Epoch 81/100\n",
            "1/1 [==============================] - 0s 16ms/step - loss: 6.9375 - mae: 6.9375\n",
            "Epoch 82/100\n",
            "1/1 [==============================] - 0s 13ms/step - loss: 6.9319 - mae: 6.9319\n",
            "Epoch 83/100\n",
            "1/1 [==============================] - 0s 14ms/step - loss: 6.9263 - mae: 6.9263\n",
            "Epoch 84/100\n",
            "1/1 [==============================] - 0s 14ms/step - loss: 6.9206 - mae: 6.9206\n",
            "Epoch 85/100\n",
            "1/1 [==============================] - 0s 14ms/step - loss: 6.9150 - mae: 6.9150\n",
            "Epoch 86/100\n",
            "1/1 [==============================] - 0s 15ms/step - loss: 6.9094 - mae: 6.9094\n",
            "Epoch 87/100\n",
            "1/1 [==============================] - 0s 12ms/step - loss: 6.9038 - mae: 6.9038\n",
            "Epoch 88/100\n",
            "1/1 [==============================] - 0s 12ms/step - loss: 6.8981 - mae: 6.8981\n",
            "Epoch 89/100\n",
            "1/1 [==============================] - 0s 10ms/step - loss: 6.8925 - mae: 6.8925\n",
            "Epoch 90/100\n",
            "1/1 [==============================] - 0s 10ms/step - loss: 6.8869 - mae: 6.8869\n",
            "Epoch 91/100\n",
            "1/1 [==============================] - 0s 10ms/step - loss: 6.8813 - mae: 6.8813\n",
            "Epoch 92/100\n",
            "1/1 [==============================] - 0s 10ms/step - loss: 6.8756 - mae: 6.8756\n",
            "Epoch 93/100\n",
            "1/1 [==============================] - 0s 10ms/step - loss: 6.8700 - mae: 6.8700\n",
            "Epoch 94/100\n",
            "1/1 [==============================] - 0s 10ms/step - loss: 6.8644 - mae: 6.8644\n",
            "Epoch 95/100\n",
            "1/1 [==============================] - 0s 10ms/step - loss: 6.8588 - mae: 6.8588\n",
            "Epoch 96/100\n",
            "1/1 [==============================] - 0s 10ms/step - loss: 6.8531 - mae: 6.8531\n",
            "Epoch 97/100\n",
            "1/1 [==============================] - 0s 11ms/step - loss: 6.8475 - mae: 6.8475\n",
            "Epoch 98/100\n",
            "1/1 [==============================] - 0s 10ms/step - loss: 6.8419 - mae: 6.8419\n",
            "Epoch 99/100\n",
            "1/1 [==============================] - 0s 10ms/step - loss: 6.8363 - mae: 6.8363\n",
            "Epoch 100/100\n",
            "1/1 [==============================] - 0s 11ms/step - loss: 6.8306 - mae: 6.8306\n"
          ]
        },
        {
          "output_type": "execute_result",
          "data": {
            "text/plain": [
              "<keras.callbacks.History at 0x7e2d34783f70>"
            ]
          },
          "metadata": {},
          "execution_count": 12
        }
      ]
    },
    {
      "cell_type": "code",
      "source": [
        "# remind ourselves of the data\n",
        "X, y"
      ],
      "metadata": {
        "colab": {
          "base_uri": "https://localhost:8080/"
        },
        "id": "CuiJN-b12oVJ",
        "outputId": "d834327a-9012-40cd-e1f3-efd48e8fcd2c"
      },
      "execution_count": 13,
      "outputs": [
        {
          "output_type": "execute_result",
          "data": {
            "text/plain": [
              "(<tf.Tensor: shape=(8, 1), dtype=float64, numpy=\n",
              " array([[-7.],\n",
              "        [-4.],\n",
              "        [-1.],\n",
              "        [ 2.],\n",
              "        [ 5.],\n",
              "        [ 8.],\n",
              "        [11.],\n",
              "        [14.]])>,\n",
              " <tf.Tensor: shape=(8,), dtype=float64, numpy=array([ 3.,  6.,  9., 12., 15., 18., 21., 24.])>)"
            ]
          },
          "metadata": {},
          "execution_count": 13
        }
      ]
    },
    {
      "cell_type": "code",
      "source": [
        "# let's see if our model's predictino has improved\n",
        "model.predict([17.0])"
      ],
      "metadata": {
        "colab": {
          "base_uri": "https://localhost:8080/"
        },
        "id": "4YP60zlc2vnx",
        "outputId": "6f518f8c-9478-40ad-f22a-b96c57db435b"
      },
      "execution_count": 14,
      "outputs": [
        {
          "output_type": "stream",
          "name": "stdout",
          "text": [
            "1/1 [==============================] - 0s 105ms/step\n"
          ]
        },
        {
          "output_type": "execute_result",
          "data": {
            "text/plain": [
              "array([[29.825014]], dtype=float32)"
            ]
          },
          "metadata": {},
          "execution_count": 14
        }
      ]
    },
    {
      "cell_type": "markdown",
      "source": [
        "### Adding more hidden units with activation function"
      ],
      "metadata": {
        "id": "JJ5bRvcd5kBJ"
      }
    },
    {
      "cell_type": "code",
      "source": [
        "# redefining the model but this time we are adding more hidden units\n",
        "model = tf.keras.Sequential([\n",
        "    tf.keras.layers.Dense(50, activation=None),\n",
        "    tf.keras.layers.Dense(1)\n",
        "])\n",
        "\n",
        "# compile the model\n",
        "model.compile(loss=tf.keras.losses.mae,\n",
        "              optimizer=tf.keras.optimizers.SGD(),\n",
        "              metrics=['mae'])\n",
        "\n",
        "# fit the model\n",
        "model.fit(X, y, epochs=100)"
      ],
      "metadata": {
        "colab": {
          "base_uri": "https://localhost:8080/"
        },
        "id": "jXdf2nLI3OKy",
        "outputId": "095814f5-65e3-4830-b477-60816c93f7c4"
      },
      "execution_count": 15,
      "outputs": [
        {
          "output_type": "stream",
          "name": "stdout",
          "text": [
            "Epoch 1/100\n",
            "1/1 [==============================] - 1s 680ms/step - loss: 12.1355 - mae: 12.1355\n",
            "Epoch 2/100\n",
            "1/1 [==============================] - 0s 25ms/step - loss: 11.6207 - mae: 11.6207\n",
            "Epoch 3/100\n",
            "1/1 [==============================] - 0s 19ms/step - loss: 11.0975 - mae: 11.0975\n",
            "Epoch 4/100\n",
            "1/1 [==============================] - 0s 20ms/step - loss: 10.5629 - mae: 10.5629\n",
            "Epoch 5/100\n",
            "1/1 [==============================] - 0s 15ms/step - loss: 10.0144 - mae: 10.0144\n",
            "Epoch 6/100\n",
            "1/1 [==============================] - 0s 16ms/step - loss: 9.4490 - mae: 9.4490\n",
            "Epoch 7/100\n",
            "1/1 [==============================] - 0s 12ms/step - loss: 8.8638 - mae: 8.8638\n",
            "Epoch 8/100\n",
            "1/1 [==============================] - 0s 10ms/step - loss: 8.2560 - mae: 8.2560\n",
            "Epoch 9/100\n",
            "1/1 [==============================] - 0s 10ms/step - loss: 7.6223 - mae: 7.6223\n",
            "Epoch 10/100\n",
            "1/1 [==============================] - 0s 9ms/step - loss: 7.2691 - mae: 7.2691\n",
            "Epoch 11/100\n",
            "1/1 [==============================] - 0s 10ms/step - loss: 7.2483 - mae: 7.2483\n",
            "Epoch 12/100\n",
            "1/1 [==============================] - 0s 10ms/step - loss: 7.2274 - mae: 7.2274\n",
            "Epoch 13/100\n",
            "1/1 [==============================] - 0s 10ms/step - loss: 7.2065 - mae: 7.2065\n",
            "Epoch 14/100\n",
            "1/1 [==============================] - 0s 9ms/step - loss: 7.1856 - mae: 7.1856\n",
            "Epoch 15/100\n",
            "1/1 [==============================] - 0s 10ms/step - loss: 7.1646 - mae: 7.1646\n",
            "Epoch 16/100\n",
            "1/1 [==============================] - 0s 10ms/step - loss: 7.1435 - mae: 7.1435\n",
            "Epoch 17/100\n",
            "1/1 [==============================] - 0s 10ms/step - loss: 7.1224 - mae: 7.1224\n",
            "Epoch 18/100\n",
            "1/1 [==============================] - 0s 10ms/step - loss: 7.1013 - mae: 7.1013\n",
            "Epoch 19/100\n",
            "1/1 [==============================] - 0s 10ms/step - loss: 7.0800 - mae: 7.0800\n",
            "Epoch 20/100\n",
            "1/1 [==============================] - 0s 10ms/step - loss: 7.0588 - mae: 7.0588\n",
            "Epoch 21/100\n",
            "1/1 [==============================] - 0s 19ms/step - loss: 7.0374 - mae: 7.0374\n",
            "Epoch 22/100\n",
            "1/1 [==============================] - 0s 13ms/step - loss: 7.0160 - mae: 7.0160\n",
            "Epoch 23/100\n",
            "1/1 [==============================] - 0s 13ms/step - loss: 6.9944 - mae: 6.9944\n",
            "Epoch 24/100\n",
            "1/1 [==============================] - 0s 11ms/step - loss: 6.9729 - mae: 6.9729\n",
            "Epoch 25/100\n",
            "1/1 [==============================] - 0s 10ms/step - loss: 6.9512 - mae: 6.9512\n",
            "Epoch 26/100\n",
            "1/1 [==============================] - 0s 12ms/step - loss: 6.9294 - mae: 6.9294\n",
            "Epoch 27/100\n",
            "1/1 [==============================] - 0s 11ms/step - loss: 6.9076 - mae: 6.9076\n",
            "Epoch 28/100\n",
            "1/1 [==============================] - 0s 11ms/step - loss: 6.8856 - mae: 6.8856\n",
            "Epoch 29/100\n",
            "1/1 [==============================] - 0s 11ms/step - loss: 6.8636 - mae: 6.8636\n",
            "Epoch 30/100\n",
            "1/1 [==============================] - 0s 15ms/step - loss: 6.8414 - mae: 6.8414\n",
            "Epoch 31/100\n",
            "1/1 [==============================] - 0s 13ms/step - loss: 6.8192 - mae: 6.8192\n",
            "Epoch 32/100\n",
            "1/1 [==============================] - 0s 11ms/step - loss: 6.7979 - mae: 6.7979\n",
            "Epoch 33/100\n",
            "1/1 [==============================] - 0s 14ms/step - loss: 6.7907 - mae: 6.7907\n",
            "Epoch 34/100\n",
            "1/1 [==============================] - 0s 11ms/step - loss: 6.7686 - mae: 6.7686\n",
            "Epoch 35/100\n",
            "1/1 [==============================] - 0s 10ms/step - loss: 6.7465 - mae: 6.7465\n",
            "Epoch 36/100\n",
            "1/1 [==============================] - 0s 10ms/step - loss: 6.7243 - mae: 6.7243\n",
            "Epoch 37/100\n",
            "1/1 [==============================] - 0s 26ms/step - loss: 6.7019 - mae: 6.7019\n",
            "Epoch 38/100\n",
            "1/1 [==============================] - 0s 14ms/step - loss: 6.6794 - mae: 6.6794\n",
            "Epoch 39/100\n",
            "1/1 [==============================] - 0s 16ms/step - loss: 6.6568 - mae: 6.6568\n",
            "Epoch 40/100\n",
            "1/1 [==============================] - 0s 12ms/step - loss: 6.6340 - mae: 6.6340\n",
            "Epoch 41/100\n",
            "1/1 [==============================] - 0s 13ms/step - loss: 6.6111 - mae: 6.6111\n",
            "Epoch 42/100\n",
            "1/1 [==============================] - 0s 11ms/step - loss: 6.5881 - mae: 6.5881\n",
            "Epoch 43/100\n",
            "1/1 [==============================] - 0s 13ms/step - loss: 6.5649 - mae: 6.5649\n",
            "Epoch 44/100\n",
            "1/1 [==============================] - 0s 16ms/step - loss: 6.5415 - mae: 6.5415\n",
            "Epoch 45/100\n",
            "1/1 [==============================] - 0s 22ms/step - loss: 6.5180 - mae: 6.5180\n",
            "Epoch 46/100\n",
            "1/1 [==============================] - 0s 22ms/step - loss: 6.4944 - mae: 6.4944\n",
            "Epoch 47/100\n",
            "1/1 [==============================] - 0s 29ms/step - loss: 6.4706 - mae: 6.4706\n",
            "Epoch 48/100\n",
            "1/1 [==============================] - 0s 28ms/step - loss: 6.4466 - mae: 6.4466\n",
            "Epoch 49/100\n",
            "1/1 [==============================] - 0s 25ms/step - loss: 6.4224 - mae: 6.4224\n",
            "Epoch 50/100\n",
            "1/1 [==============================] - 0s 21ms/step - loss: 6.3980 - mae: 6.3980\n",
            "Epoch 51/100\n",
            "1/1 [==============================] - 0s 18ms/step - loss: 6.3735 - mae: 6.3735\n",
            "Epoch 52/100\n",
            "1/1 [==============================] - 0s 25ms/step - loss: 6.3488 - mae: 6.3488\n",
            "Epoch 53/100\n",
            "1/1 [==============================] - 0s 19ms/step - loss: 6.3239 - mae: 6.3239\n",
            "Epoch 54/100\n",
            "1/1 [==============================] - 0s 37ms/step - loss: 6.3012 - mae: 6.3012\n",
            "Epoch 55/100\n",
            "1/1 [==============================] - 0s 20ms/step - loss: 6.2962 - mae: 6.2962\n",
            "Epoch 56/100\n",
            "1/1 [==============================] - 0s 21ms/step - loss: 6.2713 - mae: 6.2713\n",
            "Epoch 57/100\n",
            "1/1 [==============================] - 0s 50ms/step - loss: 6.2462 - mae: 6.2462\n",
            "Epoch 58/100\n",
            "1/1 [==============================] - 0s 18ms/step - loss: 6.2209 - mae: 6.2209\n",
            "Epoch 59/100\n",
            "1/1 [==============================] - 0s 40ms/step - loss: 6.1954 - mae: 6.1954\n",
            "Epoch 60/100\n",
            "1/1 [==============================] - 0s 12ms/step - loss: 6.1697 - mae: 6.1697\n",
            "Epoch 61/100\n",
            "1/1 [==============================] - 0s 24ms/step - loss: 6.1438 - mae: 6.1438\n",
            "Epoch 62/100\n",
            "1/1 [==============================] - 0s 17ms/step - loss: 6.1176 - mae: 6.1176\n",
            "Epoch 63/100\n",
            "1/1 [==============================] - 0s 22ms/step - loss: 6.0912 - mae: 6.0912\n",
            "Epoch 64/100\n",
            "1/1 [==============================] - 0s 11ms/step - loss: 6.0646 - mae: 6.0646\n",
            "Epoch 65/100\n",
            "1/1 [==============================] - 0s 20ms/step - loss: 6.0377 - mae: 6.0377\n",
            "Epoch 66/100\n",
            "1/1 [==============================] - 0s 32ms/step - loss: 6.0106 - mae: 6.0106\n",
            "Epoch 67/100\n",
            "1/1 [==============================] - 0s 19ms/step - loss: 5.9833 - mae: 5.9833\n",
            "Epoch 68/100\n",
            "1/1 [==============================] - 0s 41ms/step - loss: 5.9557 - mae: 5.9557\n",
            "Epoch 69/100\n",
            "1/1 [==============================] - 0s 23ms/step - loss: 5.9278 - mae: 5.9278\n",
            "Epoch 70/100\n",
            "1/1 [==============================] - 0s 24ms/step - loss: 5.8997 - mae: 5.8997\n",
            "Epoch 71/100\n",
            "1/1 [==============================] - 0s 31ms/step - loss: 5.8713 - mae: 5.8713\n",
            "Epoch 72/100\n",
            "1/1 [==============================] - 0s 27ms/step - loss: 5.8600 - mae: 5.8600\n",
            "Epoch 73/100\n",
            "1/1 [==============================] - 0s 25ms/step - loss: 5.8414 - mae: 5.8414\n",
            "Epoch 74/100\n",
            "1/1 [==============================] - 0s 20ms/step - loss: 5.8128 - mae: 5.8128\n",
            "Epoch 75/100\n",
            "1/1 [==============================] - 0s 14ms/step - loss: 5.7839 - mae: 5.7839\n",
            "Epoch 76/100\n",
            "1/1 [==============================] - 0s 22ms/step - loss: 5.7547 - mae: 5.7547\n",
            "Epoch 77/100\n",
            "1/1 [==============================] - 0s 17ms/step - loss: 5.7253 - mae: 5.7253\n",
            "Epoch 78/100\n",
            "1/1 [==============================] - 0s 24ms/step - loss: 5.6955 - mae: 5.6955\n",
            "Epoch 79/100\n",
            "1/1 [==============================] - 0s 19ms/step - loss: 5.6654 - mae: 5.6654\n",
            "Epoch 80/100\n",
            "1/1 [==============================] - 0s 20ms/step - loss: 5.6351 - mae: 5.6351\n",
            "Epoch 81/100\n",
            "1/1 [==============================] - 0s 20ms/step - loss: 5.6044 - mae: 5.6044\n",
            "Epoch 82/100\n",
            "1/1 [==============================] - 0s 28ms/step - loss: 5.5734 - mae: 5.5734\n",
            "Epoch 83/100\n",
            "1/1 [==============================] - 0s 26ms/step - loss: 5.5420 - mae: 5.5420\n",
            "Epoch 84/100\n",
            "1/1 [==============================] - 0s 16ms/step - loss: 5.5103 - mae: 5.5103\n",
            "Epoch 85/100\n",
            "1/1 [==============================] - 0s 15ms/step - loss: 5.4783 - mae: 5.4783\n",
            "Epoch 86/100\n",
            "1/1 [==============================] - 0s 15ms/step - loss: 5.4460 - mae: 5.4460\n",
            "Epoch 87/100\n",
            "1/1 [==============================] - 0s 22ms/step - loss: 5.4231 - mae: 5.4231\n",
            "Epoch 88/100\n",
            "1/1 [==============================] - 0s 15ms/step - loss: 5.4522 - mae: 5.4522\n",
            "Epoch 89/100\n",
            "1/1 [==============================] - 0s 32ms/step - loss: 5.5319 - mae: 5.5319\n",
            "Epoch 90/100\n",
            "1/1 [==============================] - 0s 18ms/step - loss: 5.3420 - mae: 5.3420\n",
            "Epoch 91/100\n",
            "1/1 [==============================] - 0s 16ms/step - loss: 5.3084 - mae: 5.3084\n",
            "Epoch 92/100\n",
            "1/1 [==============================] - 0s 14ms/step - loss: 5.2744 - mae: 5.2744\n",
            "Epoch 93/100\n",
            "1/1 [==============================] - 0s 26ms/step - loss: 5.2401 - mae: 5.2401\n",
            "Epoch 94/100\n",
            "1/1 [==============================] - 0s 15ms/step - loss: 5.2053 - mae: 5.2053\n",
            "Epoch 95/100\n",
            "1/1 [==============================] - 0s 20ms/step - loss: 5.1702 - mae: 5.1702\n",
            "Epoch 96/100\n",
            "1/1 [==============================] - 0s 27ms/step - loss: 5.1347 - mae: 5.1347\n",
            "Epoch 97/100\n",
            "1/1 [==============================] - 0s 13ms/step - loss: 5.0987 - mae: 5.0987\n",
            "Epoch 98/100\n",
            "1/1 [==============================] - 0s 24ms/step - loss: 5.0788 - mae: 5.0788\n",
            "Epoch 99/100\n",
            "1/1 [==============================] - 0s 23ms/step - loss: 5.1437 - mae: 5.1437\n",
            "Epoch 100/100\n",
            "1/1 [==============================] - 0s 23ms/step - loss: 5.1910 - mae: 5.1910\n"
          ]
        },
        {
          "output_type": "execute_result",
          "data": {
            "text/plain": [
              "<keras.callbacks.History at 0x7e2d35989a50>"
            ]
          },
          "metadata": {},
          "execution_count": 15
        }
      ]
    },
    {
      "cell_type": "code",
      "source": [
        "# remind ourselves of the data\n",
        "X, y"
      ],
      "metadata": {
        "colab": {
          "base_uri": "https://localhost:8080/"
        },
        "id": "VccH4F0g4Fwx",
        "outputId": "6fae62f7-f5f8-4ac3-d2b1-da3b2c32aec4"
      },
      "execution_count": 16,
      "outputs": [
        {
          "output_type": "execute_result",
          "data": {
            "text/plain": [
              "(<tf.Tensor: shape=(8, 1), dtype=float64, numpy=\n",
              " array([[-7.],\n",
              "        [-4.],\n",
              "        [-1.],\n",
              "        [ 2.],\n",
              "        [ 5.],\n",
              "        [ 8.],\n",
              "        [11.],\n",
              "        [14.]])>,\n",
              " <tf.Tensor: shape=(8,), dtype=float64, numpy=array([ 3.,  6.,  9., 12., 15., 18., 21., 24.])>)"
            ]
          },
          "metadata": {},
          "execution_count": 16
        }
      ]
    },
    {
      "cell_type": "code",
      "source": [
        "# getting prediction from the model\n",
        "model.predict([17.0])"
      ],
      "metadata": {
        "colab": {
          "base_uri": "https://localhost:8080/"
        },
        "id": "ebVTntJ-4JSI",
        "outputId": "dcb61a53-c7ad-44cb-a105-610fda5074c1"
      },
      "execution_count": 17,
      "outputs": [
        {
          "output_type": "stream",
          "name": "stdout",
          "text": [
            "1/1 [==============================] - 0s 291ms/step\n"
          ]
        },
        {
          "output_type": "execute_result",
          "data": {
            "text/plain": [
              "array([[29.110493]], dtype=float32)"
            ]
          },
          "metadata": {},
          "execution_count": 17
        }
      ]
    },
    {
      "cell_type": "markdown",
      "source": [
        "### Changing the optimizatino funciton"
      ],
      "metadata": {
        "id": "5O57KjST6y_R"
      }
    },
    {
      "cell_type": "code",
      "source": [
        "model = tf.keras.Sequential([\n",
        "    tf.keras.layers.Dense(50, activation=None),\n",
        "    tf.keras.layers.Dense(1)\n",
        "])\n",
        "\n",
        "# compile the model\n",
        "model.compile(loss=tf.keras.losses.mae,\n",
        "              optimizer=tf.keras.optimizers.Adam(learning_rate=0.01),\n",
        "              metrics=['mae'])\n",
        "\n",
        "# fit the model\n",
        "model.fit(X, y, epochs=100)"
      ],
      "metadata": {
        "colab": {
          "base_uri": "https://localhost:8080/"
        },
        "id": "-2MsbAJN64hR",
        "outputId": "4111d77a-6e3a-44a5-9a0e-fb19679b49b1"
      },
      "execution_count": 18,
      "outputs": [
        {
          "output_type": "stream",
          "name": "stdout",
          "text": [
            "Epoch 1/100\n",
            "1/1 [==============================] - 2s 2s/step - loss: 13.3587 - mae: 13.3587\n",
            "Epoch 2/100\n",
            "1/1 [==============================] - 0s 15ms/step - loss: 12.6463 - mae: 12.6463\n",
            "Epoch 3/100\n",
            "1/1 [==============================] - 0s 17ms/step - loss: 11.9304 - mae: 11.9304\n",
            "Epoch 4/100\n",
            "1/1 [==============================] - 0s 15ms/step - loss: 11.2079 - mae: 11.2079\n",
            "Epoch 5/100\n",
            "1/1 [==============================] - 0s 15ms/step - loss: 10.4765 - mae: 10.4765\n",
            "Epoch 6/100\n",
            "1/1 [==============================] - 0s 31ms/step - loss: 9.7342 - mae: 9.7342\n",
            "Epoch 7/100\n",
            "1/1 [==============================] - 0s 22ms/step - loss: 8.9789 - mae: 8.9789\n",
            "Epoch 8/100\n",
            "1/1 [==============================] - 0s 23ms/step - loss: 8.2089 - mae: 8.2089\n",
            "Epoch 9/100\n",
            "1/1 [==============================] - 0s 15ms/step - loss: 7.4222 - mae: 7.4222\n",
            "Epoch 10/100\n",
            "1/1 [==============================] - 0s 20ms/step - loss: 6.7570 - mae: 6.7570\n",
            "Epoch 11/100\n",
            "1/1 [==============================] - 0s 16ms/step - loss: 6.8101 - mae: 6.8101\n",
            "Epoch 12/100\n",
            "1/1 [==============================] - 0s 14ms/step - loss: 7.0998 - mae: 7.0998\n",
            "Epoch 13/100\n",
            "1/1 [==============================] - 0s 18ms/step - loss: 7.2723 - mae: 7.2723\n",
            "Epoch 14/100\n",
            "1/1 [==============================] - 0s 21ms/step - loss: 7.4466 - mae: 7.4466\n",
            "Epoch 15/100\n",
            "1/1 [==============================] - 0s 20ms/step - loss: 7.4040 - mae: 7.4040\n",
            "Epoch 16/100\n",
            "1/1 [==============================] - 0s 13ms/step - loss: 7.1892 - mae: 7.1892\n",
            "Epoch 17/100\n",
            "1/1 [==============================] - 0s 15ms/step - loss: 6.9089 - mae: 6.9089\n",
            "Epoch 18/100\n",
            "1/1 [==============================] - 0s 15ms/step - loss: 6.6584 - mae: 6.6584\n",
            "Epoch 19/100\n",
            "1/1 [==============================] - 0s 23ms/step - loss: 6.3871 - mae: 6.3871\n",
            "Epoch 20/100\n",
            "1/1 [==============================] - 0s 23ms/step - loss: 6.0994 - mae: 6.0994\n",
            "Epoch 21/100\n",
            "1/1 [==============================] - 0s 10ms/step - loss: 6.0218 - mae: 6.0218\n",
            "Epoch 22/100\n",
            "1/1 [==============================] - 0s 12ms/step - loss: 5.9931 - mae: 5.9931\n",
            "Epoch 23/100\n",
            "1/1 [==============================] - 0s 12ms/step - loss: 6.0968 - mae: 6.0968\n",
            "Epoch 24/100\n",
            "1/1 [==============================] - 0s 18ms/step - loss: 6.0894 - mae: 6.0894\n",
            "Epoch 25/100\n",
            "1/1 [==============================] - 0s 11ms/step - loss: 5.9855 - mae: 5.9855\n",
            "Epoch 26/100\n",
            "1/1 [==============================] - 0s 12ms/step - loss: 5.7959 - mae: 5.7959\n",
            "Epoch 27/100\n",
            "1/1 [==============================] - 0s 16ms/step - loss: 5.5598 - mae: 5.5598\n",
            "Epoch 28/100\n",
            "1/1 [==============================] - 0s 11ms/step - loss: 5.4553 - mae: 5.4553\n",
            "Epoch 29/100\n",
            "1/1 [==============================] - 0s 13ms/step - loss: 5.3476 - mae: 5.3476\n",
            "Epoch 30/100\n",
            "1/1 [==============================] - 0s 19ms/step - loss: 5.2550 - mae: 5.2550\n",
            "Epoch 31/100\n",
            "1/1 [==============================] - 0s 23ms/step - loss: 5.2221 - mae: 5.2221\n",
            "Epoch 32/100\n",
            "1/1 [==============================] - 0s 27ms/step - loss: 5.1437 - mae: 5.1437\n",
            "Epoch 33/100\n",
            "1/1 [==============================] - 0s 16ms/step - loss: 5.0236 - mae: 5.0236\n",
            "Epoch 34/100\n",
            "1/1 [==============================] - 0s 18ms/step - loss: 4.8653 - mae: 4.8653\n",
            "Epoch 35/100\n",
            "1/1 [==============================] - 0s 15ms/step - loss: 4.7330 - mae: 4.7330\n",
            "Epoch 36/100\n",
            "1/1 [==============================] - 0s 15ms/step - loss: 4.6311 - mae: 4.6311\n",
            "Epoch 37/100\n",
            "1/1 [==============================] - 0s 18ms/step - loss: 4.5221 - mae: 4.5221\n",
            "Epoch 38/100\n",
            "1/1 [==============================] - 0s 16ms/step - loss: 4.4059 - mae: 4.4059\n",
            "Epoch 39/100\n",
            "1/1 [==============================] - 0s 17ms/step - loss: 4.2823 - mae: 4.2823\n",
            "Epoch 40/100\n",
            "1/1 [==============================] - 0s 16ms/step - loss: 4.1920 - mae: 4.1920\n",
            "Epoch 41/100\n",
            "1/1 [==============================] - 0s 16ms/step - loss: 4.0031 - mae: 4.0031\n",
            "Epoch 42/100\n",
            "1/1 [==============================] - 0s 17ms/step - loss: 3.8478 - mae: 3.8478\n",
            "Epoch 43/100\n",
            "1/1 [==============================] - 0s 16ms/step - loss: 3.6850 - mae: 3.6850\n",
            "Epoch 44/100\n",
            "1/1 [==============================] - 0s 18ms/step - loss: 3.5143 - mae: 3.5143\n",
            "Epoch 45/100\n",
            "1/1 [==============================] - 0s 16ms/step - loss: 3.3483 - mae: 3.3483\n",
            "Epoch 46/100\n",
            "1/1 [==============================] - 0s 20ms/step - loss: 3.1865 - mae: 3.1865\n",
            "Epoch 47/100\n",
            "1/1 [==============================] - 0s 15ms/step - loss: 2.9853 - mae: 2.9853\n",
            "Epoch 48/100\n",
            "1/1 [==============================] - 0s 9ms/step - loss: 2.8008 - mae: 2.8008\n",
            "Epoch 49/100\n",
            "1/1 [==============================] - 0s 11ms/step - loss: 2.6056 - mae: 2.6056\n",
            "Epoch 50/100\n",
            "1/1 [==============================] - 0s 10ms/step - loss: 2.3997 - mae: 2.3997\n",
            "Epoch 51/100\n",
            "1/1 [==============================] - 0s 10ms/step - loss: 2.1828 - mae: 2.1828\n",
            "Epoch 52/100\n",
            "1/1 [==============================] - 0s 10ms/step - loss: 1.9548 - mae: 1.9548\n",
            "Epoch 53/100\n",
            "1/1 [==============================] - 0s 11ms/step - loss: 1.7153 - mae: 1.7153\n",
            "Epoch 54/100\n",
            "1/1 [==============================] - 0s 22ms/step - loss: 1.4643 - mae: 1.4643\n",
            "Epoch 55/100\n",
            "1/1 [==============================] - 0s 18ms/step - loss: 1.2447 - mae: 1.2447\n",
            "Epoch 56/100\n",
            "1/1 [==============================] - 0s 18ms/step - loss: 0.9395 - mae: 0.9395\n",
            "Epoch 57/100\n",
            "1/1 [==============================] - 0s 25ms/step - loss: 0.6643 - mae: 0.6643\n",
            "Epoch 58/100\n",
            "1/1 [==============================] - 0s 12ms/step - loss: 0.4053 - mae: 0.4053\n",
            "Epoch 59/100\n",
            "1/1 [==============================] - 0s 43ms/step - loss: 0.2356 - mae: 0.2356\n",
            "Epoch 60/100\n",
            "1/1 [==============================] - 0s 24ms/step - loss: 0.2223 - mae: 0.2223\n",
            "Epoch 61/100\n",
            "1/1 [==============================] - 0s 10ms/step - loss: 0.5584 - mae: 0.5584\n",
            "Epoch 62/100\n",
            "1/1 [==============================] - 0s 20ms/step - loss: 0.6359 - mae: 0.6359\n",
            "Epoch 63/100\n",
            "1/1 [==============================] - 0s 14ms/step - loss: 0.8742 - mae: 0.8742\n",
            "Epoch 64/100\n",
            "1/1 [==============================] - 0s 18ms/step - loss: 0.9281 - mae: 0.9281\n",
            "Epoch 65/100\n",
            "1/1 [==============================] - 0s 30ms/step - loss: 0.8227 - mae: 0.8227\n",
            "Epoch 66/100\n",
            "1/1 [==============================] - 0s 14ms/step - loss: 0.8379 - mae: 0.8379\n",
            "Epoch 67/100\n",
            "1/1 [==============================] - 0s 23ms/step - loss: 0.7457 - mae: 0.7457\n",
            "Epoch 68/100\n",
            "1/1 [==============================] - 0s 14ms/step - loss: 0.7407 - mae: 0.7407\n",
            "Epoch 69/100\n",
            "1/1 [==============================] - 0s 64ms/step - loss: 0.5914 - mae: 0.5914\n",
            "Epoch 70/100\n",
            "1/1 [==============================] - 0s 29ms/step - loss: 0.4859 - mae: 0.4859\n",
            "Epoch 71/100\n",
            "1/1 [==============================] - 0s 15ms/step - loss: 0.3508 - mae: 0.3508\n",
            "Epoch 72/100\n",
            "1/1 [==============================] - 0s 27ms/step - loss: 0.1366 - mae: 0.1366\n",
            "Epoch 73/100\n",
            "1/1 [==============================] - 0s 17ms/step - loss: 0.1438 - mae: 0.1438\n",
            "Epoch 74/100\n",
            "1/1 [==============================] - 0s 17ms/step - loss: 0.3825 - mae: 0.3825\n",
            "Epoch 75/100\n",
            "1/1 [==============================] - 0s 17ms/step - loss: 0.5148 - mae: 0.5148\n",
            "Epoch 76/100\n",
            "1/1 [==============================] - 0s 17ms/step - loss: 0.4592 - mae: 0.4592\n",
            "Epoch 77/100\n",
            "1/1 [==============================] - 0s 18ms/step - loss: 0.4694 - mae: 0.4694\n",
            "Epoch 78/100\n",
            "1/1 [==============================] - 0s 16ms/step - loss: 0.5180 - mae: 0.5180\n",
            "Epoch 79/100\n",
            "1/1 [==============================] - 0s 12ms/step - loss: 0.3702 - mae: 0.3702\n",
            "Epoch 80/100\n",
            "1/1 [==============================] - 0s 12ms/step - loss: 0.3663 - mae: 0.3663\n",
            "Epoch 81/100\n",
            "1/1 [==============================] - 0s 15ms/step - loss: 0.3046 - mae: 0.3046\n",
            "Epoch 82/100\n",
            "1/1 [==============================] - 0s 11ms/step - loss: 0.0858 - mae: 0.0858\n",
            "Epoch 83/100\n",
            "1/1 [==============================] - 0s 14ms/step - loss: 0.2080 - mae: 0.2080\n",
            "Epoch 84/100\n",
            "1/1 [==============================] - 0s 11ms/step - loss: 0.1721 - mae: 0.1721\n",
            "Epoch 85/100\n",
            "1/1 [==============================] - 0s 14ms/step - loss: 0.4644 - mae: 0.4644\n",
            "Epoch 86/100\n",
            "1/1 [==============================] - 0s 15ms/step - loss: 0.5101 - mae: 0.5101\n",
            "Epoch 87/100\n",
            "1/1 [==============================] - 0s 24ms/step - loss: 0.3071 - mae: 0.3071\n",
            "Epoch 88/100\n",
            "1/1 [==============================] - 0s 16ms/step - loss: 0.4711 - mae: 0.4711\n",
            "Epoch 89/100\n",
            "1/1 [==============================] - 0s 16ms/step - loss: 0.5124 - mae: 0.5124\n",
            "Epoch 90/100\n",
            "1/1 [==============================] - 0s 17ms/step - loss: 0.3827 - mae: 0.3827\n",
            "Epoch 91/100\n",
            "1/1 [==============================] - 0s 18ms/step - loss: 0.0891 - mae: 0.0891\n",
            "Epoch 92/100\n",
            "1/1 [==============================] - 0s 18ms/step - loss: 0.2384 - mae: 0.2384\n",
            "Epoch 93/100\n",
            "1/1 [==============================] - 0s 14ms/step - loss: 0.1698 - mae: 0.1698\n",
            "Epoch 94/100\n",
            "1/1 [==============================] - 0s 20ms/step - loss: 0.2804 - mae: 0.2804\n",
            "Epoch 95/100\n",
            "1/1 [==============================] - 0s 23ms/step - loss: 0.2927 - mae: 0.2927\n",
            "Epoch 96/100\n",
            "1/1 [==============================] - 0s 39ms/step - loss: 0.2318 - mae: 0.2318\n",
            "Epoch 97/100\n",
            "1/1 [==============================] - 0s 41ms/step - loss: 0.2464 - mae: 0.2464\n",
            "Epoch 98/100\n",
            "1/1 [==============================] - 0s 41ms/step - loss: 0.1119 - mae: 0.1119\n",
            "Epoch 99/100\n",
            "1/1 [==============================] - 0s 32ms/step - loss: 0.1645 - mae: 0.1645\n",
            "Epoch 100/100\n",
            "1/1 [==============================] - 0s 25ms/step - loss: 0.0491 - mae: 0.0491\n"
          ]
        },
        {
          "output_type": "execute_result",
          "data": {
            "text/plain": [
              "<keras.callbacks.History at 0x7e2d35871e10>"
            ]
          },
          "metadata": {},
          "execution_count": 18
        }
      ]
    },
    {
      "cell_type": "code",
      "source": [
        "model.predict([17.0])"
      ],
      "metadata": {
        "colab": {
          "base_uri": "https://localhost:8080/"
        },
        "id": "RhpYwovr7QXw",
        "outputId": "30d19e86-1245-46ca-a3eb-bcc919f8d321"
      },
      "execution_count": 19,
      "outputs": [
        {
          "output_type": "stream",
          "name": "stdout",
          "text": [
            "1/1 [==============================] - 0s 128ms/step\n"
          ]
        },
        {
          "output_type": "execute_result",
          "data": {
            "text/plain": [
              "array([[27.052212]], dtype=float32)"
            ]
          },
          "metadata": {},
          "execution_count": 19
        }
      ]
    },
    {
      "cell_type": "markdown",
      "source": [
        "**🧮🔑Important🔑🧮:** Common ways to improve a deep learning model\n",
        "\n",
        "*   Adding layers.\n",
        "*   Increase the number of hidden units.\n",
        "*   Change the activation function.\n",
        "*   Change the optimizatino function.\n",
        "*   Change the learning rate.\n",
        "*   Fitting on more data.\n",
        "\n"
      ],
      "metadata": {
        "id": "bgicFG5H7e4A"
      }
    },
    {
      "cell_type": "markdown",
      "source": [
        "### Adding more data\n",
        "\n",
        "It is good idea to visualize:\n",
        "\n",
        "*  The data - What data are we working with? What does it look like?\n",
        "*  The model itself - What does our model look like?\n",
        "*  The training of a model - How does a model performs while it learns?\n",
        "*  The predictions of the model - How do the prediction of the model line up against the ground truth (the original labels)."
      ],
      "metadata": {
        "id": "CEvz_6qnXlzo"
      }
    },
    {
      "cell_type": "code",
      "source": [
        "# making a bigger dataset\n",
        "features = tf.range(-100, 100, 4)\n",
        "labels = features + 10\n",
        "features, labels"
      ],
      "metadata": {
        "colab": {
          "base_uri": "https://localhost:8080/"
        },
        "id": "KipjMLD_Ybwp",
        "outputId": "cf21261c-0df9-477b-d9fd-6055eb21060c"
      },
      "execution_count": 29,
      "outputs": [
        {
          "output_type": "execute_result",
          "data": {
            "text/plain": [
              "(<tf.Tensor: shape=(50,), dtype=int32, numpy=\n",
              " array([-100,  -96,  -92,  -88,  -84,  -80,  -76,  -72,  -68,  -64,  -60,\n",
              "         -56,  -52,  -48,  -44,  -40,  -36,  -32,  -28,  -24,  -20,  -16,\n",
              "         -12,   -8,   -4,    0,    4,    8,   12,   16,   20,   24,   28,\n",
              "          32,   36,   40,   44,   48,   52,   56,   60,   64,   68,   72,\n",
              "          76,   80,   84,   88,   92,   96], dtype=int32)>,\n",
              " <tf.Tensor: shape=(50,), dtype=int32, numpy=\n",
              " array([-90, -86, -82, -78, -74, -70, -66, -62, -58, -54, -50, -46, -42,\n",
              "        -38, -34, -30, -26, -22, -18, -14, -10,  -6,  -2,   2,   6,  10,\n",
              "         14,  18,  22,  26,  30,  34,  38,  42,  46,  50,  54,  58,  62,\n",
              "         66,  70,  74,  78,  82,  86,  90,  94,  98, 102, 106], dtype=int32)>)"
            ]
          },
          "metadata": {},
          "execution_count": 29
        }
      ]
    },
    {
      "cell_type": "code",
      "source": [
        "plt.scatter(features, labels)"
      ],
      "metadata": {
        "colab": {
          "base_uri": "https://localhost:8080/",
          "height": 447
        },
        "id": "kiX6fwFnZn-P",
        "outputId": "aa665f99-f643-4a77-c4f6-8308f7e5c497"
      },
      "execution_count": 30,
      "outputs": [
        {
          "output_type": "execute_result",
          "data": {
            "text/plain": [
              "<matplotlib.collections.PathCollection at 0x7e2d35273970>"
            ]
          },
          "metadata": {},
          "execution_count": 30
        },
        {
          "output_type": "display_data",
          "data": {
            "text/plain": [
              "<Figure size 640x480 with 1 Axes>"
            ],
            "image/png": "[encoded data removed]"
          },
          "metadata": {}
        }
      ]
    },
    {
      "cell_type": "code",
      "source": [
        "plt.plot(features, labels)"
      ],
      "metadata": {
        "colab": {
          "base_uri": "https://localhost:8080/",
          "height": 447
        },
        "id": "YmQOCN8sZu9v",
        "outputId": "d0e7608d-69e4-4bd9-f577-7f01ae41f771"
      },
      "execution_count": 31,
      "outputs": [
        {
          "output_type": "execute_result",
          "data": {
            "text/plain": [
              "[<matplotlib.lines.Line2D at 0x7e2d25182aa0>]"
            ]
          },
          "metadata": {},
          "execution_count": 31
        },
        {
          "output_type": "display_data",
          "data": {
            "text/plain": [
              "<Figure size 640x480 with 1 Axes>"
            ],
            "image/png": "[encoded data removed]"
          },
          "metadata": {}
        }
      ]
    },
    {
      "cell_type": "code",
      "source": [
        "features = tf.reshape(features, shape=(50,1))\n",
        "features"
      ],
      "metadata": {
        "colab": {
          "base_uri": "https://localhost:8080/"
        },
        "id": "RzlgNeobZBXA",
        "outputId": "1ee27d6d-eeeb-4c01-be37-54ce2b84839a"
      },
      "execution_count": 32,
      "outputs": [
        {
          "output_type": "execute_result",
          "data": {
            "text/plain": [
              "<tf.Tensor: shape=(50, 1), dtype=int32, numpy=\n",
              "array([[-100],\n",
              "       [ -96],\n",
              "       [ -92],\n",
              "       [ -88],\n",
              "       [ -84],\n",
              "       [ -80],\n",
              "       [ -76],\n",
              "       [ -72],\n",
              "       [ -68],\n",
              "       [ -64],\n",
              "       [ -60],\n",
              "       [ -56],\n",
              "       [ -52],\n",
              "       [ -48],\n",
              "       [ -44],\n",
              "       [ -40],\n",
              "       [ -36],\n",
              "       [ -32],\n",
              "       [ -28],\n",
              "       [ -24],\n",
              "       [ -20],\n",
              "       [ -16],\n",
              "       [ -12],\n",
              "       [  -8],\n",
              "       [  -4],\n",
              "       [   0],\n",
              "       [   4],\n",
              "       [   8],\n",
              "       [  12],\n",
              "       [  16],\n",
              "       [  20],\n",
              "       [  24],\n",
              "       [  28],\n",
              "       [  32],\n",
              "       [  36],\n",
              "       [  40],\n",
              "       [  44],\n",
              "       [  48],\n",
              "       [  52],\n",
              "       [  56],\n",
              "       [  60],\n",
              "       [  64],\n",
              "       [  68],\n",
              "       [  72],\n",
              "       [  76],\n",
              "       [  80],\n",
              "       [  84],\n",
              "       [  88],\n",
              "       [  92],\n",
              "       [  96]], dtype=int32)>"
            ]
          },
          "metadata": {},
          "execution_count": 32
        }
      ]
    },
    {
      "cell_type": "code",
      "source": [
        "# split the data into train and test set\n",
        "x_train = features[:40, :1]\n",
        "y_train = labels[:40]\n",
        "\n",
        "x_test = features[40:, :1]\n",
        "y_test = labels[40:]"
      ],
      "metadata": {
        "id": "48spQS9SZlzh"
      },
      "execution_count": 35,
      "outputs": []
    },
    {
      "cell_type": "code",
      "source": [
        "len(x_train), len(x_test), len(y_train), len(y_test)"
      ],
      "metadata": {
        "colab": {
          "base_uri": "https://localhost:8080/"
        },
        "id": "V9Jwelrdp4S2",
        "outputId": "f9dfd379-15c0-4d25-c710-41e2c6f9e677"
      },
      "execution_count": 39,
      "outputs": [
        {
          "output_type": "execute_result",
          "data": {
            "text/plain": [
              "(40, 10, 40, 10)"
            ]
          },
          "metadata": {},
          "execution_count": 39
        }
      ]
    },
    {
      "cell_type": "markdown",
      "source": [
        "## Visualizing the data"
      ],
      "metadata": {
        "id": "QHK1Ga8yqbS1"
      }
    },
    {
      "cell_type": "code",
      "source": [
        "plt.figure(figsize=(10, 7))\n",
        "# plot training data in blue\n",
        "plt.scatter(x_train, y_train, c='b', label='Training data')\n",
        "# plot test data\n",
        "plt.scatter(x_test, y_test, c='g', label='Test data')\n",
        "# show the legend\n",
        "plt.legend()"
      ],
      "metadata": {
        "colab": {
          "base_uri": "https://localhost:8080/",
          "height": 616
        },
        "id": "QGLaAVuSqhMV",
        "outputId": "bb142432-39e0-4a85-b5d8-c7c61c921d03"
      },
      "execution_count": 40,
      "outputs": [
        {
          "output_type": "execute_result",
          "data": {
            "text/plain": [
              "<matplotlib.legend.Legend at 0x7e2d250987f0>"
            ]
          },
          "metadata": {},
          "execution_count": 40
        },
        {
          "output_type": "display_data",
          "data": {
            "text/plain": [
              "<Figure size 1000x700 with 1 Axes>"
            ],
            "image/png": "[encoded data removed]"
          },
          "metadata": {}
        }
      ]
    },
    {
      "cell_type": "markdown",
      "source": [
        "## Training a neural network"
      ],
      "metadata": {
        "id": "ChbVlUPDS_ki"
      }
    },
    {
      "cell_type": "code",
      "source": [
        "tf.shape(x_train)"
      ],
      "metadata": {
        "colab": {
          "base_uri": "https://localhost:8080/"
        },
        "id": "-7d9MnOOTQ9K",
        "outputId": "d80dbd15-bbd2-45a8-b669-0ea43616d1f7"
      },
      "execution_count": 44,
      "outputs": [
        {
          "output_type": "execute_result",
          "data": {
            "text/plain": [
              "<tf.Tensor: shape=(2,), dtype=int32, numpy=array([40,  1], dtype=int32)>"
            ]
          },
          "metadata": {},
          "execution_count": 44
        }
      ]
    },
    {
      "cell_type": "code",
      "source": [
        "# build the model\n",
        "model = tf.keras.Sequential([\n",
        "    tf.keras.layers.Dense(3, input_shape=[1]),\n",
        "])\n",
        "\n",
        "# compile the model\n",
        "model.compile(loss=tf.keras.losses.mae,\n",
        "              optimizer=tf.keras.optimizers.SGD(),\n",
        "              metrics=['mae'])"
      ],
      "metadata": {
        "id": "B77t2i8WS-ZL"
      },
      "execution_count": 104,
      "outputs": []
    },
    {
      "cell_type": "code",
      "source": [
        "model.summary()"
      ],
      "metadata": {
        "colab": {
          "base_uri": "https://localhost:8080/"
        },
        "id": "or44b1aITuJ7",
        "outputId": "f5d687de-3c01-46ab-a347-69da4cfbe421"
      },
      "execution_count": 105,
      "outputs": [
        {
          "output_type": "stream",
          "name": "stdout",
          "text": [
            "Model: \"sequential_25\"\n",
            "_________________________________________________________________\n",
            " Layer (type)                Output Shape              Param #   \n",
            "=================================================================\n",
            " dense_40 (Dense)            (None, 3)                 6         \n",
            "                                                                 \n",
            "=================================================================\n",
            "Total params: 6\n",
            "Trainable params: 6\n",
            "Non-trainable params: 0\n",
            "_________________________________________________________________\n"
          ]
        }
      ]
    },
    {
      "cell_type": "markdown",
      "source": [
        "🧮🔑**Note:**🔑🧮\n",
        "*  Total params: Total number of parameters in the model.\n",
        "*  Trainable parameters: These are the parameters (paterns) the model can update as it trains.\n",
        "*  Non-trainable params: These parameters aren't updated during training (this is typical when you bring in already learn patterns or parameters from other models during **Transfer Learning**).\n",
        "\n",
        "\n",
        "**Complete details about trainable parameters within a layer:**\n",
        "\n",
        "📖**Resource:** [https://www.youtube.com/watch?v=njKP3FqW3Sk&list=PLHkKmgGGVneX2BzZVYGqcWbFw_7ymcZqv](https://www.youtube.com/watch?v=njKP3FqW3Sk&list=PLHkKmgGGVneX2BzZVYGqcWbFw_7ymcZqv)"
      ],
      "metadata": {
        "id": "Yqli5tU9Vo9K"
      }
    },
    {
      "cell_type": "code",
      "source": [
        "# fit the model\n",
        "model.fit(x_train, y_train, epochs=100)"
      ],
      "metadata": {
        "colab": {
          "base_uri": "https://localhost:8080/"
        },
        "id": "IgNOdsqETn0y",
        "outputId": "b4e5b426-8b47-4304-b884-0f6d8ace16b5"
      },
      "execution_count": 106,
      "outputs": [
        {
          "output_type": "stream",
          "name": "stdout",
          "text": [
            "Epoch 1/100\n",
            "2/2 [==============================] - 0s 8ms/step - loss: 44.7492 - mae: 44.7492\n",
            "Epoch 2/100\n",
            "2/2 [==============================] - 0s 7ms/step - loss: 35.6800 - mae: 35.6800\n",
            "Epoch 3/100\n",
            "2/2 [==============================] - 0s 8ms/step - loss: 27.6219 - mae: 27.6219\n",
            "Epoch 4/100\n",
            "2/2 [==============================] - 0s 7ms/step - loss: 19.8225 - mae: 19.8225\n",
            "Epoch 5/100\n",
            "2/2 [==============================] - 0s 6ms/step - loss: 14.1199 - mae: 14.1199\n",
            "Epoch 6/100\n",
            "2/2 [==============================] - 0s 7ms/step - loss: 10.2377 - mae: 10.2377\n",
            "Epoch 7/100\n",
            "2/2 [==============================] - 0s 6ms/step - loss: 8.1496 - mae: 8.1496\n",
            "Epoch 8/100\n",
            "2/2 [==============================] - 0s 5ms/step - loss: 7.7701 - mae: 7.7701\n",
            "Epoch 9/100\n",
            "2/2 [==============================] - 0s 5ms/step - loss: 8.8083 - mae: 8.8083\n",
            "Epoch 10/100\n",
            "2/2 [==============================] - 0s 7ms/step - loss: 8.6347 - mae: 8.6347\n",
            "Epoch 11/100\n",
            "2/2 [==============================] - 0s 5ms/step - loss: 7.8909 - mae: 7.8909\n",
            "Epoch 12/100\n",
            "2/2 [==============================] - 0s 6ms/step - loss: 7.7186 - mae: 7.7186\n",
            "Epoch 13/100\n",
            "2/2 [==============================] - 0s 8ms/step - loss: 8.0819 - mae: 8.0819\n",
            "Epoch 14/100\n",
            "2/2 [==============================] - 0s 6ms/step - loss: 8.0272 - mae: 8.0272\n",
            "Epoch 15/100\n",
            "2/2 [==============================] - 0s 7ms/step - loss: 8.7652 - mae: 8.7652\n",
            "Epoch 16/100\n",
            "2/2 [==============================] - 0s 6ms/step - loss: 7.6162 - mae: 7.6162\n",
            "Epoch 17/100\n",
            "2/2 [==============================] - 0s 8ms/step - loss: 7.7195 - mae: 7.7195\n",
            "Epoch 18/100\n",
            "2/2 [==============================] - 0s 8ms/step - loss: 8.4436 - mae: 8.4436\n",
            "Epoch 19/100\n",
            "2/2 [==============================] - 0s 7ms/step - loss: 9.1542 - mae: 9.1542\n",
            "Epoch 20/100\n",
            "2/2 [==============================] - 0s 7ms/step - loss: 7.8946 - mae: 7.8946\n",
            "Epoch 21/100\n",
            "2/2 [==============================] - 0s 6ms/step - loss: 8.4734 - mae: 8.4734\n",
            "Epoch 22/100\n",
            "2/2 [==============================] - 0s 7ms/step - loss: 8.4556 - mae: 8.4556\n",
            "Epoch 23/100\n",
            "2/2 [==============================] - 0s 6ms/step - loss: 7.6621 - mae: 7.6621\n",
            "Epoch 24/100\n",
            "2/2 [==============================] - 0s 7ms/step - loss: 8.5621 - mae: 8.5621\n",
            "Epoch 25/100\n",
            "2/2 [==============================] - 0s 6ms/step - loss: 8.3761 - mae: 8.3761\n",
            "Epoch 26/100\n",
            "2/2 [==============================] - 0s 12ms/step - loss: 8.0037 - mae: 8.0037\n",
            "Epoch 27/100\n",
            "2/2 [==============================] - 0s 9ms/step - loss: 8.3108 - mae: 8.3108\n",
            "Epoch 28/100\n",
            "2/2 [==============================] - 0s 8ms/step - loss: 8.1316 - mae: 8.1316\n",
            "Epoch 29/100\n",
            "2/2 [==============================] - 0s 8ms/step - loss: 7.8723 - mae: 7.8723\n",
            "Epoch 30/100\n",
            "2/2 [==============================] - 0s 7ms/step - loss: 10.5504 - mae: 10.5504\n",
            "Epoch 31/100\n",
            "2/2 [==============================] - 0s 8ms/step - loss: 10.4611 - mae: 10.4611\n",
            "Epoch 32/100\n",
            "2/2 [==============================] - 0s 8ms/step - loss: 7.4990 - mae: 7.4990\n",
            "Epoch 33/100\n",
            "2/2 [==============================] - 0s 10ms/step - loss: 7.5665 - mae: 7.5665\n",
            "Epoch 34/100\n",
            "2/2 [==============================] - 0s 8ms/step - loss: 9.0157 - mae: 9.0157\n",
            "Epoch 35/100\n",
            "2/2 [==============================] - 0s 7ms/step - loss: 8.0898 - mae: 8.0898\n",
            "Epoch 36/100\n",
            "2/2 [==============================] - 0s 8ms/step - loss: 9.5361 - mae: 9.5361\n",
            "Epoch 37/100\n",
            "2/2 [==============================] - 0s 8ms/step - loss: 7.9037 - mae: 7.9037\n",
            "Epoch 38/100\n",
            "2/2 [==============================] - 0s 7ms/step - loss: 7.9309 - mae: 7.9309\n",
            "Epoch 39/100\n",
            "2/2 [==============================] - 0s 7ms/step - loss: 8.8437 - mae: 8.8437\n",
            "Epoch 40/100\n",
            "2/2 [==============================] - 0s 8ms/step - loss: 8.8958 - mae: 8.8958\n",
            "Epoch 41/100\n",
            "2/2 [==============================] - 0s 9ms/step - loss: 7.4932 - mae: 7.4932\n",
            "Epoch 42/100\n",
            "2/2 [==============================] - 0s 6ms/step - loss: 7.5010 - mae: 7.5010\n",
            "Epoch 43/100\n",
            "2/2 [==============================] - 0s 7ms/step - loss: 7.4843 - mae: 7.4843\n",
            "Epoch 44/100\n",
            "2/2 [==============================] - 0s 8ms/step - loss: 7.5516 - mae: 7.5516\n",
            "Epoch 45/100\n",
            "2/2 [==============================] - 0s 9ms/step - loss: 8.7143 - mae: 8.7143\n",
            "Epoch 46/100\n",
            "2/2 [==============================] - 0s 8ms/step - loss: 8.1231 - mae: 8.1231\n",
            "Epoch 47/100\n",
            "2/2 [==============================] - 0s 6ms/step - loss: 7.6114 - mae: 7.6114\n",
            "Epoch 48/100\n",
            "2/2 [==============================] - 0s 7ms/step - loss: 7.7555 - mae: 7.7555\n",
            "Epoch 49/100\n",
            "2/2 [==============================] - 0s 7ms/step - loss: 7.4455 - mae: 7.4455\n",
            "Epoch 50/100\n",
            "2/2 [==============================] - 0s 7ms/step - loss: 8.7366 - mae: 8.7366\n",
            "Epoch 51/100\n",
            "2/2 [==============================] - 0s 8ms/step - loss: 7.9340 - mae: 7.9340\n",
            "Epoch 52/100\n",
            "2/2 [==============================] - 0s 7ms/step - loss: 8.3047 - mae: 8.3047\n",
            "Epoch 53/100\n",
            "2/2 [==============================] - 0s 7ms/step - loss: 9.2315 - mae: 9.2315\n",
            "Epoch 54/100\n",
            "2/2 [==============================] - 0s 7ms/step - loss: 7.7281 - mae: 7.7281\n",
            "Epoch 55/100\n",
            "2/2 [==============================] - 0s 9ms/step - loss: 8.3672 - mae: 8.3672\n",
            "Epoch 56/100\n",
            "2/2 [==============================] - 0s 6ms/step - loss: 8.0647 - mae: 8.0647\n",
            "Epoch 57/100\n",
            "2/2 [==============================] - 0s 7ms/step - loss: 8.6209 - mae: 8.6209\n",
            "Epoch 58/100\n",
            "2/2 [==============================] - 0s 7ms/step - loss: 7.8414 - mae: 7.8414\n",
            "Epoch 59/100\n",
            "2/2 [==============================] - 0s 8ms/step - loss: 7.4588 - mae: 7.4588\n",
            "Epoch 60/100\n",
            "2/2 [==============================] - 0s 8ms/step - loss: 8.1266 - mae: 8.1266\n",
            "Epoch 61/100\n",
            "2/2 [==============================] - 0s 6ms/step - loss: 8.0930 - mae: 8.0930\n",
            "Epoch 62/100\n",
            "2/2 [==============================] - 0s 8ms/step - loss: 8.0356 - mae: 8.0356\n",
            "Epoch 63/100\n",
            "2/2 [==============================] - 0s 6ms/step - loss: 8.2022 - mae: 8.2022\n",
            "Epoch 64/100\n",
            "2/2 [==============================] - 0s 8ms/step - loss: 9.0936 - mae: 9.0936\n",
            "Epoch 65/100\n",
            "2/2 [==============================] - 0s 7ms/step - loss: 8.3987 - mae: 8.3987\n",
            "Epoch 66/100\n",
            "2/2 [==============================] - 0s 8ms/step - loss: 8.1741 - mae: 8.1741\n",
            "Epoch 67/100\n",
            "2/2 [==============================] - 0s 7ms/step - loss: 7.5548 - mae: 7.5548\n",
            "Epoch 68/100\n",
            "2/2 [==============================] - 0s 7ms/step - loss: 8.0880 - mae: 8.0880\n",
            "Epoch 69/100\n",
            "2/2 [==============================] - 0s 8ms/step - loss: 9.1333 - mae: 9.1333\n",
            "Epoch 70/100\n",
            "2/2 [==============================] - 0s 6ms/step - loss: 7.6138 - mae: 7.6138\n",
            "Epoch 71/100\n",
            "2/2 [==============================] - 0s 8ms/step - loss: 8.6552 - mae: 8.6552\n",
            "Epoch 72/100\n",
            "2/2 [==============================] - 0s 8ms/step - loss: 7.9539 - mae: 7.9539\n",
            "Epoch 73/100\n",
            "2/2 [==============================] - 0s 7ms/step - loss: 8.2112 - mae: 8.2112\n",
            "Epoch 74/100\n",
            "2/2 [==============================] - 0s 7ms/step - loss: 8.8158 - mae: 8.8158\n",
            "Epoch 75/100\n",
            "2/2 [==============================] - 0s 8ms/step - loss: 7.6987 - mae: 7.6987\n",
            "Epoch 76/100\n",
            "2/2 [==============================] - 0s 8ms/step - loss: 7.4882 - mae: 7.4882\n",
            "Epoch 77/100\n",
            "2/2 [==============================] - 0s 7ms/step - loss: 8.0434 - mae: 8.0434\n",
            "Epoch 78/100\n",
            "2/2 [==============================] - 0s 8ms/step - loss: 7.4868 - mae: 7.4868\n",
            "Epoch 79/100\n",
            "2/2 [==============================] - 0s 8ms/step - loss: 8.3697 - mae: 8.3697\n",
            "Epoch 80/100\n",
            "2/2 [==============================] - 0s 7ms/step - loss: 7.8081 - mae: 7.8081\n",
            "Epoch 81/100\n",
            "2/2 [==============================] - 0s 7ms/step - loss: 7.7530 - mae: 7.7530\n",
            "Epoch 82/100\n",
            "2/2 [==============================] - 0s 7ms/step - loss: 8.1036 - mae: 8.1036\n",
            "Epoch 83/100\n",
            "2/2 [==============================] - 0s 8ms/step - loss: 7.4061 - mae: 7.4061\n",
            "Epoch 84/100\n",
            "2/2 [==============================] - 0s 8ms/step - loss: 7.4210 - mae: 7.4210\n",
            "Epoch 85/100\n",
            "2/2 [==============================] - 0s 7ms/step - loss: 8.6300 - mae: 8.6300\n",
            "Epoch 86/100\n",
            "2/2 [==============================] - 0s 7ms/step - loss: 7.9264 - mae: 7.9264\n",
            "Epoch 87/100\n",
            "2/2 [==============================] - 0s 7ms/step - loss: 7.5498 - mae: 7.5498\n",
            "Epoch 88/100\n",
            "2/2 [==============================] - 0s 7ms/step - loss: 9.9402 - mae: 9.9402\n",
            "Epoch 89/100\n",
            "2/2 [==============================] - 0s 10ms/step - loss: 7.3455 - mae: 7.3455\n",
            "Epoch 90/100\n",
            "2/2 [==============================] - 0s 12ms/step - loss: 9.0311 - mae: 9.0311\n",
            "Epoch 91/100\n",
            "2/2 [==============================] - 0s 9ms/step - loss: 7.4740 - mae: 7.4740\n",
            "Epoch 92/100\n",
            "2/2 [==============================] - 0s 7ms/step - loss: 7.8018 - mae: 7.8018\n",
            "Epoch 93/100\n",
            "2/2 [==============================] - 0s 9ms/step - loss: 7.6091 - mae: 7.6091\n",
            "Epoch 94/100\n",
            "2/2 [==============================] - 0s 8ms/step - loss: 8.2706 - mae: 8.2706\n",
            "Epoch 95/100\n",
            "2/2 [==============================] - 0s 8ms/step - loss: 8.4376 - mae: 8.4376\n",
            "Epoch 96/100\n",
            "2/2 [==============================] - 0s 7ms/step - loss: 7.3690 - mae: 7.3690\n",
            "Epoch 97/100\n",
            "2/2 [==============================] - 0s 8ms/step - loss: 9.2334 - mae: 9.2334\n",
            "Epoch 98/100\n",
            "2/2 [==============================] - 0s 8ms/step - loss: 7.2928 - mae: 7.2928\n",
            "Epoch 99/100\n",
            "2/2 [==============================] - 0s 7ms/step - loss: 7.5795 - mae: 7.5795\n",
            "Epoch 100/100\n",
            "2/2 [==============================] - 0s 7ms/step - loss: 8.1260 - mae: 8.1260\n"
          ]
        },
        {
          "output_type": "execute_result",
          "data": {
            "text/plain": [
              "<keras.callbacks.History at 0x7e2d18123340>"
            ]
          },
          "metadata": {},
          "execution_count": 106
        }
      ]
    }
  ]
}