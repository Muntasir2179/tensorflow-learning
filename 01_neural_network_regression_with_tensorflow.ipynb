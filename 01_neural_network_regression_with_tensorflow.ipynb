{
  "nbformat": 4,
  "nbformat_minor": 0,
  "metadata": {
    "colab": {
      "provenance": [],
      "toc_visible": true,
      "mount_file_id": "19NGTUD9kYEkItw9ziWKsQ1FhvIL1yUoG",
      "authorship_tag": "ABX9TyPDzxCI+c1PckPHnUUVBzC6",
      "include_colab_link": true
    },
    "kernelspec": {
      "name": "python3",
      "display_name": "Python 3"
    },
    "language_info": {
      "name": "python"
    },
    "accelerator": "TPU"
  },
  "cells": [
    {
      "cell_type": "markdown",
      "metadata": {
        "id": "view-in-github",
        "colab_type": "text"
      },
      "source": [
        "<a href=\"https://colab.research.google.com/github/Muntasir2179/tensorflow-learning/blob/neural-network-regression/01_neural_network_regression_with_tensorflow.ipynb\" target=\"_parent\"><img src=\"https://colab.research.google.com/assets/colab-badge.svg\" alt=\"Open In Colab\"/></a>"
      ]
    },
    {
      "cell_type": "markdown",
      "source": [
        "## Introduction to Regression with Neural Networks in TensorFlow\n",
        "\n",
        "> Indented block\n",
        "\n",
        "\n",
        "\n",
        "There are difinitions for a regression problem but in our case, we're going to simplify it: predicting a neumerical variable based on some other combination of variables, evem shorter...predicting a number."
      ],
      "metadata": {
        "id": "h7a0PkNKJryq"
      }
    },
    {
      "cell_type": "code",
      "execution_count": 1,
      "metadata": {
        "colab": {
          "base_uri": "https://localhost:8080/"
        },
        "id": "pV8ZUA1GJVU6",
        "outputId": "10643d5b-c1de-43d8-db8d-b2477f0c2987"
      },
      "outputs": [
        {
          "output_type": "stream",
          "name": "stdout",
          "text": [
            "2.12.0\n"
          ]
        }
      ],
      "source": [
        "# Import TensorFLow\n",
        "import tensorflow as tf\n",
        "print(tf.__version__)"
      ]
    },
    {
      "cell_type": "markdown",
      "source": [
        "## Creating data to view and fit"
      ],
      "metadata": {
        "id": "CCsPlLOUKupp"
      }
    },
    {
      "cell_type": "code",
      "source": [
        "import numpy as np\n",
        "import matplotlib.pyplot as plt\n",
        "\n",
        "# create features\n",
        "X = np.array([-7.0, -4.0, -1.0, 2.0, 5.0, 8.0, 11.0, 14.0])\n",
        "\n",
        "# create labels\n",
        "y = np.array([3.0, 6.0, 9.0, 12.0, 15.0, 18.0, 21.0, 24.0])"
      ],
      "metadata": {
        "id": "qT-lBKLNK1va"
      },
      "execution_count": 2,
      "outputs": []
    },
    {
      "cell_type": "code",
      "source": [
        "plt.scatter(X, y)"
      ],
      "metadata": {
        "colab": {
          "base_uri": "https://localhost:8080/",
          "height": 452
        },
        "id": "R3WV9iARL1Wf",
        "outputId": "783b2c46-93c3-456b-e4b9-51163abd7e92"
      },
      "execution_count": 3,
      "outputs": [
        {
          "output_type": "execute_result",
          "data": {
            "text/plain": [
              "<matplotlib.collections.PathCollection at 0x7ecf6c35bfd0>"
            ]
          },
          "metadata": {},
          "execution_count": 3
        },
        {
          "output_type": "display_data",
          "data": {
            "text/plain": [
              "<Figure size 640x480 with 1 Axes>"
            ],
            "image/png": "[encoded data removed]"
          },
          "metadata": {}
        }
      ]
    },
    {
      "cell_type": "code",
      "source": [
        "y == X + 10"
      ],
      "metadata": {
        "colab": {
          "base_uri": "https://localhost:8080/"
        },
        "id": "l65zPDBlMNWp",
        "outputId": "11b6b0e8-a609-4b71-a9b7-111352cc6414"
      },
      "execution_count": 4,
      "outputs": [
        {
          "output_type": "execute_result",
          "data": {
            "text/plain": [
              "array([ True,  True,  True,  True,  True,  True,  True,  True])"
            ]
          },
          "metadata": {},
          "execution_count": 4
        }
      ]
    },
    {
      "cell_type": "markdown",
      "source": [
        "## Input and Output shapes"
      ],
      "metadata": {
        "id": "MPtbLXzSMSEU"
      }
    },
    {
      "cell_type": "code",
      "source": [
        "# let's create a demo tensor for our housing price prediction problem\n",
        "house_info = tf.constant(['bedroom', 'bathroom', 'garage'])\n",
        "house_price = tf.constant([939700])\n",
        "house_info, house_price"
      ],
      "metadata": {
        "colab": {
          "base_uri": "https://localhost:8080/"
        },
        "id": "NuKAFxExMasI",
        "outputId": "14bac80c-368c-4ec9-ec53-959d859a7a0f"
      },
      "execution_count": 5,
      "outputs": [
        {
          "output_type": "execute_result",
          "data": {
            "text/plain": [
              "(<tf.Tensor: shape=(3,), dtype=string, numpy=array([b'bedroom', b'bathroom', b'garage'], dtype=object)>,\n",
              " <tf.Tensor: shape=(1,), dtype=int32, numpy=array([939700], dtype=int32)>)"
            ]
          },
          "metadata": {},
          "execution_count": 5
        }
      ]
    },
    {
      "cell_type": "code",
      "source": [
        "input_shape = X[0].shape\n",
        "output_shape = y[0].shape\n",
        "input_shape, output_shape"
      ],
      "metadata": {
        "colab": {
          "base_uri": "https://localhost:8080/"
        },
        "id": "oKW8OkUGODj5",
        "outputId": "6bfb2823-d87a-47e5-ea2d-5e656bf43951"
      },
      "execution_count": 6,
      "outputs": [
        {
          "output_type": "execute_result",
          "data": {
            "text/plain": [
              "((), ())"
            ]
          },
          "metadata": {},
          "execution_count": 6
        }
      ]
    },
    {
      "cell_type": "code",
      "source": [
        "X = np.reshape(X, (-1, 1))\n",
        "X"
      ],
      "metadata": {
        "colab": {
          "base_uri": "https://localhost:8080/"
        },
        "id": "aLXB2NLRugPK",
        "outputId": "d4d98b50-f14d-40b1-f9f4-87db89b56c81"
      },
      "execution_count": 7,
      "outputs": [
        {
          "output_type": "execute_result",
          "data": {
            "text/plain": [
              "array([[-7.],\n",
              "       [-4.],\n",
              "       [-1.],\n",
              "       [ 2.],\n",
              "       [ 5.],\n",
              "       [ 8.],\n",
              "       [11.],\n",
              "       [14.]])"
            ]
          },
          "metadata": {},
          "execution_count": 7
        }
      ]
    },
    {
      "cell_type": "code",
      "source": [
        "# turn our NumPy array into tensor\n",
        "X = tf.constant(X)\n",
        "y = tf.constant(y)\n",
        "X, y"
      ],
      "metadata": {
        "colab": {
          "base_uri": "https://localhost:8080/"
        },
        "id": "Evael_plOTFP",
        "outputId": "651980a4-7cc3-497c-f81c-49cc8dfb58d2"
      },
      "execution_count": 8,
      "outputs": [
        {
          "output_type": "execute_result",
          "data": {
            "text/plain": [
              "(<tf.Tensor: shape=(8, 1), dtype=float64, numpy=\n",
              " array([[-7.],\n",
              "        [-4.],\n",
              "        [-1.],\n",
              "        [ 2.],\n",
              "        [ 5.],\n",
              "        [ 8.],\n",
              "        [11.],\n",
              "        [14.]])>,\n",
              " <tf.Tensor: shape=(8,), dtype=float64, numpy=array([ 3.,  6.,  9., 12., 15., 18., 21., 24.])>)"
            ]
          },
          "metadata": {},
          "execution_count": 8
        }
      ]
    },
    {
      "cell_type": "markdown",
      "source": [
        "## Steps in modelling with TensorFlow\n",
        "\n",
        "1. Creting a model - define the input and output layers, as well as the hidden layers of a deep learning model.\n",
        "2. Compiling a model - define the loss function (in other words, the function which tells our model how wrong it is) and the optimizer (tells our model how to improve the patterns its learning) and evaluation matrics (what we can use to interpret the performance of our model).\n",
        "3. Fitting a model - letting the model try to find patterns between X & y (features and labels)."
      ],
      "metadata": {
        "id": "cQY0Dqt9Oz_n"
      }
    },
    {
      "cell_type": "code",
      "source": [
        "tf.random.set_seed(42)"
      ],
      "metadata": {
        "id": "Bu7aA2UuP4gv"
      },
      "execution_count": 9,
      "outputs": []
    },
    {
      "cell_type": "code",
      "source": [
        "# create a model using the Sequential API\n",
        "model = tf.keras.Sequential([\n",
        "    tf.keras.layers.Dense(1),\n",
        "])\n",
        "\n",
        "# compile the model\n",
        "model.compile(loss=tf.keras.losses.mae,\n",
        "              optimizer=tf.keras.optimizers.SGD(),\n",
        "              metrics=['mae'])\n",
        "\n",
        "# fit the model\n",
        "model.fit(X, y, epochs=5)"
      ],
      "metadata": {
        "colab": {
          "base_uri": "https://localhost:8080/"
        },
        "id": "w80oQ9R8TZTm",
        "outputId": "017a83ea-ecb9-4b8b-89e7-f8caf8b5f3a8"
      },
      "execution_count": 10,
      "outputs": [
        {
          "output_type": "stream",
          "name": "stdout",
          "text": [
            "Epoch 1/5\n",
            "1/1 [==============================] - 1s 791ms/step - loss: 12.0420 - mae: 12.0420\n",
            "Epoch 2/5\n",
            "1/1 [==============================] - 0s 21ms/step - loss: 11.9095 - mae: 11.9095\n",
            "Epoch 3/5\n",
            "1/1 [==============================] - 0s 17ms/step - loss: 11.7770 - mae: 11.7770\n",
            "Epoch 4/5\n",
            "1/1 [==============================] - 0s 14ms/step - loss: 11.6445 - mae: 11.6445\n",
            "Epoch 5/5\n",
            "1/1 [==============================] - 0s 16ms/step - loss: 11.5120 - mae: 11.5120\n"
          ]
        },
        {
          "output_type": "execute_result",
          "data": {
            "text/plain": [
              "<keras.callbacks.History at 0x7ecf68163f10>"
            ]
          },
          "metadata": {},
          "execution_count": 10
        }
      ]
    },
    {
      "cell_type": "markdown",
      "source": [
        "## Getting prediction form the model"
      ],
      "metadata": {
        "id": "6n3WCfFhxBCF"
      }
    },
    {
      "cell_type": "code",
      "source": [
        "model.predict([17.0])"
      ],
      "metadata": {
        "colab": {
          "base_uri": "https://localhost:8080/"
        },
        "id": "NFc3BWTAxD6h",
        "outputId": "a5a88126-2690-4c14-f48e-e2f4faf13b46"
      },
      "execution_count": 11,
      "outputs": [
        {
          "output_type": "stream",
          "name": "stdout",
          "text": [
            "1/1 [==============================] - 0s 180ms/step\n"
          ]
        },
        {
          "output_type": "execute_result",
          "data": {
            "text/plain": [
              "array([[10.106709]], dtype=float32)"
            ]
          },
          "metadata": {},
          "execution_count": 11
        }
      ]
    },
    {
      "cell_type": "markdown",
      "source": [
        "## Improving the model\n",
        "\n",
        "We can improve our model, by altering the steps we took to create a model.\n",
        "\n",
        "1. **Creating a model** - Here we might add more layers, increases the number of hidden units (all called neurons) within each of the hidden layers, change the activation function of each layer.\n",
        "2. **Compiling model** - Here we might change the optimization function or perhaps the learning rate of the optimization function.\n",
        "3. **Fitting the model** - Here we might fit a model for more epochs (leave ot training for longer) or on more data (give the model more examples to learn from)."
      ],
      "metadata": {
        "id": "qQ9xswcEzluR"
      }
    },
    {
      "cell_type": "markdown",
      "source": [
        "### Increasing number of epochs"
      ],
      "metadata": {
        "id": "yiFieMWO5d9x"
      }
    },
    {
      "cell_type": "code",
      "source": [
        "# lets recreate the model\n",
        "# Increasing the number of epochs\n",
        "model = tf.keras.Sequential([\n",
        "    tf.keras.layers.Dense(1),\n",
        "])\n",
        "\n",
        "# compile the model\n",
        "model.compile(loss=tf.keras.losses.mae,\n",
        "              optimizer=tf.keras.optimizers.SGD(),\n",
        "              metrics=['mae'])\n",
        "\n",
        "# fit the model\n",
        "model.fit(X, y, epochs=100)"
      ],
      "metadata": {
        "colab": {
          "base_uri": "https://localhost:8080/"
        },
        "id": "62_EcQzRzlQz",
        "outputId": "b71bd4c2-2a51-44d7-a254-ed035effff6a"
      },
      "execution_count": 12,
      "outputs": [
        {
          "output_type": "stream",
          "name": "stdout",
          "text": [
            "Epoch 1/100\n",
            "1/1 [==============================] - 1s 542ms/step - loss: 9.6415 - mae: 9.6415\n",
            "Epoch 2/100\n",
            "1/1 [==============================] - 0s 11ms/step - loss: 9.5090 - mae: 9.5090\n",
            "Epoch 3/100\n",
            "1/1 [==============================] - 0s 16ms/step - loss: 9.3765 - mae: 9.3765\n",
            "Epoch 4/100\n",
            "1/1 [==============================] - 0s 15ms/step - loss: 9.2440 - mae: 9.2440\n",
            "Epoch 5/100\n",
            "1/1 [==============================] - 0s 16ms/step - loss: 9.1115 - mae: 9.1115\n",
            "Epoch 6/100\n",
            "1/1 [==============================] - 0s 18ms/step - loss: 8.9790 - mae: 8.9790\n",
            "Epoch 7/100\n",
            "1/1 [==============================] - 0s 22ms/step - loss: 8.8465 - mae: 8.8465\n",
            "Epoch 8/100\n",
            "1/1 [==============================] - 0s 19ms/step - loss: 8.7140 - mae: 8.7140\n",
            "Epoch 9/100\n",
            "1/1 [==============================] - 0s 17ms/step - loss: 8.5815 - mae: 8.5815\n",
            "Epoch 10/100\n",
            "1/1 [==============================] - 0s 16ms/step - loss: 8.4490 - mae: 8.4490\n",
            "Epoch 11/100\n",
            "1/1 [==============================] - 0s 25ms/step - loss: 8.3165 - mae: 8.3165\n",
            "Epoch 12/100\n",
            "1/1 [==============================] - 0s 17ms/step - loss: 8.1840 - mae: 8.1840\n",
            "Epoch 13/100\n",
            "1/1 [==============================] - 0s 15ms/step - loss: 8.0515 - mae: 8.0515\n",
            "Epoch 14/100\n",
            "1/1 [==============================] - 0s 11ms/step - loss: 7.9190 - mae: 7.9190\n",
            "Epoch 15/100\n",
            "1/1 [==============================] - 0s 12ms/step - loss: 7.7865 - mae: 7.7865\n",
            "Epoch 16/100\n",
            "1/1 [==============================] - 0s 12ms/step - loss: 7.6540 - mae: 7.6540\n",
            "Epoch 17/100\n",
            "1/1 [==============================] - 0s 13ms/step - loss: 7.5215 - mae: 7.5215\n",
            "Epoch 18/100\n",
            "1/1 [==============================] - 0s 11ms/step - loss: 7.3890 - mae: 7.3890\n",
            "Epoch 19/100\n",
            "1/1 [==============================] - 0s 11ms/step - loss: 7.3650 - mae: 7.3650\n",
            "Epoch 20/100\n",
            "1/1 [==============================] - 0s 11ms/step - loss: 7.3594 - mae: 7.3594\n",
            "Epoch 21/100\n",
            "1/1 [==============================] - 0s 11ms/step - loss: 7.3538 - mae: 7.3538\n",
            "Epoch 22/100\n",
            "1/1 [==============================] - 0s 13ms/step - loss: 7.3481 - mae: 7.3481\n",
            "Epoch 23/100\n",
            "1/1 [==============================] - 0s 12ms/step - loss: 7.3425 - mae: 7.3425\n",
            "Epoch 24/100\n",
            "1/1 [==============================] - 0s 15ms/step - loss: 7.3369 - mae: 7.3369\n",
            "Epoch 25/100\n",
            "1/1 [==============================] - 0s 11ms/step - loss: 7.3313 - mae: 7.3313\n",
            "Epoch 26/100\n",
            "1/1 [==============================] - 0s 10ms/step - loss: 7.3256 - mae: 7.3256\n",
            "Epoch 27/100\n",
            "1/1 [==============================] - 0s 15ms/step - loss: 7.3200 - mae: 7.3200\n",
            "Epoch 28/100\n",
            "1/1 [==============================] - 0s 14ms/step - loss: 7.3144 - mae: 7.3144\n",
            "Epoch 29/100\n",
            "1/1 [==============================] - 0s 15ms/step - loss: 7.3087 - mae: 7.3087\n",
            "Epoch 30/100\n",
            "1/1 [==============================] - 0s 14ms/step - loss: 7.3031 - mae: 7.3031\n",
            "Epoch 31/100\n",
            "1/1 [==============================] - 0s 11ms/step - loss: 7.2975 - mae: 7.2975\n",
            "Epoch 32/100\n",
            "1/1 [==============================] - 0s 9ms/step - loss: 7.2919 - mae: 7.2919\n",
            "Epoch 33/100\n",
            "1/1 [==============================] - 0s 13ms/step - loss: 7.2863 - mae: 7.2863\n",
            "Epoch 34/100\n",
            "1/1 [==============================] - 0s 30ms/step - loss: 7.2806 - mae: 7.2806\n",
            "Epoch 35/100\n",
            "1/1 [==============================] - 0s 18ms/step - loss: 7.2750 - mae: 7.2750\n",
            "Epoch 36/100\n",
            "1/1 [==============================] - 0s 23ms/step - loss: 7.2694 - mae: 7.2694\n",
            "Epoch 37/100\n",
            "1/1 [==============================] - 0s 27ms/step - loss: 7.2638 - mae: 7.2638\n",
            "Epoch 38/100\n",
            "1/1 [==============================] - 0s 23ms/step - loss: 7.2581 - mae: 7.2581\n",
            "Epoch 39/100\n",
            "1/1 [==============================] - 0s 29ms/step - loss: 7.2525 - mae: 7.2525\n",
            "Epoch 40/100\n",
            "1/1 [==============================] - 0s 24ms/step - loss: 7.2469 - mae: 7.2469\n",
            "Epoch 41/100\n",
            "1/1 [==============================] - 0s 24ms/step - loss: 7.2413 - mae: 7.2413\n",
            "Epoch 42/100\n",
            "1/1 [==============================] - 0s 27ms/step - loss: 7.2356 - mae: 7.2356\n",
            "Epoch 43/100\n",
            "1/1 [==============================] - 0s 20ms/step - loss: 7.2300 - mae: 7.2300\n",
            "Epoch 44/100\n",
            "1/1 [==============================] - 0s 18ms/step - loss: 7.2244 - mae: 7.2244\n",
            "Epoch 45/100\n",
            "1/1 [==============================] - 0s 19ms/step - loss: 7.2188 - mae: 7.2188\n",
            "Epoch 46/100\n",
            "1/1 [==============================] - 0s 23ms/step - loss: 7.2131 - mae: 7.2131\n",
            "Epoch 47/100\n",
            "1/1 [==============================] - 0s 33ms/step - loss: 7.2075 - mae: 7.2075\n",
            "Epoch 48/100\n",
            "1/1 [==============================] - 0s 21ms/step - loss: 7.2019 - mae: 7.2019\n",
            "Epoch 49/100\n",
            "1/1 [==============================] - 0s 71ms/step - loss: 7.1962 - mae: 7.1962\n",
            "Epoch 50/100\n",
            "1/1 [==============================] - 0s 19ms/step - loss: 7.1906 - mae: 7.1906\n",
            "Epoch 51/100\n",
            "1/1 [==============================] - 0s 35ms/step - loss: 7.1850 - mae: 7.1850\n",
            "Epoch 52/100\n",
            "1/1 [==============================] - 0s 20ms/step - loss: 7.1794 - mae: 7.1794\n",
            "Epoch 53/100\n",
            "1/1 [==============================] - 0s 18ms/step - loss: 7.1738 - mae: 7.1738\n",
            "Epoch 54/100\n",
            "1/1 [==============================] - 0s 20ms/step - loss: 7.1681 - mae: 7.1681\n",
            "Epoch 55/100\n",
            "1/1 [==============================] - 0s 19ms/step - loss: 7.1625 - mae: 7.1625\n",
            "Epoch 56/100\n",
            "1/1 [==============================] - 0s 17ms/step - loss: 7.1569 - mae: 7.1569\n",
            "Epoch 57/100\n",
            "1/1 [==============================] - 0s 18ms/step - loss: 7.1513 - mae: 7.1513\n",
            "Epoch 58/100\n",
            "1/1 [==============================] - 0s 19ms/step - loss: 7.1456 - mae: 7.1456\n",
            "Epoch 59/100\n",
            "1/1 [==============================] - 0s 18ms/step - loss: 7.1400 - mae: 7.1400\n",
            "Epoch 60/100\n",
            "1/1 [==============================] - 0s 22ms/step - loss: 7.1344 - mae: 7.1344\n",
            "Epoch 61/100\n",
            "1/1 [==============================] - 0s 31ms/step - loss: 7.1287 - mae: 7.1287\n",
            "Epoch 62/100\n",
            "1/1 [==============================] - 0s 18ms/step - loss: 7.1231 - mae: 7.1231\n",
            "Epoch 63/100\n",
            "1/1 [==============================] - 0s 24ms/step - loss: 7.1175 - mae: 7.1175\n",
            "Epoch 64/100\n",
            "1/1 [==============================] - 0s 18ms/step - loss: 7.1119 - mae: 7.1119\n",
            "Epoch 65/100\n",
            "1/1 [==============================] - 0s 20ms/step - loss: 7.1063 - mae: 7.1063\n",
            "Epoch 66/100\n",
            "1/1 [==============================] - 0s 19ms/step - loss: 7.1006 - mae: 7.1006\n",
            "Epoch 67/100\n",
            "1/1 [==============================] - 0s 16ms/step - loss: 7.0950 - mae: 7.0950\n",
            "Epoch 68/100\n",
            "1/1 [==============================] - 0s 21ms/step - loss: 7.0894 - mae: 7.0894\n",
            "Epoch 69/100\n",
            "1/1 [==============================] - 0s 25ms/step - loss: 7.0838 - mae: 7.0838\n",
            "Epoch 70/100\n",
            "1/1 [==============================] - 0s 19ms/step - loss: 7.0781 - mae: 7.0781\n",
            "Epoch 71/100\n",
            "1/1 [==============================] - 0s 24ms/step - loss: 7.0725 - mae: 7.0725\n",
            "Epoch 72/100\n",
            "1/1 [==============================] - 0s 18ms/step - loss: 7.0669 - mae: 7.0669\n",
            "Epoch 73/100\n",
            "1/1 [==============================] - 0s 14ms/step - loss: 7.0612 - mae: 7.0612\n",
            "Epoch 74/100\n",
            "1/1 [==============================] - 0s 15ms/step - loss: 7.0556 - mae: 7.0556\n",
            "Epoch 75/100\n",
            "1/1 [==============================] - 0s 42ms/step - loss: 7.0500 - mae: 7.0500\n",
            "Epoch 76/100\n",
            "1/1 [==============================] - 0s 17ms/step - loss: 7.0444 - mae: 7.0444\n",
            "Epoch 77/100\n",
            "1/1 [==============================] - 0s 25ms/step - loss: 7.0388 - mae: 7.0388\n",
            "Epoch 78/100\n",
            "1/1 [==============================] - 0s 23ms/step - loss: 7.0331 - mae: 7.0331\n",
            "Epoch 79/100\n",
            "1/1 [==============================] - 0s 15ms/step - loss: 7.0275 - mae: 7.0275\n",
            "Epoch 80/100\n",
            "1/1 [==============================] - 0s 30ms/step - loss: 7.0219 - mae: 7.0219\n",
            "Epoch 81/100\n",
            "1/1 [==============================] - 0s 16ms/step - loss: 7.0163 - mae: 7.0163\n",
            "Epoch 82/100\n",
            "1/1 [==============================] - 0s 26ms/step - loss: 7.0106 - mae: 7.0106\n",
            "Epoch 83/100\n",
            "1/1 [==============================] - 0s 23ms/step - loss: 7.0050 - mae: 7.0050\n",
            "Epoch 84/100\n",
            "1/1 [==============================] - 0s 25ms/step - loss: 6.9994 - mae: 6.9994\n",
            "Epoch 85/100\n",
            "1/1 [==============================] - 0s 22ms/step - loss: 6.9938 - mae: 6.9938\n",
            "Epoch 86/100\n",
            "1/1 [==============================] - 0s 32ms/step - loss: 6.9881 - mae: 6.9881\n",
            "Epoch 87/100\n",
            "1/1 [==============================] - 0s 28ms/step - loss: 6.9825 - mae: 6.9825\n",
            "Epoch 88/100\n",
            "1/1 [==============================] - 0s 34ms/step - loss: 6.9769 - mae: 6.9769\n",
            "Epoch 89/100\n",
            "1/1 [==============================] - 0s 26ms/step - loss: 6.9713 - mae: 6.9713\n",
            "Epoch 90/100\n",
            "1/1 [==============================] - 0s 21ms/step - loss: 6.9656 - mae: 6.9656\n",
            "Epoch 91/100\n",
            "1/1 [==============================] - 0s 48ms/step - loss: 6.9600 - mae: 6.9600\n",
            "Epoch 92/100\n",
            "1/1 [==============================] - 0s 15ms/step - loss: 6.9544 - mae: 6.9544\n",
            "Epoch 93/100\n",
            "1/1 [==============================] - 0s 18ms/step - loss: 6.9488 - mae: 6.9488\n",
            "Epoch 94/100\n",
            "1/1 [==============================] - 0s 17ms/step - loss: 6.9431 - mae: 6.9431\n",
            "Epoch 95/100\n",
            "1/1 [==============================] - 0s 17ms/step - loss: 6.9375 - mae: 6.9375\n",
            "Epoch 96/100\n",
            "1/1 [==============================] - 0s 18ms/step - loss: 6.9319 - mae: 6.9319\n",
            "Epoch 97/100\n",
            "1/1 [==============================] - 0s 18ms/step - loss: 6.9263 - mae: 6.9263\n",
            "Epoch 98/100\n",
            "1/1 [==============================] - 0s 14ms/step - loss: 6.9206 - mae: 6.9206\n",
            "Epoch 99/100\n",
            "1/1 [==============================] - 0s 21ms/step - loss: 6.9150 - mae: 6.9150\n",
            "Epoch 100/100\n",
            "1/1 [==============================] - 0s 26ms/step - loss: 6.9094 - mae: 6.9094\n"
          ]
        },
        {
          "output_type": "execute_result",
          "data": {
            "text/plain": [
              "<keras.callbacks.History at 0x7ecf68162ec0>"
            ]
          },
          "metadata": {},
          "execution_count": 12
        }
      ]
    },
    {
      "cell_type": "code",
      "source": [
        "# remind ourselves of the data\n",
        "X, y"
      ],
      "metadata": {
        "colab": {
          "base_uri": "https://localhost:8080/"
        },
        "id": "CuiJN-b12oVJ",
        "outputId": "c3af64e2-24fe-490f-c28e-f0de5034e1ed"
      },
      "execution_count": 13,
      "outputs": [
        {
          "output_type": "execute_result",
          "data": {
            "text/plain": [
              "(<tf.Tensor: shape=(8, 1), dtype=float64, numpy=\n",
              " array([[-7.],\n",
              "        [-4.],\n",
              "        [-1.],\n",
              "        [ 2.],\n",
              "        [ 5.],\n",
              "        [ 8.],\n",
              "        [11.],\n",
              "        [14.]])>,\n",
              " <tf.Tensor: shape=(8,), dtype=float64, numpy=array([ 3.,  6.,  9., 12., 15., 18., 21., 24.])>)"
            ]
          },
          "metadata": {},
          "execution_count": 13
        }
      ]
    },
    {
      "cell_type": "code",
      "source": [
        "# let's see if our model's predictino has improved\n",
        "model.predict([17.0])"
      ],
      "metadata": {
        "colab": {
          "base_uri": "https://localhost:8080/"
        },
        "id": "4YP60zlc2vnx",
        "outputId": "5a05dabb-98e4-45a4-9ef6-1d84b6496253"
      },
      "execution_count": 14,
      "outputs": [
        {
          "output_type": "stream",
          "name": "stdout",
          "text": [
            "1/1 [==============================] - 0s 122ms/step\n"
          ]
        },
        {
          "output_type": "execute_result",
          "data": {
            "text/plain": [
              "array([[30.24639]], dtype=float32)"
            ]
          },
          "metadata": {},
          "execution_count": 14
        }
      ]
    },
    {
      "cell_type": "markdown",
      "source": [
        "### Adding more hidden units with activation function"
      ],
      "metadata": {
        "id": "JJ5bRvcd5kBJ"
      }
    },
    {
      "cell_type": "code",
      "source": [
        "# redefining the model but this time we are adding more hidden units\n",
        "model = tf.keras.Sequential([\n",
        "    tf.keras.layers.Dense(50, activation=None),\n",
        "    tf.keras.layers.Dense(1)\n",
        "])\n",
        "\n",
        "# compile the model\n",
        "model.compile(loss=tf.keras.losses.mae,\n",
        "              optimizer=tf.keras.optimizers.SGD(),\n",
        "              metrics=['mae'])\n",
        "\n",
        "# fit the model\n",
        "model.fit(X, y, epochs=100)"
      ],
      "metadata": {
        "colab": {
          "base_uri": "https://localhost:8080/"
        },
        "id": "jXdf2nLI3OKy",
        "outputId": "ce6f7eb3-f7f6-42bf-8a93-1864816fdd72"
      },
      "execution_count": 15,
      "outputs": [
        {
          "output_type": "stream",
          "name": "stdout",
          "text": [
            "Epoch 1/100\n",
            "1/1 [==============================] - 1s 803ms/step - loss: 14.5754 - mae: 14.5754\n",
            "Epoch 2/100\n",
            "1/1 [==============================] - 0s 23ms/step - loss: 14.1269 - mae: 14.1269\n",
            "Epoch 3/100\n",
            "1/1 [==============================] - 0s 15ms/step - loss: 13.6831 - mae: 13.6831\n",
            "Epoch 4/100\n",
            "1/1 [==============================] - 0s 33ms/step - loss: 13.2414 - mae: 13.2414\n",
            "Epoch 5/100\n",
            "1/1 [==============================] - 0s 13ms/step - loss: 12.7997 - mae: 12.7997\n",
            "Epoch 6/100\n",
            "1/1 [==============================] - 0s 21ms/step - loss: 12.3556 - mae: 12.3556\n",
            "Epoch 7/100\n",
            "1/1 [==============================] - 0s 15ms/step - loss: 11.9068 - mae: 11.9068\n",
            "Epoch 8/100\n",
            "1/1 [==============================] - 0s 19ms/step - loss: 11.4511 - mae: 11.4511\n",
            "Epoch 9/100\n",
            "1/1 [==============================] - 0s 16ms/step - loss: 10.9861 - mae: 10.9861\n",
            "Epoch 10/100\n",
            "1/1 [==============================] - 0s 35ms/step - loss: 10.5095 - mae: 10.5095\n",
            "Epoch 11/100\n",
            "1/1 [==============================] - 0s 24ms/step - loss: 10.0186 - mae: 10.0186\n",
            "Epoch 12/100\n",
            "1/1 [==============================] - 0s 21ms/step - loss: 9.5112 - mae: 9.5112\n",
            "Epoch 13/100\n",
            "1/1 [==============================] - 0s 27ms/step - loss: 8.9845 - mae: 8.9845\n",
            "Epoch 14/100\n",
            "1/1 [==============================] - 0s 18ms/step - loss: 8.4359 - mae: 8.4359\n",
            "Epoch 15/100\n",
            "1/1 [==============================] - 0s 21ms/step - loss: 7.8625 - mae: 7.8625\n",
            "Epoch 16/100\n",
            "1/1 [==============================] - 0s 21ms/step - loss: 7.2616 - mae: 7.2616\n",
            "Epoch 17/100\n",
            "1/1 [==============================] - 0s 25ms/step - loss: 7.1363 - mae: 7.1363\n",
            "Epoch 18/100\n",
            "1/1 [==============================] - 0s 19ms/step - loss: 7.1166 - mae: 7.1166\n",
            "Epoch 19/100\n",
            "1/1 [==============================] - 0s 17ms/step - loss: 7.0969 - mae: 7.0969\n",
            "Epoch 20/100\n",
            "1/1 [==============================] - 0s 24ms/step - loss: 7.0770 - mae: 7.0770\n",
            "Epoch 21/100\n",
            "1/1 [==============================] - 0s 13ms/step - loss: 7.0572 - mae: 7.0572\n",
            "Epoch 22/100\n",
            "1/1 [==============================] - 0s 14ms/step - loss: 7.0372 - mae: 7.0372\n",
            "Epoch 23/100\n",
            "1/1 [==============================] - 0s 13ms/step - loss: 7.0172 - mae: 7.0172\n",
            "Epoch 24/100\n",
            "1/1 [==============================] - 0s 21ms/step - loss: 6.9971 - mae: 6.9971\n",
            "Epoch 25/100\n",
            "1/1 [==============================] - 0s 12ms/step - loss: 6.9770 - mae: 6.9770\n",
            "Epoch 26/100\n",
            "1/1 [==============================] - 0s 11ms/step - loss: 6.9567 - mae: 6.9567\n",
            "Epoch 27/100\n",
            "1/1 [==============================] - 0s 14ms/step - loss: 6.9421 - mae: 6.9421\n",
            "Epoch 28/100\n",
            "1/1 [==============================] - 0s 36ms/step - loss: 6.9297 - mae: 6.9297\n",
            "Epoch 29/100\n",
            "1/1 [==============================] - 0s 19ms/step - loss: 6.9098 - mae: 6.9098\n",
            "Epoch 30/100\n",
            "1/1 [==============================] - 0s 19ms/step - loss: 6.8898 - mae: 6.8898\n",
            "Epoch 31/100\n",
            "1/1 [==============================] - 0s 22ms/step - loss: 6.8697 - mae: 6.8697\n",
            "Epoch 32/100\n",
            "1/1 [==============================] - 0s 18ms/step - loss: 6.8495 - mae: 6.8495\n",
            "Epoch 33/100\n",
            "1/1 [==============================] - 0s 18ms/step - loss: 6.8292 - mae: 6.8292\n",
            "Epoch 34/100\n",
            "1/1 [==============================] - 0s 24ms/step - loss: 6.8088 - mae: 6.8088\n",
            "Epoch 35/100\n",
            "1/1 [==============================] - 0s 20ms/step - loss: 6.7884 - mae: 6.7884\n",
            "Epoch 36/100\n",
            "1/1 [==============================] - 0s 20ms/step - loss: 6.7678 - mae: 6.7678\n",
            "Epoch 37/100\n",
            "1/1 [==============================] - 0s 32ms/step - loss: 6.7471 - mae: 6.7471\n",
            "Epoch 38/100\n",
            "1/1 [==============================] - 0s 20ms/step - loss: 6.7262 - mae: 6.7262\n",
            "Epoch 39/100\n",
            "1/1 [==============================] - 0s 24ms/step - loss: 6.7053 - mae: 6.7053\n",
            "Epoch 40/100\n",
            "1/1 [==============================] - 0s 28ms/step - loss: 6.6842 - mae: 6.6842\n",
            "Epoch 41/100\n",
            "1/1 [==============================] - 0s 18ms/step - loss: 6.6630 - mae: 6.6630\n",
            "Epoch 42/100\n",
            "1/1 [==============================] - 0s 28ms/step - loss: 6.6417 - mae: 6.6417\n",
            "Epoch 43/100\n",
            "1/1 [==============================] - 0s 19ms/step - loss: 6.6202 - mae: 6.6202\n",
            "Epoch 44/100\n",
            "1/1 [==============================] - 0s 17ms/step - loss: 6.5986 - mae: 6.5986\n",
            "Epoch 45/100\n",
            "1/1 [==============================] - 0s 12ms/step - loss: 6.5769 - mae: 6.5769\n",
            "Epoch 46/100\n",
            "1/1 [==============================] - 0s 13ms/step - loss: 6.5550 - mae: 6.5550\n",
            "Epoch 47/100\n",
            "1/1 [==============================] - 0s 26ms/step - loss: 6.5330 - mae: 6.5330\n",
            "Epoch 48/100\n",
            "1/1 [==============================] - 0s 24ms/step - loss: 6.5108 - mae: 6.5108\n",
            "Epoch 49/100\n",
            "1/1 [==============================] - 0s 21ms/step - loss: 6.4885 - mae: 6.4885\n",
            "Epoch 50/100\n",
            "1/1 [==============================] - 0s 23ms/step - loss: 6.4660 - mae: 6.4660\n",
            "Epoch 51/100\n",
            "1/1 [==============================] - 0s 23ms/step - loss: 6.4591 - mae: 6.4591\n",
            "Epoch 52/100\n",
            "1/1 [==============================] - 0s 16ms/step - loss: 6.4411 - mae: 6.4411\n",
            "Epoch 53/100\n",
            "1/1 [==============================] - 0s 21ms/step - loss: 6.4187 - mae: 6.4187\n",
            "Epoch 54/100\n",
            "1/1 [==============================] - 0s 25ms/step - loss: 6.3961 - mae: 6.3961\n",
            "Epoch 55/100\n",
            "1/1 [==============================] - 0s 23ms/step - loss: 6.3734 - mae: 6.3734\n",
            "Epoch 56/100\n",
            "1/1 [==============================] - 0s 26ms/step - loss: 6.3505 - mae: 6.3505\n",
            "Epoch 57/100\n",
            "1/1 [==============================] - 0s 22ms/step - loss: 6.3274 - mae: 6.3274\n",
            "Epoch 58/100\n",
            "1/1 [==============================] - 0s 24ms/step - loss: 6.3041 - mae: 6.3041\n",
            "Epoch 59/100\n",
            "1/1 [==============================] - 0s 21ms/step - loss: 6.2807 - mae: 6.2807\n",
            "Epoch 60/100\n",
            "1/1 [==============================] - 0s 17ms/step - loss: 6.2570 - mae: 6.2570\n",
            "Epoch 61/100\n",
            "1/1 [==============================] - 0s 15ms/step - loss: 6.2332 - mae: 6.2332\n",
            "Epoch 62/100\n",
            "1/1 [==============================] - 0s 14ms/step - loss: 6.2091 - mae: 6.2091\n",
            "Epoch 63/100\n",
            "1/1 [==============================] - 0s 14ms/step - loss: 6.1849 - mae: 6.1849\n",
            "Epoch 64/100\n",
            "1/1 [==============================] - 0s 16ms/step - loss: 6.1604 - mae: 6.1604\n",
            "Epoch 65/100\n",
            "1/1 [==============================] - 0s 16ms/step - loss: 6.1357 - mae: 6.1357\n",
            "Epoch 66/100\n",
            "1/1 [==============================] - 0s 18ms/step - loss: 6.1108 - mae: 6.1108\n",
            "Epoch 67/100\n",
            "1/1 [==============================] - 0s 21ms/step - loss: 6.0857 - mae: 6.0857\n",
            "Epoch 68/100\n",
            "1/1 [==============================] - 0s 26ms/step - loss: 6.0603 - mae: 6.0603\n",
            "Epoch 69/100\n",
            "1/1 [==============================] - 0s 15ms/step - loss: 6.0585 - mae: 6.0585\n",
            "Epoch 70/100\n",
            "1/1 [==============================] - 0s 33ms/step - loss: 6.0345 - mae: 6.0345\n",
            "Epoch 71/100\n",
            "1/1 [==============================] - 0s 19ms/step - loss: 6.0091 - mae: 6.0091\n",
            "Epoch 72/100\n",
            "1/1 [==============================] - 0s 21ms/step - loss: 5.9834 - mae: 5.9834\n",
            "Epoch 73/100\n",
            "1/1 [==============================] - 0s 26ms/step - loss: 5.9575 - mae: 5.9575\n",
            "Epoch 74/100\n",
            "1/1 [==============================] - 0s 24ms/step - loss: 5.9313 - mae: 5.9313\n",
            "Epoch 75/100\n",
            "1/1 [==============================] - 0s 25ms/step - loss: 5.9049 - mae: 5.9049\n",
            "Epoch 76/100\n",
            "1/1 [==============================] - 0s 17ms/step - loss: 5.8782 - mae: 5.8782\n",
            "Epoch 77/100\n",
            "1/1 [==============================] - 0s 34ms/step - loss: 5.8512 - mae: 5.8512\n",
            "Epoch 78/100\n",
            "1/1 [==============================] - 0s 28ms/step - loss: 5.8240 - mae: 5.8240\n",
            "Epoch 79/100\n",
            "1/1 [==============================] - 0s 30ms/step - loss: 5.7965 - mae: 5.7965\n",
            "Epoch 80/100\n",
            "1/1 [==============================] - 0s 23ms/step - loss: 5.7688 - mae: 5.7688\n",
            "Epoch 81/100\n",
            "1/1 [==============================] - 0s 17ms/step - loss: 5.7407 - mae: 5.7407\n",
            "Epoch 82/100\n",
            "1/1 [==============================] - 0s 16ms/step - loss: 5.7124 - mae: 5.7124\n",
            "Epoch 83/100\n",
            "1/1 [==============================] - 0s 19ms/step - loss: 5.6838 - mae: 5.6838\n",
            "Epoch 84/100\n",
            "1/1 [==============================] - 0s 16ms/step - loss: 5.6746 - mae: 5.6746\n",
            "Epoch 85/100\n",
            "1/1 [==============================] - 0s 21ms/step - loss: 5.6553 - mae: 5.6553\n",
            "Epoch 86/100\n",
            "1/1 [==============================] - 0s 17ms/step - loss: 5.6264 - mae: 5.6264\n",
            "Epoch 87/100\n",
            "1/1 [==============================] - 0s 21ms/step - loss: 5.5972 - mae: 5.5972\n",
            "Epoch 88/100\n",
            "1/1 [==============================] - 0s 22ms/step - loss: 5.5677 - mae: 5.5677\n",
            "Epoch 89/100\n",
            "1/1 [==============================] - 0s 17ms/step - loss: 5.5378 - mae: 5.5378\n",
            "Epoch 90/100\n",
            "1/1 [==============================] - 0s 16ms/step - loss: 5.5076 - mae: 5.5076\n",
            "Epoch 91/100\n",
            "1/1 [==============================] - 0s 21ms/step - loss: 5.4771 - mae: 5.4771\n",
            "Epoch 92/100\n",
            "1/1 [==============================] - 0s 31ms/step - loss: 5.4463 - mae: 5.4463\n",
            "Epoch 93/100\n",
            "1/1 [==============================] - 0s 16ms/step - loss: 5.4152 - mae: 5.4152\n",
            "Epoch 94/100\n",
            "1/1 [==============================] - 0s 18ms/step - loss: 5.3836 - mae: 5.3836\n",
            "Epoch 95/100\n",
            "1/1 [==============================] - 0s 16ms/step - loss: 5.3518 - mae: 5.3518\n",
            "Epoch 96/100\n",
            "1/1 [==============================] - 0s 29ms/step - loss: 5.3196 - mae: 5.3196\n",
            "Epoch 97/100\n",
            "1/1 [==============================] - 0s 27ms/step - loss: 5.2870 - mae: 5.2870\n",
            "Epoch 98/100\n",
            "1/1 [==============================] - 0s 19ms/step - loss: 5.2814 - mae: 5.2814\n",
            "Epoch 99/100\n",
            "1/1 [==============================] - 0s 21ms/step - loss: 5.2584 - mae: 5.2584\n",
            "Epoch 100/100\n",
            "1/1 [==============================] - 0s 19ms/step - loss: 5.3869 - mae: 5.3869\n"
          ]
        },
        {
          "output_type": "execute_result",
          "data": {
            "text/plain": [
              "<keras.callbacks.History at 0x7ecf6263f7c0>"
            ]
          },
          "metadata": {},
          "execution_count": 15
        }
      ]
    },
    {
      "cell_type": "code",
      "source": [
        "# remind ourselves of the data\n",
        "X, y"
      ],
      "metadata": {
        "colab": {
          "base_uri": "https://localhost:8080/"
        },
        "id": "VccH4F0g4Fwx",
        "outputId": "c15efc20-b1fd-4bb0-a093-dd611390f8fc"
      },
      "execution_count": 16,
      "outputs": [
        {
          "output_type": "execute_result",
          "data": {
            "text/plain": [
              "(<tf.Tensor: shape=(8, 1), dtype=float64, numpy=\n",
              " array([[-7.],\n",
              "        [-4.],\n",
              "        [-1.],\n",
              "        [ 2.],\n",
              "        [ 5.],\n",
              "        [ 8.],\n",
              "        [11.],\n",
              "        [14.]])>,\n",
              " <tf.Tensor: shape=(8,), dtype=float64, numpy=array([ 3.,  6.,  9., 12., 15., 18., 21., 24.])>)"
            ]
          },
          "metadata": {},
          "execution_count": 16
        }
      ]
    },
    {
      "cell_type": "code",
      "source": [
        "# getting prediction from the model\n",
        "model.predict([17.0])"
      ],
      "metadata": {
        "colab": {
          "base_uri": "https://localhost:8080/"
        },
        "id": "ebVTntJ-4JSI",
        "outputId": "99531085-9ea7-4f4e-f87f-0e5435d3a4b6"
      },
      "execution_count": 17,
      "outputs": [
        {
          "output_type": "stream",
          "name": "stdout",
          "text": [
            "1/1 [==============================] - 0s 198ms/step\n"
          ]
        },
        {
          "output_type": "execute_result",
          "data": {
            "text/plain": [
              "array([[29.474415]], dtype=float32)"
            ]
          },
          "metadata": {},
          "execution_count": 17
        }
      ]
    },
    {
      "cell_type": "markdown",
      "source": [
        "### Changing the optimizatino funciton"
      ],
      "metadata": {
        "id": "5O57KjST6y_R"
      }
    },
    {
      "cell_type": "code",
      "source": [
        "model = tf.keras.Sequential([\n",
        "    tf.keras.layers.Dense(50, activation=None),\n",
        "    tf.keras.layers.Dense(1)\n",
        "])\n",
        "\n",
        "# compile the model\n",
        "model.compile(loss=tf.keras.losses.mae,\n",
        "              optimizer=tf.keras.optimizers.Adam(learning_rate=0.01),\n",
        "              metrics=['mae'])\n",
        "\n",
        "# fit the model\n",
        "model.fit(X, y, epochs=100)"
      ],
      "metadata": {
        "colab": {
          "base_uri": "https://localhost:8080/"
        },
        "id": "-2MsbAJN64hR",
        "outputId": "7cf4edf4-bb90-48ff-ecdb-24c7d09f75bf"
      },
      "execution_count": 18,
      "outputs": [
        {
          "output_type": "stream",
          "name": "stdout",
          "text": [
            "Epoch 1/100\n",
            "1/1 [==============================] - 1s 1s/step - loss: 12.7102 - mae: 12.7102\n",
            "Epoch 2/100\n",
            "1/1 [==============================] - 0s 35ms/step - loss: 11.9826 - mae: 11.9826\n",
            "Epoch 3/100\n",
            "1/1 [==============================] - 0s 30ms/step - loss: 11.2569 - mae: 11.2569\n",
            "Epoch 4/100\n",
            "1/1 [==============================] - 0s 29ms/step - loss: 10.5316 - mae: 10.5316\n",
            "Epoch 5/100\n",
            "1/1 [==============================] - 0s 21ms/step - loss: 9.8035 - mae: 9.8035\n",
            "Epoch 6/100\n",
            "1/1 [==============================] - 0s 16ms/step - loss: 9.0694 - mae: 9.0694\n",
            "Epoch 7/100\n",
            "1/1 [==============================] - 0s 16ms/step - loss: 8.3263 - mae: 8.3263\n",
            "Epoch 8/100\n",
            "1/1 [==============================] - 0s 17ms/step - loss: 7.5714 - mae: 7.5714\n",
            "Epoch 9/100\n",
            "1/1 [==============================] - 0s 17ms/step - loss: 6.9172 - mae: 6.9172\n",
            "Epoch 10/100\n",
            "1/1 [==============================] - 0s 25ms/step - loss: 6.9310 - mae: 6.9310\n",
            "Epoch 11/100\n",
            "1/1 [==============================] - 0s 35ms/step - loss: 7.2077 - mae: 7.2077\n",
            "Epoch 12/100\n",
            "1/1 [==============================] - 0s 28ms/step - loss: 7.3657 - mae: 7.3657\n",
            "Epoch 13/100\n",
            "1/1 [==============================] - 0s 16ms/step - loss: 7.4249 - mae: 7.4249\n",
            "Epoch 14/100\n",
            "1/1 [==============================] - 0s 49ms/step - loss: 7.4307 - mae: 7.4307\n",
            "Epoch 15/100\n",
            "1/1 [==============================] - 0s 38ms/step - loss: 7.2727 - mae: 7.2727\n",
            "Epoch 16/100\n",
            "1/1 [==============================] - 0s 25ms/step - loss: 7.0975 - mae: 7.0975\n",
            "Epoch 17/100\n",
            "1/1 [==============================] - 0s 17ms/step - loss: 6.8854 - mae: 6.8854\n",
            "Epoch 18/100\n",
            "1/1 [==============================] - 0s 26ms/step - loss: 6.6437 - mae: 6.6437\n",
            "Epoch 19/100\n",
            "1/1 [==============================] - 0s 19ms/step - loss: 6.3785 - mae: 6.3785\n",
            "Epoch 20/100\n",
            "1/1 [==============================] - 0s 20ms/step - loss: 6.2171 - mae: 6.2171\n",
            "Epoch 21/100\n",
            "1/1 [==============================] - 0s 15ms/step - loss: 6.1652 - mae: 6.1652\n",
            "Epoch 22/100\n",
            "1/1 [==============================] - 0s 16ms/step - loss: 6.1952 - mae: 6.1952\n",
            "Epoch 23/100\n",
            "1/1 [==============================] - 0s 16ms/step - loss: 6.2434 - mae: 6.2434\n",
            "Epoch 24/100\n",
            "1/1 [==============================] - 0s 28ms/step - loss: 6.1841 - mae: 6.1841\n",
            "Epoch 25/100\n",
            "1/1 [==============================] - 0s 15ms/step - loss: 6.0314 - mae: 6.0314\n",
            "Epoch 26/100\n",
            "1/1 [==============================] - 0s 24ms/step - loss: 5.7963 - mae: 5.7963\n",
            "Epoch 27/100\n",
            "1/1 [==============================] - 0s 28ms/step - loss: 5.7022 - mae: 5.7022\n",
            "Epoch 28/100\n",
            "1/1 [==============================] - 0s 38ms/step - loss: 5.6051 - mae: 5.6051\n",
            "Epoch 29/100\n",
            "1/1 [==============================] - 0s 30ms/step - loss: 5.5049 - mae: 5.5049\n",
            "Epoch 30/100\n",
            "1/1 [==============================] - 0s 24ms/step - loss: 5.4427 - mae: 5.4427\n",
            "Epoch 31/100\n",
            "1/1 [==============================] - 0s 17ms/step - loss: 5.3986 - mae: 5.3986\n",
            "Epoch 32/100\n",
            "1/1 [==============================] - 0s 31ms/step - loss: 5.3071 - mae: 5.3071\n",
            "Epoch 33/100\n",
            "1/1 [==============================] - 0s 26ms/step - loss: 5.1723 - mae: 5.1723\n",
            "Epoch 34/100\n",
            "1/1 [==============================] - 0s 25ms/step - loss: 5.0242 - mae: 5.0242\n",
            "Epoch 35/100\n",
            "1/1 [==============================] - 0s 26ms/step - loss: 4.9288 - mae: 4.9288\n",
            "Epoch 36/100\n",
            "1/1 [==============================] - 0s 20ms/step - loss: 4.8271 - mae: 4.8271\n",
            "Epoch 37/100\n",
            "1/1 [==============================] - 0s 23ms/step - loss: 4.7189 - mae: 4.7189\n",
            "Epoch 38/100\n",
            "1/1 [==============================] - 0s 21ms/step - loss: 4.6040 - mae: 4.6040\n",
            "Epoch 39/100\n",
            "1/1 [==============================] - 0s 31ms/step - loss: 4.4823 - mae: 4.4823\n",
            "Epoch 40/100\n",
            "1/1 [==============================] - 0s 26ms/step - loss: 4.3534 - mae: 4.3534\n",
            "Epoch 41/100\n",
            "1/1 [==============================] - 0s 18ms/step - loss: 4.2171 - mae: 4.2171\n",
            "Epoch 42/100\n",
            "1/1 [==============================] - 0s 21ms/step - loss: 4.0731 - mae: 4.0731\n",
            "Epoch 43/100\n",
            "1/1 [==============================] - 0s 29ms/step - loss: 3.9212 - mae: 3.9212\n",
            "Epoch 44/100\n",
            "1/1 [==============================] - 0s 50ms/step - loss: 3.7610 - mae: 3.7610\n",
            "Epoch 45/100\n",
            "1/1 [==============================] - 0s 18ms/step - loss: 3.5922 - mae: 3.5922\n",
            "Epoch 46/100\n",
            "1/1 [==============================] - 0s 30ms/step - loss: 3.4145 - mae: 3.4145\n",
            "Epoch 47/100\n",
            "1/1 [==============================] - 0s 36ms/step - loss: 3.2276 - mae: 3.2276\n",
            "Epoch 48/100\n",
            "1/1 [==============================] - 0s 14ms/step - loss: 3.0422 - mae: 3.0422\n",
            "Epoch 49/100\n",
            "1/1 [==============================] - 0s 39ms/step - loss: 2.8373 - mae: 2.8373\n",
            "Epoch 50/100\n",
            "1/1 [==============================] - 0s 19ms/step - loss: 2.6326 - mae: 2.6326\n",
            "Epoch 51/100\n",
            "1/1 [==============================] - 0s 29ms/step - loss: 2.4165 - mae: 2.4165\n",
            "Epoch 52/100\n",
            "1/1 [==============================] - 0s 28ms/step - loss: 2.1956 - mae: 2.1956\n",
            "Epoch 53/100\n",
            "1/1 [==============================] - 0s 26ms/step - loss: 1.9631 - mae: 1.9631\n",
            "Epoch 54/100\n",
            "1/1 [==============================] - 0s 15ms/step - loss: 1.7243 - mae: 1.7243\n",
            "Epoch 55/100\n",
            "1/1 [==============================] - 0s 25ms/step - loss: 1.5440 - mae: 1.5440\n",
            "Epoch 56/100\n",
            "1/1 [==============================] - 0s 13ms/step - loss: 1.1945 - mae: 1.1945\n",
            "Epoch 57/100\n",
            "1/1 [==============================] - 0s 16ms/step - loss: 0.9839 - mae: 0.9839\n",
            "Epoch 58/100\n",
            "1/1 [==============================] - 0s 16ms/step - loss: 0.7201 - mae: 0.7201\n",
            "Epoch 59/100\n",
            "1/1 [==============================] - 0s 29ms/step - loss: 0.3923 - mae: 0.3923\n",
            "Epoch 60/100\n",
            "1/1 [==============================] - 0s 22ms/step - loss: 0.1118 - mae: 0.1118\n",
            "Epoch 61/100\n",
            "1/1 [==============================] - 0s 21ms/step - loss: 0.4669 - mae: 0.4669\n",
            "Epoch 62/100\n",
            "1/1 [==============================] - 0s 19ms/step - loss: 0.7339 - mae: 0.7339\n",
            "Epoch 63/100\n",
            "1/1 [==============================] - 0s 12ms/step - loss: 0.7316 - mae: 0.7316\n",
            "Epoch 64/100\n",
            "1/1 [==============================] - 0s 47ms/step - loss: 0.8679 - mae: 0.8679\n",
            "Epoch 65/100\n",
            "1/1 [==============================] - 0s 22ms/step - loss: 0.9933 - mae: 0.9933\n",
            "Epoch 66/100\n",
            "1/1 [==============================] - 0s 25ms/step - loss: 0.8586 - mae: 0.8586\n",
            "Epoch 67/100\n",
            "1/1 [==============================] - 0s 15ms/step - loss: 0.8629 - mae: 0.8629\n",
            "Epoch 68/100\n",
            "1/1 [==============================] - 0s 16ms/step - loss: 0.8395 - mae: 0.8395\n",
            "Epoch 69/100\n",
            "1/1 [==============================] - 0s 18ms/step - loss: 0.6265 - mae: 0.6265\n",
            "Epoch 70/100\n",
            "1/1 [==============================] - 0s 14ms/step - loss: 0.5844 - mae: 0.5844\n",
            "Epoch 71/100\n",
            "1/1 [==============================] - 0s 15ms/step - loss: 0.4016 - mae: 0.4016\n",
            "Epoch 72/100\n",
            "1/1 [==============================] - 0s 21ms/step - loss: 0.2728 - mae: 0.2728\n",
            "Epoch 73/100\n",
            "1/1 [==============================] - 0s 17ms/step - loss: 0.0789 - mae: 0.0789\n",
            "Epoch 74/100\n",
            "1/1 [==============================] - 0s 24ms/step - loss: 0.2781 - mae: 0.2781\n",
            "Epoch 75/100\n",
            "1/1 [==============================] - 0s 20ms/step - loss: 0.4107 - mae: 0.4107\n",
            "Epoch 76/100\n",
            "1/1 [==============================] - 0s 16ms/step - loss: 0.3610 - mae: 0.3610\n",
            "Epoch 77/100\n",
            "1/1 [==============================] - 0s 27ms/step - loss: 0.4946 - mae: 0.4946\n",
            "Epoch 78/100\n",
            "1/1 [==============================] - 0s 41ms/step - loss: 0.4659 - mae: 0.4659\n",
            "Epoch 79/100\n",
            "1/1 [==============================] - 0s 33ms/step - loss: 0.4840 - mae: 0.4840\n",
            "Epoch 80/100\n",
            "1/1 [==============================] - 0s 26ms/step - loss: 0.4753 - mae: 0.4753\n",
            "Epoch 81/100\n",
            "1/1 [==============================] - 0s 33ms/step - loss: 0.3040 - mae: 0.3040\n",
            "Epoch 82/100\n",
            "1/1 [==============================] - 0s 34ms/step - loss: 0.3066 - mae: 0.3066\n",
            "Epoch 83/100\n",
            "1/1 [==============================] - 0s 44ms/step - loss: 0.1589 - mae: 0.1589\n",
            "Epoch 84/100\n",
            "1/1 [==============================] - 0s 28ms/step - loss: 0.3093 - mae: 0.3093\n",
            "Epoch 85/100\n",
            "1/1 [==============================] - 0s 31ms/step - loss: 0.3375 - mae: 0.3375\n",
            "Epoch 86/100\n",
            "1/1 [==============================] - 0s 37ms/step - loss: 0.2104 - mae: 0.2104\n",
            "Epoch 87/100\n",
            "1/1 [==============================] - 0s 22ms/step - loss: 0.3071 - mae: 0.3071\n",
            "Epoch 88/100\n",
            "1/1 [==============================] - 0s 26ms/step - loss: 0.2248 - mae: 0.2248\n",
            "Epoch 89/100\n",
            "1/1 [==============================] - 0s 41ms/step - loss: 0.3858 - mae: 0.3858\n",
            "Epoch 90/100\n",
            "1/1 [==============================] - 0s 18ms/step - loss: 0.3418 - mae: 0.3418\n",
            "Epoch 91/100\n",
            "1/1 [==============================] - 0s 29ms/step - loss: 0.0799 - mae: 0.0799\n",
            "Epoch 92/100\n",
            "1/1 [==============================] - 0s 66ms/step - loss: 0.1050 - mae: 0.1050\n",
            "Epoch 93/100\n",
            "1/1 [==============================] - 0s 29ms/step - loss: 0.1895 - mae: 0.1895\n",
            "Epoch 94/100\n",
            "1/1 [==============================] - 0s 33ms/step - loss: 0.2405 - mae: 0.2405\n",
            "Epoch 95/100\n",
            "1/1 [==============================] - 0s 37ms/step - loss: 0.1339 - mae: 0.1339\n",
            "Epoch 96/100\n",
            "1/1 [==============================] - 0s 34ms/step - loss: 0.3546 - mae: 0.3546\n",
            "Epoch 97/100\n",
            "1/1 [==============================] - 0s 27ms/step - loss: 0.3392 - mae: 0.3392\n",
            "Epoch 98/100\n",
            "1/1 [==============================] - 0s 27ms/step - loss: 0.0149 - mae: 0.0149\n",
            "Epoch 99/100\n",
            "1/1 [==============================] - 0s 31ms/step - loss: 0.5023 - mae: 0.5023\n",
            "Epoch 100/100\n",
            "1/1 [==============================] - 0s 32ms/step - loss: 0.6509 - mae: 0.6509\n"
          ]
        },
        {
          "output_type": "execute_result",
          "data": {
            "text/plain": [
              "<keras.callbacks.History at 0x7ecf5af1a920>"
            ]
          },
          "metadata": {},
          "execution_count": 18
        }
      ]
    },
    {
      "cell_type": "code",
      "source": [
        "model.predict([17.0])"
      ],
      "metadata": {
        "colab": {
          "base_uri": "https://localhost:8080/"
        },
        "id": "RhpYwovr7QXw",
        "outputId": "8c6be984-958a-440b-c31b-ae8f576646ff"
      },
      "execution_count": 19,
      "outputs": [
        {
          "output_type": "stream",
          "name": "stdout",
          "text": [
            "1/1 [==============================] - 0s 352ms/step\n"
          ]
        },
        {
          "output_type": "execute_result",
          "data": {
            "text/plain": [
              "array([[25.792397]], dtype=float32)"
            ]
          },
          "metadata": {},
          "execution_count": 19
        }
      ]
    },
    {
      "cell_type": "markdown",
      "source": [
        "**🧮🔑Important🔑🧮:** Common ways to improve a deep learning model\n",
        "\n",
        "*   Adding layers.\n",
        "*   Increase the number of hidden units.\n",
        "*   Change the activation function.\n",
        "*   Change the optimizatino function.\n",
        "*   Change the learning rate.\n",
        "*   Fitting on more data.\n",
        "\n"
      ],
      "metadata": {
        "id": "bgicFG5H7e4A"
      }
    },
    {
      "cell_type": "markdown",
      "source": [
        "### Adding more data\n",
        "\n",
        "It is good idea to visualize:\n",
        "\n",
        "*  The data - What data are we working with? What does it look like?\n",
        "*  The model itself - What does our model look like?\n",
        "*  The training of a model - How does a model performs while it learns?\n",
        "*  The predictions of the model - How do the prediction of the model line up against the ground truth (the original labels)."
      ],
      "metadata": {
        "id": "CEvz_6qnXlzo"
      }
    },
    {
      "cell_type": "code",
      "source": [
        "# making a bigger dataset\n",
        "features = tf.range(-100, 100, 4)\n",
        "labels = features + 10\n",
        "features, labels"
      ],
      "metadata": {
        "colab": {
          "base_uri": "https://localhost:8080/"
        },
        "id": "KipjMLD_Ybwp",
        "outputId": "0c4a6150-e361-4cb8-a271-a122ca6f3c75"
      },
      "execution_count": 20,
      "outputs": [
        {
          "output_type": "execute_result",
          "data": {
            "text/plain": [
              "(<tf.Tensor: shape=(50,), dtype=int32, numpy=\n",
              " array([-100,  -96,  -92,  -88,  -84,  -80,  -76,  -72,  -68,  -64,  -60,\n",
              "         -56,  -52,  -48,  -44,  -40,  -36,  -32,  -28,  -24,  -20,  -16,\n",
              "         -12,   -8,   -4,    0,    4,    8,   12,   16,   20,   24,   28,\n",
              "          32,   36,   40,   44,   48,   52,   56,   60,   64,   68,   72,\n",
              "          76,   80,   84,   88,   92,   96], dtype=int32)>,\n",
              " <tf.Tensor: shape=(50,), dtype=int32, numpy=\n",
              " array([-90, -86, -82, -78, -74, -70, -66, -62, -58, -54, -50, -46, -42,\n",
              "        -38, -34, -30, -26, -22, -18, -14, -10,  -6,  -2,   2,   6,  10,\n",
              "         14,  18,  22,  26,  30,  34,  38,  42,  46,  50,  54,  58,  62,\n",
              "         66,  70,  74,  78,  82,  86,  90,  94,  98, 102, 106], dtype=int32)>)"
            ]
          },
          "metadata": {},
          "execution_count": 20
        }
      ]
    },
    {
      "cell_type": "code",
      "source": [
        "plt.scatter(features, labels)"
      ],
      "metadata": {
        "colab": {
          "base_uri": "https://localhost:8080/",
          "height": 447
        },
        "id": "kiX6fwFnZn-P",
        "outputId": "160e5091-9284-4f5e-d9eb-662d048e4455"
      },
      "execution_count": 21,
      "outputs": [
        {
          "output_type": "execute_result",
          "data": {
            "text/plain": [
              "<matplotlib.collections.PathCollection at 0x7ecf6375a710>"
            ]
          },
          "metadata": {},
          "execution_count": 21
        },
        {
          "output_type": "display_data",
          "data": {
            "text/plain": [
              "<Figure size 640x480 with 1 Axes>"
            ],
            "image/png": "[encoded data removed]"
          },
          "metadata": {}
        }
      ]
    },
    {
      "cell_type": "code",
      "source": [
        "plt.plot(features, labels)"
      ],
      "metadata": {
        "colab": {
          "base_uri": "https://localhost:8080/",
          "height": 447
        },
        "id": "YmQOCN8sZu9v",
        "outputId": "0d607af7-68f9-4383-d920-bf44091bd7be"
      },
      "execution_count": 22,
      "outputs": [
        {
          "output_type": "execute_result",
          "data": {
            "text/plain": [
              "[<matplotlib.lines.Line2D at 0x7ecf637abeb0>]"
            ]
          },
          "metadata": {},
          "execution_count": 22
        },
        {
          "output_type": "display_data",
          "data": {
            "text/plain": [
              "<Figure size 640x480 with 1 Axes>"
            ],
            "image/png": "[encoded data removed]"
          },
          "metadata": {}
        }
      ]
    },
    {
      "cell_type": "code",
      "source": [
        "features = tf.reshape(features, shape=(50,1))\n",
        "features"
      ],
      "metadata": {
        "colab": {
          "base_uri": "https://localhost:8080/"
        },
        "id": "RzlgNeobZBXA",
        "outputId": "a7792f74-39dc-45b9-c5cb-718719f4b883"
      },
      "execution_count": 23,
      "outputs": [
        {
          "output_type": "execute_result",
          "data": {
            "text/plain": [
              "<tf.Tensor: shape=(50, 1), dtype=int32, numpy=\n",
              "array([[-100],\n",
              "       [ -96],\n",
              "       [ -92],\n",
              "       [ -88],\n",
              "       [ -84],\n",
              "       [ -80],\n",
              "       [ -76],\n",
              "       [ -72],\n",
              "       [ -68],\n",
              "       [ -64],\n",
              "       [ -60],\n",
              "       [ -56],\n",
              "       [ -52],\n",
              "       [ -48],\n",
              "       [ -44],\n",
              "       [ -40],\n",
              "       [ -36],\n",
              "       [ -32],\n",
              "       [ -28],\n",
              "       [ -24],\n",
              "       [ -20],\n",
              "       [ -16],\n",
              "       [ -12],\n",
              "       [  -8],\n",
              "       [  -4],\n",
              "       [   0],\n",
              "       [   4],\n",
              "       [   8],\n",
              "       [  12],\n",
              "       [  16],\n",
              "       [  20],\n",
              "       [  24],\n",
              "       [  28],\n",
              "       [  32],\n",
              "       [  36],\n",
              "       [  40],\n",
              "       [  44],\n",
              "       [  48],\n",
              "       [  52],\n",
              "       [  56],\n",
              "       [  60],\n",
              "       [  64],\n",
              "       [  68],\n",
              "       [  72],\n",
              "       [  76],\n",
              "       [  80],\n",
              "       [  84],\n",
              "       [  88],\n",
              "       [  92],\n",
              "       [  96]], dtype=int32)>"
            ]
          },
          "metadata": {},
          "execution_count": 23
        }
      ]
    },
    {
      "cell_type": "code",
      "source": [
        "# split the data into train and test set\n",
        "x_train = features[:40, :1]\n",
        "y_train = labels[:40]\n",
        "\n",
        "x_test = features[40:, :1]\n",
        "y_test = labels[40:]"
      ],
      "metadata": {
        "id": "48spQS9SZlzh"
      },
      "execution_count": 24,
      "outputs": []
    },
    {
      "cell_type": "code",
      "source": [
        "len(x_train), len(x_test), len(y_train), len(y_test)"
      ],
      "metadata": {
        "colab": {
          "base_uri": "https://localhost:8080/"
        },
        "id": "V9Jwelrdp4S2",
        "outputId": "8782b317-ebf3-4dfb-b7f6-1f43de62c3ff"
      },
      "execution_count": 25,
      "outputs": [
        {
          "output_type": "execute_result",
          "data": {
            "text/plain": [
              "(40, 10, 40, 10)"
            ]
          },
          "metadata": {},
          "execution_count": 25
        }
      ]
    },
    {
      "cell_type": "markdown",
      "source": [
        "## Visualizing the data"
      ],
      "metadata": {
        "id": "QHK1Ga8yqbS1"
      }
    },
    {
      "cell_type": "code",
      "source": [
        "plt.figure(figsize=(10, 7))\n",
        "# plot training data in blue\n",
        "plt.scatter(x_train, y_train, c='b', label='Training data')\n",
        "# plot test data\n",
        "plt.scatter(x_test, y_test, c='g', label='Test data')\n",
        "# show the legend\n",
        "plt.legend()"
      ],
      "metadata": {
        "colab": {
          "base_uri": "https://localhost:8080/",
          "height": 616
        },
        "id": "QGLaAVuSqhMV",
        "outputId": "23e1b6b8-9ea4-45a1-cec3-02f1fae11257"
      },
      "execution_count": 26,
      "outputs": [
        {
          "output_type": "execute_result",
          "data": {
            "text/plain": [
              "<matplotlib.legend.Legend at 0x7ecf63694cd0>"
            ]
          },
          "metadata": {},
          "execution_count": 26
        },
        {
          "output_type": "display_data",
          "data": {
            "text/plain": [
              "<Figure size 1000x700 with 1 Axes>"
            ],
            "image/png": "[encoded data removed]"
          },
          "metadata": {}
        }
      ]
    },
    {
      "cell_type": "markdown",
      "source": [
        "## Training a neural network"
      ],
      "metadata": {
        "id": "ChbVlUPDS_ki"
      }
    },
    {
      "cell_type": "code",
      "source": [
        "tf.shape(x_train)"
      ],
      "metadata": {
        "colab": {
          "base_uri": "https://localhost:8080/"
        },
        "id": "-7d9MnOOTQ9K",
        "outputId": "799525d6-6398-45ca-f76d-1a33348eb4f6"
      },
      "execution_count": 27,
      "outputs": [
        {
          "output_type": "execute_result",
          "data": {
            "text/plain": [
              "<tf.Tensor: shape=(2,), dtype=int32, numpy=array([40,  1], dtype=int32)>"
            ]
          },
          "metadata": {},
          "execution_count": 27
        }
      ]
    },
    {
      "cell_type": "code",
      "source": [
        "# build the model\n",
        "model = tf.keras.Sequential([\n",
        "    tf.keras.layers.Dense(10, input_shape=[1], name='input_layer'),\n",
        "    tf.keras.layers.Dense(1, name='output_layer')\n",
        "], name='neural_network')\n",
        "\n",
        "# compile the model\n",
        "model.compile(loss=tf.keras.losses.mae,\n",
        "              optimizer=tf.keras.optimizers.SGD(),\n",
        "              metrics=['mae'])"
      ],
      "metadata": {
        "id": "B77t2i8WS-ZL"
      },
      "execution_count": 28,
      "outputs": []
    },
    {
      "cell_type": "code",
      "source": [
        "model.summary()"
      ],
      "metadata": {
        "colab": {
          "base_uri": "https://localhost:8080/"
        },
        "id": "or44b1aITuJ7",
        "outputId": "df7d3370-ec23-422d-cfc8-7c05cbf18e0a"
      },
      "execution_count": 29,
      "outputs": [
        {
          "output_type": "stream",
          "name": "stdout",
          "text": [
            "Model: \"neural_network\"\n",
            "_________________________________________________________________\n",
            " Layer (type)                Output Shape              Param #   \n",
            "=================================================================\n",
            " input_layer (Dense)         (None, 10)                20        \n",
            "                                                                 \n",
            " output_layer (Dense)        (None, 1)                 11        \n",
            "                                                                 \n",
            "=================================================================\n",
            "Total params: 31\n",
            "Trainable params: 31\n",
            "Non-trainable params: 0\n",
            "_________________________________________________________________\n"
          ]
        }
      ]
    },
    {
      "cell_type": "markdown",
      "source": [
        "🧮🔑**Note:**🔑🧮\n",
        "*  Total params: Total number of parameters in the model.\n",
        "*  Trainable parameters: These are the parameters (paterns) the model can update as it trains.\n",
        "*  Non-trainable params: These parameters aren't updated during training (this is typical when you bring in already learn patterns or parameters from other models during **Transfer Learning**).\n",
        "\n",
        "\n",
        "**Complete details about trainable parameters within a layer:**\n",
        "\n",
        "📖**Resource:** [https://www.youtube.com/watch?v=njKP3FqW3Sk&list=PLHkKmgGGVneX2BzZVYGqcWbFw_7ymcZqv](https://www.youtube.com/watch?v=njKP3FqW3Sk&list=PLHkKmgGGVneX2BzZVYGqcWbFw_7ymcZqv)"
      ],
      "metadata": {
        "id": "Yqli5tU9Vo9K"
      }
    },
    {
      "cell_type": "code",
      "source": [
        "# fit the model\n",
        "model.fit(x_train, y_train, epochs=100)"
      ],
      "metadata": {
        "colab": {
          "base_uri": "https://localhost:8080/"
        },
        "id": "IgNOdsqETn0y",
        "outputId": "cbee0318-6c6a-4ec0-b01a-ba2b5d0020f8"
      },
      "execution_count": 30,
      "outputs": [
        {
          "output_type": "stream",
          "name": "stdout",
          "text": [
            "Epoch 1/100\n",
            "2/2 [==============================] - 2s 24ms/step - loss: 94.0239 - mae: 94.0239\n",
            "Epoch 2/100\n",
            "2/2 [==============================] - 0s 15ms/step - loss: 27.6848 - mae: 27.6848\n",
            "Epoch 3/100\n",
            "2/2 [==============================] - 0s 29ms/step - loss: 20.6174 - mae: 20.6174\n",
            "Epoch 4/100\n",
            "2/2 [==============================] - 0s 13ms/step - loss: 13.3520 - mae: 13.3520\n",
            "Epoch 5/100\n",
            "2/2 [==============================] - 0s 63ms/step - loss: 17.5345 - mae: 17.5345\n",
            "Epoch 6/100\n",
            "2/2 [==============================] - 0s 65ms/step - loss: 10.2570 - mae: 10.2570\n",
            "Epoch 7/100\n",
            "2/2 [==============================] - 0s 33ms/step - loss: 11.2446 - mae: 11.2446\n",
            "Epoch 8/100\n",
            "2/2 [==============================] - 0s 27ms/step - loss: 11.1607 - mae: 11.1607\n",
            "Epoch 9/100\n",
            "2/2 [==============================] - 0s 22ms/step - loss: 40.8544 - mae: 40.8544\n",
            "Epoch 10/100\n",
            "2/2 [==============================] - 0s 20ms/step - loss: 28.1948 - mae: 28.1948\n",
            "Epoch 11/100\n",
            "2/2 [==============================] - 0s 15ms/step - loss: 10.2706 - mae: 10.2706\n",
            "Epoch 12/100\n",
            "2/2 [==============================] - 0s 13ms/step - loss: 25.2305 - mae: 25.2305\n",
            "Epoch 13/100\n",
            "2/2 [==============================] - 0s 17ms/step - loss: 17.1481 - mae: 17.1481\n",
            "Epoch 14/100\n",
            "2/2 [==============================] - 0s 13ms/step - loss: 26.1885 - mae: 26.1885\n",
            "Epoch 15/100\n",
            "2/2 [==============================] - 0s 31ms/step - loss: 18.2157 - mae: 18.2157\n",
            "Epoch 16/100\n",
            "2/2 [==============================] - 0s 27ms/step - loss: 7.8804 - mae: 7.8804\n",
            "Epoch 17/100\n",
            "2/2 [==============================] - 0s 11ms/step - loss: 22.3215 - mae: 22.3215\n",
            "Epoch 18/100\n",
            "2/2 [==============================] - 0s 9ms/step - loss: 10.8751 - mae: 10.8751\n",
            "Epoch 19/100\n",
            "2/2 [==============================] - 0s 8ms/step - loss: 10.7619 - mae: 10.7619\n",
            "Epoch 20/100\n",
            "2/2 [==============================] - 0s 8ms/step - loss: 12.0803 - mae: 12.0803\n",
            "Epoch 21/100\n",
            "2/2 [==============================] - 0s 9ms/step - loss: 20.2067 - mae: 20.2067\n",
            "Epoch 22/100\n",
            "2/2 [==============================] - 0s 13ms/step - loss: 13.8341 - mae: 13.8341\n",
            "Epoch 23/100\n",
            "2/2 [==============================] - 0s 13ms/step - loss: 9.5680 - mae: 9.5680\n",
            "Epoch 24/100\n",
            "2/2 [==============================] - 0s 10ms/step - loss: 11.9249 - mae: 11.9249\n",
            "Epoch 25/100\n",
            "2/2 [==============================] - 0s 12ms/step - loss: 16.2302 - mae: 16.2302\n",
            "Epoch 26/100\n",
            "2/2 [==============================] - 0s 12ms/step - loss: 16.4250 - mae: 16.4250\n",
            "Epoch 27/100\n",
            "2/2 [==============================] - 0s 12ms/step - loss: 11.6094 - mae: 11.6094\n",
            "Epoch 28/100\n",
            "2/2 [==============================] - 0s 11ms/step - loss: 29.9921 - mae: 29.9921\n",
            "Epoch 29/100\n",
            "2/2 [==============================] - 0s 17ms/step - loss: 9.2705 - mae: 9.2705\n",
            "Epoch 30/100\n",
            "2/2 [==============================] - 0s 14ms/step - loss: 30.5281 - mae: 30.5281\n",
            "Epoch 31/100\n",
            "2/2 [==============================] - 0s 21ms/step - loss: 55.4982 - mae: 55.4982\n",
            "Epoch 32/100\n",
            "2/2 [==============================] - 0s 9ms/step - loss: 9.7473 - mae: 9.7473\n",
            "Epoch 33/100\n",
            "2/2 [==============================] - 0s 19ms/step - loss: 12.3644 - mae: 12.3644\n",
            "Epoch 34/100\n",
            "2/2 [==============================] - 0s 18ms/step - loss: 24.6823 - mae: 24.6823\n",
            "Epoch 35/100\n",
            "2/2 [==============================] - 0s 18ms/step - loss: 11.9375 - mae: 11.9375\n",
            "Epoch 36/100\n",
            "2/2 [==============================] - 0s 10ms/step - loss: 22.1189 - mae: 22.1189\n",
            "Epoch 37/100\n",
            "2/2 [==============================] - 0s 10ms/step - loss: 17.5468 - mae: 17.5468\n",
            "Epoch 38/100\n",
            "2/2 [==============================] - 0s 13ms/step - loss: 10.7381 - mae: 10.7381\n",
            "Epoch 39/100\n",
            "2/2 [==============================] - 0s 11ms/step - loss: 11.2525 - mae: 11.2525\n",
            "Epoch 40/100\n",
            "2/2 [==============================] - 0s 9ms/step - loss: 18.1845 - mae: 18.1845\n",
            "Epoch 41/100\n",
            "2/2 [==============================] - 0s 38ms/step - loss: 10.4932 - mae: 10.4932\n",
            "Epoch 42/100\n",
            "2/2 [==============================] - 0s 20ms/step - loss: 7.8567 - mae: 7.8567\n",
            "Epoch 43/100\n",
            "2/2 [==============================] - 0s 16ms/step - loss: 14.1883 - mae: 14.1883\n",
            "Epoch 44/100\n",
            "2/2 [==============================] - 0s 10ms/step - loss: 24.8918 - mae: 24.8918\n",
            "Epoch 45/100\n",
            "2/2 [==============================] - 0s 10ms/step - loss: 10.9510 - mae: 10.9510\n",
            "Epoch 46/100\n",
            "2/2 [==============================] - 0s 13ms/step - loss: 13.0215 - mae: 13.0215\n",
            "Epoch 47/100\n",
            "2/2 [==============================] - 0s 16ms/step - loss: 10.4616 - mae: 10.4616\n",
            "Epoch 48/100\n",
            "2/2 [==============================] - 0s 9ms/step - loss: 17.1930 - mae: 17.1930\n",
            "Epoch 49/100\n",
            "2/2 [==============================] - 0s 19ms/step - loss: 9.6209 - mae: 9.6209\n",
            "Epoch 50/100\n",
            "2/2 [==============================] - 0s 11ms/step - loss: 13.8883 - mae: 13.8883\n",
            "Epoch 51/100\n",
            "2/2 [==============================] - 0s 26ms/step - loss: 11.6330 - mae: 11.6330\n",
            "Epoch 52/100\n",
            "2/2 [==============================] - 0s 16ms/step - loss: 30.6601 - mae: 30.6601\n",
            "Epoch 53/100\n",
            "2/2 [==============================] - 0s 21ms/step - loss: 14.4091 - mae: 14.4091\n",
            "Epoch 54/100\n",
            "2/2 [==============================] - 0s 16ms/step - loss: 24.0549 - mae: 24.0549\n",
            "Epoch 55/100\n",
            "2/2 [==============================] - 0s 12ms/step - loss: 23.2887 - mae: 23.2887\n",
            "Epoch 56/100\n",
            "2/2 [==============================] - 0s 12ms/step - loss: 10.9311 - mae: 10.9311\n",
            "Epoch 57/100\n",
            "2/2 [==============================] - 0s 8ms/step - loss: 12.7989 - mae: 12.7989\n",
            "Epoch 58/100\n",
            "2/2 [==============================] - 0s 17ms/step - loss: 9.6354 - mae: 9.6354\n",
            "Epoch 59/100\n",
            "2/2 [==============================] - 0s 12ms/step - loss: 12.5607 - mae: 12.5607\n",
            "Epoch 60/100\n",
            "2/2 [==============================] - 0s 9ms/step - loss: 12.3600 - mae: 12.3600\n",
            "Epoch 61/100\n",
            "2/2 [==============================] - 0s 13ms/step - loss: 12.7242 - mae: 12.7242\n",
            "Epoch 62/100\n",
            "2/2 [==============================] - 0s 9ms/step - loss: 21.1847 - mae: 21.1847\n",
            "Epoch 63/100\n",
            "2/2 [==============================] - 0s 12ms/step - loss: 8.9432 - mae: 8.9432\n",
            "Epoch 64/100\n",
            "2/2 [==============================] - 0s 33ms/step - loss: 17.1949 - mae: 17.1949\n",
            "Epoch 65/100\n",
            "2/2 [==============================] - 0s 24ms/step - loss: 10.3860 - mae: 10.3860\n",
            "Epoch 66/100\n",
            "2/2 [==============================] - 0s 36ms/step - loss: 20.5632 - mae: 20.5632\n",
            "Epoch 67/100\n",
            "2/2 [==============================] - 0s 9ms/step - loss: 10.3368 - mae: 10.3368\n",
            "Epoch 68/100\n",
            "2/2 [==============================] - 0s 12ms/step - loss: 13.9122 - mae: 13.9122\n",
            "Epoch 69/100\n",
            "2/2 [==============================] - 0s 54ms/step - loss: 10.3789 - mae: 10.3789\n",
            "Epoch 70/100\n",
            "2/2 [==============================] - 0s 15ms/step - loss: 12.4350 - mae: 12.4350\n",
            "Epoch 71/100\n",
            "2/2 [==============================] - 0s 32ms/step - loss: 16.1462 - mae: 16.1462\n",
            "Epoch 72/100\n",
            "2/2 [==============================] - 0s 8ms/step - loss: 12.1321 - mae: 12.1321\n",
            "Epoch 73/100\n",
            "2/2 [==============================] - 0s 11ms/step - loss: 17.0614 - mae: 17.0614\n",
            "Epoch 74/100\n",
            "2/2 [==============================] - 0s 11ms/step - loss: 25.1150 - mae: 25.1150\n",
            "Epoch 75/100\n",
            "2/2 [==============================] - 0s 11ms/step - loss: 9.4100 - mae: 9.4100\n",
            "Epoch 76/100\n",
            "2/2 [==============================] - 0s 12ms/step - loss: 12.2199 - mae: 12.2199\n",
            "Epoch 77/100\n",
            "2/2 [==============================] - 0s 14ms/step - loss: 16.1502 - mae: 16.1502\n",
            "Epoch 78/100\n",
            "2/2 [==============================] - 0s 13ms/step - loss: 9.0003 - mae: 9.0003\n",
            "Epoch 79/100\n",
            "2/2 [==============================] - 0s 12ms/step - loss: 29.2419 - mae: 29.2419\n",
            "Epoch 80/100\n",
            "2/2 [==============================] - 0s 20ms/step - loss: 31.6684 - mae: 31.6684\n",
            "Epoch 81/100\n",
            "2/2 [==============================] - 0s 13ms/step - loss: 13.9036 - mae: 13.9036\n",
            "Epoch 82/100\n",
            "2/2 [==============================] - 0s 15ms/step - loss: 15.6975 - mae: 15.6975\n",
            "Epoch 83/100\n",
            "2/2 [==============================] - 0s 21ms/step - loss: 11.1837 - mae: 11.1837\n",
            "Epoch 84/100\n",
            "2/2 [==============================] - 0s 9ms/step - loss: 7.3051 - mae: 7.3051\n",
            "Epoch 85/100\n",
            "2/2 [==============================] - 0s 9ms/step - loss: 15.1210 - mae: 15.1210\n",
            "Epoch 86/100\n",
            "2/2 [==============================] - 0s 9ms/step - loss: 15.4109 - mae: 15.4109\n",
            "Epoch 87/100\n",
            "2/2 [==============================] - 0s 9ms/step - loss: 19.3564 - mae: 19.3564\n",
            "Epoch 88/100\n",
            "2/2 [==============================] - 0s 14ms/step - loss: 29.1783 - mae: 29.1783\n",
            "Epoch 89/100\n",
            "2/2 [==============================] - 0s 13ms/step - loss: 10.0850 - mae: 10.0850\n",
            "Epoch 90/100\n",
            "2/2 [==============================] - 0s 10ms/step - loss: 20.9964 - mae: 20.9964\n",
            "Epoch 91/100\n",
            "2/2 [==============================] - 0s 13ms/step - loss: 10.4497 - mae: 10.4497\n",
            "Epoch 92/100\n",
            "2/2 [==============================] - 0s 21ms/step - loss: 17.9253 - mae: 17.9253\n",
            "Epoch 93/100\n",
            "2/2 [==============================] - 0s 15ms/step - loss: 6.5589 - mae: 6.5589\n",
            "Epoch 94/100\n",
            "2/2 [==============================] - 0s 15ms/step - loss: 11.1062 - mae: 11.1062\n",
            "Epoch 95/100\n",
            "2/2 [==============================] - 0s 14ms/step - loss: 24.2992 - mae: 24.2992\n",
            "Epoch 96/100\n",
            "2/2 [==============================] - 0s 14ms/step - loss: 10.7117 - mae: 10.7117\n",
            "Epoch 97/100\n",
            "2/2 [==============================] - 0s 13ms/step - loss: 15.3120 - mae: 15.3120\n",
            "Epoch 98/100\n",
            "2/2 [==============================] - 0s 16ms/step - loss: 8.2361 - mae: 8.2361\n",
            "Epoch 99/100\n",
            "2/2 [==============================] - 0s 8ms/step - loss: 16.4889 - mae: 16.4889\n",
            "Epoch 100/100\n",
            "2/2 [==============================] - 0s 14ms/step - loss: 14.2752 - mae: 14.2752\n"
          ]
        },
        {
          "output_type": "execute_result",
          "data": {
            "text/plain": [
              "<keras.callbacks.History at 0x7ecf63271c90>"
            ]
          },
          "metadata": {},
          "execution_count": 30
        }
      ]
    },
    {
      "cell_type": "markdown",
      "source": [
        "## Evaluating model"
      ],
      "metadata": {
        "id": "vypFhvji9YIP"
      }
    },
    {
      "cell_type": "code",
      "source": [
        "from tensorflow.keras.utils import plot_model"
      ],
      "metadata": {
        "id": "ciiDvD5w9avN"
      },
      "execution_count": 31,
      "outputs": []
    },
    {
      "cell_type": "code",
      "source": [
        "plot_model(model, show_shapes=True)"
      ],
      "metadata": {
        "colab": {
          "base_uri": "https://localhost:8080/",
          "height": 312
        },
        "id": "h-IbdAoa9oKd",
        "outputId": "4897854e-20ee-41a3-a254-c6a0e6be96c8"
      },
      "execution_count": 32,
      "outputs": [
        {
          "output_type": "execute_result",
          "data": {
            "image/png": "[encoded data removed]",
            "text/plain": [
              "<IPython.core.display.Image object>"
            ]
          },
          "metadata": {},
          "execution_count": 32
        }
      ]
    },
    {
      "cell_type": "markdown",
      "source": [
        "### Visualizing our models predictions"
      ],
      "metadata": {
        "id": "vR7tHriN_Vk9"
      }
    },
    {
      "cell_type": "code",
      "source": [
        "# make some prediction\n",
        "y_pred = model.predict(x_test)\n",
        "y_pred"
      ],
      "metadata": {
        "colab": {
          "base_uri": "https://localhost:8080/"
        },
        "id": "K6a7CILa_a7-",
        "outputId": "9a505643-2afe-42d6-99f3-9dd32650eb17"
      },
      "execution_count": 33,
      "outputs": [
        {
          "output_type": "stream",
          "name": "stderr",
          "text": [
            "WARNING:tensorflow:5 out of the last 5 calls to <function Model.make_predict_function.<locals>.predict_function at 0x7ecf63343c70> triggered tf.function retracing. Tracing is expensive and the excessive number of tracings could be due to (1) creating @tf.function repeatedly in a loop, (2) passing tensors with different shapes, (3) passing Python objects instead of tensors. For (1), please define your @tf.function outside of the loop. For (2), @tf.function has reduce_retracing=True option that can avoid unnecessary retracing. For (3), please refer to https://www.tensorflow.org/guide/function#controlling_retracing and https://www.tensorflow.org/api_docs/python/tf/function for  more details.\n"
          ]
        },
        {
          "output_type": "stream",
          "name": "stdout",
          "text": [
            "1/1 [==============================] - 0s 102ms/step\n"
          ]
        },
        {
          "output_type": "execute_result",
          "data": {
            "text/plain": [
              "array([[ 76.321144],\n",
              "       [ 81.29353 ],\n",
              "       [ 86.26593 ],\n",
              "       [ 91.23832 ],\n",
              "       [ 96.21071 ],\n",
              "       [101.18309 ],\n",
              "       [106.15549 ],\n",
              "       [111.12788 ],\n",
              "       [116.10026 ],\n",
              "       [121.072655]], dtype=float32)"
            ]
          },
          "metadata": {},
          "execution_count": 33
        }
      ]
    },
    {
      "cell_type": "code",
      "source": [
        "y_test"
      ],
      "metadata": {
        "colab": {
          "base_uri": "https://localhost:8080/"
        },
        "id": "3O8pCc6AAD_M",
        "outputId": "26de7b4e-a407-45ae-c27a-25aaf9d8089c"
      },
      "execution_count": 34,
      "outputs": [
        {
          "output_type": "execute_result",
          "data": {
            "text/plain": [
              "<tf.Tensor: shape=(10,), dtype=int32, numpy=array([ 70,  74,  78,  82,  86,  90,  94,  98, 102, 106], dtype=int32)>"
            ]
          },
          "metadata": {},
          "execution_count": 34
        }
      ]
    },
    {
      "cell_type": "code",
      "source": [
        "# let's create a ploting function\n",
        "def plot_prediction(train_data=x_train, train_labels=y_train, test_data=x_test, test_labels=y_test, predictions=y_pred):\n",
        "  \"\"\"\n",
        "  Plots training data, test data and compares predictions to ground truth labels.\n",
        "  \"\"\"\n",
        "  plt.figure(figsize=(10, 7))\n",
        "  # plot training data in blue\n",
        "  plt.scatter(train_data, train_labels, c='b', label='Training data')\n",
        "  # plot testing data in green\n",
        "  plt.scatter(test_data, test_labels, c='g', label='Testing data')\n",
        "  # plot models prediction in red\n",
        "  plt.scatter(test_data, predictions, c='r', label='Predictions')\n",
        "  # show legend\n",
        "  plt.legend()"
      ],
      "metadata": {
        "id": "bQ_MS8h4API2"
      },
      "execution_count": 35,
      "outputs": []
    },
    {
      "cell_type": "code",
      "source": [
        "plot_prediction()"
      ],
      "metadata": {
        "colab": {
          "base_uri": "https://localhost:8080/",
          "height": 599
        },
        "id": "rrFbUy5LCMBl",
        "outputId": "457778fd-9f4d-41a1-c88b-5242249d3f3f"
      },
      "execution_count": 36,
      "outputs": [
        {
          "output_type": "display_data",
          "data": {
            "text/plain": [
              "<Figure size 1000x700 with 1 Axes>"
            ],
            "image/png": "[encoded data removed]"
          },
          "metadata": {}
        }
      ]
    },
    {
      "cell_type": "markdown",
      "source": [
        "### Evaluating models predictions with regression evaluation metrics\n",
        "\n",
        "Depending on the problem we're working on, there will be different evaluation metrics to evaluate our model.\n",
        "\n",
        "Since we're working on a regression problem, there are two main metrics:\n",
        "\n",
        "*  MAE - mean absolute error, \"on average, how wrong is each of my model's prediction\"\n",
        "*  MSE - mean square error, \"square the average errors\""
      ],
      "metadata": {
        "id": "YYRE3jipSa1O"
      }
    },
    {
      "cell_type": "code",
      "source": [
        "# evaluate the model on the test set\n",
        "model.evaluate(x_test, y_test)"
      ],
      "metadata": {
        "colab": {
          "base_uri": "https://localhost:8080/"
        },
        "id": "fRaMJjkOVGVu",
        "outputId": "e3d74e52-0169-4ca5-8b59-f93f98890b5b"
      },
      "execution_count": 37,
      "outputs": [
        {
          "output_type": "stream",
          "name": "stdout",
          "text": [
            "1/1 [==============================] - 0s 377ms/step - loss: 10.6969 - mae: 10.6969\n"
          ]
        },
        {
          "output_type": "execute_result",
          "data": {
            "text/plain": [
              "[10.696901321411133, 10.696901321411133]"
            ]
          },
          "metadata": {},
          "execution_count": 37
        }
      ]
    },
    {
      "cell_type": "code",
      "source": [
        "# converting y_pred into tensor\n",
        "y_pred = tf.constant(y_pred)\n",
        "y_pred"
      ],
      "metadata": {
        "colab": {
          "base_uri": "https://localhost:8080/"
        },
        "id": "pThfOsQfXM-s",
        "outputId": "7a88bd9e-2f9f-4166-d451-fca3b87aee67"
      },
      "execution_count": 38,
      "outputs": [
        {
          "output_type": "execute_result",
          "data": {
            "text/plain": [
              "<tf.Tensor: shape=(10, 1), dtype=float32, numpy=\n",
              "array([[ 76.321144],\n",
              "       [ 81.29353 ],\n",
              "       [ 86.26593 ],\n",
              "       [ 91.23832 ],\n",
              "       [ 96.21071 ],\n",
              "       [101.18309 ],\n",
              "       [106.15549 ],\n",
              "       [111.12788 ],\n",
              "       [116.10026 ],\n",
              "       [121.072655]], dtype=float32)>"
            ]
          },
          "metadata": {},
          "execution_count": 38
        }
      ]
    },
    {
      "cell_type": "code",
      "source": [
        "y_test"
      ],
      "metadata": {
        "colab": {
          "base_uri": "https://localhost:8080/"
        },
        "id": "mBdKmmVCXYO1",
        "outputId": "419058e2-4f77-4ab3-d8b2-0ee4a2ac5ef6"
      },
      "execution_count": 39,
      "outputs": [
        {
          "output_type": "execute_result",
          "data": {
            "text/plain": [
              "<tf.Tensor: shape=(10,), dtype=int32, numpy=array([ 70,  74,  78,  82,  86,  90,  94,  98, 102, 106], dtype=int32)>"
            ]
          },
          "metadata": {},
          "execution_count": 39
        }
      ]
    },
    {
      "cell_type": "code",
      "source": [
        "# as the shapes of y_test and y_pred is different we have to change the shape of y_pred into (10,)\n",
        "y_pred = tf.squeeze(y_pred)\n",
        "y_pred"
      ],
      "metadata": {
        "colab": {
          "base_uri": "https://localhost:8080/"
        },
        "id": "4M2IYvMQXhfD",
        "outputId": "5badfa0c-eef2-45f7-d44b-f4161e4ea589"
      },
      "execution_count": 40,
      "outputs": [
        {
          "output_type": "execute_result",
          "data": {
            "text/plain": [
              "<tf.Tensor: shape=(10,), dtype=float32, numpy=\n",
              "array([ 76.321144,  81.29353 ,  86.26593 ,  91.23832 ,  96.21071 ,\n",
              "       101.18309 , 106.15549 , 111.12788 , 116.10026 , 121.072655],\n",
              "      dtype=float32)>"
            ]
          },
          "metadata": {},
          "execution_count": 40
        }
      ]
    },
    {
      "cell_type": "code",
      "source": [
        "y_pred.shape, y_test.shape"
      ],
      "metadata": {
        "colab": {
          "base_uri": "https://localhost:8080/"
        },
        "id": "kcdKCBwSYXPf",
        "outputId": "b2c78514-68f1-4229-e5de-8f428260f40e"
      },
      "execution_count": 41,
      "outputs": [
        {
          "output_type": "execute_result",
          "data": {
            "text/plain": [
              "(TensorShape([10]), TensorShape([10]))"
            ]
          },
          "metadata": {},
          "execution_count": 41
        }
      ]
    },
    {
      "cell_type": "code",
      "source": [
        "# calculate the mean absolute error\n",
        "mae = tf.losses.MAE(y_test, y_pred)\n",
        "mae"
      ],
      "metadata": {
        "colab": {
          "base_uri": "https://localhost:8080/"
        },
        "id": "li1AHfCeVUz1",
        "outputId": "2e13058c-deb8-49ca-8301-996aa312fddc"
      },
      "execution_count": 42,
      "outputs": [
        {
          "output_type": "execute_result",
          "data": {
            "text/plain": [
              "<tf.Tensor: shape=(), dtype=float32, numpy=10.6969>"
            ]
          },
          "metadata": {},
          "execution_count": 42
        }
      ]
    },
    {
      "cell_type": "code",
      "source": [
        "# calcualte the mean squared error\n",
        "mse = tf.losses.MSE(y_test, y_pred)\n",
        "mse"
      ],
      "metadata": {
        "colab": {
          "base_uri": "https://localhost:8080/"
        },
        "id": "hc04Zkd_VvUD",
        "outputId": "29353a7e-8dbc-4255-c8de-db2929b8c393"
      },
      "execution_count": 43,
      "outputs": [
        {
          "output_type": "execute_result",
          "data": {
            "text/plain": [
              "<tf.Tensor: shape=(), dtype=float32, numpy=122.22439>"
            ]
          },
          "metadata": {},
          "execution_count": 43
        }
      ]
    },
    {
      "cell_type": "code",
      "source": [
        "# making a function to use MAE and MSE\n",
        "def mae(y_true, y_pred):\n",
        "  return tf.losses.MAE(y_true=y_test, y_pred=tf.squeeze(y_pred))\n",
        "\n",
        "def mse(y_true, y_pred):\n",
        "  return tf.losses.MSE(y_true=y_test, y_pred=tf.squeeze(y_pred))"
      ],
      "metadata": {
        "id": "xQXgUKO9ZGc7"
      },
      "execution_count": 44,
      "outputs": []
    },
    {
      "cell_type": "markdown",
      "source": [
        "## Running experiments to improve our model"
      ],
      "metadata": {
        "id": "cr2yvVBwY5AH"
      }
    },
    {
      "cell_type": "markdown",
      "source": [
        "### One layer with 100 epochs"
      ],
      "metadata": {
        "id": "S0ZQ1dFxZIEs"
      }
    },
    {
      "cell_type": "code",
      "source": [
        "# set random seed\n",
        "tf.random.set_seed(42)\n",
        "\n",
        "# creating a model\n",
        "model_1 = tf.keras.Sequential([\n",
        "    tf.keras.layers.Dense(1)\n",
        "])\n",
        "\n",
        "# compile the model\n",
        "model_1.compile(loss=tf.losses.mae,\n",
        "                optimizer=tf.optimizers.SGD(),\n",
        "                metrics=['mae'])\n",
        "\n",
        "# fit the model\n",
        "model_1.fit(x_train, y_train, epochs=100)"
      ],
      "metadata": {
        "colab": {
          "base_uri": "https://localhost:8080/"
        },
        "id": "vAAlZXMAY9eT",
        "outputId": "c6cacaca-285d-4cfc-cf79-76475fe61282"
      },
      "execution_count": 45,
      "outputs": [
        {
          "output_type": "stream",
          "name": "stdout",
          "text": [
            "Epoch 1/100\n",
            "2/2 [==============================] - 1s 28ms/step - loss: 110.5400 - mae: 110.5400\n",
            "Epoch 2/100\n",
            "2/2 [==============================] - 0s 15ms/step - loss: 75.0845 - mae: 75.0845\n",
            "Epoch 3/100\n",
            "2/2 [==============================] - 0s 27ms/step - loss: 37.5186 - mae: 37.5186\n",
            "Epoch 4/100\n",
            "2/2 [==============================] - 0s 10ms/step - loss: 8.1179 - mae: 8.1179\n",
            "Epoch 5/100\n",
            "2/2 [==============================] - 0s 20ms/step - loss: 10.7753 - mae: 10.7753\n",
            "Epoch 6/100\n",
            "2/2 [==============================] - 0s 12ms/step - loss: 9.9700 - mae: 9.9700\n",
            "Epoch 7/100\n",
            "2/2 [==============================] - 0s 12ms/step - loss: 9.0260 - mae: 9.0260\n",
            "Epoch 8/100\n",
            "2/2 [==============================] - 0s 12ms/step - loss: 9.1142 - mae: 9.1142\n",
            "Epoch 9/100\n",
            "2/2 [==============================] - 0s 11ms/step - loss: 19.8305 - mae: 19.8305\n",
            "Epoch 10/100\n",
            "2/2 [==============================] - 0s 8ms/step - loss: 10.7379 - mae: 10.7379\n",
            "Epoch 11/100\n",
            "2/2 [==============================] - 0s 15ms/step - loss: 8.6634 - mae: 8.6634\n",
            "Epoch 12/100\n",
            "2/2 [==============================] - 0s 14ms/step - loss: 9.6514 - mae: 9.6514\n",
            "Epoch 13/100\n",
            "2/2 [==============================] - 0s 19ms/step - loss: 12.9314 - mae: 12.9314\n",
            "Epoch 14/100\n",
            "2/2 [==============================] - 0s 14ms/step - loss: 14.2931 - mae: 14.2931\n",
            "Epoch 15/100\n",
            "2/2 [==============================] - 0s 8ms/step - loss: 11.7030 - mae: 11.7030\n",
            "Epoch 16/100\n",
            "2/2 [==============================] - 0s 8ms/step - loss: 8.4918 - mae: 8.4918\n",
            "Epoch 17/100\n",
            "2/2 [==============================] - 0s 8ms/step - loss: 13.4868 - mae: 13.4868\n",
            "Epoch 18/100\n",
            "2/2 [==============================] - 0s 8ms/step - loss: 11.2690 - mae: 11.2690\n",
            "Epoch 19/100\n",
            "2/2 [==============================] - 0s 20ms/step - loss: 18.3117 - mae: 18.3117\n",
            "Epoch 20/100\n",
            "2/2 [==============================] - 0s 31ms/step - loss: 15.0197 - mae: 15.0197\n",
            "Epoch 21/100\n",
            "2/2 [==============================] - 0s 8ms/step - loss: 10.8992 - mae: 10.8992\n",
            "Epoch 22/100\n",
            "2/2 [==============================] - 0s 9ms/step - loss: 8.6542 - mae: 8.6542\n",
            "Epoch 23/100\n",
            "2/2 [==============================] - 0s 8ms/step - loss: 9.7255 - mae: 9.7255\n",
            "Epoch 24/100\n",
            "2/2 [==============================] - 0s 14ms/step - loss: 8.6179 - mae: 8.6179\n",
            "Epoch 25/100\n",
            "2/2 [==============================] - 0s 26ms/step - loss: 11.6317 - mae: 11.6317\n",
            "Epoch 26/100\n",
            "2/2 [==============================] - 0s 15ms/step - loss: 15.1561 - mae: 15.1561\n",
            "Epoch 27/100\n",
            "2/2 [==============================] - 0s 13ms/step - loss: 11.9071 - mae: 11.9071\n",
            "Epoch 28/100\n",
            "2/2 [==============================] - 0s 12ms/step - loss: 13.9494 - mae: 13.9494\n",
            "Epoch 29/100\n",
            "2/2 [==============================] - 0s 8ms/step - loss: 9.6397 - mae: 9.6397\n",
            "Epoch 30/100\n",
            "2/2 [==============================] - 0s 8ms/step - loss: 17.2000 - mae: 17.2000\n",
            "Epoch 31/100\n",
            "2/2 [==============================] - 0s 12ms/step - loss: 22.8885 - mae: 22.8885\n",
            "Epoch 32/100\n",
            "2/2 [==============================] - 0s 11ms/step - loss: 7.9501 - mae: 7.9501\n",
            "Epoch 33/100\n",
            "2/2 [==============================] - 0s 9ms/step - loss: 14.1546 - mae: 14.1546\n",
            "Epoch 34/100\n",
            "2/2 [==============================] - 0s 9ms/step - loss: 12.4017 - mae: 12.4017\n",
            "Epoch 35/100\n",
            "2/2 [==============================] - 0s 10ms/step - loss: 8.2944 - mae: 8.2944\n",
            "Epoch 36/100\n",
            "2/2 [==============================] - 0s 8ms/step - loss: 10.5165 - mae: 10.5165\n",
            "Epoch 37/100\n",
            "2/2 [==============================] - 0s 11ms/step - loss: 10.1608 - mae: 10.1608\n",
            "Epoch 38/100\n",
            "2/2 [==============================] - 0s 11ms/step - loss: 11.3571 - mae: 11.3571\n",
            "Epoch 39/100\n",
            "2/2 [==============================] - 0s 8ms/step - loss: 14.7792 - mae: 14.7792\n",
            "Epoch 40/100\n",
            "2/2 [==============================] - 0s 9ms/step - loss: 12.9094 - mae: 12.9094\n",
            "Epoch 41/100\n",
            "2/2 [==============================] - 0s 10ms/step - loss: 9.3005 - mae: 9.3005\n",
            "Epoch 42/100\n",
            "2/2 [==============================] - 0s 9ms/step - loss: 11.0381 - mae: 11.0381\n",
            "Epoch 43/100\n",
            "2/2 [==============================] - 0s 9ms/step - loss: 8.3660 - mae: 8.3660\n",
            "Epoch 44/100\n",
            "2/2 [==============================] - 0s 9ms/step - loss: 13.0725 - mae: 13.0725\n",
            "Epoch 45/100\n",
            "2/2 [==============================] - 0s 9ms/step - loss: 13.6992 - mae: 13.6992\n",
            "Epoch 46/100\n",
            "2/2 [==============================] - 0s 9ms/step - loss: 8.3177 - mae: 8.3177\n",
            "Epoch 47/100\n",
            "2/2 [==============================] - 0s 9ms/step - loss: 8.7569 - mae: 8.7569\n",
            "Epoch 48/100\n",
            "2/2 [==============================] - 0s 9ms/step - loss: 10.0572 - mae: 10.0572\n",
            "Epoch 49/100\n",
            "2/2 [==============================] - 0s 9ms/step - loss: 8.5416 - mae: 8.5416\n",
            "Epoch 50/100\n",
            "2/2 [==============================] - 0s 10ms/step - loss: 9.0458 - mae: 9.0458\n",
            "Epoch 51/100\n",
            "2/2 [==============================] - 0s 10ms/step - loss: 9.4066 - mae: 9.4066\n",
            "Epoch 52/100\n",
            "2/2 [==============================] - 0s 10ms/step - loss: 14.1852 - mae: 14.1852\n",
            "Epoch 53/100\n",
            "2/2 [==============================] - 0s 10ms/step - loss: 14.9093 - mae: 14.9093\n",
            "Epoch 54/100\n",
            "2/2 [==============================] - 0s 12ms/step - loss: 14.8473 - mae: 14.8473\n",
            "Epoch 55/100\n",
            "2/2 [==============================] - 0s 18ms/step - loss: 12.6318 - mae: 12.6318\n",
            "Epoch 56/100\n",
            "2/2 [==============================] - 0s 15ms/step - loss: 7.6258 - mae: 7.6258\n",
            "Epoch 57/100\n",
            "2/2 [==============================] - 0s 16ms/step - loss: 8.8228 - mae: 8.8228\n",
            "Epoch 58/100\n",
            "2/2 [==============================] - 0s 13ms/step - loss: 8.4111 - mae: 8.4111\n",
            "Epoch 59/100\n",
            "2/2 [==============================] - 0s 19ms/step - loss: 9.2057 - mae: 9.2057\n",
            "Epoch 60/100\n",
            "2/2 [==============================] - 0s 16ms/step - loss: 9.1505 - mae: 9.1505\n",
            "Epoch 61/100\n",
            "2/2 [==============================] - 0s 12ms/step - loss: 10.6897 - mae: 10.6897\n",
            "Epoch 62/100\n",
            "2/2 [==============================] - 0s 8ms/step - loss: 7.4698 - mae: 7.4698\n",
            "Epoch 63/100\n",
            "2/2 [==============================] - 0s 10ms/step - loss: 10.5598 - mae: 10.5598\n",
            "Epoch 64/100\n",
            "2/2 [==============================] - 0s 13ms/step - loss: 12.1634 - mae: 12.1634\n",
            "Epoch 65/100\n",
            "2/2 [==============================] - 0s 16ms/step - loss: 9.4906 - mae: 9.4906\n",
            "Epoch 66/100\n",
            "2/2 [==============================] - 0s 9ms/step - loss: 11.5691 - mae: 11.5691\n",
            "Epoch 67/100\n",
            "2/2 [==============================] - 0s 16ms/step - loss: 8.0554 - mae: 8.0554\n",
            "Epoch 68/100\n",
            "2/2 [==============================] - 0s 10ms/step - loss: 8.5887 - mae: 8.5887\n",
            "Epoch 69/100\n",
            "2/2 [==============================] - 0s 8ms/step - loss: 12.2527 - mae: 12.2527\n",
            "Epoch 70/100\n",
            "2/2 [==============================] - 0s 8ms/step - loss: 8.9737 - mae: 8.9737\n",
            "Epoch 71/100\n",
            "2/2 [==============================] - 0s 14ms/step - loss: 9.9463 - mae: 9.9463\n",
            "Epoch 72/100\n",
            "2/2 [==============================] - 0s 37ms/step - loss: 9.9889 - mae: 9.9889\n",
            "Epoch 73/100\n",
            "2/2 [==============================] - 0s 24ms/step - loss: 12.4385 - mae: 12.4385\n",
            "Epoch 74/100\n",
            "2/2 [==============================] - 0s 26ms/step - loss: 10.6321 - mae: 10.6321\n",
            "Epoch 75/100\n",
            "2/2 [==============================] - 0s 14ms/step - loss: 9.6449 - mae: 9.6449\n",
            "Epoch 76/100\n",
            "2/2 [==============================] - 0s 20ms/step - loss: 11.1065 - mae: 11.1065\n",
            "Epoch 77/100\n",
            "2/2 [==============================] - 0s 23ms/step - loss: 8.2930 - mae: 8.2930\n",
            "Epoch 78/100\n",
            "2/2 [==============================] - 0s 17ms/step - loss: 8.9747 - mae: 8.9747\n",
            "Epoch 79/100\n",
            "2/2 [==============================] - 0s 24ms/step - loss: 19.8511 - mae: 19.8511\n",
            "Epoch 80/100\n",
            "2/2 [==============================] - 0s 25ms/step - loss: 17.7965 - mae: 17.7965\n",
            "Epoch 81/100\n",
            "2/2 [==============================] - 0s 13ms/step - loss: 7.1269 - mae: 7.1269\n",
            "Epoch 82/100\n",
            "2/2 [==============================] - 0s 12ms/step - loss: 10.4205 - mae: 10.4205\n",
            "Epoch 83/100\n",
            "2/2 [==============================] - 0s 10ms/step - loss: 9.8396 - mae: 9.8396\n",
            "Epoch 84/100\n",
            "2/2 [==============================] - 0s 14ms/step - loss: 7.9780 - mae: 7.9780\n",
            "Epoch 85/100\n",
            "2/2 [==============================] - 0s 12ms/step - loss: 9.4928 - mae: 9.4928\n",
            "Epoch 86/100\n",
            "2/2 [==============================] - 0s 32ms/step - loss: 9.5336 - mae: 9.5336\n",
            "Epoch 87/100\n",
            "2/2 [==============================] - 0s 28ms/step - loss: 11.4819 - mae: 11.4819\n",
            "Epoch 88/100\n",
            "2/2 [==============================] - 0s 9ms/step - loss: 9.9836 - mae: 9.9836\n",
            "Epoch 89/100\n",
            "2/2 [==============================] - 0s 14ms/step - loss: 7.2851 - mae: 7.2851\n",
            "Epoch 90/100\n",
            "2/2 [==============================] - 0s 11ms/step - loss: 12.7465 - mae: 12.7465\n",
            "Epoch 91/100\n",
            "2/2 [==============================] - 0s 11ms/step - loss: 7.3520 - mae: 7.3520\n",
            "Epoch 92/100\n",
            "2/2 [==============================] - 0s 13ms/step - loss: 7.7184 - mae: 7.7184\n",
            "Epoch 93/100\n",
            "2/2 [==============================] - 0s 13ms/step - loss: 7.1496 - mae: 7.1496\n",
            "Epoch 94/100\n",
            "2/2 [==============================] - 0s 10ms/step - loss: 12.5924 - mae: 12.5924\n",
            "Epoch 95/100\n",
            "2/2 [==============================] - 0s 11ms/step - loss: 9.9710 - mae: 9.9710\n",
            "Epoch 96/100\n",
            "2/2 [==============================] - 0s 16ms/step - loss: 9.1614 - mae: 9.1614\n",
            "Epoch 97/100\n",
            "2/2 [==============================] - 0s 13ms/step - loss: 12.0886 - mae: 12.0886\n",
            "Epoch 98/100\n",
            "2/2 [==============================] - 0s 9ms/step - loss: 9.1151 - mae: 9.1151\n",
            "Epoch 99/100\n",
            "2/2 [==============================] - 0s 15ms/step - loss: 8.5204 - mae: 8.5204\n",
            "Epoch 100/100\n",
            "2/2 [==============================] - 0s 14ms/step - loss: 14.4447 - mae: 14.4447\n"
          ]
        },
        {
          "output_type": "execute_result",
          "data": {
            "text/plain": [
              "<keras.callbacks.History at 0x7ecf63594b80>"
            ]
          },
          "metadata": {},
          "execution_count": 45
        }
      ]
    },
    {
      "cell_type": "code",
      "source": [
        "# make and plot predictions of our model\n",
        "y_preds_1 = model_1.predict(x_test)\n",
        "plot_prediction(predictions=y_preds_1)"
      ],
      "metadata": {
        "id": "wx4zjlAFaKPV",
        "colab": {
          "base_uri": "https://localhost:8080/",
          "height": 654
        },
        "outputId": "6c3a992a-035a-4911-efc0-db6a3c5be9ff"
      },
      "execution_count": 46,
      "outputs": [
        {
          "output_type": "stream",
          "name": "stderr",
          "text": [
            "WARNING:tensorflow:6 out of the last 6 calls to <function Model.make_predict_function.<locals>.predict_function at 0x7ecf63341090> triggered tf.function retracing. Tracing is expensive and the excessive number of tracings could be due to (1) creating @tf.function repeatedly in a loop, (2) passing tensors with different shapes, (3) passing Python objects instead of tensors. For (1), please define your @tf.function outside of the loop. For (2), @tf.function has reduce_retracing=True option that can avoid unnecessary retracing. For (3), please refer to https://www.tensorflow.org/guide/function#controlling_retracing and https://www.tensorflow.org/api_docs/python/tf/function for  more details.\n"
          ]
        },
        {
          "output_type": "stream",
          "name": "stdout",
          "text": [
            "1/1 [==============================] - 0s 169ms/step\n"
          ]
        },
        {
          "output_type": "display_data",
          "data": {
            "text/plain": [
              "<Figure size 1000x700 with 1 Axes>"
            ],
            "image/png": "[encoded data removed]"
          },
          "metadata": {}
        }
      ]
    },
    {
      "cell_type": "code",
      "source": [
        "# calculate model_1 evaluatino metrics\n",
        "mae_1 = mae(y_test, y_preds_1)\n",
        "mse_1 = mse(y_test, y_preds_1)\n",
        "mae_1, mse_1"
      ],
      "metadata": {
        "id": "HZa1xWWSasgc",
        "colab": {
          "base_uri": "https://localhost:8080/"
        },
        "outputId": "06a63376-da24-49a5-e89a-ffadf6f08b01"
      },
      "execution_count": 47,
      "outputs": [
        {
          "output_type": "execute_result",
          "data": {
            "text/plain": [
              "(<tf.Tensor: shape=(), dtype=float32, numpy=30.753101>,\n",
              " <tf.Tensor: shape=(), dtype=float32, numpy=956.26495>)"
            ]
          },
          "metadata": {},
          "execution_count": 47
        }
      ]
    },
    {
      "cell_type": "markdown",
      "source": [
        "### Two dense layers with 100 epochs"
      ],
      "metadata": {
        "id": "UQxrBMOjcbeQ"
      }
    },
    {
      "cell_type": "code",
      "source": [
        "# set the random seed\n",
        "tf.random.set_seed(42)\n",
        "\n",
        "# creating the model\n",
        "model_2 = tf.keras.Sequential([\n",
        "    tf.keras.layers.Dense(10),\n",
        "    tf.keras.layers.Dense(1)\n",
        "])\n",
        "\n",
        "# compile the model\n",
        "model_2.compile(loss=tf.losses.mae,\n",
        "                optimizer=tf.optimizers.SGD(),\n",
        "                metrics=['mse'])\n",
        "\n",
        "# fit the model\n",
        "model_2.fit(x_train, y_train, epochs=100)"
      ],
      "metadata": {
        "id": "xV9Qq9Y-cgUT",
        "colab": {
          "base_uri": "https://localhost:8080/"
        },
        "outputId": "c739bfa0-5ce8-4b06-f156-a7c95a650b3c"
      },
      "execution_count": 48,
      "outputs": [
        {
          "output_type": "stream",
          "name": "stdout",
          "text": [
            "Epoch 1/100\n",
            "2/2 [==============================] - 2s 27ms/step - loss: 22.7205 - mse: 1087.5367\n",
            "Epoch 2/100\n",
            "2/2 [==============================] - 0s 23ms/step - loss: 23.3796 - mse: 777.0370\n",
            "Epoch 3/100\n",
            "2/2 [==============================] - 0s 14ms/step - loss: 28.4256 - mse: 1215.9285\n",
            "Epoch 4/100\n",
            "2/2 [==============================] - 0s 17ms/step - loss: 16.2689 - mse: 374.2570\n",
            "Epoch 5/100\n",
            "2/2 [==============================] - 0s 16ms/step - loss: 18.8242 - mse: 508.4614\n",
            "Epoch 6/100\n",
            "2/2 [==============================] - 0s 12ms/step - loss: 14.1829 - mse: 284.7175\n",
            "Epoch 7/100\n",
            "2/2 [==============================] - 0s 11ms/step - loss: 11.4816 - mse: 160.5077\n",
            "Epoch 8/100\n",
            "2/2 [==============================] - 0s 8ms/step - loss: 11.2294 - mse: 175.3105\n",
            "Epoch 9/100\n",
            "2/2 [==============================] - 0s 10ms/step - loss: 41.9478 - mse: 2806.3127\n",
            "Epoch 10/100\n",
            "2/2 [==============================] - 0s 15ms/step - loss: 29.1520 - mse: 1201.7351\n",
            "Epoch 11/100\n",
            "2/2 [==============================] - 0s 17ms/step - loss: 8.5658 - mse: 96.4222\n",
            "Epoch 12/100\n",
            "2/2 [==============================] - 0s 18ms/step - loss: 27.4042 - mse: 1032.7472\n",
            "Epoch 13/100\n",
            "2/2 [==============================] - 0s 16ms/step - loss: 12.1597 - mse: 177.5336\n",
            "Epoch 14/100\n",
            "2/2 [==============================] - 0s 33ms/step - loss: 35.1032 - mse: 2029.3668\n",
            "Epoch 15/100\n",
            "2/2 [==============================] - 0s 31ms/step - loss: 22.8770 - mse: 744.7338\n",
            "Epoch 16/100\n",
            "2/2 [==============================] - 0s 13ms/step - loss: 9.9938 - mse: 124.7660\n",
            "Epoch 17/100\n",
            "2/2 [==============================] - 0s 21ms/step - loss: 18.4374 - mse: 453.6646\n",
            "Epoch 18/100\n",
            "2/2 [==============================] - 0s 9ms/step - loss: 11.3141 - mse: 196.2769\n",
            "Epoch 19/100\n",
            "2/2 [==============================] - 0s 15ms/step - loss: 13.8645 - mse: 298.7802\n",
            "Epoch 20/100\n",
            "2/2 [==============================] - 0s 12ms/step - loss: 11.1647 - mse: 146.0188\n",
            "Epoch 21/100\n",
            "2/2 [==============================] - 0s 20ms/step - loss: 17.1781 - mse: 417.0464\n",
            "Epoch 22/100\n",
            "2/2 [==============================] - 0s 15ms/step - loss: 15.4162 - mse: 326.9955\n",
            "Epoch 23/100\n",
            "2/2 [==============================] - 0s 20ms/step - loss: 9.2446 - mse: 118.5570\n",
            "Epoch 24/100\n",
            "2/2 [==============================] - 0s 9ms/step - loss: 17.3023 - mse: 410.7653\n",
            "Epoch 25/100\n",
            "2/2 [==============================] - 0s 15ms/step - loss: 15.9644 - mse: 335.1709\n",
            "Epoch 26/100\n",
            "2/2 [==============================] - 0s 14ms/step - loss: 20.9929 - mse: 652.3361\n",
            "Epoch 27/100\n",
            "2/2 [==============================] - 0s 20ms/step - loss: 25.8241 - mse: 1039.1447\n",
            "Epoch 28/100\n",
            "2/2 [==============================] - 0s 22ms/step - loss: 18.3401 - mse: 532.1134\n",
            "Epoch 29/100\n",
            "2/2 [==============================] - 0s 19ms/step - loss: 9.2369 - mse: 98.2569\n",
            "Epoch 30/100\n",
            "2/2 [==============================] - 0s 21ms/step - loss: 28.9486 - mse: 1493.3682\n",
            "Epoch 31/100\n",
            "2/2 [==============================] - 0s 14ms/step - loss: 52.4159 - mse: 4910.3271\n",
            "Epoch 32/100\n",
            "2/2 [==============================] - 0s 16ms/step - loss: 11.8699 - mse: 203.3897\n",
            "Epoch 33/100\n",
            "2/2 [==============================] - 0s 17ms/step - loss: 15.4277 - mse: 327.6776\n",
            "Epoch 34/100\n",
            "2/2 [==============================] - 0s 18ms/step - loss: 12.5467 - mse: 206.4761\n",
            "Epoch 35/100\n",
            "2/2 [==============================] - 0s 12ms/step - loss: 9.1728 - mse: 90.9084\n",
            "Epoch 36/100\n",
            "2/2 [==============================] - 0s 20ms/step - loss: 16.3940 - mse: 390.2803\n",
            "Epoch 37/100\n",
            "2/2 [==============================] - 0s 20ms/step - loss: 11.1054 - mse: 192.1212\n",
            "Epoch 38/100\n",
            "2/2 [==============================] - 0s 16ms/step - loss: 18.2370 - mse: 438.7669\n",
            "Epoch 39/100\n",
            "2/2 [==============================] - 0s 19ms/step - loss: 19.1662 - mse: 535.8469\n",
            "Epoch 40/100\n",
            "2/2 [==============================] - 0s 37ms/step - loss: 20.5511 - mse: 616.8106\n",
            "Epoch 41/100\n",
            "2/2 [==============================] - 0s 17ms/step - loss: 14.7559 - mse: 271.8022\n",
            "Epoch 42/100\n",
            "2/2 [==============================] - 0s 11ms/step - loss: 12.1643 - mse: 180.0716\n",
            "Epoch 43/100\n",
            "2/2 [==============================] - 0s 20ms/step - loss: 10.6768 - mse: 161.2942\n",
            "Epoch 44/100\n",
            "2/2 [==============================] - 0s 19ms/step - loss: 32.1550 - mse: 1699.3024\n",
            "Epoch 45/100\n",
            "2/2 [==============================] - 0s 14ms/step - loss: 12.4336 - mse: 199.7106\n",
            "Epoch 46/100\n",
            "2/2 [==============================] - 0s 12ms/step - loss: 17.4287 - mse: 454.9822\n",
            "Epoch 47/100\n",
            "2/2 [==============================] - 0s 12ms/step - loss: 15.7858 - mse: 340.4322\n",
            "Epoch 48/100\n",
            "2/2 [==============================] - 0s 17ms/step - loss: 8.3918 - mse: 112.8052\n",
            "Epoch 49/100\n",
            "2/2 [==============================] - 0s 19ms/step - loss: 14.2435 - mse: 284.1957\n",
            "Epoch 50/100\n",
            "2/2 [==============================] - 0s 18ms/step - loss: 15.1749 - mse: 309.0953\n",
            "Epoch 51/100\n",
            "2/2 [==============================] - 0s 26ms/step - loss: 13.6889 - mse: 256.8597\n",
            "Epoch 52/100\n",
            "2/2 [==============================] - 0s 17ms/step - loss: 18.1038 - mse: 462.3750\n",
            "Epoch 53/100\n",
            "2/2 [==============================] - 0s 16ms/step - loss: 22.7638 - mse: 748.8257\n",
            "Epoch 54/100\n",
            "2/2 [==============================] - 0s 15ms/step - loss: 26.8186 - mse: 1107.6414\n",
            "Epoch 55/100\n",
            "2/2 [==============================] - 0s 16ms/step - loss: 26.4540 - mse: 1064.0553\n",
            "Epoch 56/100\n",
            "2/2 [==============================] - 0s 11ms/step - loss: 11.3608 - mse: 171.9164\n",
            "Epoch 57/100\n",
            "2/2 [==============================] - 0s 13ms/step - loss: 13.3862 - mse: 226.5298\n",
            "Epoch 58/100\n",
            "2/2 [==============================] - 0s 17ms/step - loss: 9.9626 - mse: 109.8699\n",
            "Epoch 59/100\n",
            "2/2 [==============================] - 0s 16ms/step - loss: 13.9462 - mse: 277.2663\n",
            "Epoch 60/100\n",
            "2/2 [==============================] - 0s 14ms/step - loss: 10.0046 - mse: 118.9179\n",
            "Epoch 61/100\n",
            "2/2 [==============================] - 0s 16ms/step - loss: 15.0020 - mse: 309.6141\n",
            "Epoch 62/100\n",
            "2/2 [==============================] - 0s 15ms/step - loss: 11.9451 - mse: 197.7268\n",
            "Epoch 63/100\n",
            "2/2 [==============================] - 0s 12ms/step - loss: 10.2980 - mse: 135.7701\n",
            "Epoch 64/100\n",
            "2/2 [==============================] - 0s 9ms/step - loss: 23.9370 - mse: 842.2922\n",
            "Epoch 65/100\n",
            "2/2 [==============================] - 0s 9ms/step - loss: 10.4750 - mse: 130.7876\n",
            "Epoch 66/100\n",
            "2/2 [==============================] - 0s 13ms/step - loss: 20.9768 - mse: 647.4631\n",
            "Epoch 67/100\n",
            "2/2 [==============================] - 0s 14ms/step - loss: 10.4557 - mse: 126.7467\n",
            "Epoch 68/100\n",
            "2/2 [==============================] - 0s 15ms/step - loss: 14.2073 - mse: 303.9493\n",
            "Epoch 69/100\n",
            "2/2 [==============================] - 0s 17ms/step - loss: 10.5295 - mse: 126.4798\n",
            "Epoch 70/100\n",
            "2/2 [==============================] - 0s 12ms/step - loss: 12.6027 - mse: 201.5172\n",
            "Epoch 71/100\n",
            "2/2 [==============================] - 0s 17ms/step - loss: 13.0321 - mse: 226.9643\n",
            "Epoch 72/100\n",
            "2/2 [==============================] - 0s 14ms/step - loss: 19.4006 - mse: 534.1095\n",
            "Epoch 73/100\n",
            "2/2 [==============================] - 0s 31ms/step - loss: 11.1392 - mse: 192.9854\n",
            "Epoch 74/100\n",
            "2/2 [==============================] - 0s 14ms/step - loss: 21.6430 - mse: 728.4492\n",
            "Epoch 75/100\n",
            "2/2 [==============================] - 0s 14ms/step - loss: 7.2245 - mse: 71.5794\n",
            "Epoch 76/100\n",
            "2/2 [==============================] - 0s 13ms/step - loss: 9.4532 - mse: 149.1353\n",
            "Epoch 77/100\n",
            "2/2 [==============================] - 0s 14ms/step - loss: 22.1572 - mse: 732.8844\n",
            "Epoch 78/100\n",
            "2/2 [==============================] - 0s 14ms/step - loss: 17.4908 - mse: 465.0487\n",
            "Epoch 79/100\n",
            "2/2 [==============================] - 0s 11ms/step - loss: 14.7235 - mse: 317.1736\n",
            "Epoch 80/100\n",
            "2/2 [==============================] - 0s 13ms/step - loss: 24.9045 - mse: 944.8529\n",
            "Epoch 81/100\n",
            "2/2 [==============================] - 0s 26ms/step - loss: 10.8008 - mse: 137.0391\n",
            "Epoch 82/100\n",
            "2/2 [==============================] - 0s 23ms/step - loss: 12.8202 - mse: 233.8537\n",
            "Epoch 83/100\n",
            "2/2 [==============================] - 0s 40ms/step - loss: 17.6173 - mse: 404.9586\n",
            "Epoch 84/100\n",
            "2/2 [==============================] - 0s 11ms/step - loss: 7.3008 - mse: 73.1926\n",
            "Epoch 85/100\n",
            "2/2 [==============================] - 0s 26ms/step - loss: 15.1126 - mse: 318.7133\n",
            "Epoch 86/100\n",
            "2/2 [==============================] - 0s 15ms/step - loss: 15.4040 - mse: 318.5130\n",
            "Epoch 87/100\n",
            "2/2 [==============================] - 0s 11ms/step - loss: 19.3447 - mse: 532.1082\n",
            "Epoch 88/100\n",
            "2/2 [==============================] - 0s 22ms/step - loss: 29.2055 - mse: 1230.8423\n",
            "Epoch 89/100\n",
            "2/2 [==============================] - 0s 14ms/step - loss: 10.0858 - mse: 124.1564\n",
            "Epoch 90/100\n",
            "2/2 [==============================] - 0s 12ms/step - loss: 21.0188 - mse: 632.4290\n",
            "Epoch 91/100\n",
            "2/2 [==============================] - 0s 13ms/step - loss: 10.4520 - mse: 164.0233\n",
            "Epoch 92/100\n",
            "2/2 [==============================] - 0s 12ms/step - loss: 17.9452 - mse: 440.4800\n",
            "Epoch 93/100\n",
            "2/2 [==============================] - 0s 14ms/step - loss: 6.5542 - mse: 61.5129\n",
            "Epoch 94/100\n",
            "2/2 [==============================] - 0s 14ms/step - loss: 11.1092 - mse: 152.2024\n",
            "Epoch 95/100\n",
            "2/2 [==============================] - 0s 15ms/step - loss: 24.3279 - mse: 887.4731\n",
            "Epoch 96/100\n",
            "2/2 [==============================] - 0s 10ms/step - loss: 10.7149 - mse: 172.6435\n",
            "Epoch 97/100\n",
            "2/2 [==============================] - 0s 7ms/step - loss: 15.3295 - mse: 356.0799\n",
            "Epoch 98/100\n",
            "2/2 [==============================] - 0s 8ms/step - loss: 8.2366 - mse: 111.2047\n",
            "Epoch 99/100\n",
            "2/2 [==============================] - 0s 8ms/step - loss: 16.5070 - mse: 382.7077\n",
            "Epoch 100/100\n",
            "2/2 [==============================] - 0s 8ms/step - loss: 14.2877 - mse: 294.7992\n"
          ]
        },
        {
          "output_type": "execute_result",
          "data": {
            "text/plain": [
              "<keras.callbacks.History at 0x7ecf631807c0>"
            ]
          },
          "metadata": {},
          "execution_count": 48
        }
      ]
    },
    {
      "cell_type": "code",
      "source": [
        "# making predictino and ploting results\n",
        "y_preds_2 = model_2.predict(x_test)\n",
        "\n",
        "# ploting the predictions\n",
        "plot_prediction(predictions=y_preds_2)"
      ],
      "metadata": {
        "id": "bLtElMMmdSKM",
        "colab": {
          "base_uri": "https://localhost:8080/",
          "height": 616
        },
        "outputId": "8cec92dc-bb68-4eb7-b7c8-c1c532a4c1f8"
      },
      "execution_count": 49,
      "outputs": [
        {
          "output_type": "stream",
          "name": "stdout",
          "text": [
            "1/1 [==============================] - 0s 51ms/step\n"
          ]
        },
        {
          "output_type": "display_data",
          "data": {
            "text/plain": [
              "<Figure size 1000x700 with 1 Axes>"
            ],
            "image/png": "[encoded data removed]"
          },
          "metadata": {}
        }
      ]
    },
    {
      "cell_type": "code",
      "source": [
        "# calculating the evaluation metrics\n",
        "mae_2 = mae(y_test, y_preds_2)\n",
        "mse_2 = mse(y_test, y_preds_2)\n",
        "mae_2, mse_2"
      ],
      "metadata": {
        "id": "bN5MATNDdw1T",
        "colab": {
          "base_uri": "https://localhost:8080/"
        },
        "outputId": "ee3c7e6d-b515-45e3-b32a-a92d44e0e80c"
      },
      "execution_count": 50,
      "outputs": [
        {
          "output_type": "execute_result",
          "data": {
            "text/plain": [
              "(<tf.Tensor: shape=(), dtype=float32, numpy=10.77001>,\n",
              " <tf.Tensor: shape=(), dtype=float32, numpy=123.84906>)"
            ]
          },
          "metadata": {},
          "execution_count": 50
        }
      ]
    },
    {
      "cell_type": "markdown",
      "source": [
        "### Two layers with 500 epochs"
      ],
      "metadata": {
        "id": "asIrsQ8GflrV"
      }
    },
    {
      "cell_type": "code",
      "source": [
        "# set the random seed\n",
        "tf.random.set_seed(42)\n",
        "\n",
        "# creating the model\n",
        "model_3 = tf.keras.Sequential([\n",
        "    tf.keras.layers.Dense(10),\n",
        "    tf.keras.layers.Dense(1)\n",
        "])\n",
        "\n",
        "# compile the model\n",
        "model_3.compile(loss=tf.losses.mae,\n",
        "                optimizer=tf.optimizers.SGD(),\n",
        "                metrics=['mse'])\n",
        "\n",
        "# fit the model\n",
        "model_3.fit(x_train, y_train, epochs=500, verbose=0)"
      ],
      "metadata": {
        "id": "IeZfEKzkftm7",
        "colab": {
          "base_uri": "https://localhost:8080/"
        },
        "outputId": "385d982e-2547-4b11-e0d7-41c8ad74bbed"
      },
      "execution_count": 51,
      "outputs": [
        {
          "output_type": "execute_result",
          "data": {
            "text/plain": [
              "<keras.callbacks.History at 0x7ecf634eda80>"
            ]
          },
          "metadata": {},
          "execution_count": 51
        }
      ]
    },
    {
      "cell_type": "code",
      "source": [
        "# making predictino and ploting results\n",
        "y_preds_3 = model_3.predict(x_test)\n",
        "\n",
        "# ploting the predictions\n",
        "plot_prediction(predictions=y_preds_3)"
      ],
      "metadata": {
        "id": "-e-WsU1af4Ij",
        "colab": {
          "base_uri": "https://localhost:8080/",
          "height": 616
        },
        "outputId": "0a2122b6-6d7f-475d-912e-b46448092b24"
      },
      "execution_count": 52,
      "outputs": [
        {
          "output_type": "stream",
          "name": "stdout",
          "text": [
            "1/1 [==============================] - 0s 51ms/step\n"
          ]
        },
        {
          "output_type": "display_data",
          "data": {
            "text/plain": [
              "<Figure size 1000x700 with 1 Axes>"
            ],
            "image/png": "[encoded data removed]"
          },
          "metadata": {}
        }
      ]
    },
    {
      "cell_type": "code",
      "source": [
        "mae_3 = mae(y_test, y_preds_3)\n",
        "mse_3 = mse(y_test, y_preds_3)\n",
        "mae_3, mse_3"
      ],
      "metadata": {
        "id": "iKfhjsNMgLyt",
        "colab": {
          "base_uri": "https://localhost:8080/"
        },
        "outputId": "435f5b9d-e25c-4e4c-ed39-c1fa15c8df07"
      },
      "execution_count": 53,
      "outputs": [
        {
          "output_type": "execute_result",
          "data": {
            "text/plain": [
              "(<tf.Tensor: shape=(), dtype=float32, numpy=67.20289>,\n",
              " <tf.Tensor: shape=(), dtype=float32, numpy=4599.0913>)"
            ]
          },
          "metadata": {},
          "execution_count": 53
        }
      ]
    },
    {
      "cell_type": "markdown",
      "source": [
        "## Compareing the results of our experiments"
      ],
      "metadata": {
        "id": "Umw0A4AcieW5"
      }
    },
    {
      "cell_type": "code",
      "source": [
        "import pandas as pd\n",
        "\n",
        "model_results = [['model_1', mae_1.numpy(), mse_1.numpy()],\n",
        "                 ['model_2', mae_2.numpy(), mse_2.numpy()],\n",
        "                 ['model_3', mae_3.numpy(), mse_3.numpy()]]\n",
        "\n",
        "all_results = pd.DataFrame(model_results, columns=['model', 'mae', 'mse'])\n",
        "all_results"
      ],
      "metadata": {
        "id": "bux66MuhikDA",
        "colab": {
          "base_uri": "https://localhost:8080/",
          "height": 143
        },
        "outputId": "7e78ce13-cfe6-4c9c-f47c-2cb4b8187706"
      },
      "execution_count": 54,
      "outputs": [
        {
          "output_type": "execute_result",
          "data": {
            "text/plain": [
              "     model        mae          mse\n",
              "0  model_1  30.753101   956.264954\n",
              "1  model_2  10.770010   123.849060\n",
              "2  model_3  67.202888  4599.091309"
            ],
            "text/html": [
              "\n",
              "\n",
              "  <div id=\"df-39c48014-3645-4c51-9d60-5c99699506d0\">\n",
              "    <div class=\"colab-df-container\">\n",
              "      <div>\n",
              "<style scoped>\n",
              "    .dataframe tbody tr th:only-of-type {\n",
              "        vertical-align: middle;\n",
              "    }\n",
              "\n",
              "    .dataframe tbody tr th {\n",
              "        vertical-align: top;\n",
              "    }\n",
              "\n",
              "    .dataframe thead th {\n",
              "        text-align: right;\n",
              "    }\n",
              "</style>\n",
              "<table border=\"1\" class=\"dataframe\">\n",
              "  <thead>\n",
              "    <tr style=\"text-align: right;\">\n",
              "      <th></th>\n",
              "      <th>model</th>\n",
              "      <th>mae</th>\n",
              "      <th>mse</th>\n",
              "    </tr>\n",
              "  </thead>\n",
              "  <tbody>\n",
              "    <tr>\n",
              "      <th>0</th>\n",
              "      <td>model_1</td>\n",
              "      <td>30.753101</td>\n",
              "      <td>956.264954</td>\n",
              "    </tr>\n",
              "    <tr>\n",
              "      <th>1</th>\n",
              "      <td>model_2</td>\n",
              "      <td>10.770010</td>\n",
              "      <td>123.849060</td>\n",
              "    </tr>\n",
              "    <tr>\n",
              "      <th>2</th>\n",
              "      <td>model_3</td>\n",
              "      <td>67.202888</td>\n",
              "      <td>4599.091309</td>\n",
              "    </tr>\n",
              "  </tbody>\n",
              "</table>\n",
              "</div>\n",
              "      <button class=\"colab-df-convert\" onclick=\"convertToInteractive('df-39c48014-3645-4c51-9d60-5c99699506d0')\"\n",
              "              title=\"Convert this dataframe to an interactive table.\"\n",
              "              style=\"display:none;\">\n",
              "\n",
              "  <svg xmlns=\"http://www.w3.org/2000/svg\" height=\"24px\"viewBox=\"0 0 24 24\"\n",
              "       width=\"24px\">\n",
              "    <path d=\"M0 0h24v24H0V0z\" fill=\"none\"/>\n",
              "    <path d=\"M18.56 5.44l.94 2.06.94-2.06 2.06-.94-2.06-.94-.94-2.06-.94 2.06-2.06.94zm-11 1L8.5 8.5l.94-2.06 2.06-.94-2.06-.94L8.5 2.5l-.94 2.06-2.06.94zm10 10l.94 2.06.94-2.06 2.06-.94-2.06-.94-.94-2.06-.94 2.06-2.06.94z\"/><path d=\"M17.41 7.96l-1.37-1.37c-.4-.4-.92-.59-1.43-.59-.52 0-1.04.2-1.43.59L10.3 9.45l-7.72 7.72c-.78.78-.78 2.05 0 2.83L4 21.41c.39.39.9.59 1.41.59.51 0 1.02-.2 1.41-.59l7.78-7.78 2.81-2.81c.8-.78.8-2.07 0-2.86zM5.41 20L4 18.59l7.72-7.72 1.47 1.35L5.41 20z\"/>\n",
              "  </svg>\n",
              "      </button>\n",
              "\n",
              "\n",
              "\n",
              "    <div id=\"df-683f589d-30ec-4d47-916c-b47961b9eef8\">\n",
              "      <button class=\"colab-df-quickchart\" onclick=\"quickchart('df-683f589d-30ec-4d47-916c-b47961b9eef8')\"\n",
              "              title=\"Suggest charts.\"\n",
              "              style=\"display:none;\">\n",
              "\n",
              "<svg xmlns=\"http://www.w3.org/2000/svg\" height=\"24px\"viewBox=\"0 0 24 24\"\n",
              "     width=\"24px\">\n",
              "    <g>\n",
              "        <path d=\"M19 3H5c-1.1 0-2 .9-2 2v14c0 1.1.9 2 2 2h14c1.1 0 2-.9 2-2V5c0-1.1-.9-2-2-2zM9 17H7v-7h2v7zm4 0h-2V7h2v10zm4 0h-2v-4h2v4z\"/>\n",
              "    </g>\n",
              "</svg>\n",
              "      </button>\n",
              "    </div>\n",
              "\n",
              "<style>\n",
              "  .colab-df-quickchart {\n",
              "    background-color: #E8F0FE;\n",
              "    border: none;\n",
              "    border-radius: 50%;\n",
              "    cursor: pointer;\n",
              "    display: none;\n",
              "    fill: #1967D2;\n",
              "    height: 32px;\n",
              "    padding: 0 0 0 0;\n",
              "    width: 32px;\n",
              "  }\n",
              "\n",
              "  .colab-df-quickchart:hover {\n",
              "    background-color: #E2EBFA;\n",
              "    box-shadow: 0px 1px 2px rgba(60, 64, 67, 0.3), 0px 1px 3px 1px rgba(60, 64, 67, 0.15);\n",
              "    fill: #174EA6;\n",
              "  }\n",
              "\n",
              "  [theme=dark] .colab-df-quickchart {\n",
              "    background-color: #3B4455;\n",
              "    fill: #D2E3FC;\n",
              "  }\n",
              "\n",
              "  [theme=dark] .colab-df-quickchart:hover {\n",
              "    background-color: #434B5C;\n",
              "    box-shadow: 0px 1px 3px 1px rgba(0, 0, 0, 0.15);\n",
              "    filter: drop-shadow(0px 1px 2px rgba(0, 0, 0, 0.3));\n",
              "    fill: #FFFFFF;\n",
              "  }\n",
              "</style>\n",
              "\n",
              "    <script>\n",
              "      async function quickchart(key) {\n",
              "        const containerElement = document.querySelector('#' + key);\n",
              "        const charts = await google.colab.kernel.invokeFunction(\n",
              "            'suggestCharts', [key], {});\n",
              "      }\n",
              "    </script>\n",
              "\n",
              "      <script>\n",
              "\n",
              "function displayQuickchartButton(domScope) {\n",
              "  let quickchartButtonEl =\n",
              "    domScope.querySelector('#df-683f589d-30ec-4d47-916c-b47961b9eef8 button.colab-df-quickchart');\n",
              "  quickchartButtonEl.style.display =\n",
              "    google.colab.kernel.accessAllowed ? 'block' : 'none';\n",
              "}\n",
              "\n",
              "        displayQuickchartButton(document);\n",
              "      </script>\n",
              "      <style>\n",
              "    .colab-df-container {\n",
              "      display:flex;\n",
              "      flex-wrap:wrap;\n",
              "      gap: 12px;\n",
              "    }\n",
              "\n",
              "    .colab-df-convert {\n",
              "      background-color: #E8F0FE;\n",
              "      border: none;\n",
              "      border-radius: 50%;\n",
              "      cursor: pointer;\n",
              "      display: none;\n",
              "      fill: #1967D2;\n",
              "      height: 32px;\n",
              "      padding: 0 0 0 0;\n",
              "      width: 32px;\n",
              "    }\n",
              "\n",
              "    .colab-df-convert:hover {\n",
              "      background-color: #E2EBFA;\n",
              "      box-shadow: 0px 1px 2px rgba(60, 64, 67, 0.3), 0px 1px 3px 1px rgba(60, 64, 67, 0.15);\n",
              "      fill: #174EA6;\n",
              "    }\n",
              "\n",
              "    [theme=dark] .colab-df-convert {\n",
              "      background-color: #3B4455;\n",
              "      fill: #D2E3FC;\n",
              "    }\n",
              "\n",
              "    [theme=dark] .colab-df-convert:hover {\n",
              "      background-color: #434B5C;\n",
              "      box-shadow: 0px 1px 3px 1px rgba(0, 0, 0, 0.15);\n",
              "      filter: drop-shadow(0px 1px 2px rgba(0, 0, 0, 0.3));\n",
              "      fill: #FFFFFF;\n",
              "    }\n",
              "  </style>\n",
              "\n",
              "      <script>\n",
              "        const buttonEl =\n",
              "          document.querySelector('#df-39c48014-3645-4c51-9d60-5c99699506d0 button.colab-df-convert');\n",
              "        buttonEl.style.display =\n",
              "          google.colab.kernel.accessAllowed ? 'block' : 'none';\n",
              "\n",
              "        async function convertToInteractive(key) {\n",
              "          const element = document.querySelector('#df-39c48014-3645-4c51-9d60-5c99699506d0');\n",
              "          const dataTable =\n",
              "            await google.colab.kernel.invokeFunction('convertToInteractive',\n",
              "                                                     [key], {});\n",
              "          if (!dataTable) return;\n",
              "\n",
              "          const docLinkHtml = 'Like what you see? Visit the ' +\n",
              "            '<a target=\"_blank\" href=https://colab.research.google.com/notebooks/data_table.ipynb>data table notebook</a>'\n",
              "            + ' to learn more about interactive tables.';\n",
              "          element.innerHTML = '';\n",
              "          dataTable['output_type'] = 'display_data';\n",
              "          await google.colab.output.renderOutput(dataTable, element);\n",
              "          const docLink = document.createElement('div');\n",
              "          docLink.innerHTML = docLinkHtml;\n",
              "          element.appendChild(docLink);\n",
              "        }\n",
              "      </script>\n",
              "    </div>\n",
              "  </div>\n"
            ]
          },
          "metadata": {},
          "execution_count": 54
        }
      ]
    },
    {
      "cell_type": "markdown",
      "source": [
        "**Tracking our experiments**\n",
        "\n",
        "One really good habit in machine learning modelling is to track the results of our experiments.\n",
        "Luckily, there are tools to help us!\n",
        "\n",
        "📖**Resource:** As we build more models, we will want to look into using:\n",
        "*   TensorBoard - A component of the tensorFlow library to help track modelling experiments (we'll see this one later).\n",
        "*   Weights & Biases - a tool for tracking all kinds of machine learning experiments (plugs straight into TensorBoard)."
      ],
      "metadata": {
        "id": "2IJY6ksBluf7"
      }
    },
    {
      "cell_type": "markdown",
      "source": [
        "## Saving trained model\n",
        "\n",
        "Saving our model allows up to use them outside of Google Colab (or wherever they were trained)\n",
        "\n",
        "There are two main format we can save our models:\n",
        "*   The SavedModel format.\n",
        "*   The HDF5 format.\n",
        "\n"
      ],
      "metadata": {
        "id": "uajx2lbx1DbG"
      }
    },
    {
      "cell_type": "code",
      "source": [
        "# saving model using the SavedModel format\n",
        "model_2.save('best_model_SaveModel_format')"
      ],
      "metadata": {
        "id": "QfF-Bc1f1IMJ",
        "colab": {
          "base_uri": "https://localhost:8080/"
        },
        "outputId": "5e5cee86-b21e-43f9-ac7a-9feb171e6927"
      },
      "execution_count": 55,
      "outputs": [
        {
          "output_type": "stream",
          "name": "stderr",
          "text": [
            "WARNING:absl:Found untraced functions such as _update_step_xla while saving (showing 1 of 1). These functions will not be directly callable after loading.\n"
          ]
        }
      ]
    },
    {
      "cell_type": "code",
      "source": [
        "# saving model using the HDF5 format\n",
        "model_2.save('best_model_HDF5_format.h5')"
      ],
      "metadata": {
        "id": "z63S6MZN29OJ"
      },
      "execution_count": 56,
      "outputs": []
    },
    {
      "cell_type": "markdown",
      "source": [
        "## loading in a saved model"
      ],
      "metadata": {
        "id": "g6CUsz5l3w_4"
      }
    },
    {
      "cell_type": "markdown",
      "source": [
        "### SavedModel format"
      ],
      "metadata": {
        "id": "rneLOUeA62nE"
      }
    },
    {
      "cell_type": "code",
      "source": [
        "# load in the SavedModel format model\n",
        "loaded_SavedModel_format = tf.keras.models.load_model('best_model_SaveModel_format')\n",
        "loaded_SavedModel_format.summary()"
      ],
      "metadata": {
        "id": "-u1QO-ps4FxR",
        "colab": {
          "base_uri": "https://localhost:8080/"
        },
        "outputId": "1e2bda37-7156-4076-b961-47e972c3f083"
      },
      "execution_count": 57,
      "outputs": [
        {
          "output_type": "stream",
          "name": "stdout",
          "text": [
            "Model: \"sequential_5\"\n",
            "_________________________________________________________________\n",
            " Layer (type)                Output Shape              Param #   \n",
            "=================================================================\n",
            " dense_7 (Dense)             (None, 10)                20        \n",
            "                                                                 \n",
            " dense_8 (Dense)             (None, 1)                 11        \n",
            "                                                                 \n",
            "=================================================================\n",
            "Total params: 31\n",
            "Trainable params: 31\n",
            "Non-trainable params: 0\n",
            "_________________________________________________________________\n"
          ]
        }
      ]
    },
    {
      "cell_type": "code",
      "source": [
        "# compare model_2 predictions with SavedModel format model predictions\n",
        "model_2_preds = model_2.predict(x_test)\n",
        "loaded_SavedModel_format_preds = loaded_SavedModel_format.predict(x_test)\n",
        "\n",
        "# comparing the MAE score\n",
        "(mae(y_true=y_test, y_pred=model_2_preds) == mae(y_true=y_test, y_pred=loaded_SavedModel_format_preds)).numpy()"
      ],
      "metadata": {
        "id": "bcBFOySQ5ZKh",
        "colab": {
          "base_uri": "https://localhost:8080/"
        },
        "outputId": "fc02d409-f9e0-41d5-afcd-ed2a79afdd4e"
      },
      "execution_count": 58,
      "outputs": [
        {
          "output_type": "stream",
          "name": "stdout",
          "text": [
            "1/1 [==============================] - 0s 37ms/step\n",
            "1/1 [==============================] - 0s 54ms/step\n"
          ]
        },
        {
          "output_type": "execute_result",
          "data": {
            "text/plain": [
              "True"
            ]
          },
          "metadata": {},
          "execution_count": 58
        }
      ]
    },
    {
      "cell_type": "code",
      "source": [
        "model_2_preds == loaded_SavedModel_format_preds"
      ],
      "metadata": {
        "id": "fCAO87MZ6mMA",
        "colab": {
          "base_uri": "https://localhost:8080/"
        },
        "outputId": "2e2c8dc4-908b-4b04-e296-0f5ae53f9473"
      },
      "execution_count": 59,
      "outputs": [
        {
          "output_type": "execute_result",
          "data": {
            "text/plain": [
              "array([[ True],\n",
              "       [ True],\n",
              "       [ True],\n",
              "       [ True],\n",
              "       [ True],\n",
              "       [ True],\n",
              "       [ True],\n",
              "       [ True],\n",
              "       [ True],\n",
              "       [ True]])"
            ]
          },
          "metadata": {},
          "execution_count": 59
        }
      ]
    },
    {
      "cell_type": "markdown",
      "source": [
        "### HDF5 format"
      ],
      "metadata": {
        "id": "7TiexEzU6-Kh"
      }
    },
    {
      "cell_type": "code",
      "source": [
        "# load in the HDF5 format model\n",
        "loaded_HDF5_format = tf.keras.models.load_model('best_model_HDF5_format.h5')\n",
        "loaded_HDF5_format.summary()"
      ],
      "metadata": {
        "id": "vKgzeEnL4nJ4",
        "colab": {
          "base_uri": "https://localhost:8080/"
        },
        "outputId": "844190b9-4338-43f9-9621-191e846c3571"
      },
      "execution_count": 60,
      "outputs": [
        {
          "output_type": "stream",
          "name": "stdout",
          "text": [
            "Model: \"sequential_5\"\n",
            "_________________________________________________________________\n",
            " Layer (type)                Output Shape              Param #   \n",
            "=================================================================\n",
            " dense_7 (Dense)             (None, 10)                20        \n",
            "                                                                 \n",
            " dense_8 (Dense)             (None, 1)                 11        \n",
            "                                                                 \n",
            "=================================================================\n",
            "Total params: 31\n",
            "Trainable params: 31\n",
            "Non-trainable params: 0\n",
            "_________________________________________________________________\n"
          ]
        }
      ]
    },
    {
      "cell_type": "code",
      "source": [
        "# compare model_2 predictions with HDF5 format model predictions\n",
        "model_2_preds = model_2.predict(x_test)\n",
        "loaded_HDF5_format_preds = loaded_HDF5_format.predict(x_test)\n",
        "\n",
        "# comparing the MAE score\n",
        "(mae(y_true=y_test, y_pred=model_2_preds) == mae(y_true=y_test, y_pred=loaded_HDF5_format_preds)).numpy()"
      ],
      "metadata": {
        "id": "g9z6KMfR7ZYa",
        "colab": {
          "base_uri": "https://localhost:8080/"
        },
        "outputId": "027dd2a8-5a34-42e9-e6ea-a68fc211cb31"
      },
      "execution_count": 61,
      "outputs": [
        {
          "output_type": "stream",
          "name": "stdout",
          "text": [
            "1/1 [==============================] - 0s 22ms/step\n",
            "1/1 [==============================] - 0s 55ms/step\n"
          ]
        },
        {
          "output_type": "execute_result",
          "data": {
            "text/plain": [
              "True"
            ]
          },
          "metadata": {},
          "execution_count": 61
        }
      ]
    },
    {
      "cell_type": "code",
      "source": [
        "model_2_preds == loaded_HDF5_format_preds"
      ],
      "metadata": {
        "id": "x3U_7GTu8BmJ",
        "colab": {
          "base_uri": "https://localhost:8080/"
        },
        "outputId": "b7de2772-3ba3-49ae-cda5-3de4756963f4"
      },
      "execution_count": 62,
      "outputs": [
        {
          "output_type": "execute_result",
          "data": {
            "text/plain": [
              "array([[ True],\n",
              "       [ True],\n",
              "       [ True],\n",
              "       [ True],\n",
              "       [ True],\n",
              "       [ True],\n",
              "       [ True],\n",
              "       [ True],\n",
              "       [ True],\n",
              "       [ True]])"
            ]
          },
          "metadata": {},
          "execution_count": 62
        }
      ]
    },
    {
      "cell_type": "markdown",
      "source": [
        "## Download a model form Google Colab"
      ],
      "metadata": {
        "id": "lAgvCDtjV09-"
      }
    },
    {
      "cell_type": "code",
      "source": [
        "from google.colab import files"
      ],
      "metadata": {
        "id": "XMNBID8PWKkz"
      },
      "execution_count": 63,
      "outputs": []
    },
    {
      "cell_type": "code",
      "source": [
        "files.download('best_model_HDF5_format.h5')"
      ],
      "metadata": {
        "colab": {
          "base_uri": "https://localhost:8080/",
          "height": 17
        },
        "id": "OiXUe4BNV7rD",
        "outputId": "b7899795-6b19-4022-fc64-603f83e2b1ab"
      },
      "execution_count": 64,
      "outputs": [
        {
          "output_type": "display_data",
          "data": {
            "text/plain": [
              "<IPython.core.display.Javascript object>"
            ],
            "application/javascript": [
              "\n",
              "    async function download(id, filename, size) {\n",
              "      if (!google.colab.kernel.accessAllowed) {\n",
              "        return;\n",
              "      }\n",
              "      const div = document.createElement('div');\n",
              "      const label = document.createElement('label');\n",
              "      label.textContent = `Downloading \"${filename}\": `;\n",
              "      div.appendChild(label);\n",
              "      const progress = document.createElement('progress');\n",
              "      progress.max = size;\n",
              "      div.appendChild(progress);\n",
              "      document.body.appendChild(div);\n",
              "\n",
              "      const buffers = [];\n",
              "      let downloaded = 0;\n",
              "\n",
              "      const channel = await google.colab.kernel.comms.open(id);\n",
              "      // Send a message to notify the kernel that we're ready.\n",
              "      channel.send({})\n",
              "\n",
              "      for await (const message of channel.messages) {\n",
              "        // Send a message to notify the kernel that we're ready.\n",
              "        channel.send({})\n",
              "        if (message.buffers) {\n",
              "          for (const buffer of message.buffers) {\n",
              "            buffers.push(buffer);\n",
              "            downloaded += buffer.byteLength;\n",
              "            progress.value = downloaded;\n",
              "          }\n",
              "        }\n",
              "      }\n",
              "      const blob = new Blob(buffers, {type: 'application/binary'});\n",
              "      const a = document.createElement('a');\n",
              "      a.href = window.URL.createObjectURL(blob);\n",
              "      a.download = filename;\n",
              "      div.appendChild(a);\n",
              "      a.click();\n",
              "      div.remove();\n",
              "    }\n",
              "  "
            ]
          },
          "metadata": {}
        },
        {
          "output_type": "display_data",
          "data": {
            "text/plain": [
              "<IPython.core.display.Javascript object>"
            ],
            "application/javascript": [
              "download(\"download_7b3e1e06-f487-4025-b712-3c61c408317d\", \"best_model_HDF5_format.h5\", 21952)"
            ]
          },
          "metadata": {}
        }
      ]
    },
    {
      "cell_type": "code",
      "source": [
        "# save a file from google colab to google drive\n",
        "!cp /content/best_model_HDF5_format.h5 /content/drive/MyDrive"
      ],
      "metadata": {
        "id": "L6DmEXhgWZO7"
      },
      "execution_count": 65,
      "outputs": []
    },
    {
      "cell_type": "code",
      "source": [
        "!ls /content/drive/MyDrive"
      ],
      "metadata": {
        "colab": {
          "base_uri": "https://localhost:8080/"
        },
        "id": "qj9AL26OWvId",
        "outputId": "341118c3-9c55-4899-ed15-296c078f540e"
      },
      "execution_count": 66,
      "outputs": [
        {
          "output_type": "stream",
          "name": "stdout",
          "text": [
            " best_model_HDF5_format.h5   Datasets\t\t\t 'TensorFlow Learnings'\n",
            "'Colab Notebooks'\t    'Emotion Detection Project'  'Trained Models'\n",
            "'CSE 499'\t\t    'Presentation Files'\n",
            "'CV and Cover Letter'\t     Signature\n"
          ]
        }
      ]
    },
    {
      "cell_type": "markdown",
      "source": [
        "# A larger example\n",
        "\n",
        "> Applying Neural Network on insurence dataset"
      ],
      "metadata": {
        "id": "e65j9etMZFQb"
      }
    },
    {
      "cell_type": "code",
      "source": [
        "import pandas as pd\n",
        "import numpy as np\n",
        "import matplotlib.pyplot as plt\n",
        "import tensorflow as tf"
      ],
      "metadata": {
        "id": "xlriCKXmZNyE"
      },
      "execution_count": 67,
      "outputs": []
    },
    {
      "cell_type": "code",
      "source": [
        "# reading in the insurance dataset\n",
        "dataset = pd.read_csv('https://raw.githubusercontent.com/stedy/Machine-Learning-with-R-datasets/master/insurance.csv')\n",
        "dataset.head()"
      ],
      "metadata": {
        "colab": {
          "base_uri": "https://localhost:8080/",
          "height": 206
        },
        "id": "l4aMFA1CZblz",
        "outputId": "fd0236b0-82f7-40bb-ccba-64bfd3398493"
      },
      "execution_count": 68,
      "outputs": [
        {
          "output_type": "execute_result",
          "data": {
            "text/plain": [
              "   age     sex     bmi  children smoker     region      charges\n",
              "0   19  female  27.900         0    yes  southwest  16884.92400\n",
              "1   18    male  33.770         1     no  southeast   1725.55230\n",
              "2   28    male  33.000         3     no  southeast   4449.46200\n",
              "3   33    male  22.705         0     no  northwest  21984.47061\n",
              "4   32    male  28.880         0     no  northwest   3866.85520"
            ],
            "text/html": [
              "\n",
              "\n",
              "  <div id=\"df-85e80e4c-7523-4eb6-88a4-806052413e6e\">\n",
              "    <div class=\"colab-df-container\">\n",
              "      <div>\n",
              "<style scoped>\n",
              "    .dataframe tbody tr th:only-of-type {\n",
              "        vertical-align: middle;\n",
              "    }\n",
              "\n",
              "    .dataframe tbody tr th {\n",
              "        vertical-align: top;\n",
              "    }\n",
              "\n",
              "    .dataframe thead th {\n",
              "        text-align: right;\n",
              "    }\n",
              "</style>\n",
              "<table border=\"1\" class=\"dataframe\">\n",
              "  <thead>\n",
              "    <tr style=\"text-align: right;\">\n",
              "      <th></th>\n",
              "      <th>age</th>\n",
              "      <th>sex</th>\n",
              "      <th>bmi</th>\n",
              "      <th>children</th>\n",
              "      <th>smoker</th>\n",
              "      <th>region</th>\n",
              "      <th>charges</th>\n",
              "    </tr>\n",
              "  </thead>\n",
              "  <tbody>\n",
              "    <tr>\n",
              "      <th>0</th>\n",
              "      <td>19</td>\n",
              "      <td>female</td>\n",
              "      <td>27.900</td>\n",
              "      <td>0</td>\n",
              "      <td>yes</td>\n",
              "      <td>southwest</td>\n",
              "      <td>16884.92400</td>\n",
              "    </tr>\n",
              "    <tr>\n",
              "      <th>1</th>\n",
              "      <td>18</td>\n",
              "      <td>male</td>\n",
              "      <td>33.770</td>\n",
              "      <td>1</td>\n",
              "      <td>no</td>\n",
              "      <td>southeast</td>\n",
              "      <td>1725.55230</td>\n",
              "    </tr>\n",
              "    <tr>\n",
              "      <th>2</th>\n",
              "      <td>28</td>\n",
              "      <td>male</td>\n",
              "      <td>33.000</td>\n",
              "      <td>3</td>\n",
              "      <td>no</td>\n",
              "      <td>southeast</td>\n",
              "      <td>4449.46200</td>\n",
              "    </tr>\n",
              "    <tr>\n",
              "      <th>3</th>\n",
              "      <td>33</td>\n",
              "      <td>male</td>\n",
              "      <td>22.705</td>\n",
              "      <td>0</td>\n",
              "      <td>no</td>\n",
              "      <td>northwest</td>\n",
              "      <td>21984.47061</td>\n",
              "    </tr>\n",
              "    <tr>\n",
              "      <th>4</th>\n",
              "      <td>32</td>\n",
              "      <td>male</td>\n",
              "      <td>28.880</td>\n",
              "      <td>0</td>\n",
              "      <td>no</td>\n",
              "      <td>northwest</td>\n",
              "      <td>3866.85520</td>\n",
              "    </tr>\n",
              "  </tbody>\n",
              "</table>\n",
              "</div>\n",
              "      <button class=\"colab-df-convert\" onclick=\"convertToInteractive('df-85e80e4c-7523-4eb6-88a4-806052413e6e')\"\n",
              "              title=\"Convert this dataframe to an interactive table.\"\n",
              "              style=\"display:none;\">\n",
              "\n",
              "  <svg xmlns=\"http://www.w3.org/2000/svg\" height=\"24px\"viewBox=\"0 0 24 24\"\n",
              "       width=\"24px\">\n",
              "    <path d=\"M0 0h24v24H0V0z\" fill=\"none\"/>\n",
              "    <path d=\"M18.56 5.44l.94 2.06.94-2.06 2.06-.94-2.06-.94-.94-2.06-.94 2.06-2.06.94zm-11 1L8.5 8.5l.94-2.06 2.06-.94-2.06-.94L8.5 2.5l-.94 2.06-2.06.94zm10 10l.94 2.06.94-2.06 2.06-.94-2.06-.94-.94-2.06-.94 2.06-2.06.94z\"/><path d=\"M17.41 7.96l-1.37-1.37c-.4-.4-.92-.59-1.43-.59-.52 0-1.04.2-1.43.59L10.3 9.45l-7.72 7.72c-.78.78-.78 2.05 0 2.83L4 21.41c.39.39.9.59 1.41.59.51 0 1.02-.2 1.41-.59l7.78-7.78 2.81-2.81c.8-.78.8-2.07 0-2.86zM5.41 20L4 18.59l7.72-7.72 1.47 1.35L5.41 20z\"/>\n",
              "  </svg>\n",
              "      </button>\n",
              "\n",
              "\n",
              "\n",
              "    <div id=\"df-216237ad-f173-4376-b2cf-54358e3ae95d\">\n",
              "      <button class=\"colab-df-quickchart\" onclick=\"quickchart('df-216237ad-f173-4376-b2cf-54358e3ae95d')\"\n",
              "              title=\"Suggest charts.\"\n",
              "              style=\"display:none;\">\n",
              "\n",
              "<svg xmlns=\"http://www.w3.org/2000/svg\" height=\"24px\"viewBox=\"0 0 24 24\"\n",
              "     width=\"24px\">\n",
              "    <g>\n",
              "        <path d=\"M19 3H5c-1.1 0-2 .9-2 2v14c0 1.1.9 2 2 2h14c1.1 0 2-.9 2-2V5c0-1.1-.9-2-2-2zM9 17H7v-7h2v7zm4 0h-2V7h2v10zm4 0h-2v-4h2v4z\"/>\n",
              "    </g>\n",
              "</svg>\n",
              "      </button>\n",
              "    </div>\n",
              "\n",
              "<style>\n",
              "  .colab-df-quickchart {\n",
              "    background-color: #E8F0FE;\n",
              "    border: none;\n",
              "    border-radius: 50%;\n",
              "    cursor: pointer;\n",
              "    display: none;\n",
              "    fill: #1967D2;\n",
              "    height: 32px;\n",
              "    padding: 0 0 0 0;\n",
              "    width: 32px;\n",
              "  }\n",
              "\n",
              "  .colab-df-quickchart:hover {\n",
              "    background-color: #E2EBFA;\n",
              "    box-shadow: 0px 1px 2px rgba(60, 64, 67, 0.3), 0px 1px 3px 1px rgba(60, 64, 67, 0.15);\n",
              "    fill: #174EA6;\n",
              "  }\n",
              "\n",
              "  [theme=dark] .colab-df-quickchart {\n",
              "    background-color: #3B4455;\n",
              "    fill: #D2E3FC;\n",
              "  }\n",
              "\n",
              "  [theme=dark] .colab-df-quickchart:hover {\n",
              "    background-color: #434B5C;\n",
              "    box-shadow: 0px 1px 3px 1px rgba(0, 0, 0, 0.15);\n",
              "    filter: drop-shadow(0px 1px 2px rgba(0, 0, 0, 0.3));\n",
              "    fill: #FFFFFF;\n",
              "  }\n",
              "</style>\n",
              "\n",
              "    <script>\n",
              "      async function quickchart(key) {\n",
              "        const containerElement = document.querySelector('#' + key);\n",
              "        const charts = await google.colab.kernel.invokeFunction(\n",
              "            'suggestCharts', [key], {});\n",
              "      }\n",
              "    </script>\n",
              "\n",
              "      <script>\n",
              "\n",
              "function displayQuickchartButton(domScope) {\n",
              "  let quickchartButtonEl =\n",
              "    domScope.querySelector('#df-216237ad-f173-4376-b2cf-54358e3ae95d button.colab-df-quickchart');\n",
              "  quickchartButtonEl.style.display =\n",
              "    google.colab.kernel.accessAllowed ? 'block' : 'none';\n",
              "}\n",
              "\n",
              "        displayQuickchartButton(document);\n",
              "      </script>\n",
              "      <style>\n",
              "    .colab-df-container {\n",
              "      display:flex;\n",
              "      flex-wrap:wrap;\n",
              "      gap: 12px;\n",
              "    }\n",
              "\n",
              "    .colab-df-convert {\n",
              "      background-color: #E8F0FE;\n",
              "      border: none;\n",
              "      border-radius: 50%;\n",
              "      cursor: pointer;\n",
              "      display: none;\n",
              "      fill: #1967D2;\n",
              "      height: 32px;\n",
              "      padding: 0 0 0 0;\n",
              "      width: 32px;\n",
              "    }\n",
              "\n",
              "    .colab-df-convert:hover {\n",
              "      background-color: #E2EBFA;\n",
              "      box-shadow: 0px 1px 2px rgba(60, 64, 67, 0.3), 0px 1px 3px 1px rgba(60, 64, 67, 0.15);\n",
              "      fill: #174EA6;\n",
              "    }\n",
              "\n",
              "    [theme=dark] .colab-df-convert {\n",
              "      background-color: #3B4455;\n",
              "      fill: #D2E3FC;\n",
              "    }\n",
              "\n",
              "    [theme=dark] .colab-df-convert:hover {\n",
              "      background-color: #434B5C;\n",
              "      box-shadow: 0px 1px 3px 1px rgba(0, 0, 0, 0.15);\n",
              "      filter: drop-shadow(0px 1px 2px rgba(0, 0, 0, 0.3));\n",
              "      fill: #FFFFFF;\n",
              "    }\n",
              "  </style>\n",
              "\n",
              "      <script>\n",
              "        const buttonEl =\n",
              "          document.querySelector('#df-85e80e4c-7523-4eb6-88a4-806052413e6e button.colab-df-convert');\n",
              "        buttonEl.style.display =\n",
              "          google.colab.kernel.accessAllowed ? 'block' : 'none';\n",
              "\n",
              "        async function convertToInteractive(key) {\n",
              "          const element = document.querySelector('#df-85e80e4c-7523-4eb6-88a4-806052413e6e');\n",
              "          const dataTable =\n",
              "            await google.colab.kernel.invokeFunction('convertToInteractive',\n",
              "                                                     [key], {});\n",
              "          if (!dataTable) return;\n",
              "\n",
              "          const docLinkHtml = 'Like what you see? Visit the ' +\n",
              "            '<a target=\"_blank\" href=https://colab.research.google.com/notebooks/data_table.ipynb>data table notebook</a>'\n",
              "            + ' to learn more about interactive tables.';\n",
              "          element.innerHTML = '';\n",
              "          dataTable['output_type'] = 'display_data';\n",
              "          await google.colab.output.renderOutput(dataTable, element);\n",
              "          const docLink = document.createElement('div');\n",
              "          docLink.innerHTML = docLinkHtml;\n",
              "          element.appendChild(docLink);\n",
              "        }\n",
              "      </script>\n",
              "    </div>\n",
              "  </div>\n"
            ]
          },
          "metadata": {},
          "execution_count": 68
        }
      ]
    },
    {
      "cell_type": "code",
      "source": [
        "len(dataset)"
      ],
      "metadata": {
        "colab": {
          "base_uri": "https://localhost:8080/"
        },
        "id": "wmVEIJlcZ2o8",
        "outputId": "ff9e90e8-62e1-45cc-9c81-4c9ca2e46cc5"
      },
      "execution_count": 69,
      "outputs": [
        {
          "output_type": "execute_result",
          "data": {
            "text/plain": [
              "1338"
            ]
          },
          "metadata": {},
          "execution_count": 69
        }
      ]
    },
    {
      "cell_type": "code",
      "source": [
        "# let's try one-hot encode our DataFrame so it's all numbers\n",
        "dataset_onehot = pd.get_dummies(dataset)\n",
        "dataset_onehot.head()"
      ],
      "metadata": {
        "colab": {
          "base_uri": "https://localhost:8080/",
          "height": 270
        },
        "id": "z1NlXm8GaUJy",
        "outputId": "99b77fcf-931c-47ef-dda3-2632f2824f7d"
      },
      "execution_count": 70,
      "outputs": [
        {
          "output_type": "execute_result",
          "data": {
            "text/plain": [
              "   age     bmi  children      charges  sex_female  sex_male  smoker_no  \\\n",
              "0   19  27.900         0  16884.92400           1         0          0   \n",
              "1   18  33.770         1   1725.55230           0         1          1   \n",
              "2   28  33.000         3   4449.46200           0         1          1   \n",
              "3   33  22.705         0  21984.47061           0         1          1   \n",
              "4   32  28.880         0   3866.85520           0         1          1   \n",
              "\n",
              "   smoker_yes  region_northeast  region_northwest  region_southeast  \\\n",
              "0           1                 0                 0                 0   \n",
              "1           0                 0                 0                 1   \n",
              "2           0                 0                 0                 1   \n",
              "3           0                 0                 1                 0   \n",
              "4           0                 0                 1                 0   \n",
              "\n",
              "   region_southwest  \n",
              "0                 1  \n",
              "1                 0  \n",
              "2                 0  \n",
              "3                 0  \n",
              "4                 0  "
            ],
            "text/html": [
              "\n",
              "\n",
              "  <div id=\"df-0a76f20a-a381-450d-9d9a-baaf82d9a89f\">\n",
              "    <div class=\"colab-df-container\">\n",
              "      <div>\n",
              "<style scoped>\n",
              "    .dataframe tbody tr th:only-of-type {\n",
              "        vertical-align: middle;\n",
              "    }\n",
              "\n",
              "    .dataframe tbody tr th {\n",
              "        vertical-align: top;\n",
              "    }\n",
              "\n",
              "    .dataframe thead th {\n",
              "        text-align: right;\n",
              "    }\n",
              "</style>\n",
              "<table border=\"1\" class=\"dataframe\">\n",
              "  <thead>\n",
              "    <tr style=\"text-align: right;\">\n",
              "      <th></th>\n",
              "      <th>age</th>\n",
              "      <th>bmi</th>\n",
              "      <th>children</th>\n",
              "      <th>charges</th>\n",
              "      <th>sex_female</th>\n",
              "      <th>sex_male</th>\n",
              "      <th>smoker_no</th>\n",
              "      <th>smoker_yes</th>\n",
              "      <th>region_northeast</th>\n",
              "      <th>region_northwest</th>\n",
              "      <th>region_southeast</th>\n",
              "      <th>region_southwest</th>\n",
              "    </tr>\n",
              "  </thead>\n",
              "  <tbody>\n",
              "    <tr>\n",
              "      <th>0</th>\n",
              "      <td>19</td>\n",
              "      <td>27.900</td>\n",
              "      <td>0</td>\n",
              "      <td>16884.92400</td>\n",
              "      <td>1</td>\n",
              "      <td>0</td>\n",
              "      <td>0</td>\n",
              "      <td>1</td>\n",
              "      <td>0</td>\n",
              "      <td>0</td>\n",
              "      <td>0</td>\n",
              "      <td>1</td>\n",
              "    </tr>\n",
              "    <tr>\n",
              "      <th>1</th>\n",
              "      <td>18</td>\n",
              "      <td>33.770</td>\n",
              "      <td>1</td>\n",
              "      <td>1725.55230</td>\n",
              "      <td>0</td>\n",
              "      <td>1</td>\n",
              "      <td>1</td>\n",
              "      <td>0</td>\n",
              "      <td>0</td>\n",
              "      <td>0</td>\n",
              "      <td>1</td>\n",
              "      <td>0</td>\n",
              "    </tr>\n",
              "    <tr>\n",
              "      <th>2</th>\n",
              "      <td>28</td>\n",
              "      <td>33.000</td>\n",
              "      <td>3</td>\n",
              "      <td>4449.46200</td>\n",
              "      <td>0</td>\n",
              "      <td>1</td>\n",
              "      <td>1</td>\n",
              "      <td>0</td>\n",
              "      <td>0</td>\n",
              "      <td>0</td>\n",
              "      <td>1</td>\n",
              "      <td>0</td>\n",
              "    </tr>\n",
              "    <tr>\n",
              "      <th>3</th>\n",
              "      <td>33</td>\n",
              "      <td>22.705</td>\n",
              "      <td>0</td>\n",
              "      <td>21984.47061</td>\n",
              "      <td>0</td>\n",
              "      <td>1</td>\n",
              "      <td>1</td>\n",
              "      <td>0</td>\n",
              "      <td>0</td>\n",
              "      <td>1</td>\n",
              "      <td>0</td>\n",
              "      <td>0</td>\n",
              "    </tr>\n",
              "    <tr>\n",
              "      <th>4</th>\n",
              "      <td>32</td>\n",
              "      <td>28.880</td>\n",
              "      <td>0</td>\n",
              "      <td>3866.85520</td>\n",
              "      <td>0</td>\n",
              "      <td>1</td>\n",
              "      <td>1</td>\n",
              "      <td>0</td>\n",
              "      <td>0</td>\n",
              "      <td>1</td>\n",
              "      <td>0</td>\n",
              "      <td>0</td>\n",
              "    </tr>\n",
              "  </tbody>\n",
              "</table>\n",
              "</div>\n",
              "      <button class=\"colab-df-convert\" onclick=\"convertToInteractive('df-0a76f20a-a381-450d-9d9a-baaf82d9a89f')\"\n",
              "              title=\"Convert this dataframe to an interactive table.\"\n",
              "              style=\"display:none;\">\n",
              "\n",
              "  <svg xmlns=\"http://www.w3.org/2000/svg\" height=\"24px\"viewBox=\"0 0 24 24\"\n",
              "       width=\"24px\">\n",
              "    <path d=\"M0 0h24v24H0V0z\" fill=\"none\"/>\n",
              "    <path d=\"M18.56 5.44l.94 2.06.94-2.06 2.06-.94-2.06-.94-.94-2.06-.94 2.06-2.06.94zm-11 1L8.5 8.5l.94-2.06 2.06-.94-2.06-.94L8.5 2.5l-.94 2.06-2.06.94zm10 10l.94 2.06.94-2.06 2.06-.94-2.06-.94-.94-2.06-.94 2.06-2.06.94z\"/><path d=\"M17.41 7.96l-1.37-1.37c-.4-.4-.92-.59-1.43-.59-.52 0-1.04.2-1.43.59L10.3 9.45l-7.72 7.72c-.78.78-.78 2.05 0 2.83L4 21.41c.39.39.9.59 1.41.59.51 0 1.02-.2 1.41-.59l7.78-7.78 2.81-2.81c.8-.78.8-2.07 0-2.86zM5.41 20L4 18.59l7.72-7.72 1.47 1.35L5.41 20z\"/>\n",
              "  </svg>\n",
              "      </button>\n",
              "\n",
              "\n",
              "\n",
              "    <div id=\"df-527facf5-62e2-4854-9068-52db3008b2c8\">\n",
              "      <button class=\"colab-df-quickchart\" onclick=\"quickchart('df-527facf5-62e2-4854-9068-52db3008b2c8')\"\n",
              "              title=\"Suggest charts.\"\n",
              "              style=\"display:none;\">\n",
              "\n",
              "<svg xmlns=\"http://www.w3.org/2000/svg\" height=\"24px\"viewBox=\"0 0 24 24\"\n",
              "     width=\"24px\">\n",
              "    <g>\n",
              "        <path d=\"M19 3H5c-1.1 0-2 .9-2 2v14c0 1.1.9 2 2 2h14c1.1 0 2-.9 2-2V5c0-1.1-.9-2-2-2zM9 17H7v-7h2v7zm4 0h-2V7h2v10zm4 0h-2v-4h2v4z\"/>\n",
              "    </g>\n",
              "</svg>\n",
              "      </button>\n",
              "    </div>\n",
              "\n",
              "<style>\n",
              "  .colab-df-quickchart {\n",
              "    background-color: #E8F0FE;\n",
              "    border: none;\n",
              "    border-radius: 50%;\n",
              "    cursor: pointer;\n",
              "    display: none;\n",
              "    fill: #1967D2;\n",
              "    height: 32px;\n",
              "    padding: 0 0 0 0;\n",
              "    width: 32px;\n",
              "  }\n",
              "\n",
              "  .colab-df-quickchart:hover {\n",
              "    background-color: #E2EBFA;\n",
              "    box-shadow: 0px 1px 2px rgba(60, 64, 67, 0.3), 0px 1px 3px 1px rgba(60, 64, 67, 0.15);\n",
              "    fill: #174EA6;\n",
              "  }\n",
              "\n",
              "  [theme=dark] .colab-df-quickchart {\n",
              "    background-color: #3B4455;\n",
              "    fill: #D2E3FC;\n",
              "  }\n",
              "\n",
              "  [theme=dark] .colab-df-quickchart:hover {\n",
              "    background-color: #434B5C;\n",
              "    box-shadow: 0px 1px 3px 1px rgba(0, 0, 0, 0.15);\n",
              "    filter: drop-shadow(0px 1px 2px rgba(0, 0, 0, 0.3));\n",
              "    fill: #FFFFFF;\n",
              "  }\n",
              "</style>\n",
              "\n",
              "    <script>\n",
              "      async function quickchart(key) {\n",
              "        const containerElement = document.querySelector('#' + key);\n",
              "        const charts = await google.colab.kernel.invokeFunction(\n",
              "            'suggestCharts', [key], {});\n",
              "      }\n",
              "    </script>\n",
              "\n",
              "      <script>\n",
              "\n",
              "function displayQuickchartButton(domScope) {\n",
              "  let quickchartButtonEl =\n",
              "    domScope.querySelector('#df-527facf5-62e2-4854-9068-52db3008b2c8 button.colab-df-quickchart');\n",
              "  quickchartButtonEl.style.display =\n",
              "    google.colab.kernel.accessAllowed ? 'block' : 'none';\n",
              "}\n",
              "\n",
              "        displayQuickchartButton(document);\n",
              "      </script>\n",
              "      <style>\n",
              "    .colab-df-container {\n",
              "      display:flex;\n",
              "      flex-wrap:wrap;\n",
              "      gap: 12px;\n",
              "    }\n",
              "\n",
              "    .colab-df-convert {\n",
              "      background-color: #E8F0FE;\n",
              "      border: none;\n",
              "      border-radius: 50%;\n",
              "      cursor: pointer;\n",
              "      display: none;\n",
              "      fill: #1967D2;\n",
              "      height: 32px;\n",
              "      padding: 0 0 0 0;\n",
              "      width: 32px;\n",
              "    }\n",
              "\n",
              "    .colab-df-convert:hover {\n",
              "      background-color: #E2EBFA;\n",
              "      box-shadow: 0px 1px 2px rgba(60, 64, 67, 0.3), 0px 1px 3px 1px rgba(60, 64, 67, 0.15);\n",
              "      fill: #174EA6;\n",
              "    }\n",
              "\n",
              "    [theme=dark] .colab-df-convert {\n",
              "      background-color: #3B4455;\n",
              "      fill: #D2E3FC;\n",
              "    }\n",
              "\n",
              "    [theme=dark] .colab-df-convert:hover {\n",
              "      background-color: #434B5C;\n",
              "      box-shadow: 0px 1px 3px 1px rgba(0, 0, 0, 0.15);\n",
              "      filter: drop-shadow(0px 1px 2px rgba(0, 0, 0, 0.3));\n",
              "      fill: #FFFFFF;\n",
              "    }\n",
              "  </style>\n",
              "\n",
              "      <script>\n",
              "        const buttonEl =\n",
              "          document.querySelector('#df-0a76f20a-a381-450d-9d9a-baaf82d9a89f button.colab-df-convert');\n",
              "        buttonEl.style.display =\n",
              "          google.colab.kernel.accessAllowed ? 'block' : 'none';\n",
              "\n",
              "        async function convertToInteractive(key) {\n",
              "          const element = document.querySelector('#df-0a76f20a-a381-450d-9d9a-baaf82d9a89f');\n",
              "          const dataTable =\n",
              "            await google.colab.kernel.invokeFunction('convertToInteractive',\n",
              "                                                     [key], {});\n",
              "          if (!dataTable) return;\n",
              "\n",
              "          const docLinkHtml = 'Like what you see? Visit the ' +\n",
              "            '<a target=\"_blank\" href=https://colab.research.google.com/notebooks/data_table.ipynb>data table notebook</a>'\n",
              "            + ' to learn more about interactive tables.';\n",
              "          element.innerHTML = '';\n",
              "          dataTable['output_type'] = 'display_data';\n",
              "          await google.colab.output.renderOutput(dataTable, element);\n",
              "          const docLink = document.createElement('div');\n",
              "          docLink.innerHTML = docLinkHtml;\n",
              "          element.appendChild(docLink);\n",
              "        }\n",
              "      </script>\n",
              "    </div>\n",
              "  </div>\n"
            ]
          },
          "metadata": {},
          "execution_count": 70
        }
      ]
    },
    {
      "cell_type": "markdown",
      "source": [
        "## Creating training and test set"
      ],
      "metadata": {
        "id": "pJSExKLPeihM"
      }
    },
    {
      "cell_type": "code",
      "source": [
        "features = dataset_onehot.drop('charges', axis=1)\n",
        "labels = dataset_onehot['charges']"
      ],
      "metadata": {
        "id": "Ov6G8LXtdr2a"
      },
      "execution_count": 71,
      "outputs": []
    },
    {
      "cell_type": "code",
      "source": [
        "features.head()"
      ],
      "metadata": {
        "colab": {
          "base_uri": "https://localhost:8080/",
          "height": 250
        },
        "id": "EMauhrrkeRQA",
        "outputId": "0cc677a2-eee2-4542-bb7e-ec8f2b51eae6"
      },
      "execution_count": 72,
      "outputs": [
        {
          "output_type": "execute_result",
          "data": {
            "text/plain": [
              "   age     bmi  children  sex_female  sex_male  smoker_no  smoker_yes  \\\n",
              "0   19  27.900         0           1         0          0           1   \n",
              "1   18  33.770         1           0         1          1           0   \n",
              "2   28  33.000         3           0         1          1           0   \n",
              "3   33  22.705         0           0         1          1           0   \n",
              "4   32  28.880         0           0         1          1           0   \n",
              "\n",
              "   region_northeast  region_northwest  region_southeast  region_southwest  \n",
              "0                 0                 0                 0                 1  \n",
              "1                 0                 0                 1                 0  \n",
              "2                 0                 0                 1                 0  \n",
              "3                 0                 1                 0                 0  \n",
              "4                 0                 1                 0                 0  "
            ],
            "text/html": [
              "\n",
              "\n",
              "  <div id=\"df-0bfd9282-f381-454e-8c70-61ff50ee9e5f\">\n",
              "    <div class=\"colab-df-container\">\n",
              "      <div>\n",
              "<style scoped>\n",
              "    .dataframe tbody tr th:only-of-type {\n",
              "        vertical-align: middle;\n",
              "    }\n",
              "\n",
              "    .dataframe tbody tr th {\n",
              "        vertical-align: top;\n",
              "    }\n",
              "\n",
              "    .dataframe thead th {\n",
              "        text-align: right;\n",
              "    }\n",
              "</style>\n",
              "<table border=\"1\" class=\"dataframe\">\n",
              "  <thead>\n",
              "    <tr style=\"text-align: right;\">\n",
              "      <th></th>\n",
              "      <th>age</th>\n",
              "      <th>bmi</th>\n",
              "      <th>children</th>\n",
              "      <th>sex_female</th>\n",
              "      <th>sex_male</th>\n",
              "      <th>smoker_no</th>\n",
              "      <th>smoker_yes</th>\n",
              "      <th>region_northeast</th>\n",
              "      <th>region_northwest</th>\n",
              "      <th>region_southeast</th>\n",
              "      <th>region_southwest</th>\n",
              "    </tr>\n",
              "  </thead>\n",
              "  <tbody>\n",
              "    <tr>\n",
              "      <th>0</th>\n",
              "      <td>19</td>\n",
              "      <td>27.900</td>\n",
              "      <td>0</td>\n",
              "      <td>1</td>\n",
              "      <td>0</td>\n",
              "      <td>0</td>\n",
              "      <td>1</td>\n",
              "      <td>0</td>\n",
              "      <td>0</td>\n",
              "      <td>0</td>\n",
              "      <td>1</td>\n",
              "    </tr>\n",
              "    <tr>\n",
              "      <th>1</th>\n",
              "      <td>18</td>\n",
              "      <td>33.770</td>\n",
              "      <td>1</td>\n",
              "      <td>0</td>\n",
              "      <td>1</td>\n",
              "      <td>1</td>\n",
              "      <td>0</td>\n",
              "      <td>0</td>\n",
              "      <td>0</td>\n",
              "      <td>1</td>\n",
              "      <td>0</td>\n",
              "    </tr>\n",
              "    <tr>\n",
              "      <th>2</th>\n",
              "      <td>28</td>\n",
              "      <td>33.000</td>\n",
              "      <td>3</td>\n",
              "      <td>0</td>\n",
              "      <td>1</td>\n",
              "      <td>1</td>\n",
              "      <td>0</td>\n",
              "      <td>0</td>\n",
              "      <td>0</td>\n",
              "      <td>1</td>\n",
              "      <td>0</td>\n",
              "    </tr>\n",
              "    <tr>\n",
              "      <th>3</th>\n",
              "      <td>33</td>\n",
              "      <td>22.705</td>\n",
              "      <td>0</td>\n",
              "      <td>0</td>\n",
              "      <td>1</td>\n",
              "      <td>1</td>\n",
              "      <td>0</td>\n",
              "      <td>0</td>\n",
              "      <td>1</td>\n",
              "      <td>0</td>\n",
              "      <td>0</td>\n",
              "    </tr>\n",
              "    <tr>\n",
              "      <th>4</th>\n",
              "      <td>32</td>\n",
              "      <td>28.880</td>\n",
              "      <td>0</td>\n",
              "      <td>0</td>\n",
              "      <td>1</td>\n",
              "      <td>1</td>\n",
              "      <td>0</td>\n",
              "      <td>0</td>\n",
              "      <td>1</td>\n",
              "      <td>0</td>\n",
              "      <td>0</td>\n",
              "    </tr>\n",
              "  </tbody>\n",
              "</table>\n",
              "</div>\n",
              "      <button class=\"colab-df-convert\" onclick=\"convertToInteractive('df-0bfd9282-f381-454e-8c70-61ff50ee9e5f')\"\n",
              "              title=\"Convert this dataframe to an interactive table.\"\n",
              "              style=\"display:none;\">\n",
              "\n",
              "  <svg xmlns=\"http://www.w3.org/2000/svg\" height=\"24px\"viewBox=\"0 0 24 24\"\n",
              "       width=\"24px\">\n",
              "    <path d=\"M0 0h24v24H0V0z\" fill=\"none\"/>\n",
              "    <path d=\"M18.56 5.44l.94 2.06.94-2.06 2.06-.94-2.06-.94-.94-2.06-.94 2.06-2.06.94zm-11 1L8.5 8.5l.94-2.06 2.06-.94-2.06-.94L8.5 2.5l-.94 2.06-2.06.94zm10 10l.94 2.06.94-2.06 2.06-.94-2.06-.94-.94-2.06-.94 2.06-2.06.94z\"/><path d=\"M17.41 7.96l-1.37-1.37c-.4-.4-.92-.59-1.43-.59-.52 0-1.04.2-1.43.59L10.3 9.45l-7.72 7.72c-.78.78-.78 2.05 0 2.83L4 21.41c.39.39.9.59 1.41.59.51 0 1.02-.2 1.41-.59l7.78-7.78 2.81-2.81c.8-.78.8-2.07 0-2.86zM5.41 20L4 18.59l7.72-7.72 1.47 1.35L5.41 20z\"/>\n",
              "  </svg>\n",
              "      </button>\n",
              "\n",
              "\n",
              "\n",
              "    <div id=\"df-e904ac0e-4638-4980-ab36-3b4f5bbb497d\">\n",
              "      <button class=\"colab-df-quickchart\" onclick=\"quickchart('df-e904ac0e-4638-4980-ab36-3b4f5bbb497d')\"\n",
              "              title=\"Suggest charts.\"\n",
              "              style=\"display:none;\">\n",
              "\n",
              "<svg xmlns=\"http://www.w3.org/2000/svg\" height=\"24px\"viewBox=\"0 0 24 24\"\n",
              "     width=\"24px\">\n",
              "    <g>\n",
              "        <path d=\"M19 3H5c-1.1 0-2 .9-2 2v14c0 1.1.9 2 2 2h14c1.1 0 2-.9 2-2V5c0-1.1-.9-2-2-2zM9 17H7v-7h2v7zm4 0h-2V7h2v10zm4 0h-2v-4h2v4z\"/>\n",
              "    </g>\n",
              "</svg>\n",
              "      </button>\n",
              "    </div>\n",
              "\n",
              "<style>\n",
              "  .colab-df-quickchart {\n",
              "    background-color: #E8F0FE;\n",
              "    border: none;\n",
              "    border-radius: 50%;\n",
              "    cursor: pointer;\n",
              "    display: none;\n",
              "    fill: #1967D2;\n",
              "    height: 32px;\n",
              "    padding: 0 0 0 0;\n",
              "    width: 32px;\n",
              "  }\n",
              "\n",
              "  .colab-df-quickchart:hover {\n",
              "    background-color: #E2EBFA;\n",
              "    box-shadow: 0px 1px 2px rgba(60, 64, 67, 0.3), 0px 1px 3px 1px rgba(60, 64, 67, 0.15);\n",
              "    fill: #174EA6;\n",
              "  }\n",
              "\n",
              "  [theme=dark] .colab-df-quickchart {\n",
              "    background-color: #3B4455;\n",
              "    fill: #D2E3FC;\n",
              "  }\n",
              "\n",
              "  [theme=dark] .colab-df-quickchart:hover {\n",
              "    background-color: #434B5C;\n",
              "    box-shadow: 0px 1px 3px 1px rgba(0, 0, 0, 0.15);\n",
              "    filter: drop-shadow(0px 1px 2px rgba(0, 0, 0, 0.3));\n",
              "    fill: #FFFFFF;\n",
              "  }\n",
              "</style>\n",
              "\n",
              "    <script>\n",
              "      async function quickchart(key) {\n",
              "        const containerElement = document.querySelector('#' + key);\n",
              "        const charts = await google.colab.kernel.invokeFunction(\n",
              "            'suggestCharts', [key], {});\n",
              "      }\n",
              "    </script>\n",
              "\n",
              "      <script>\n",
              "\n",
              "function displayQuickchartButton(domScope) {\n",
              "  let quickchartButtonEl =\n",
              "    domScope.querySelector('#df-e904ac0e-4638-4980-ab36-3b4f5bbb497d button.colab-df-quickchart');\n",
              "  quickchartButtonEl.style.display =\n",
              "    google.colab.kernel.accessAllowed ? 'block' : 'none';\n",
              "}\n",
              "\n",
              "        displayQuickchartButton(document);\n",
              "      </script>\n",
              "      <style>\n",
              "    .colab-df-container {\n",
              "      display:flex;\n",
              "      flex-wrap:wrap;\n",
              "      gap: 12px;\n",
              "    }\n",
              "\n",
              "    .colab-df-convert {\n",
              "      background-color: #E8F0FE;\n",
              "      border: none;\n",
              "      border-radius: 50%;\n",
              "      cursor: pointer;\n",
              "      display: none;\n",
              "      fill: #1967D2;\n",
              "      height: 32px;\n",
              "      padding: 0 0 0 0;\n",
              "      width: 32px;\n",
              "    }\n",
              "\n",
              "    .colab-df-convert:hover {\n",
              "      background-color: #E2EBFA;\n",
              "      box-shadow: 0px 1px 2px rgba(60, 64, 67, 0.3), 0px 1px 3px 1px rgba(60, 64, 67, 0.15);\n",
              "      fill: #174EA6;\n",
              "    }\n",
              "\n",
              "    [theme=dark] .colab-df-convert {\n",
              "      background-color: #3B4455;\n",
              "      fill: #D2E3FC;\n",
              "    }\n",
              "\n",
              "    [theme=dark] .colab-df-convert:hover {\n",
              "      background-color: #434B5C;\n",
              "      box-shadow: 0px 1px 3px 1px rgba(0, 0, 0, 0.15);\n",
              "      filter: drop-shadow(0px 1px 2px rgba(0, 0, 0, 0.3));\n",
              "      fill: #FFFFFF;\n",
              "    }\n",
              "  </style>\n",
              "\n",
              "      <script>\n",
              "        const buttonEl =\n",
              "          document.querySelector('#df-0bfd9282-f381-454e-8c70-61ff50ee9e5f button.colab-df-convert');\n",
              "        buttonEl.style.display =\n",
              "          google.colab.kernel.accessAllowed ? 'block' : 'none';\n",
              "\n",
              "        async function convertToInteractive(key) {\n",
              "          const element = document.querySelector('#df-0bfd9282-f381-454e-8c70-61ff50ee9e5f');\n",
              "          const dataTable =\n",
              "            await google.colab.kernel.invokeFunction('convertToInteractive',\n",
              "                                                     [key], {});\n",
              "          if (!dataTable) return;\n",
              "\n",
              "          const docLinkHtml = 'Like what you see? Visit the ' +\n",
              "            '<a target=\"_blank\" href=https://colab.research.google.com/notebooks/data_table.ipynb>data table notebook</a>'\n",
              "            + ' to learn more about interactive tables.';\n",
              "          element.innerHTML = '';\n",
              "          dataTable['output_type'] = 'display_data';\n",
              "          await google.colab.output.renderOutput(dataTable, element);\n",
              "          const docLink = document.createElement('div');\n",
              "          docLink.innerHTML = docLinkHtml;\n",
              "          element.appendChild(docLink);\n",
              "        }\n",
              "      </script>\n",
              "    </div>\n",
              "  </div>\n"
            ]
          },
          "metadata": {},
          "execution_count": 72
        }
      ]
    },
    {
      "cell_type": "code",
      "source": [
        "labels.head()"
      ],
      "metadata": {
        "colab": {
          "base_uri": "https://localhost:8080/"
        },
        "id": "hg2xQnfeeVQ5",
        "outputId": "071435ae-a950-4e9b-f24d-911612763aca"
      },
      "execution_count": 73,
      "outputs": [
        {
          "output_type": "execute_result",
          "data": {
            "text/plain": [
              "0    16884.92400\n",
              "1     1725.55230\n",
              "2     4449.46200\n",
              "3    21984.47061\n",
              "4     3866.85520\n",
              "Name: charges, dtype: float64"
            ]
          },
          "metadata": {},
          "execution_count": 73
        }
      ]
    },
    {
      "cell_type": "code",
      "source": [
        "from sklearn.model_selection import train_test_split\n",
        "x_train, x_test, y_train, y_test = train_test_split(features, labels, test_size=0.2, random_state=42)"
      ],
      "metadata": {
        "id": "VKFUuQQoev26"
      },
      "execution_count": 74,
      "outputs": []
    },
    {
      "cell_type": "code",
      "source": [
        "len(x_train), len(y_train)"
      ],
      "metadata": {
        "colab": {
          "base_uri": "https://localhost:8080/"
        },
        "id": "x8NJrlrLfEk5",
        "outputId": "4646f877-e772-4f6d-e637-a7dd3f8303bc"
      },
      "execution_count": 75,
      "outputs": [
        {
          "output_type": "execute_result",
          "data": {
            "text/plain": [
              "(1070, 1070)"
            ]
          },
          "metadata": {},
          "execution_count": 75
        }
      ]
    },
    {
      "cell_type": "code",
      "source": [
        "len(x_test), len(y_test)"
      ],
      "metadata": {
        "colab": {
          "base_uri": "https://localhost:8080/"
        },
        "id": "29_KVN01fKah",
        "outputId": "35d5c87c-f4f2-49fb-d238-b07375755113"
      },
      "execution_count": 76,
      "outputs": [
        {
          "output_type": "execute_result",
          "data": {
            "text/plain": [
              "(268, 268)"
            ]
          },
          "metadata": {},
          "execution_count": 76
        }
      ]
    },
    {
      "cell_type": "markdown",
      "source": [
        "## Building a neural network to train"
      ],
      "metadata": {
        "id": "iUX8kCJafrUk"
      }
    },
    {
      "cell_type": "code",
      "source": [
        "tf.random.set_seed(42)\n",
        "\n",
        "# create a model\n",
        "insurence_model = tf.keras.Sequential([\n",
        "    tf.keras.layers.Dense(10),\n",
        "    tf.keras.layers.Dense(1)\n",
        "])\n",
        "\n",
        "# compile the model\n",
        "insurence_model.compile(loss=tf.losses.mae,\n",
        "                        optimizer=tf.optimizers.SGD(),\n",
        "                        metrics=['mae'])\n",
        "\n",
        "# fit the model\n",
        "insurence_model.fit(x_train, y_train, epochs=100)"
      ],
      "metadata": {
        "colab": {
          "base_uri": "https://localhost:8080/"
        },
        "collapsed": true,
        "id": "UetpIuQxfu4F",
        "outputId": "713044ee-94d1-40ed-fa30-7428a6c634ee"
      },
      "execution_count": 77,
      "outputs": [
        {
          "output_type": "stream",
          "name": "stdout",
          "text": [
            "Epoch 1/100\n",
            "34/34 [==============================] - 1s 4ms/step - loss: 8642.8789 - mae: 8642.8789\n",
            "Epoch 2/100\n",
            "34/34 [==============================] - 0s 3ms/step - loss: 7882.6675 - mae: 7882.6675\n",
            "Epoch 3/100\n",
            "34/34 [==============================] - 0s 3ms/step - loss: 7554.2788 - mae: 7554.2788\n",
            "Epoch 4/100\n",
            "34/34 [==============================] - 0s 3ms/step - loss: 7782.1318 - mae: 7782.1318\n",
            "Epoch 5/100\n",
            "34/34 [==============================] - 0s 3ms/step - loss: 7762.4663 - mae: 7762.4663\n",
            "Epoch 6/100\n",
            "34/34 [==============================] - 0s 3ms/step - loss: 7564.4395 - mae: 7564.4395\n",
            "Epoch 7/100\n",
            "34/34 [==============================] - 0s 4ms/step - loss: 7574.4438 - mae: 7574.4438\n",
            "Epoch 8/100\n",
            "34/34 [==============================] - 0s 3ms/step - loss: 7809.1973 - mae: 7809.1973\n",
            "Epoch 9/100\n",
            "34/34 [==============================] - 0s 3ms/step - loss: 7494.5562 - mae: 7494.5562\n",
            "Epoch 10/100\n",
            "34/34 [==============================] - 0s 2ms/step - loss: 7488.3486 - mae: 7488.3486\n",
            "Epoch 11/100\n",
            "34/34 [==============================] - 0s 2ms/step - loss: 7518.9375 - mae: 7518.9375\n",
            "Epoch 12/100\n",
            "34/34 [==============================] - 0s 2ms/step - loss: 7585.5332 - mae: 7585.5332\n",
            "Epoch 13/100\n",
            "34/34 [==============================] - 0s 2ms/step - loss: 7664.2451 - mae: 7664.2451\n",
            "Epoch 14/100\n",
            "34/34 [==============================] - 0s 2ms/step - loss: 7735.3604 - mae: 7735.3604\n",
            "Epoch 15/100\n",
            "34/34 [==============================] - 0s 3ms/step - loss: 7529.6709 - mae: 7529.6709\n",
            "Epoch 16/100\n",
            "34/34 [==============================] - 0s 3ms/step - loss: 7743.3394 - mae: 7743.3394\n",
            "Epoch 17/100\n",
            "34/34 [==============================] - 0s 3ms/step - loss: 7702.4604 - mae: 7702.4604\n",
            "Epoch 18/100\n",
            "34/34 [==============================] - 0s 3ms/step - loss: 7833.7983 - mae: 7833.7983\n",
            "Epoch 19/100\n",
            "34/34 [==============================] - 0s 3ms/step - loss: 7695.6973 - mae: 7695.6973\n",
            "Epoch 20/100\n",
            "34/34 [==============================] - 0s 2ms/step - loss: 7921.0532 - mae: 7921.0532\n",
            "Epoch 21/100\n",
            "34/34 [==============================] - 0s 3ms/step - loss: 7529.0259 - mae: 7529.0259\n",
            "Epoch 22/100\n",
            "34/34 [==============================] - 0s 3ms/step - loss: 7883.8384 - mae: 7883.8384\n",
            "Epoch 23/100\n",
            "34/34 [==============================] - 0s 3ms/step - loss: 7731.9131 - mae: 7731.9131\n",
            "Epoch 24/100\n",
            "34/34 [==============================] - 0s 4ms/step - loss: 7563.6191 - mae: 7563.6191\n",
            "Epoch 25/100\n",
            "34/34 [==============================] - 0s 3ms/step - loss: 7676.1772 - mae: 7676.1772\n",
            "Epoch 26/100\n",
            "34/34 [==============================] - 0s 3ms/step - loss: 7632.3809 - mae: 7632.3809\n",
            "Epoch 27/100\n",
            "34/34 [==============================] - 0s 3ms/step - loss: 7720.3457 - mae: 7720.3457\n",
            "Epoch 28/100\n",
            "34/34 [==============================] - 0s 3ms/step - loss: 7415.4683 - mae: 7415.4683\n",
            "Epoch 29/100\n",
            "34/34 [==============================] - 0s 3ms/step - loss: 7460.7920 - mae: 7460.7920\n",
            "Epoch 30/100\n",
            "34/34 [==============================] - 0s 3ms/step - loss: 7706.2549 - mae: 7706.2549\n",
            "Epoch 31/100\n",
            "34/34 [==============================] - 0s 3ms/step - loss: 7674.7402 - mae: 7674.7402\n",
            "Epoch 32/100\n",
            "34/34 [==============================] - 0s 3ms/step - loss: 7515.0659 - mae: 7515.0659\n",
            "Epoch 33/100\n",
            "34/34 [==============================] - 0s 3ms/step - loss: 7546.2207 - mae: 7546.2207\n",
            "Epoch 34/100\n",
            "34/34 [==============================] - 0s 2ms/step - loss: 7465.4331 - mae: 7465.4331\n",
            "Epoch 35/100\n",
            "34/34 [==============================] - 0s 2ms/step - loss: 7499.4346 - mae: 7499.4346\n",
            "Epoch 36/100\n",
            "34/34 [==============================] - 0s 3ms/step - loss: 7507.7100 - mae: 7507.7100\n",
            "Epoch 37/100\n",
            "34/34 [==============================] - 0s 3ms/step - loss: 7620.2153 - mae: 7620.2153\n",
            "Epoch 38/100\n",
            "34/34 [==============================] - 0s 3ms/step - loss: 7580.4321 - mae: 7580.4321\n",
            "Epoch 39/100\n",
            "34/34 [==============================] - 0s 3ms/step - loss: 7493.8804 - mae: 7493.8804\n",
            "Epoch 40/100\n",
            "34/34 [==============================] - 0s 3ms/step - loss: 7565.0791 - mae: 7565.0791\n",
            "Epoch 41/100\n",
            "34/34 [==============================] - 0s 3ms/step - loss: 7647.6641 - mae: 7647.6641\n",
            "Epoch 42/100\n",
            "34/34 [==============================] - 0s 3ms/step - loss: 7571.7681 - mae: 7571.7681\n",
            "Epoch 43/100\n",
            "34/34 [==============================] - 0s 3ms/step - loss: 7590.0396 - mae: 7590.0396\n",
            "Epoch 44/100\n",
            "34/34 [==============================] - 0s 2ms/step - loss: 7381.1548 - mae: 7381.1548\n",
            "Epoch 45/100\n",
            "34/34 [==============================] - 0s 3ms/step - loss: 7507.3989 - mae: 7507.3989\n",
            "Epoch 46/100\n",
            "34/34 [==============================] - 0s 2ms/step - loss: 7597.7285 - mae: 7597.7285\n",
            "Epoch 47/100\n",
            "34/34 [==============================] - 0s 3ms/step - loss: 7431.9053 - mae: 7431.9053\n",
            "Epoch 48/100\n",
            "34/34 [==============================] - 0s 4ms/step - loss: 7497.8848 - mae: 7497.8848\n",
            "Epoch 49/100\n",
            "34/34 [==============================] - 0s 3ms/step - loss: 7546.4844 - mae: 7546.4844\n",
            "Epoch 50/100\n",
            "34/34 [==============================] - 0s 3ms/step - loss: 7490.6587 - mae: 7490.6587\n",
            "Epoch 51/100\n",
            "34/34 [==============================] - 0s 3ms/step - loss: 7393.9302 - mae: 7393.9302\n",
            "Epoch 52/100\n",
            "34/34 [==============================] - 0s 3ms/step - loss: 7508.2290 - mae: 7508.2290\n",
            "Epoch 53/100\n",
            "34/34 [==============================] - 0s 3ms/step - loss: 7556.4233 - mae: 7556.4233\n",
            "Epoch 54/100\n",
            "34/34 [==============================] - 0s 3ms/step - loss: 7365.3872 - mae: 7365.3872\n",
            "Epoch 55/100\n",
            "34/34 [==============================] - 0s 3ms/step - loss: 7211.4595 - mae: 7211.4595\n",
            "Epoch 56/100\n",
            "34/34 [==============================] - 0s 3ms/step - loss: 7362.4463 - mae: 7362.4463\n",
            "Epoch 57/100\n",
            "34/34 [==============================] - 0s 3ms/step - loss: 7345.7080 - mae: 7345.7080\n",
            "Epoch 58/100\n",
            "34/34 [==============================] - 0s 4ms/step - loss: 7542.7036 - mae: 7542.7036\n",
            "Epoch 59/100\n",
            "34/34 [==============================] - 0s 3ms/step - loss: 7644.5142 - mae: 7644.5142\n",
            "Epoch 60/100\n",
            "34/34 [==============================] - 0s 4ms/step - loss: 7357.3267 - mae: 7357.3267\n",
            "Epoch 61/100\n",
            "34/34 [==============================] - 0s 3ms/step - loss: 7505.6260 - mae: 7505.6260\n",
            "Epoch 62/100\n",
            "34/34 [==============================] - 0s 3ms/step - loss: 7528.2104 - mae: 7528.2104\n",
            "Epoch 63/100\n",
            "34/34 [==============================] - 0s 3ms/step - loss: 7395.7598 - mae: 7395.7598\n",
            "Epoch 64/100\n",
            "34/34 [==============================] - 0s 3ms/step - loss: 7294.9219 - mae: 7294.9219\n",
            "Epoch 65/100\n",
            "34/34 [==============================] - 0s 3ms/step - loss: 7519.9775 - mae: 7519.9775\n",
            "Epoch 66/100\n",
            "34/34 [==============================] - 0s 2ms/step - loss: 7153.7612 - mae: 7153.7612\n",
            "Epoch 67/100\n",
            "34/34 [==============================] - 0s 2ms/step - loss: 7275.7363 - mae: 7275.7363\n",
            "Epoch 68/100\n",
            "34/34 [==============================] - 0s 2ms/step - loss: 7517.4458 - mae: 7517.4458\n",
            "Epoch 69/100\n",
            "34/34 [==============================] - 0s 2ms/step - loss: 7588.5366 - mae: 7588.5366\n",
            "Epoch 70/100\n",
            "34/34 [==============================] - 0s 2ms/step - loss: 7633.3936 - mae: 7633.3936\n",
            "Epoch 71/100\n",
            "34/34 [==============================] - 0s 2ms/step - loss: 7260.1250 - mae: 7260.1250\n",
            "Epoch 72/100\n",
            "34/34 [==============================] - 0s 2ms/step - loss: 7453.1401 - mae: 7453.1401\n",
            "Epoch 73/100\n",
            "34/34 [==============================] - 0s 2ms/step - loss: 7372.5298 - mae: 7372.5298\n",
            "Epoch 74/100\n",
            "34/34 [==============================] - 0s 2ms/step - loss: 7436.6675 - mae: 7436.6675\n",
            "Epoch 75/100\n",
            "34/34 [==============================] - 0s 2ms/step - loss: 7294.2363 - mae: 7294.2363\n",
            "Epoch 76/100\n",
            "34/34 [==============================] - 0s 2ms/step - loss: 7168.7124 - mae: 7168.7124\n",
            "Epoch 77/100\n",
            "34/34 [==============================] - 0s 2ms/step - loss: 7277.9839 - mae: 7277.9839\n",
            "Epoch 78/100\n",
            "34/34 [==============================] - 0s 2ms/step - loss: 7013.2876 - mae: 7013.2876\n",
            "Epoch 79/100\n",
            "34/34 [==============================] - 0s 2ms/step - loss: 7403.7300 - mae: 7403.7300\n",
            "Epoch 80/100\n",
            "34/34 [==============================] - 0s 2ms/step - loss: 7199.1494 - mae: 7199.1494\n",
            "Epoch 81/100\n",
            "34/34 [==============================] - 0s 2ms/step - loss: 7241.3115 - mae: 7241.3115\n",
            "Epoch 82/100\n",
            "34/34 [==============================] - 0s 2ms/step - loss: 7202.9868 - mae: 7202.9868\n",
            "Epoch 83/100\n",
            "34/34 [==============================] - 0s 2ms/step - loss: 7560.8862 - mae: 7560.8862\n",
            "Epoch 84/100\n",
            "34/34 [==============================] - 0s 2ms/step - loss: 7212.9927 - mae: 7212.9927\n",
            "Epoch 85/100\n",
            "34/34 [==============================] - 0s 2ms/step - loss: 7405.5273 - mae: 7405.5273\n",
            "Epoch 86/100\n",
            "34/34 [==============================] - 0s 2ms/step - loss: 7421.8491 - mae: 7421.8491\n",
            "Epoch 87/100\n",
            "34/34 [==============================] - 0s 2ms/step - loss: 7126.4341 - mae: 7126.4341\n",
            "Epoch 88/100\n",
            "34/34 [==============================] - 0s 2ms/step - loss: 7210.2568 - mae: 7210.2568\n",
            "Epoch 89/100\n",
            "34/34 [==============================] - 0s 2ms/step - loss: 7428.0454 - mae: 7428.0454\n",
            "Epoch 90/100\n",
            "34/34 [==============================] - 0s 2ms/step - loss: 7146.3018 - mae: 7146.3018\n",
            "Epoch 91/100\n",
            "34/34 [==============================] - 0s 2ms/step - loss: 7166.5410 - mae: 7166.5410\n",
            "Epoch 92/100\n",
            "34/34 [==============================] - 0s 2ms/step - loss: 7324.7788 - mae: 7324.7788\n",
            "Epoch 93/100\n",
            "34/34 [==============================] - 0s 2ms/step - loss: 7493.3232 - mae: 7493.3232\n",
            "Epoch 94/100\n",
            "34/34 [==============================] - 0s 2ms/step - loss: 7061.8979 - mae: 7061.8979\n",
            "Epoch 95/100\n",
            "34/34 [==============================] - 0s 2ms/step - loss: 7295.6001 - mae: 7295.6001\n",
            "Epoch 96/100\n",
            "34/34 [==============================] - 0s 2ms/step - loss: 7084.3643 - mae: 7084.3643\n",
            "Epoch 97/100\n",
            "34/34 [==============================] - 0s 2ms/step - loss: 7185.0732 - mae: 7185.0732\n",
            "Epoch 98/100\n",
            "34/34 [==============================] - 0s 2ms/step - loss: 7449.6328 - mae: 7449.6328\n",
            "Epoch 99/100\n",
            "34/34 [==============================] - 0s 2ms/step - loss: 7329.8535 - mae: 7329.8535\n",
            "Epoch 100/100\n",
            "34/34 [==============================] - 0s 2ms/step - loss: 7191.7358 - mae: 7191.7358\n"
          ]
        },
        {
          "output_type": "execute_result",
          "data": {
            "text/plain": [
              "<keras.callbacks.History at 0x7ecf62e24be0>"
            ]
          },
          "metadata": {},
          "execution_count": 77
        }
      ]
    },
    {
      "cell_type": "markdown",
      "source": [
        "## Checking the model on insurence data"
      ],
      "metadata": {
        "id": "x3jWJkbXgoh4"
      }
    },
    {
      "cell_type": "code",
      "source": [
        "insurence_model.evaluate(x_test, y_test)"
      ],
      "metadata": {
        "colab": {
          "base_uri": "https://localhost:8080/"
        },
        "id": "EPCPI9WHgunJ",
        "outputId": "5aef5575-4ba2-495c-dd16-f7e638594418"
      },
      "execution_count": 78,
      "outputs": [
        {
          "output_type": "stream",
          "name": "stdout",
          "text": [
            "9/9 [==============================] - 0s 2ms/step - loss: 7084.0845 - mae: 7084.0845\n"
          ]
        },
        {
          "output_type": "execute_result",
          "data": {
            "text/plain": [
              "[7084.08447265625, 7084.08447265625]"
            ]
          },
          "metadata": {},
          "execution_count": 78
        }
      ]
    },
    {
      "cell_type": "code",
      "source": [
        "y_train.median(), y_train.mean()"
      ],
      "metadata": {
        "colab": {
          "base_uri": "https://localhost:8080/"
        },
        "id": "7xYnsgfgg7Y3",
        "outputId": "7c7e105a-c365-413f-9e87-9644eb64872f"
      },
      "execution_count": 79,
      "outputs": [
        {
          "output_type": "execute_result",
          "data": {
            "text/plain": [
              "(9575.4421, 13346.089736364485)"
            ]
          },
          "metadata": {},
          "execution_count": 79
        }
      ]
    },
    {
      "cell_type": "markdown",
      "source": [
        "## Running experiments on model to improve\n",
        "\n",
        "Right now it looks like our model isn't performing too well...let's try and improve it!\n",
        "\n",
        ">To (try) improve our model, we will run two experiments:\n",
        "\n",
        ">   1. Add extra layers with more hidden units with Adam optimizer.\n",
        ">   2. Train for longer."
      ],
      "metadata": {
        "id": "4KtaAPuhhqL0"
      }
    },
    {
      "cell_type": "markdown",
      "source": [
        "Adding extra layers and changing optimizer"
      ],
      "metadata": {
        "id": "7dhY-jJHj8TK"
      }
    },
    {
      "cell_type": "code",
      "source": [
        "tf.random.set_seed(42)\n",
        "\n",
        "# create a model\n",
        "insurence_model_2 = tf.keras.Sequential([\n",
        "    tf.keras.layers.Dense(100),\n",
        "    tf.keras.layers.Dense(10),\n",
        "    tf.keras.layers.Dense(1)\n",
        "])\n",
        "\n",
        "# compile the model\n",
        "insurence_model_2.compile(loss=tf.losses.mae,\n",
        "                        optimizer=tf.optimizers.Adam(),\n",
        "                        metrics=['mae'])\n",
        "\n",
        "# fit the model\n",
        "insurence_model_2.fit(x_train, y_train, epochs=100)"
      ],
      "metadata": {
        "colab": {
          "base_uri": "https://localhost:8080/"
        },
        "collapsed": true,
        "id": "y_tPuUubiTyP",
        "outputId": "ef20e7f2-92a9-46c4-fef2-1944363a0ed8"
      },
      "execution_count": 80,
      "outputs": [
        {
          "output_type": "stream",
          "name": "stdout",
          "text": [
            "Epoch 1/100\n",
            "34/34 [==============================] - 1s 2ms/step - loss: 13263.4365 - mae: 13263.4365\n",
            "Epoch 2/100\n",
            "34/34 [==============================] - 0s 2ms/step - loss: 13064.0742 - mae: 13064.0742\n",
            "Epoch 3/100\n",
            "34/34 [==============================] - 0s 2ms/step - loss: 12680.7461 - mae: 12680.7461\n",
            "Epoch 4/100\n",
            "34/34 [==============================] - 0s 2ms/step - loss: 11970.5068 - mae: 11970.5068\n",
            "Epoch 5/100\n",
            "34/34 [==============================] - 0s 2ms/step - loss: 10820.9629 - mae: 10820.9629\n",
            "Epoch 6/100\n",
            "34/34 [==============================] - 0s 2ms/step - loss: 9390.0615 - mae: 9390.0615\n",
            "Epoch 7/100\n",
            "34/34 [==============================] - 0s 2ms/step - loss: 8105.1562 - mae: 8105.1562\n",
            "Epoch 8/100\n",
            "34/34 [==============================] - 0s 2ms/step - loss: 7506.7271 - mae: 7506.7271\n",
            "Epoch 9/100\n",
            "34/34 [==============================] - 0s 2ms/step - loss: 7414.2227 - mae: 7414.2227\n",
            "Epoch 10/100\n",
            "34/34 [==============================] - 0s 2ms/step - loss: 7394.7476 - mae: 7394.7476\n",
            "Epoch 11/100\n",
            "34/34 [==============================] - 0s 2ms/step - loss: 7376.1948 - mae: 7376.1948\n",
            "Epoch 12/100\n",
            "34/34 [==============================] - 0s 3ms/step - loss: 7353.9473 - mae: 7353.9473\n",
            "Epoch 13/100\n",
            "34/34 [==============================] - 0s 2ms/step - loss: 7333.3853 - mae: 7333.3853\n",
            "Epoch 14/100\n",
            "34/34 [==============================] - 0s 2ms/step - loss: 7310.8022 - mae: 7310.8022\n",
            "Epoch 15/100\n",
            "34/34 [==============================] - 0s 2ms/step - loss: 7291.8687 - mae: 7291.8687\n",
            "Epoch 16/100\n",
            "34/34 [==============================] - 0s 2ms/step - loss: 7269.2695 - mae: 7269.2695\n",
            "Epoch 17/100\n",
            "34/34 [==============================] - 0s 3ms/step - loss: 7248.0649 - mae: 7248.0649\n",
            "Epoch 18/100\n",
            "34/34 [==============================] - 0s 3ms/step - loss: 7224.4297 - mae: 7224.4297\n",
            "Epoch 19/100\n",
            "34/34 [==============================] - 0s 2ms/step - loss: 7201.3799 - mae: 7201.3799\n",
            "Epoch 20/100\n",
            "34/34 [==============================] - 0s 2ms/step - loss: 7176.9360 - mae: 7176.9360\n",
            "Epoch 21/100\n",
            "34/34 [==============================] - 0s 2ms/step - loss: 7156.7295 - mae: 7156.7295\n",
            "Epoch 22/100\n",
            "34/34 [==============================] - 0s 2ms/step - loss: 7128.3286 - mae: 7128.3286\n",
            "Epoch 23/100\n",
            "34/34 [==============================] - 0s 2ms/step - loss: 7102.1582 - mae: 7102.1582\n",
            "Epoch 24/100\n",
            "34/34 [==============================] - 0s 2ms/step - loss: 7075.1211 - mae: 7075.1211\n",
            "Epoch 25/100\n",
            "34/34 [==============================] - 0s 2ms/step - loss: 7054.8022 - mae: 7054.8022\n",
            "Epoch 26/100\n",
            "34/34 [==============================] - 0s 2ms/step - loss: 7021.7344 - mae: 7021.7344\n",
            "Epoch 27/100\n",
            "34/34 [==============================] - 0s 2ms/step - loss: 6991.8159 - mae: 6991.8159\n",
            "Epoch 28/100\n",
            "34/34 [==============================] - 0s 2ms/step - loss: 6961.5698 - mae: 6961.5698\n",
            "Epoch 29/100\n",
            "34/34 [==============================] - 0s 2ms/step - loss: 6930.8750 - mae: 6930.8750\n",
            "Epoch 30/100\n",
            "34/34 [==============================] - 0s 2ms/step - loss: 6902.4312 - mae: 6902.4312\n",
            "Epoch 31/100\n",
            "34/34 [==============================] - 0s 2ms/step - loss: 6869.2568 - mae: 6869.2568\n",
            "Epoch 32/100\n",
            "34/34 [==============================] - 0s 2ms/step - loss: 6838.3682 - mae: 6838.3682\n",
            "Epoch 33/100\n",
            "34/34 [==============================] - 0s 2ms/step - loss: 6804.0015 - mae: 6804.0015\n",
            "Epoch 34/100\n",
            "34/34 [==============================] - 0s 2ms/step - loss: 6769.7593 - mae: 6769.7593\n",
            "Epoch 35/100\n",
            "34/34 [==============================] - 0s 2ms/step - loss: 6732.8975 - mae: 6732.8975\n",
            "Epoch 36/100\n",
            "34/34 [==============================] - 0s 2ms/step - loss: 6696.7954 - mae: 6696.7954\n",
            "Epoch 37/100\n",
            "34/34 [==============================] - 0s 2ms/step - loss: 6659.0098 - mae: 6659.0098\n",
            "Epoch 38/100\n",
            "34/34 [==============================] - 0s 2ms/step - loss: 6627.7305 - mae: 6627.7305\n",
            "Epoch 39/100\n",
            "34/34 [==============================] - 0s 2ms/step - loss: 6588.4268 - mae: 6588.4268\n",
            "Epoch 40/100\n",
            "34/34 [==============================] - 0s 2ms/step - loss: 6557.9648 - mae: 6557.9648\n",
            "Epoch 41/100\n",
            "34/34 [==============================] - 0s 2ms/step - loss: 6532.6885 - mae: 6532.6885\n",
            "Epoch 42/100\n",
            "34/34 [==============================] - 0s 2ms/step - loss: 6511.6055 - mae: 6511.6055\n",
            "Epoch 43/100\n",
            "34/34 [==============================] - 0s 2ms/step - loss: 6490.7788 - mae: 6490.7788\n",
            "Epoch 44/100\n",
            "34/34 [==============================] - 0s 2ms/step - loss: 6471.7197 - mae: 6471.7197\n",
            "Epoch 45/100\n",
            "34/34 [==============================] - 0s 2ms/step - loss: 6464.1353 - mae: 6464.1353\n",
            "Epoch 46/100\n",
            "34/34 [==============================] - 0s 2ms/step - loss: 6445.6211 - mae: 6445.6211\n",
            "Epoch 47/100\n",
            "34/34 [==============================] - 0s 2ms/step - loss: 6430.2012 - mae: 6430.2012\n",
            "Epoch 48/100\n",
            "34/34 [==============================] - 0s 2ms/step - loss: 6416.4961 - mae: 6416.4961\n",
            "Epoch 49/100\n",
            "34/34 [==============================] - 0s 3ms/step - loss: 6405.1597 - mae: 6405.1597\n",
            "Epoch 50/100\n",
            "34/34 [==============================] - 0s 2ms/step - loss: 6390.5786 - mae: 6390.5786\n",
            "Epoch 51/100\n",
            "34/34 [==============================] - 0s 2ms/step - loss: 6376.8604 - mae: 6376.8604\n",
            "Epoch 52/100\n",
            "34/34 [==============================] - 0s 2ms/step - loss: 6363.7324 - mae: 6363.7324\n",
            "Epoch 53/100\n",
            "34/34 [==============================] - 0s 2ms/step - loss: 6349.1660 - mae: 6349.1660\n",
            "Epoch 54/100\n",
            "34/34 [==============================] - 0s 2ms/step - loss: 6334.9585 - mae: 6334.9585\n",
            "Epoch 55/100\n",
            "34/34 [==============================] - 0s 2ms/step - loss: 6320.5161 - mae: 6320.5161\n",
            "Epoch 56/100\n",
            "34/34 [==============================] - 0s 2ms/step - loss: 6306.5483 - mae: 6306.5483\n",
            "Epoch 57/100\n",
            "34/34 [==============================] - 0s 2ms/step - loss: 6291.9102 - mae: 6291.9102\n",
            "Epoch 58/100\n",
            "34/34 [==============================] - 0s 2ms/step - loss: 6278.3696 - mae: 6278.3696\n",
            "Epoch 59/100\n",
            "34/34 [==============================] - 0s 2ms/step - loss: 6261.4761 - mae: 6261.4761\n",
            "Epoch 60/100\n",
            "34/34 [==============================] - 0s 2ms/step - loss: 6250.3149 - mae: 6250.3149\n",
            "Epoch 61/100\n",
            "34/34 [==============================] - 0s 2ms/step - loss: 6229.0864 - mae: 6229.0864\n",
            "Epoch 62/100\n",
            "34/34 [==============================] - 0s 2ms/step - loss: 6216.2974 - mae: 6216.2974\n",
            "Epoch 63/100\n",
            "34/34 [==============================] - 0s 2ms/step - loss: 6197.2524 - mae: 6197.2524\n",
            "Epoch 64/100\n",
            "34/34 [==============================] - 0s 2ms/step - loss: 6179.1494 - mae: 6179.1494\n",
            "Epoch 65/100\n",
            "34/34 [==============================] - 0s 2ms/step - loss: 6161.0498 - mae: 6161.0498\n",
            "Epoch 66/100\n",
            "34/34 [==============================] - 0s 2ms/step - loss: 6141.9907 - mae: 6141.9907\n",
            "Epoch 67/100\n",
            "34/34 [==============================] - 0s 2ms/step - loss: 6129.3794 - mae: 6129.3794\n",
            "Epoch 68/100\n",
            "34/34 [==============================] - 0s 2ms/step - loss: 6105.4487 - mae: 6105.4487\n",
            "Epoch 69/100\n",
            "34/34 [==============================] - 0s 3ms/step - loss: 6086.8970 - mae: 6086.8970\n",
            "Epoch 70/100\n",
            "34/34 [==============================] - 0s 2ms/step - loss: 6065.3701 - mae: 6065.3701\n",
            "Epoch 71/100\n",
            "34/34 [==============================] - 0s 2ms/step - loss: 6044.6152 - mae: 6044.6152\n",
            "Epoch 72/100\n",
            "34/34 [==============================] - 0s 2ms/step - loss: 6023.8594 - mae: 6023.8594\n",
            "Epoch 73/100\n",
            "34/34 [==============================] - 0s 2ms/step - loss: 6007.1899 - mae: 6007.1899\n",
            "Epoch 74/100\n",
            "34/34 [==============================] - 0s 2ms/step - loss: 5976.8740 - mae: 5976.8740\n",
            "Epoch 75/100\n",
            "34/34 [==============================] - 0s 2ms/step - loss: 5954.2983 - mae: 5954.2983\n",
            "Epoch 76/100\n",
            "34/34 [==============================] - 0s 2ms/step - loss: 5936.5371 - mae: 5936.5371\n",
            "Epoch 77/100\n",
            "34/34 [==============================] - 0s 4ms/step - loss: 5904.3262 - mae: 5904.3262\n",
            "Epoch 78/100\n",
            "34/34 [==============================] - 0s 4ms/step - loss: 5877.3550 - mae: 5877.3550\n",
            "Epoch 79/100\n",
            "34/34 [==============================] - 0s 4ms/step - loss: 5851.0703 - mae: 5851.0703\n",
            "Epoch 80/100\n",
            "34/34 [==============================] - 0s 3ms/step - loss: 5819.9668 - mae: 5819.9668\n",
            "Epoch 81/100\n",
            "34/34 [==============================] - 0s 3ms/step - loss: 5792.6523 - mae: 5792.6523\n",
            "Epoch 82/100\n",
            "34/34 [==============================] - 0s 3ms/step - loss: 5760.3340 - mae: 5760.3340\n",
            "Epoch 83/100\n",
            "34/34 [==============================] - 0s 3ms/step - loss: 5730.1172 - mae: 5730.1172\n",
            "Epoch 84/100\n",
            "34/34 [==============================] - 0s 3ms/step - loss: 5693.5142 - mae: 5693.5142\n",
            "Epoch 85/100\n",
            "34/34 [==============================] - 0s 4ms/step - loss: 5664.9263 - mae: 5664.9263\n",
            "Epoch 86/100\n",
            "34/34 [==============================] - 0s 4ms/step - loss: 5628.2749 - mae: 5628.2749\n",
            "Epoch 87/100\n",
            "34/34 [==============================] - 0s 4ms/step - loss: 5586.8809 - mae: 5586.8809\n",
            "Epoch 88/100\n",
            "34/34 [==============================] - 0s 3ms/step - loss: 5548.6143 - mae: 5548.6143\n",
            "Epoch 89/100\n",
            "34/34 [==============================] - 0s 3ms/step - loss: 5504.5171 - mae: 5504.5171\n",
            "Epoch 90/100\n",
            "34/34 [==============================] - 0s 3ms/step - loss: 5458.6299 - mae: 5458.6299\n",
            "Epoch 91/100\n",
            "34/34 [==============================] - 0s 3ms/step - loss: 5417.1772 - mae: 5417.1772\n",
            "Epoch 92/100\n",
            "34/34 [==============================] - 0s 4ms/step - loss: 5366.1235 - mae: 5366.1235\n",
            "Epoch 93/100\n",
            "34/34 [==============================] - 0s 4ms/step - loss: 5318.3789 - mae: 5318.3789\n",
            "Epoch 94/100\n",
            "34/34 [==============================] - 0s 3ms/step - loss: 5267.2788 - mae: 5267.2788\n",
            "Epoch 95/100\n",
            "34/34 [==============================] - 0s 4ms/step - loss: 5212.5098 - mae: 5212.5098\n",
            "Epoch 96/100\n",
            "34/34 [==============================] - 0s 4ms/step - loss: 5161.7964 - mae: 5161.7964\n",
            "Epoch 97/100\n",
            "34/34 [==============================] - 0s 3ms/step - loss: 5102.4688 - mae: 5102.4688\n",
            "Epoch 98/100\n",
            "34/34 [==============================] - 0s 3ms/step - loss: 5035.8237 - mae: 5035.8237\n",
            "Epoch 99/100\n",
            "34/34 [==============================] - 0s 4ms/step - loss: 4970.0820 - mae: 4970.0820\n",
            "Epoch 100/100\n",
            "34/34 [==============================] - 0s 3ms/step - loss: 4911.4009 - mae: 4911.4009\n"
          ]
        },
        {
          "output_type": "execute_result",
          "data": {
            "text/plain": [
              "<keras.callbacks.History at 0x7ecf62d5b580>"
            ]
          },
          "metadata": {},
          "execution_count": 80
        }
      ]
    },
    {
      "cell_type": "code",
      "source": [
        "insurence_model_2.evaluate(x_test, y_test)"
      ],
      "metadata": {
        "colab": {
          "base_uri": "https://localhost:8080/"
        },
        "id": "qTIRBeqcjdGg",
        "outputId": "1ea8038a-cc78-401b-a1da-a47d78d4e356"
      },
      "execution_count": 81,
      "outputs": [
        {
          "output_type": "stream",
          "name": "stdout",
          "text": [
            "9/9 [==============================] - 0s 3ms/step - loss: 4784.6514 - mae: 4784.6514\n"
          ]
        },
        {
          "output_type": "execute_result",
          "data": {
            "text/plain": [
              "[4784.6513671875, 4784.6513671875]"
            ]
          },
          "metadata": {},
          "execution_count": 81
        }
      ]
    },
    {
      "cell_type": "markdown",
      "source": [
        "Train for longer"
      ],
      "metadata": {
        "id": "SKgD-r42kJCW"
      }
    },
    {
      "cell_type": "code",
      "source": [
        "tf.random.set_seed(42)\n",
        "\n",
        "# create a model\n",
        "insurence_model_3 = tf.keras.Sequential([\n",
        "    tf.keras.layers.Dense(100),\n",
        "    tf.keras.layers.Dense(10),\n",
        "    tf.keras.layers.Dense(1)\n",
        "])\n",
        "\n",
        "# compile the model\n",
        "insurence_model_3.compile(loss=tf.losses.mae,\n",
        "                        optimizer=tf.optimizers.Adam(),\n",
        "                        metrics=['mae'])\n",
        "\n",
        "# fit the model\n",
        "history = insurence_model_3.fit(x_train, y_train, epochs=200)"
      ],
      "metadata": {
        "colab": {
          "base_uri": "https://localhost:8080/"
        },
        "collapsed": true,
        "id": "wdUnSRDnkL9o",
        "outputId": "1bee7a9f-56ce-4fb4-83d9-0e2498a7a877"
      },
      "execution_count": 82,
      "outputs": [
        {
          "output_type": "stream",
          "name": "stdout",
          "text": [
            "Epoch 1/200\n",
            "34/34 [==============================] - 1s 4ms/step - loss: 13274.3584 - mae: 13274.3584\n",
            "Epoch 2/200\n",
            "34/34 [==============================] - 0s 4ms/step - loss: 13087.2100 - mae: 13087.2100\n",
            "Epoch 3/200\n",
            "34/34 [==============================] - 0s 4ms/step - loss: 12705.5684 - mae: 12705.5684\n",
            "Epoch 4/200\n",
            "34/34 [==============================] - 0s 4ms/step - loss: 11979.2061 - mae: 11979.2061\n",
            "Epoch 5/200\n",
            "34/34 [==============================] - 0s 4ms/step - loss: 10805.0000 - mae: 10805.0000\n",
            "Epoch 6/200\n",
            "34/34 [==============================] - 0s 4ms/step - loss: 9361.6992 - mae: 9361.6992\n",
            "Epoch 7/200\n",
            "34/34 [==============================] - 0s 4ms/step - loss: 8087.1318 - mae: 8087.1318\n",
            "Epoch 8/200\n",
            "34/34 [==============================] - 0s 4ms/step - loss: 7519.6167 - mae: 7519.6167\n",
            "Epoch 9/200\n",
            "34/34 [==============================] - 0s 4ms/step - loss: 7433.2881 - mae: 7433.2881\n",
            "Epoch 10/200\n",
            "34/34 [==============================] - 0s 3ms/step - loss: 7414.3872 - mae: 7414.3872\n",
            "Epoch 11/200\n",
            "34/34 [==============================] - 0s 3ms/step - loss: 7396.6602 - mae: 7396.6602\n",
            "Epoch 12/200\n",
            "34/34 [==============================] - 0s 4ms/step - loss: 7375.0269 - mae: 7375.0269\n",
            "Epoch 13/200\n",
            "34/34 [==============================] - 0s 4ms/step - loss: 7355.2964 - mae: 7355.2964\n",
            "Epoch 14/200\n",
            "34/34 [==============================] - 0s 4ms/step - loss: 7333.7710 - mae: 7333.7710\n",
            "Epoch 15/200\n",
            "34/34 [==============================] - 0s 4ms/step - loss: 7315.3740 - mae: 7315.3740\n",
            "Epoch 16/200\n",
            "34/34 [==============================] - 0s 2ms/step - loss: 7293.4185 - mae: 7293.4185\n",
            "Epoch 17/200\n",
            "34/34 [==============================] - 0s 2ms/step - loss: 7274.4941 - mae: 7274.4941\n",
            "Epoch 18/200\n",
            "34/34 [==============================] - 0s 2ms/step - loss: 7251.7539 - mae: 7251.7539\n",
            "Epoch 19/200\n",
            "34/34 [==============================] - 0s 2ms/step - loss: 7230.1558 - mae: 7230.1558\n",
            "Epoch 20/200\n",
            "34/34 [==============================] - 0s 2ms/step - loss: 7207.6582 - mae: 7207.6582\n",
            "Epoch 21/200\n",
            "34/34 [==============================] - 0s 2ms/step - loss: 7189.2197 - mae: 7189.2197\n",
            "Epoch 22/200\n",
            "34/34 [==============================] - 0s 2ms/step - loss: 7162.9189 - mae: 7162.9189\n",
            "Epoch 23/200\n",
            "34/34 [==============================] - 0s 2ms/step - loss: 7138.9878 - mae: 7138.9878\n",
            "Epoch 24/200\n",
            "34/34 [==============================] - 0s 2ms/step - loss: 7115.2129 - mae: 7115.2129\n",
            "Epoch 25/200\n",
            "34/34 [==============================] - 0s 2ms/step - loss: 7098.2290 - mae: 7098.2290\n",
            "Epoch 26/200\n",
            "34/34 [==============================] - 0s 2ms/step - loss: 7067.0127 - mae: 7067.0127\n",
            "Epoch 27/200\n",
            "34/34 [==============================] - 0s 2ms/step - loss: 7039.7583 - mae: 7039.7583\n",
            "Epoch 28/200\n",
            "34/34 [==============================] - 0s 2ms/step - loss: 7012.7529 - mae: 7012.7529\n",
            "Epoch 29/200\n",
            "34/34 [==============================] - 0s 2ms/step - loss: 6985.9634 - mae: 6985.9634\n",
            "Epoch 30/200\n",
            "34/34 [==============================] - 0s 2ms/step - loss: 6959.8125 - mae: 6959.8125\n",
            "Epoch 31/200\n",
            "34/34 [==============================] - 0s 2ms/step - loss: 6929.8193 - mae: 6929.8193\n",
            "Epoch 32/200\n",
            "34/34 [==============================] - 0s 2ms/step - loss: 6904.4253 - mae: 6904.4253\n",
            "Epoch 33/200\n",
            "34/34 [==============================] - 0s 2ms/step - loss: 6873.6367 - mae: 6873.6367\n",
            "Epoch 34/200\n",
            "34/34 [==============================] - 0s 2ms/step - loss: 6842.5298 - mae: 6842.5298\n",
            "Epoch 35/200\n",
            "34/34 [==============================] - 0s 3ms/step - loss: 6811.1201 - mae: 6811.1201\n",
            "Epoch 36/200\n",
            "34/34 [==============================] - 0s 2ms/step - loss: 6778.0342 - mae: 6778.0342\n",
            "Epoch 37/200\n",
            "34/34 [==============================] - 0s 2ms/step - loss: 6743.7798 - mae: 6743.7798\n",
            "Epoch 38/200\n",
            "34/34 [==============================] - 0s 2ms/step - loss: 6713.1660 - mae: 6713.1660\n",
            "Epoch 39/200\n",
            "34/34 [==============================] - 0s 2ms/step - loss: 6675.7339 - mae: 6675.7339\n",
            "Epoch 40/200\n",
            "34/34 [==============================] - 0s 2ms/step - loss: 6641.5708 - mae: 6641.5708\n",
            "Epoch 41/200\n",
            "34/34 [==============================] - 0s 2ms/step - loss: 6609.3110 - mae: 6609.3110\n",
            "Epoch 42/200\n",
            "34/34 [==============================] - 0s 2ms/step - loss: 6578.8184 - mae: 6578.8184\n",
            "Epoch 43/200\n",
            "34/34 [==============================] - 0s 2ms/step - loss: 6549.3232 - mae: 6549.3232\n",
            "Epoch 44/200\n",
            "34/34 [==============================] - 0s 2ms/step - loss: 6522.4248 - mae: 6522.4248\n",
            "Epoch 45/200\n",
            "34/34 [==============================] - 0s 2ms/step - loss: 6505.4438 - mae: 6505.4438\n",
            "Epoch 46/200\n",
            "34/34 [==============================] - 0s 2ms/step - loss: 6485.1250 - mae: 6485.1250\n",
            "Epoch 47/200\n",
            "34/34 [==============================] - 0s 2ms/step - loss: 6469.2295 - mae: 6469.2295\n",
            "Epoch 48/200\n",
            "34/34 [==============================] - 0s 2ms/step - loss: 6452.6030 - mae: 6452.6030\n",
            "Epoch 49/200\n",
            "34/34 [==============================] - 0s 2ms/step - loss: 6439.4551 - mae: 6439.4551\n",
            "Epoch 50/200\n",
            "34/34 [==============================] - 0s 2ms/step - loss: 6425.7100 - mae: 6425.7100\n",
            "Epoch 51/200\n",
            "34/34 [==============================] - 0s 3ms/step - loss: 6411.7593 - mae: 6411.7593\n",
            "Epoch 52/200\n",
            "34/34 [==============================] - 0s 2ms/step - loss: 6400.6426 - mae: 6400.6426\n",
            "Epoch 53/200\n",
            "34/34 [==============================] - 0s 2ms/step - loss: 6387.0020 - mae: 6387.0020\n",
            "Epoch 54/200\n",
            "34/34 [==============================] - 0s 2ms/step - loss: 6373.4038 - mae: 6373.4038\n",
            "Epoch 55/200\n",
            "34/34 [==============================] - 0s 2ms/step - loss: 6360.2632 - mae: 6360.2632\n",
            "Epoch 56/200\n",
            "34/34 [==============================] - 0s 2ms/step - loss: 6346.1719 - mae: 6346.1719\n",
            "Epoch 57/200\n",
            "34/34 [==============================] - 0s 2ms/step - loss: 6334.2637 - mae: 6334.2637\n",
            "Epoch 58/200\n",
            "34/34 [==============================] - 0s 2ms/step - loss: 6320.3447 - mae: 6320.3447\n",
            "Epoch 59/200\n",
            "34/34 [==============================] - 0s 2ms/step - loss: 6305.5635 - mae: 6305.5635\n",
            "Epoch 60/200\n",
            "34/34 [==============================] - 0s 2ms/step - loss: 6295.3472 - mae: 6295.3472\n",
            "Epoch 61/200\n",
            "34/34 [==============================] - 0s 2ms/step - loss: 6276.8809 - mae: 6276.8809\n",
            "Epoch 62/200\n",
            "34/34 [==============================] - 0s 2ms/step - loss: 6264.4419 - mae: 6264.4419\n",
            "Epoch 63/200\n",
            "34/34 [==============================] - 0s 2ms/step - loss: 6246.5801 - mae: 6246.5801\n",
            "Epoch 64/200\n",
            "34/34 [==============================] - 0s 3ms/step - loss: 6231.3296 - mae: 6231.3296\n",
            "Epoch 65/200\n",
            "34/34 [==============================] - 0s 2ms/step - loss: 6214.4243 - mae: 6214.4243\n",
            "Epoch 66/200\n",
            "34/34 [==============================] - 0s 2ms/step - loss: 6197.9277 - mae: 6197.9277\n",
            "Epoch 67/200\n",
            "34/34 [==============================] - 0s 2ms/step - loss: 6185.4023 - mae: 6185.4023\n",
            "Epoch 68/200\n",
            "34/34 [==============================] - 0s 2ms/step - loss: 6164.0596 - mae: 6164.0596\n",
            "Epoch 69/200\n",
            "34/34 [==============================] - 0s 2ms/step - loss: 6148.5278 - mae: 6148.5278\n",
            "Epoch 70/200\n",
            "34/34 [==============================] - 0s 2ms/step - loss: 6128.9487 - mae: 6128.9487\n",
            "Epoch 71/200\n",
            "34/34 [==============================] - 0s 2ms/step - loss: 6109.7676 - mae: 6109.7676\n",
            "Epoch 72/200\n",
            "34/34 [==============================] - 0s 2ms/step - loss: 6092.6411 - mae: 6092.6411\n",
            "Epoch 73/200\n",
            "34/34 [==============================] - 0s 2ms/step - loss: 6077.8428 - mae: 6077.8428\n",
            "Epoch 74/200\n",
            "34/34 [==============================] - 0s 2ms/step - loss: 6051.8711 - mae: 6051.8711\n",
            "Epoch 75/200\n",
            "34/34 [==============================] - 0s 2ms/step - loss: 6031.4019 - mae: 6031.4019\n",
            "Epoch 76/200\n",
            "34/34 [==============================] - 0s 2ms/step - loss: 6017.6860 - mae: 6017.6860\n",
            "Epoch 77/200\n",
            "34/34 [==============================] - 0s 2ms/step - loss: 5986.2485 - mae: 5986.2485\n",
            "Epoch 78/200\n",
            "34/34 [==============================] - 0s 2ms/step - loss: 5964.8506 - mae: 5964.8506\n",
            "Epoch 79/200\n",
            "34/34 [==============================] - 0s 2ms/step - loss: 5941.9399 - mae: 5941.9399\n",
            "Epoch 80/200\n",
            "34/34 [==============================] - 0s 2ms/step - loss: 5915.9331 - mae: 5915.9331\n",
            "Epoch 81/200\n",
            "34/34 [==============================] - 0s 2ms/step - loss: 5891.1997 - mae: 5891.1997\n",
            "Epoch 82/200\n",
            "34/34 [==============================] - 0s 2ms/step - loss: 5864.6890 - mae: 5864.6890\n",
            "Epoch 83/200\n",
            "34/34 [==============================] - 0s 2ms/step - loss: 5837.6450 - mae: 5837.6450\n",
            "Epoch 84/200\n",
            "34/34 [==============================] - 0s 2ms/step - loss: 5805.9551 - mae: 5805.9551\n",
            "Epoch 85/200\n",
            "34/34 [==============================] - 0s 2ms/step - loss: 5780.5635 - mae: 5780.5635\n",
            "Epoch 86/200\n",
            "34/34 [==============================] - 0s 2ms/step - loss: 5747.8892 - mae: 5747.8892\n",
            "Epoch 87/200\n",
            "34/34 [==============================] - 0s 2ms/step - loss: 5714.2700 - mae: 5714.2700\n",
            "Epoch 88/200\n",
            "34/34 [==============================] - 0s 2ms/step - loss: 5682.7705 - mae: 5682.7705\n",
            "Epoch 89/200\n",
            "34/34 [==============================] - 0s 2ms/step - loss: 5644.5049 - mae: 5644.5049\n",
            "Epoch 90/200\n",
            "34/34 [==============================] - 0s 2ms/step - loss: 5606.3042 - mae: 5606.3042\n",
            "Epoch 91/200\n",
            "34/34 [==============================] - 0s 2ms/step - loss: 5574.9297 - mae: 5574.9297\n",
            "Epoch 92/200\n",
            "34/34 [==============================] - 0s 2ms/step - loss: 5526.4639 - mae: 5526.4639\n",
            "Epoch 93/200\n",
            "34/34 [==============================] - 0s 2ms/step - loss: 5488.4028 - mae: 5488.4028\n",
            "Epoch 94/200\n",
            "34/34 [==============================] - 0s 2ms/step - loss: 5447.9028 - mae: 5447.9028\n",
            "Epoch 95/200\n",
            "34/34 [==============================] - 0s 2ms/step - loss: 5396.6372 - mae: 5396.6372\n",
            "Epoch 96/200\n",
            "34/34 [==============================] - 0s 2ms/step - loss: 5355.7012 - mae: 5355.7012\n",
            "Epoch 97/200\n",
            "34/34 [==============================] - 0s 2ms/step - loss: 5305.6387 - mae: 5305.6387\n",
            "Epoch 98/200\n",
            "34/34 [==============================] - 0s 2ms/step - loss: 5247.5049 - mae: 5247.5049\n",
            "Epoch 99/200\n",
            "34/34 [==============================] - 0s 3ms/step - loss: 5192.3169 - mae: 5192.3169\n",
            "Epoch 100/200\n",
            "34/34 [==============================] - 0s 2ms/step - loss: 5137.7261 - mae: 5137.7261\n",
            "Epoch 101/200\n",
            "34/34 [==============================] - 0s 2ms/step - loss: 5073.0610 - mae: 5073.0610\n",
            "Epoch 102/200\n",
            "34/34 [==============================] - 0s 2ms/step - loss: 5009.7549 - mae: 5009.7549\n",
            "Epoch 103/200\n",
            "34/34 [==============================] - 0s 2ms/step - loss: 4947.3735 - mae: 4947.3735\n",
            "Epoch 104/200\n",
            "34/34 [==============================] - 0s 2ms/step - loss: 4873.6357 - mae: 4873.6357\n",
            "Epoch 105/200\n",
            "34/34 [==============================] - 0s 2ms/step - loss: 4796.5410 - mae: 4796.5410\n",
            "Epoch 106/200\n",
            "34/34 [==============================] - 0s 2ms/step - loss: 4718.7539 - mae: 4718.7539\n",
            "Epoch 107/200\n",
            "34/34 [==============================] - 0s 2ms/step - loss: 4639.1660 - mae: 4639.1660\n",
            "Epoch 108/200\n",
            "34/34 [==============================] - 0s 2ms/step - loss: 4554.3750 - mae: 4554.3750\n",
            "Epoch 109/200\n",
            "34/34 [==============================] - 0s 2ms/step - loss: 4467.5537 - mae: 4467.5537\n",
            "Epoch 110/200\n",
            "34/34 [==============================] - 0s 2ms/step - loss: 4382.8242 - mae: 4382.8242\n",
            "Epoch 111/200\n",
            "34/34 [==============================] - 0s 2ms/step - loss: 4300.0884 - mae: 4300.0884\n",
            "Epoch 112/200\n",
            "34/34 [==============================] - 0s 2ms/step - loss: 4224.9512 - mae: 4224.9512\n",
            "Epoch 113/200\n",
            "34/34 [==============================] - 0s 3ms/step - loss: 4147.2798 - mae: 4147.2798\n",
            "Epoch 114/200\n",
            "34/34 [==============================] - 0s 2ms/step - loss: 4073.9280 - mae: 4073.9280\n",
            "Epoch 115/200\n",
            "34/34 [==============================] - 0s 2ms/step - loss: 4008.8884 - mae: 4008.8884\n",
            "Epoch 116/200\n",
            "34/34 [==============================] - 0s 2ms/step - loss: 3965.3835 - mae: 3965.3835\n",
            "Epoch 117/200\n",
            "34/34 [==============================] - 0s 2ms/step - loss: 3947.7275 - mae: 3947.7275\n",
            "Epoch 118/200\n",
            "34/34 [==============================] - 0s 2ms/step - loss: 3915.1814 - mae: 3915.1814\n",
            "Epoch 119/200\n",
            "34/34 [==============================] - 0s 2ms/step - loss: 3882.7454 - mae: 3882.7454\n",
            "Epoch 120/200\n",
            "34/34 [==============================] - 0s 2ms/step - loss: 3858.4968 - mae: 3858.4968\n",
            "Epoch 121/200\n",
            "34/34 [==============================] - 0s 2ms/step - loss: 3849.6189 - mae: 3849.6189\n",
            "Epoch 122/200\n",
            "34/34 [==============================] - 0s 2ms/step - loss: 3839.3000 - mae: 3839.3000\n",
            "Epoch 123/200\n",
            "34/34 [==============================] - 0s 2ms/step - loss: 3833.2502 - mae: 3833.2502\n",
            "Epoch 124/200\n",
            "34/34 [==============================] - 0s 2ms/step - loss: 3821.3640 - mae: 3821.3640\n",
            "Epoch 125/200\n",
            "34/34 [==============================] - 0s 2ms/step - loss: 3807.7556 - mae: 3807.7556\n",
            "Epoch 126/200\n",
            "34/34 [==============================] - 0s 2ms/step - loss: 3819.3191 - mae: 3819.3191\n",
            "Epoch 127/200\n",
            "34/34 [==============================] - 0s 2ms/step - loss: 3807.9507 - mae: 3807.9507\n",
            "Epoch 128/200\n",
            "34/34 [==============================] - 0s 2ms/step - loss: 3801.3079 - mae: 3801.3079\n",
            "Epoch 129/200\n",
            "34/34 [==============================] - 0s 2ms/step - loss: 3806.8938 - mae: 3806.8938\n",
            "Epoch 130/200\n",
            "34/34 [==============================] - 0s 2ms/step - loss: 3794.2427 - mae: 3794.2427\n",
            "Epoch 131/200\n",
            "34/34 [==============================] - 0s 2ms/step - loss: 3788.7749 - mae: 3788.7749\n",
            "Epoch 132/200\n",
            "34/34 [==============================] - 0s 2ms/step - loss: 3782.5327 - mae: 3782.5327\n",
            "Epoch 133/200\n",
            "34/34 [==============================] - 0s 2ms/step - loss: 3777.1006 - mae: 3777.1006\n",
            "Epoch 134/200\n",
            "34/34 [==============================] - 0s 2ms/step - loss: 3776.5129 - mae: 3776.5129\n",
            "Epoch 135/200\n",
            "34/34 [==============================] - 0s 4ms/step - loss: 3773.1440 - mae: 3773.1440\n",
            "Epoch 136/200\n",
            "34/34 [==============================] - 0s 4ms/step - loss: 3772.4873 - mae: 3772.4873\n",
            "Epoch 137/200\n",
            "34/34 [==============================] - 0s 3ms/step - loss: 3782.4014 - mae: 3782.4014\n",
            "Epoch 138/200\n",
            "34/34 [==============================] - 0s 3ms/step - loss: 3785.8276 - mae: 3785.8276\n",
            "Epoch 139/200\n",
            "34/34 [==============================] - 0s 3ms/step - loss: 3767.4583 - mae: 3767.4583\n",
            "Epoch 140/200\n",
            "34/34 [==============================] - 0s 3ms/step - loss: 3768.3220 - mae: 3768.3220\n",
            "Epoch 141/200\n",
            "34/34 [==============================] - 0s 4ms/step - loss: 3769.1802 - mae: 3769.1802\n",
            "Epoch 142/200\n",
            "34/34 [==============================] - 0s 3ms/step - loss: 3768.0171 - mae: 3768.0171\n",
            "Epoch 143/200\n",
            "34/34 [==============================] - 0s 3ms/step - loss: 3760.1389 - mae: 3760.1389\n",
            "Epoch 144/200\n",
            "34/34 [==============================] - 0s 3ms/step - loss: 3755.8730 - mae: 3755.8730\n",
            "Epoch 145/200\n",
            "34/34 [==============================] - 0s 4ms/step - loss: 3756.0276 - mae: 3756.0276\n",
            "Epoch 146/200\n",
            "34/34 [==============================] - 0s 3ms/step - loss: 3760.4863 - mae: 3760.4863\n",
            "Epoch 147/200\n",
            "34/34 [==============================] - 0s 3ms/step - loss: 3757.5583 - mae: 3757.5583\n",
            "Epoch 148/200\n",
            "34/34 [==============================] - 0s 3ms/step - loss: 3761.5342 - mae: 3761.5342\n",
            "Epoch 149/200\n",
            "34/34 [==============================] - 0s 3ms/step - loss: 3748.8635 - mae: 3748.8635\n",
            "Epoch 150/200\n",
            "34/34 [==============================] - 0s 3ms/step - loss: 3743.8757 - mae: 3743.8757\n",
            "Epoch 151/200\n",
            "34/34 [==============================] - 0s 3ms/step - loss: 3748.1484 - mae: 3748.1484\n",
            "Epoch 152/200\n",
            "34/34 [==============================] - 0s 3ms/step - loss: 3748.7302 - mae: 3748.7302\n",
            "Epoch 153/200\n",
            "34/34 [==============================] - 0s 3ms/step - loss: 3747.5186 - mae: 3747.5186\n",
            "Epoch 154/200\n",
            "34/34 [==============================] - 0s 5ms/step - loss: 3742.5803 - mae: 3742.5803\n",
            "Epoch 155/200\n",
            "34/34 [==============================] - 0s 4ms/step - loss: 3745.0830 - mae: 3745.0830\n",
            "Epoch 156/200\n",
            "34/34 [==============================] - 0s 3ms/step - loss: 3740.2566 - mae: 3740.2566\n",
            "Epoch 157/200\n",
            "34/34 [==============================] - 0s 3ms/step - loss: 3739.8330 - mae: 3739.8330\n",
            "Epoch 158/200\n",
            "34/34 [==============================] - 0s 3ms/step - loss: 3734.5427 - mae: 3734.5427\n",
            "Epoch 159/200\n",
            "34/34 [==============================] - 0s 3ms/step - loss: 3731.9114 - mae: 3731.9114\n",
            "Epoch 160/200\n",
            "34/34 [==============================] - 0s 3ms/step - loss: 3738.7769 - mae: 3738.7769\n",
            "Epoch 161/200\n",
            "34/34 [==============================] - 0s 3ms/step - loss: 3734.1501 - mae: 3734.1501\n",
            "Epoch 162/200\n",
            "34/34 [==============================] - 0s 3ms/step - loss: 3728.7939 - mae: 3728.7939\n",
            "Epoch 163/200\n",
            "34/34 [==============================] - 0s 4ms/step - loss: 3727.9011 - mae: 3727.9011\n",
            "Epoch 164/200\n",
            "34/34 [==============================] - 0s 3ms/step - loss: 3731.6809 - mae: 3731.6809\n",
            "Epoch 165/200\n",
            "34/34 [==============================] - 0s 4ms/step - loss: 3721.5945 - mae: 3721.5945\n",
            "Epoch 166/200\n",
            "34/34 [==============================] - 0s 3ms/step - loss: 3725.3665 - mae: 3725.3665\n",
            "Epoch 167/200\n",
            "34/34 [==============================] - 0s 3ms/step - loss: 3726.2478 - mae: 3726.2478\n",
            "Epoch 168/200\n",
            "34/34 [==============================] - 0s 3ms/step - loss: 3720.0222 - mae: 3720.0222\n",
            "Epoch 169/200\n",
            "34/34 [==============================] - 0s 3ms/step - loss: 3718.4846 - mae: 3718.4846\n",
            "Epoch 170/200\n",
            "34/34 [==============================] - 0s 4ms/step - loss: 3713.6340 - mae: 3713.6340\n",
            "Epoch 171/200\n",
            "34/34 [==============================] - 0s 4ms/step - loss: 3713.2939 - mae: 3713.2939\n",
            "Epoch 172/200\n",
            "34/34 [==============================] - 0s 3ms/step - loss: 3714.8394 - mae: 3714.8394\n",
            "Epoch 173/200\n",
            "34/34 [==============================] - 0s 4ms/step - loss: 3710.9500 - mae: 3710.9500\n",
            "Epoch 174/200\n",
            "34/34 [==============================] - 0s 4ms/step - loss: 3715.1133 - mae: 3715.1133\n",
            "Epoch 175/200\n",
            "34/34 [==============================] - 0s 3ms/step - loss: 3714.3132 - mae: 3714.3132\n",
            "Epoch 176/200\n",
            "34/34 [==============================] - 0s 3ms/step - loss: 3711.4966 - mae: 3711.4966\n",
            "Epoch 177/200\n",
            "34/34 [==============================] - 0s 4ms/step - loss: 3706.2205 - mae: 3706.2205\n",
            "Epoch 178/200\n",
            "34/34 [==============================] - 0s 3ms/step - loss: 3702.4487 - mae: 3702.4487\n",
            "Epoch 179/200\n",
            "34/34 [==============================] - 0s 4ms/step - loss: 3712.3916 - mae: 3712.3916\n",
            "Epoch 180/200\n",
            "34/34 [==============================] - 0s 4ms/step - loss: 3717.3906 - mae: 3717.3906\n",
            "Epoch 181/200\n",
            "34/34 [==============================] - 0s 4ms/step - loss: 3703.1465 - mae: 3703.1465\n",
            "Epoch 182/200\n",
            "34/34 [==============================] - 0s 4ms/step - loss: 3700.0151 - mae: 3700.0151\n",
            "Epoch 183/200\n",
            "34/34 [==============================] - 0s 4ms/step - loss: 3697.2805 - mae: 3697.2805\n",
            "Epoch 184/200\n",
            "34/34 [==============================] - 0s 4ms/step - loss: 3705.1714 - mae: 3705.1714\n",
            "Epoch 185/200\n",
            "34/34 [==============================] - 0s 3ms/step - loss: 3699.1223 - mae: 3699.1223\n",
            "Epoch 186/200\n",
            "34/34 [==============================] - 0s 3ms/step - loss: 3700.6958 - mae: 3700.6958\n",
            "Epoch 187/200\n",
            "34/34 [==============================] - 0s 3ms/step - loss: 3694.8276 - mae: 3694.8276\n",
            "Epoch 188/200\n",
            "34/34 [==============================] - 0s 3ms/step - loss: 3699.9980 - mae: 3699.9980\n",
            "Epoch 189/200\n",
            "34/34 [==============================] - 0s 4ms/step - loss: 3691.2251 - mae: 3691.2251\n",
            "Epoch 190/200\n",
            "34/34 [==============================] - 0s 3ms/step - loss: 3688.4897 - mae: 3688.4897\n",
            "Epoch 191/200\n",
            "34/34 [==============================] - 0s 3ms/step - loss: 3704.0535 - mae: 3704.0535\n",
            "Epoch 192/200\n",
            "34/34 [==============================] - 0s 4ms/step - loss: 3691.3914 - mae: 3691.3914\n",
            "Epoch 193/200\n",
            "34/34 [==============================] - 0s 3ms/step - loss: 3681.0200 - mae: 3681.0200\n",
            "Epoch 194/200\n",
            "34/34 [==============================] - 0s 4ms/step - loss: 3681.4434 - mae: 3681.4434\n",
            "Epoch 195/200\n",
            "34/34 [==============================] - 0s 3ms/step - loss: 3679.4653 - mae: 3679.4653\n",
            "Epoch 196/200\n",
            "34/34 [==============================] - 0s 4ms/step - loss: 3686.9502 - mae: 3686.9502\n",
            "Epoch 197/200\n",
            "34/34 [==============================] - 0s 4ms/step - loss: 3672.6499 - mae: 3672.6499\n",
            "Epoch 198/200\n",
            "34/34 [==============================] - 0s 3ms/step - loss: 3678.9255 - mae: 3678.9255\n",
            "Epoch 199/200\n",
            "34/34 [==============================] - 0s 3ms/step - loss: 3686.2410 - mae: 3686.2410\n",
            "Epoch 200/200\n",
            "34/34 [==============================] - 0s 2ms/step - loss: 3671.5752 - mae: 3671.5752\n"
          ]
        }
      ]
    },
    {
      "cell_type": "code",
      "source": [
        "# evaluate our third model\n",
        "insurence_model_3.evaluate(x_test, y_test)"
      ],
      "metadata": {
        "colab": {
          "base_uri": "https://localhost:8080/"
        },
        "id": "HYTrdjEfkgNG",
        "outputId": "f2629d90-8c0a-4af0-84b4-4300c48c3542"
      },
      "execution_count": 83,
      "outputs": [
        {
          "output_type": "stream",
          "name": "stdout",
          "text": [
            "9/9 [==============================] - 0s 2ms/step - loss: 3502.3416 - mae: 3502.3416\n"
          ]
        },
        {
          "output_type": "execute_result",
          "data": {
            "text/plain": [
              "[3502.341552734375, 3502.341552734375]"
            ]
          },
          "metadata": {},
          "execution_count": 83
        }
      ]
    },
    {
      "cell_type": "code",
      "source": [
        "# plot history (also known as a loss curve or a training curve)\n",
        "pd.DataFrame(history.history).plot()\n",
        "plt.ylabel('loss')\n",
        "plt.xlabel('epochs')"
      ],
      "metadata": {
        "colab": {
          "base_uri": "https://localhost:8080/",
          "height": 466
        },
        "id": "7vnF23tzk7ov",
        "outputId": "54f78efc-0c5a-4307-ac1b-ba41b297b89e"
      },
      "execution_count": 84,
      "outputs": [
        {
          "output_type": "execute_result",
          "data": {
            "text/plain": [
              "Text(0.5, 0, 'epochs')"
            ]
          },
          "metadata": {},
          "execution_count": 84
        },
        {
          "output_type": "display_data",
          "data": {
            "text/plain": [
              "<Figure size 640x480 with 1 Axes>"
            ],
            "image/png": "[encoded data removed]"
          },
          "metadata": {}
        }
      ]
    },
    {
      "cell_type": "markdown",
      "source": [
        "**Question:** How long should we train our model?\n",
        "\n",
        "It depends on the problem we are working on. However, many people have asked this question before.....so tensorflow has a solution! It's called the [**Early Stopping Callback**](https://www.tensorflow.org/api_docs/python/tf/keras/callbacks/EarlyStopping), Which is a tensorflow component we can add to our model to stop training once it stops improving a certain metric."
      ],
      "metadata": {
        "id": "QidH9x1Ll5SC"
      }
    },
    {
      "cell_type": "markdown",
      "source": [
        "# Preprocessing Data (Normalization and Standardization)\n",
        "\n",
        "In terms of scalling values, neural networks tend to prefer **Normalization**. But, we can try both and see which one performs better."
      ],
      "metadata": {
        "id": "xT4zfaIBneAm"
      }
    },
    {
      "cell_type": "code",
      "source": [
        "import pandas as pd\n",
        "import matplotlib.pyplot as plt\n",
        "import tensorflow as tf\n",
        "\n",
        "# reading the insurence dataset\n",
        "dataset = pd.read_csv('https://raw.githubusercontent.com/stedy/Machine-Learning-with-R-datasets/master/insurance.csv')\n",
        "dataset.head()"
      ],
      "metadata": {
        "colab": {
          "base_uri": "https://localhost:8080/",
          "height": 206
        },
        "id": "D4AHwVnyql1U",
        "outputId": "40bbdc69-9ed9-4617-8443-c42bfd793fd1"
      },
      "execution_count": 85,
      "outputs": [
        {
          "output_type": "execute_result",
          "data": {
            "text/plain": [
              "   age     sex     bmi  children smoker     region      charges\n",
              "0   19  female  27.900         0    yes  southwest  16884.92400\n",
              "1   18    male  33.770         1     no  southeast   1725.55230\n",
              "2   28    male  33.000         3     no  southeast   4449.46200\n",
              "3   33    male  22.705         0     no  northwest  21984.47061\n",
              "4   32    male  28.880         0     no  northwest   3866.85520"
            ],
            "text/html": [
              "\n",
              "\n",
              "  <div id=\"df-c8f05407-92a5-44df-a906-9d416b2a951a\">\n",
              "    <div class=\"colab-df-container\">\n",
              "      <div>\n",
              "<style scoped>\n",
              "    .dataframe tbody tr th:only-of-type {\n",
              "        vertical-align: middle;\n",
              "    }\n",
              "\n",
              "    .dataframe tbody tr th {\n",
              "        vertical-align: top;\n",
              "    }\n",
              "\n",
              "    .dataframe thead th {\n",
              "        text-align: right;\n",
              "    }\n",
              "</style>\n",
              "<table border=\"1\" class=\"dataframe\">\n",
              "  <thead>\n",
              "    <tr style=\"text-align: right;\">\n",
              "      <th></th>\n",
              "      <th>age</th>\n",
              "      <th>sex</th>\n",
              "      <th>bmi</th>\n",
              "      <th>children</th>\n",
              "      <th>smoker</th>\n",
              "      <th>region</th>\n",
              "      <th>charges</th>\n",
              "    </tr>\n",
              "  </thead>\n",
              "  <tbody>\n",
              "    <tr>\n",
              "      <th>0</th>\n",
              "      <td>19</td>\n",
              "      <td>female</td>\n",
              "      <td>27.900</td>\n",
              "      <td>0</td>\n",
              "      <td>yes</td>\n",
              "      <td>southwest</td>\n",
              "      <td>16884.92400</td>\n",
              "    </tr>\n",
              "    <tr>\n",
              "      <th>1</th>\n",
              "      <td>18</td>\n",
              "      <td>male</td>\n",
              "      <td>33.770</td>\n",
              "      <td>1</td>\n",
              "      <td>no</td>\n",
              "      <td>southeast</td>\n",
              "      <td>1725.55230</td>\n",
              "    </tr>\n",
              "    <tr>\n",
              "      <th>2</th>\n",
              "      <td>28</td>\n",
              "      <td>male</td>\n",
              "      <td>33.000</td>\n",
              "      <td>3</td>\n",
              "      <td>no</td>\n",
              "      <td>southeast</td>\n",
              "      <td>4449.46200</td>\n",
              "    </tr>\n",
              "    <tr>\n",
              "      <th>3</th>\n",
              "      <td>33</td>\n",
              "      <td>male</td>\n",
              "      <td>22.705</td>\n",
              "      <td>0</td>\n",
              "      <td>no</td>\n",
              "      <td>northwest</td>\n",
              "      <td>21984.47061</td>\n",
              "    </tr>\n",
              "    <tr>\n",
              "      <th>4</th>\n",
              "      <td>32</td>\n",
              "      <td>male</td>\n",
              "      <td>28.880</td>\n",
              "      <td>0</td>\n",
              "      <td>no</td>\n",
              "      <td>northwest</td>\n",
              "      <td>3866.85520</td>\n",
              "    </tr>\n",
              "  </tbody>\n",
              "</table>\n",
              "</div>\n",
              "      <button class=\"colab-df-convert\" onclick=\"convertToInteractive('df-c8f05407-92a5-44df-a906-9d416b2a951a')\"\n",
              "              title=\"Convert this dataframe to an interactive table.\"\n",
              "              style=\"display:none;\">\n",
              "\n",
              "  <svg xmlns=\"http://www.w3.org/2000/svg\" height=\"24px\"viewBox=\"0 0 24 24\"\n",
              "       width=\"24px\">\n",
              "    <path d=\"M0 0h24v24H0V0z\" fill=\"none\"/>\n",
              "    <path d=\"M18.56 5.44l.94 2.06.94-2.06 2.06-.94-2.06-.94-.94-2.06-.94 2.06-2.06.94zm-11 1L8.5 8.5l.94-2.06 2.06-.94-2.06-.94L8.5 2.5l-.94 2.06-2.06.94zm10 10l.94 2.06.94-2.06 2.06-.94-2.06-.94-.94-2.06-.94 2.06-2.06.94z\"/><path d=\"M17.41 7.96l-1.37-1.37c-.4-.4-.92-.59-1.43-.59-.52 0-1.04.2-1.43.59L10.3 9.45l-7.72 7.72c-.78.78-.78 2.05 0 2.83L4 21.41c.39.39.9.59 1.41.59.51 0 1.02-.2 1.41-.59l7.78-7.78 2.81-2.81c.8-.78.8-2.07 0-2.86zM5.41 20L4 18.59l7.72-7.72 1.47 1.35L5.41 20z\"/>\n",
              "  </svg>\n",
              "      </button>\n",
              "\n",
              "\n",
              "\n",
              "    <div id=\"df-0e34ece2-23e8-470e-8119-6d5084d562f8\">\n",
              "      <button class=\"colab-df-quickchart\" onclick=\"quickchart('df-0e34ece2-23e8-470e-8119-6d5084d562f8')\"\n",
              "              title=\"Suggest charts.\"\n",
              "              style=\"display:none;\">\n",
              "\n",
              "<svg xmlns=\"http://www.w3.org/2000/svg\" height=\"24px\"viewBox=\"0 0 24 24\"\n",
              "     width=\"24px\">\n",
              "    <g>\n",
              "        <path d=\"M19 3H5c-1.1 0-2 .9-2 2v14c0 1.1.9 2 2 2h14c1.1 0 2-.9 2-2V5c0-1.1-.9-2-2-2zM9 17H7v-7h2v7zm4 0h-2V7h2v10zm4 0h-2v-4h2v4z\"/>\n",
              "    </g>\n",
              "</svg>\n",
              "      </button>\n",
              "    </div>\n",
              "\n",
              "<style>\n",
              "  .colab-df-quickchart {\n",
              "    background-color: #E8F0FE;\n",
              "    border: none;\n",
              "    border-radius: 50%;\n",
              "    cursor: pointer;\n",
              "    display: none;\n",
              "    fill: #1967D2;\n",
              "    height: 32px;\n",
              "    padding: 0 0 0 0;\n",
              "    width: 32px;\n",
              "  }\n",
              "\n",
              "  .colab-df-quickchart:hover {\n",
              "    background-color: #E2EBFA;\n",
              "    box-shadow: 0px 1px 2px rgba(60, 64, 67, 0.3), 0px 1px 3px 1px rgba(60, 64, 67, 0.15);\n",
              "    fill: #174EA6;\n",
              "  }\n",
              "\n",
              "  [theme=dark] .colab-df-quickchart {\n",
              "    background-color: #3B4455;\n",
              "    fill: #D2E3FC;\n",
              "  }\n",
              "\n",
              "  [theme=dark] .colab-df-quickchart:hover {\n",
              "    background-color: #434B5C;\n",
              "    box-shadow: 0px 1px 3px 1px rgba(0, 0, 0, 0.15);\n",
              "    filter: drop-shadow(0px 1px 2px rgba(0, 0, 0, 0.3));\n",
              "    fill: #FFFFFF;\n",
              "  }\n",
              "</style>\n",
              "\n",
              "    <script>\n",
              "      async function quickchart(key) {\n",
              "        const containerElement = document.querySelector('#' + key);\n",
              "        const charts = await google.colab.kernel.invokeFunction(\n",
              "            'suggestCharts', [key], {});\n",
              "      }\n",
              "    </script>\n",
              "\n",
              "      <script>\n",
              "\n",
              "function displayQuickchartButton(domScope) {\n",
              "  let quickchartButtonEl =\n",
              "    domScope.querySelector('#df-0e34ece2-23e8-470e-8119-6d5084d562f8 button.colab-df-quickchart');\n",
              "  quickchartButtonEl.style.display =\n",
              "    google.colab.kernel.accessAllowed ? 'block' : 'none';\n",
              "}\n",
              "\n",
              "        displayQuickchartButton(document);\n",
              "      </script>\n",
              "      <style>\n",
              "    .colab-df-container {\n",
              "      display:flex;\n",
              "      flex-wrap:wrap;\n",
              "      gap: 12px;\n",
              "    }\n",
              "\n",
              "    .colab-df-convert {\n",
              "      background-color: #E8F0FE;\n",
              "      border: none;\n",
              "      border-radius: 50%;\n",
              "      cursor: pointer;\n",
              "      display: none;\n",
              "      fill: #1967D2;\n",
              "      height: 32px;\n",
              "      padding: 0 0 0 0;\n",
              "      width: 32px;\n",
              "    }\n",
              "\n",
              "    .colab-df-convert:hover {\n",
              "      background-color: #E2EBFA;\n",
              "      box-shadow: 0px 1px 2px rgba(60, 64, 67, 0.3), 0px 1px 3px 1px rgba(60, 64, 67, 0.15);\n",
              "      fill: #174EA6;\n",
              "    }\n",
              "\n",
              "    [theme=dark] .colab-df-convert {\n",
              "      background-color: #3B4455;\n",
              "      fill: #D2E3FC;\n",
              "    }\n",
              "\n",
              "    [theme=dark] .colab-df-convert:hover {\n",
              "      background-color: #434B5C;\n",
              "      box-shadow: 0px 1px 3px 1px rgba(0, 0, 0, 0.15);\n",
              "      filter: drop-shadow(0px 1px 2px rgba(0, 0, 0, 0.3));\n",
              "      fill: #FFFFFF;\n",
              "    }\n",
              "  </style>\n",
              "\n",
              "      <script>\n",
              "        const buttonEl =\n",
              "          document.querySelector('#df-c8f05407-92a5-44df-a906-9d416b2a951a button.colab-df-convert');\n",
              "        buttonEl.style.display =\n",
              "          google.colab.kernel.accessAllowed ? 'block' : 'none';\n",
              "\n",
              "        async function convertToInteractive(key) {\n",
              "          const element = document.querySelector('#df-c8f05407-92a5-44df-a906-9d416b2a951a');\n",
              "          const dataTable =\n",
              "            await google.colab.kernel.invokeFunction('convertToInteractive',\n",
              "                                                     [key], {});\n",
              "          if (!dataTable) return;\n",
              "\n",
              "          const docLinkHtml = 'Like what you see? Visit the ' +\n",
              "            '<a target=\"_blank\" href=https://colab.research.google.com/notebooks/data_table.ipynb>data table notebook</a>'\n",
              "            + ' to learn more about interactive tables.';\n",
              "          element.innerHTML = '';\n",
              "          dataTable['output_type'] = 'display_data';\n",
              "          await google.colab.output.renderOutput(dataTable, element);\n",
              "          const docLink = document.createElement('div');\n",
              "          docLink.innerHTML = docLinkHtml;\n",
              "          element.appendChild(docLink);\n",
              "        }\n",
              "      </script>\n",
              "    </div>\n",
              "  </div>\n"
            ]
          },
          "metadata": {},
          "execution_count": 85
        }
      ]
    },
    {
      "cell_type": "code",
      "source": [
        "dataset['age'].plot(kind='hist')"
      ],
      "metadata": {
        "colab": {
          "base_uri": "https://localhost:8080/",
          "height": 447
        },
        "id": "nq4PYD3zo_TG",
        "outputId": "35c3c08f-1904-416b-b72b-f158ab9e9530"
      },
      "execution_count": 86,
      "outputs": [
        {
          "output_type": "execute_result",
          "data": {
            "text/plain": [
              "<Axes: ylabel='Frequency'>"
            ]
          },
          "metadata": {},
          "execution_count": 86
        },
        {
          "output_type": "display_data",
          "data": {
            "text/plain": [
              "<Figure size 640x480 with 1 Axes>"
            ],
            "image/png": "[encoded data removed]"
          },
          "metadata": {}
        }
      ]
    },
    {
      "cell_type": "code",
      "source": [
        "dataset['bmi'].plot(kind='hist')"
      ],
      "metadata": {
        "colab": {
          "base_uri": "https://localhost:8080/",
          "height": 447
        },
        "id": "LERBQdyCpGBX",
        "outputId": "0ca8953d-33fb-4444-a66b-a0058060fdd1"
      },
      "execution_count": 87,
      "outputs": [
        {
          "output_type": "execute_result",
          "data": {
            "text/plain": [
              "<Axes: ylabel='Frequency'>"
            ]
          },
          "metadata": {},
          "execution_count": 87
        },
        {
          "output_type": "display_data",
          "data": {
            "text/plain": [
              "<Figure size 640x480 with 1 Axes>"
            ],
            "image/png": "[encoded data removed]"
          },
          "metadata": {}
        }
      ]
    },
    {
      "cell_type": "code",
      "source": [
        "(dataset['children'].value_counts()).plot(kind='bar')"
      ],
      "metadata": {
        "colab": {
          "base_uri": "https://localhost:8080/",
          "height": 446
        },
        "id": "HTYyUpLDpYU2",
        "outputId": "4e2247ca-2768-4f0a-af68-0bc6f78deb75"
      },
      "execution_count": 88,
      "outputs": [
        {
          "output_type": "execute_result",
          "data": {
            "text/plain": [
              "<Axes: >"
            ]
          },
          "metadata": {},
          "execution_count": 88
        },
        {
          "output_type": "display_data",
          "data": {
            "text/plain": [
              "<Figure size 640x480 with 1 Axes>"
            ],
            "image/png": "[encoded data removed]"
          },
          "metadata": {}
        }
      ]
    },
    {
      "cell_type": "code",
      "source": [
        "from sklearn.compose import make_column_transformer\n",
        "from sklearn.preprocessing import MinMaxScaler, OneHotEncoder\n",
        "from sklearn.model_selection import train_test_split"
      ],
      "metadata": {
        "id": "KhcG67ZT1NeC"
      },
      "execution_count": 90,
      "outputs": []
    },
    {
      "cell_type": "code",
      "source": [
        "# create a column transformer\n",
        "ct = make_column_transformer((MinMaxScaler(), ['age', 'bmi', 'children']),\n",
        "                             (OneHotEncoder(handle_unknown='ignore'), ['sex', 'smoker', 'region']))\n",
        "\n",
        "# creating x and y values\n",
        "x = dataset.drop('charges', axis=1)\n",
        "y = dataset['charges']\n",
        "\n",
        "# creating train and test set\n",
        "x_train, x_test, y_train, y_test = train_test_split(x, y, test_size=0.2, random_state=42)\n",
        "\n",
        "# fit the column transformer to our training data\n",
        "ct.fit(x_train)\n",
        "\n",
        "# transform training and test data with normalization (MinMaxScaler) and OneHotEncoder\n",
        "x_train_normal = ct.transform(x_train)\n",
        "x_test_normal = ct.transform(x_test)"
      ],
      "metadata": {
        "id": "25prPwPs1Zy1"
      },
      "execution_count": 91,
      "outputs": []
    },
    {
      "cell_type": "code",
      "source": [
        "# what does our data looks like now?\n",
        "x_train.loc[0]"
      ],
      "metadata": {
        "colab": {
          "base_uri": "https://localhost:8080/"
        },
        "id": "xaJtYPo23v1D",
        "outputId": "afc1b943-ece0-4448-e0b2-b146cb1f020e"
      },
      "execution_count": 92,
      "outputs": [
        {
          "output_type": "execute_result",
          "data": {
            "text/plain": [
              "age                19\n",
              "sex            female\n",
              "bmi              27.9\n",
              "children            0\n",
              "smoker            yes\n",
              "region      southwest\n",
              "Name: 0, dtype: object"
            ]
          },
          "metadata": {},
          "execution_count": 92
        }
      ]
    },
    {
      "cell_type": "code",
      "source": [
        "x_train_normal[0]"
      ],
      "metadata": {
        "colab": {
          "base_uri": "https://localhost:8080/"
        },
        "id": "OMbhmPkA38Bp",
        "outputId": "15889d77-aec0-413c-88d5-01dac7d0c1e4"
      },
      "execution_count": 94,
      "outputs": [
        {
          "output_type": "execute_result",
          "data": {
            "text/plain": [
              "array([0.60869565, 0.10734463, 0.4       , 1.        , 0.        ,\n",
              "       1.        , 0.        , 0.        , 1.        , 0.        ,\n",
              "       0.        ])"
            ]
          },
          "metadata": {},
          "execution_count": 94
        }
      ]
    },
    {
      "cell_type": "code",
      "source": [
        "x_train.shape, x_train_normal.shape"
      ],
      "metadata": {
        "colab": {
          "base_uri": "https://localhost:8080/"
        },
        "id": "5DO8Xxm74UvL",
        "outputId": "e9a617bc-054d-483e-add6-8a6606ee3270"
      },
      "execution_count": 95,
      "outputs": [
        {
          "output_type": "execute_result",
          "data": {
            "text/plain": [
              "((1070, 6), (1070, 11))"
            ]
          },
          "metadata": {},
          "execution_count": 95
        }
      ]
    },
    {
      "cell_type": "markdown",
      "source": [
        "### Building a Neural Network to train"
      ],
      "metadata": {
        "id": "b1Zpau764je4"
      }
    },
    {
      "cell_type": "code",
      "source": [
        "tf.random.set_seed(42)\n",
        "\n",
        "# create the model\n",
        "insurence_model_4 = tf.keras.Sequential([\n",
        "    tf.keras.layers.Dense(100),\n",
        "    tf.keras.layers.Dense(10),\n",
        "    tf.keras.layers.Dense(1)\n",
        "])\n",
        "\n",
        "# compile the model\n",
        "insurence_model_4.compile(loss=tf.losses.mae,\n",
        "                                    optimizer=tf.optimizers.Adam(),\n",
        "                                    metrics=['mae'])\n",
        "\n",
        "# fit the model\n",
        "history = insurence_model_4.fit(x_train_normal, y_train, epochs=100)"
      ],
      "metadata": {
        "colab": {
          "base_uri": "https://localhost:8080/"
        },
        "id": "TshSoWqr4ikx",
        "outputId": "8e07b546-a492-4443-9a5a-52ef8ed8c20c"
      },
      "execution_count": 96,
      "outputs": [
        {
          "output_type": "stream",
          "name": "stdout",
          "text": [
            "Epoch 1/100\n",
            "34/34 [==============================] - 1s 3ms/step - loss: 13343.3008 - mae: 13343.3008\n",
            "Epoch 2/100\n",
            "34/34 [==============================] - 0s 2ms/step - loss: 13333.7676 - mae: 13333.7676\n",
            "Epoch 3/100\n",
            "34/34 [==============================] - 0s 2ms/step - loss: 13310.8252 - mae: 13310.8252\n",
            "Epoch 4/100\n",
            "34/34 [==============================] - 0s 2ms/step - loss: 13263.7236 - mae: 13263.7236\n",
            "Epoch 5/100\n",
            "34/34 [==============================] - 0s 2ms/step - loss: 13181.4766 - mae: 13181.4766\n",
            "Epoch 6/100\n",
            "34/34 [==============================] - 0s 2ms/step - loss: 13053.2930 - mae: 13053.2930\n",
            "Epoch 7/100\n",
            "34/34 [==============================] - 0s 3ms/step - loss: 12868.8643 - mae: 12868.8643\n",
            "Epoch 8/100\n",
            "34/34 [==============================] - 0s 2ms/step - loss: 12618.0527 - mae: 12618.0527\n",
            "Epoch 9/100\n",
            "34/34 [==============================] - 0s 2ms/step - loss: 12290.7197 - mae: 12290.7197\n",
            "Epoch 10/100\n",
            "34/34 [==============================] - 0s 2ms/step - loss: 11884.2285 - mae: 11884.2285\n",
            "Epoch 11/100\n",
            "34/34 [==============================] - 0s 2ms/step - loss: 11409.7695 - mae: 11409.7695\n",
            "Epoch 12/100\n",
            "34/34 [==============================] - 0s 2ms/step - loss: 10904.8096 - mae: 10904.8096\n",
            "Epoch 13/100\n",
            "34/34 [==============================] - 0s 2ms/step - loss: 10405.0254 - mae: 10405.0254\n",
            "Epoch 14/100\n",
            "34/34 [==============================] - 0s 2ms/step - loss: 9913.9609 - mae: 9913.9609\n",
            "Epoch 15/100\n",
            "34/34 [==============================] - 0s 2ms/step - loss: 9449.4238 - mae: 9449.4238\n",
            "Epoch 16/100\n",
            "34/34 [==============================] - 0s 2ms/step - loss: 9037.5234 - mae: 9037.5234\n",
            "Epoch 17/100\n",
            "34/34 [==============================] - 0s 2ms/step - loss: 8698.6689 - mae: 8698.6689\n",
            "Epoch 18/100\n",
            "34/34 [==============================] - 0s 3ms/step - loss: 8422.7559 - mae: 8422.7559\n",
            "Epoch 19/100\n",
            "34/34 [==============================] - 0s 2ms/step - loss: 8215.8154 - mae: 8215.8154\n",
            "Epoch 20/100\n",
            "34/34 [==============================] - 0s 2ms/step - loss: 8072.3027 - mae: 8072.3027\n",
            "Epoch 21/100\n",
            "34/34 [==============================] - 0s 2ms/step - loss: 7967.0869 - mae: 7967.0869\n",
            "Epoch 22/100\n",
            "34/34 [==============================] - 0s 2ms/step - loss: 7893.7588 - mae: 7893.7588\n",
            "Epoch 23/100\n",
            "34/34 [==============================] - 0s 3ms/step - loss: 7835.7803 - mae: 7835.7803\n",
            "Epoch 24/100\n",
            "34/34 [==============================] - 0s 2ms/step - loss: 7783.4902 - mae: 7783.4902\n",
            "Epoch 25/100\n",
            "34/34 [==============================] - 0s 2ms/step - loss: 7744.7300 - mae: 7744.7300\n",
            "Epoch 26/100\n",
            "34/34 [==============================] - 0s 3ms/step - loss: 7693.0513 - mae: 7693.0513\n",
            "Epoch 27/100\n",
            "34/34 [==============================] - 0s 2ms/step - loss: 7650.5898 - mae: 7650.5898\n",
            "Epoch 28/100\n",
            "34/34 [==============================] - 0s 2ms/step - loss: 7607.6387 - mae: 7607.6387\n",
            "Epoch 29/100\n",
            "34/34 [==============================] - 0s 2ms/step - loss: 7564.3672 - mae: 7564.3672\n",
            "Epoch 30/100\n",
            "34/34 [==============================] - 0s 3ms/step - loss: 7520.4287 - mae: 7520.4287\n",
            "Epoch 31/100\n",
            "34/34 [==============================] - 0s 3ms/step - loss: 7476.0459 - mae: 7476.0459\n",
            "Epoch 32/100\n",
            "34/34 [==============================] - 0s 3ms/step - loss: 7431.3447 - mae: 7431.3447\n",
            "Epoch 33/100\n",
            "34/34 [==============================] - 0s 2ms/step - loss: 7386.4233 - mae: 7386.4233\n",
            "Epoch 34/100\n",
            "34/34 [==============================] - 0s 2ms/step - loss: 7337.4512 - mae: 7337.4512\n",
            "Epoch 35/100\n",
            "34/34 [==============================] - 0s 2ms/step - loss: 7290.0093 - mae: 7290.0093\n",
            "Epoch 36/100\n",
            "34/34 [==============================] - 0s 2ms/step - loss: 7239.1909 - mae: 7239.1909\n",
            "Epoch 37/100\n",
            "34/34 [==============================] - 0s 2ms/step - loss: 7188.1245 - mae: 7188.1245\n",
            "Epoch 38/100\n",
            "34/34 [==============================] - 0s 2ms/step - loss: 7136.4170 - mae: 7136.4170\n",
            "Epoch 39/100\n",
            "34/34 [==============================] - 0s 2ms/step - loss: 7080.8931 - mae: 7080.8931\n",
            "Epoch 40/100\n",
            "34/34 [==============================] - 0s 2ms/step - loss: 7024.6431 - mae: 7024.6431\n",
            "Epoch 41/100\n",
            "34/34 [==============================] - 0s 2ms/step - loss: 6967.2886 - mae: 6967.2886\n",
            "Epoch 42/100\n",
            "34/34 [==============================] - 0s 3ms/step - loss: 6907.2261 - mae: 6907.2261\n",
            "Epoch 43/100\n",
            "34/34 [==============================] - 0s 3ms/step - loss: 6843.3857 - mae: 6843.3857\n",
            "Epoch 44/100\n",
            "34/34 [==============================] - 0s 2ms/step - loss: 6776.0049 - mae: 6776.0049\n",
            "Epoch 45/100\n",
            "34/34 [==============================] - 0s 2ms/step - loss: 6707.6211 - mae: 6707.6211\n",
            "Epoch 46/100\n",
            "34/34 [==============================] - 0s 2ms/step - loss: 6637.3110 - mae: 6637.3110\n",
            "Epoch 47/100\n",
            "34/34 [==============================] - 0s 2ms/step - loss: 6564.4341 - mae: 6564.4341\n",
            "Epoch 48/100\n",
            "34/34 [==============================] - 0s 2ms/step - loss: 6484.0479 - mae: 6484.0479\n",
            "Epoch 49/100\n",
            "34/34 [==============================] - 0s 2ms/step - loss: 6403.4331 - mae: 6403.4331\n",
            "Epoch 50/100\n",
            "34/34 [==============================] - 0s 2ms/step - loss: 6316.0664 - mae: 6316.0664\n",
            "Epoch 51/100\n",
            "34/34 [==============================] - 0s 2ms/step - loss: 6230.0493 - mae: 6230.0493\n",
            "Epoch 52/100\n",
            "34/34 [==============================] - 0s 2ms/step - loss: 6134.9580 - mae: 6134.9580\n",
            "Epoch 53/100\n",
            "34/34 [==============================] - 0s 2ms/step - loss: 6037.0972 - mae: 6037.0972\n",
            "Epoch 54/100\n",
            "34/34 [==============================] - 0s 2ms/step - loss: 5936.3076 - mae: 5936.3076\n",
            "Epoch 55/100\n",
            "34/34 [==============================] - 0s 3ms/step - loss: 5826.7485 - mae: 5826.7485\n",
            "Epoch 56/100\n",
            "34/34 [==============================] - 0s 2ms/step - loss: 5716.2422 - mae: 5716.2422\n",
            "Epoch 57/100\n",
            "34/34 [==============================] - 0s 2ms/step - loss: 5598.7676 - mae: 5598.7676\n",
            "Epoch 58/100\n",
            "34/34 [==============================] - 0s 2ms/step - loss: 5481.3047 - mae: 5481.3047\n",
            "Epoch 59/100\n",
            "34/34 [==============================] - 0s 2ms/step - loss: 5360.6880 - mae: 5360.6880\n",
            "Epoch 60/100\n",
            "34/34 [==============================] - 0s 2ms/step - loss: 5235.8877 - mae: 5235.8877\n",
            "Epoch 61/100\n",
            "34/34 [==============================] - 0s 2ms/step - loss: 5109.0093 - mae: 5109.0093\n",
            "Epoch 62/100\n",
            "34/34 [==============================] - 0s 2ms/step - loss: 4977.2158 - mae: 4977.2158\n",
            "Epoch 63/100\n",
            "34/34 [==============================] - 0s 2ms/step - loss: 4848.7837 - mae: 4848.7837\n",
            "Epoch 64/100\n",
            "34/34 [==============================] - 0s 3ms/step - loss: 4716.8037 - mae: 4716.8037\n",
            "Epoch 65/100\n",
            "34/34 [==============================] - 0s 2ms/step - loss: 4591.7476 - mae: 4591.7476\n",
            "Epoch 66/100\n",
            "34/34 [==============================] - 0s 2ms/step - loss: 4472.3271 - mae: 4472.3271\n",
            "Epoch 67/100\n",
            "34/34 [==============================] - 0s 2ms/step - loss: 4366.9712 - mae: 4366.9712\n",
            "Epoch 68/100\n",
            "34/34 [==============================] - 0s 2ms/step - loss: 4262.1841 - mae: 4262.1841\n",
            "Epoch 69/100\n",
            "34/34 [==============================] - 0s 2ms/step - loss: 4164.0493 - mae: 4164.0493\n",
            "Epoch 70/100\n",
            "34/34 [==============================] - 0s 2ms/step - loss: 4074.2664 - mae: 4074.2664\n",
            "Epoch 71/100\n",
            "34/34 [==============================] - 0s 2ms/step - loss: 3991.7388 - mae: 3991.7388\n",
            "Epoch 72/100\n",
            "34/34 [==============================] - 0s 2ms/step - loss: 3920.0244 - mae: 3920.0244\n",
            "Epoch 73/100\n",
            "34/34 [==============================] - 0s 2ms/step - loss: 3860.2156 - mae: 3860.2156\n",
            "Epoch 74/100\n",
            "34/34 [==============================] - 0s 2ms/step - loss: 3808.6689 - mae: 3808.6689\n",
            "Epoch 75/100\n",
            "34/34 [==============================] - 0s 2ms/step - loss: 3770.1331 - mae: 3770.1331\n",
            "Epoch 76/100\n",
            "34/34 [==============================] - 0s 3ms/step - loss: 3741.7361 - mae: 3741.7361\n",
            "Epoch 77/100\n",
            "34/34 [==============================] - 0s 2ms/step - loss: 3717.6582 - mae: 3717.6582\n",
            "Epoch 78/100\n",
            "34/34 [==============================] - 0s 2ms/step - loss: 3701.5757 - mae: 3701.5757\n",
            "Epoch 79/100\n",
            "34/34 [==============================] - 0s 3ms/step - loss: 3690.0786 - mae: 3690.0786\n",
            "Epoch 80/100\n",
            "34/34 [==============================] - 0s 2ms/step - loss: 3681.1506 - mae: 3681.1506\n",
            "Epoch 81/100\n",
            "34/34 [==============================] - 0s 2ms/step - loss: 3674.8958 - mae: 3674.8958\n",
            "Epoch 82/100\n",
            "34/34 [==============================] - 0s 2ms/step - loss: 3671.6765 - mae: 3671.6765\n",
            "Epoch 83/100\n",
            "34/34 [==============================] - 0s 2ms/step - loss: 3665.6748 - mae: 3665.6748\n",
            "Epoch 84/100\n",
            "34/34 [==============================] - 0s 2ms/step - loss: 3663.0896 - mae: 3663.0896\n",
            "Epoch 85/100\n",
            "34/34 [==============================] - 0s 2ms/step - loss: 3660.7690 - mae: 3660.7690\n",
            "Epoch 86/100\n",
            "34/34 [==============================] - 0s 2ms/step - loss: 3658.8076 - mae: 3658.8076\n",
            "Epoch 87/100\n",
            "34/34 [==============================] - 0s 2ms/step - loss: 3656.0569 - mae: 3656.0569\n",
            "Epoch 88/100\n",
            "34/34 [==============================] - 0s 2ms/step - loss: 3653.6116 - mae: 3653.6116\n",
            "Epoch 89/100\n",
            "34/34 [==============================] - 0s 2ms/step - loss: 3651.8455 - mae: 3651.8455\n",
            "Epoch 90/100\n",
            "34/34 [==============================] - 0s 2ms/step - loss: 3650.5437 - mae: 3650.5437\n",
            "Epoch 91/100\n",
            "34/34 [==============================] - 0s 2ms/step - loss: 3647.2776 - mae: 3647.2776\n",
            "Epoch 92/100\n",
            "34/34 [==============================] - 0s 2ms/step - loss: 3646.6040 - mae: 3646.6040\n",
            "Epoch 93/100\n",
            "34/34 [==============================] - 0s 2ms/step - loss: 3644.3577 - mae: 3644.3577\n",
            "Epoch 94/100\n",
            "34/34 [==============================] - 0s 3ms/step - loss: 3642.6147 - mae: 3642.6147\n",
            "Epoch 95/100\n",
            "34/34 [==============================] - 0s 3ms/step - loss: 3643.6755 - mae: 3643.6755\n",
            "Epoch 96/100\n",
            "34/34 [==============================] - 0s 3ms/step - loss: 3640.3738 - mae: 3640.3738\n",
            "Epoch 97/100\n",
            "34/34 [==============================] - 0s 3ms/step - loss: 3638.1648 - mae: 3638.1648\n",
            "Epoch 98/100\n",
            "34/34 [==============================] - 0s 3ms/step - loss: 3636.0352 - mae: 3636.0352\n",
            "Epoch 99/100\n",
            "34/34 [==============================] - 0s 3ms/step - loss: 3635.2336 - mae: 3635.2336\n",
            "Epoch 100/100\n",
            "34/34 [==============================] - 0s 3ms/step - loss: 3633.7437 - mae: 3633.7437\n"
          ]
        }
      ]
    },
    {
      "cell_type": "code",
      "source": [
        "# ploting the train curve\n",
        "pd.DataFrame(history.history).plot()\n",
        "plt.xlabel('epochs')\n",
        "plt.ylabel('losses')"
      ],
      "metadata": {
        "colab": {
          "base_uri": "https://localhost:8080/",
          "height": 466
        },
        "id": "hMwNoOPV6ENg",
        "outputId": "15408063-a14a-43c5-b62d-1b6e705fe447"
      },
      "execution_count": 99,
      "outputs": [
        {
          "output_type": "execute_result",
          "data": {
            "text/plain": [
              "Text(0, 0.5, 'losses')"
            ]
          },
          "metadata": {},
          "execution_count": 99
        },
        {
          "output_type": "display_data",
          "data": {
            "text/plain": [
              "<Figure size 640x480 with 1 Axes>"
            ],
            "image/png": "[encoded data removed]"
          },
          "metadata": {}
        }
      ]
    },
    {
      "cell_type": "code",
      "source": [
        "# evaluate our insurence model trained on normalized data\n",
        "insurence_model_4.evaluate(x_test_normal, y_test)"
      ],
      "metadata": {
        "colab": {
          "base_uri": "https://localhost:8080/"
        },
        "id": "KwxKtZD46iuR",
        "outputId": "4880d21d-d0d6-459c-cc56-01804ede33f8"
      },
      "execution_count": 100,
      "outputs": [
        {
          "output_type": "stream",
          "name": "stdout",
          "text": [
            "9/9 [==============================] - 0s 3ms/step - loss: 3436.3159 - mae: 3436.3159\n"
          ]
        },
        {
          "output_type": "execute_result",
          "data": {
            "text/plain": [
              "[3436.31591796875, 3436.31591796875]"
            ]
          },
          "metadata": {},
          "execution_count": 100
        }
      ]
    },
    {
      "cell_type": "markdown",
      "source": [
        ">We can see that scaling the dataset columns makes the loss significantly less then insurence model 2."
      ],
      "metadata": {
        "id": "rYA1ty-47L4M"
      }
    }
  ]
}