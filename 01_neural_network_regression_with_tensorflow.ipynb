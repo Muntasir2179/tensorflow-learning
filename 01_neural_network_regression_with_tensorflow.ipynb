{
  "nbformat": 4,
  "nbformat_minor": 0,
  "metadata": {
    "colab": {
      "provenance": [],
      "toc_visible": true,
      "authorship_tag": "ABX9TyNP4St04JCElf6L3tfAohGF",
      "include_colab_link": true
    },
    "kernelspec": {
      "name": "python3",
      "display_name": "Python 3"
    },
    "language_info": {
      "name": "python"
    },
    "accelerator": "TPU"
  },
  "cells": [
    {
      "cell_type": "markdown",
      "metadata": {
        "id": "view-in-github",
        "colab_type": "text"
      },
      "source": [
        "<a href=\"https://colab.research.google.com/github/Muntasir2179/tensorflow-learning/blob/neural-network-regression/01_neural_network_regression_with_tensorflow.ipynb\" target=\"_parent\"><img src=\"https://colab.research.google.com/assets/colab-badge.svg\" alt=\"Open In Colab\"/></a>"
      ]
    },
    {
      "cell_type": "markdown",
      "source": [
        "## Introduction to Regression with Neural Networks in TensorFlow\n",
        "\n",
        "There are difinitions for a regression problem but in our case, we're going to simplify it: predicting a neumerical variable based on some other combination of variables, evem shorter...predicting a number."
      ],
      "metadata": {
        "id": "h7a0PkNKJryq"
      }
    },
    {
      "cell_type": "code",
      "execution_count": 1,
      "metadata": {
        "colab": {
          "base_uri": "https://localhost:8080/"
        },
        "id": "pV8ZUA1GJVU6",
        "outputId": "07b4c29b-346d-4b33-cb54-e40e0ef289c6"
      },
      "outputs": [
        {
          "output_type": "stream",
          "name": "stdout",
          "text": [
            "2.12.0\n"
          ]
        }
      ],
      "source": [
        "# Import TensorFLow\n",
        "import tensorflow as tf\n",
        "print(tf.__version__)"
      ]
    },
    {
      "cell_type": "markdown",
      "source": [
        "## Creating data to view and fit"
      ],
      "metadata": {
        "id": "CCsPlLOUKupp"
      }
    },
    {
      "cell_type": "code",
      "source": [
        "import numpy as np\n",
        "import matplotlib.pyplot as plt\n",
        "\n",
        "# create features\n",
        "X = np.array([-7.0, -4.0, -1.0, 2.0, 5.0, 8.0, 11.0, 14.0])\n",
        "\n",
        "# create labels\n",
        "y = np.array([3.0, 6.0, 9.0, 12.0, 15.0, 18.0, 21.0, 24.0])"
      ],
      "metadata": {
        "id": "qT-lBKLNK1va"
      },
      "execution_count": 2,
      "outputs": []
    },
    {
      "cell_type": "code",
      "source": [
        "plt.scatter(X, y)"
      ],
      "metadata": {
        "colab": {
          "base_uri": "https://localhost:8080/",
          "height": 452
        },
        "id": "R3WV9iARL1Wf",
        "outputId": "1274bfb1-a678-4488-e05f-4682a656b7d8"
      },
      "execution_count": 3,
      "outputs": [
        {
          "output_type": "execute_result",
          "data": {
            "text/plain": [
              "<matplotlib.collections.PathCollection at 0x7cc86a3f8550>"
            ]
          },
          "metadata": {},
          "execution_count": 3
        },
        {
          "output_type": "display_data",
          "data": {
            "text/plain": [
              "<Figure size 640x480 with 1 Axes>"
            ],
            "image/png": "[encoded data removed]"
          },
          "metadata": {}
        }
      ]
    },
    {
      "cell_type": "code",
      "source": [
        "y == X + 10"
      ],
      "metadata": {
        "colab": {
          "base_uri": "https://localhost:8080/"
        },
        "id": "l65zPDBlMNWp",
        "outputId": "d9dd9260-9c61-4271-ffbe-98604f667693"
      },
      "execution_count": 4,
      "outputs": [
        {
          "output_type": "execute_result",
          "data": {
            "text/plain": [
              "array([ True,  True,  True,  True,  True,  True,  True,  True])"
            ]
          },
          "metadata": {},
          "execution_count": 4
        }
      ]
    },
    {
      "cell_type": "markdown",
      "source": [
        "## Input and Output shapes"
      ],
      "metadata": {
        "id": "MPtbLXzSMSEU"
      }
    },
    {
      "cell_type": "code",
      "source": [
        "# let's create a demo tensor for our housing price prediction problem\n",
        "house_info = tf.constant(['bedroom', 'bathroom', 'garage'])\n",
        "house_price = tf.constant([939700])\n",
        "house_info, house_price"
      ],
      "metadata": {
        "colab": {
          "base_uri": "https://localhost:8080/"
        },
        "id": "NuKAFxExMasI",
        "outputId": "ef21f985-f575-4ffb-85bd-c80ebcb6a5a5"
      },
      "execution_count": 5,
      "outputs": [
        {
          "output_type": "execute_result",
          "data": {
            "text/plain": [
              "(<tf.Tensor: shape=(3,), dtype=string, numpy=array([b'bedroom', b'bathroom', b'garage'], dtype=object)>,\n",
              " <tf.Tensor: shape=(1,), dtype=int32, numpy=array([939700], dtype=int32)>)"
            ]
          },
          "metadata": {},
          "execution_count": 5
        }
      ]
    },
    {
      "cell_type": "code",
      "source": [
        "input_shape = X[0].shape\n",
        "output_shape = y[0].shape\n",
        "input_shape, output_shape"
      ],
      "metadata": {
        "colab": {
          "base_uri": "https://localhost:8080/"
        },
        "id": "oKW8OkUGODj5",
        "outputId": "fcb240d8-464a-4115-cb2c-e2c1086e977a"
      },
      "execution_count": 6,
      "outputs": [
        {
          "output_type": "execute_result",
          "data": {
            "text/plain": [
              "((), ())"
            ]
          },
          "metadata": {},
          "execution_count": 6
        }
      ]
    },
    {
      "cell_type": "code",
      "source": [
        "X = np.reshape(X, (-1, 1))\n",
        "X"
      ],
      "metadata": {
        "colab": {
          "base_uri": "https://localhost:8080/"
        },
        "id": "aLXB2NLRugPK",
        "outputId": "81dc5b65-2333-4f20-bf0c-47ceff4ee4c6"
      },
      "execution_count": 7,
      "outputs": [
        {
          "output_type": "execute_result",
          "data": {
            "text/plain": [
              "array([[-7.],\n",
              "       [-4.],\n",
              "       [-1.],\n",
              "       [ 2.],\n",
              "       [ 5.],\n",
              "       [ 8.],\n",
              "       [11.],\n",
              "       [14.]])"
            ]
          },
          "metadata": {},
          "execution_count": 7
        }
      ]
    },
    {
      "cell_type": "code",
      "source": [
        "# turn our NumPy array into tensor\n",
        "X = tf.constant(X)\n",
        "y = tf.constant(y)\n",
        "X, y"
      ],
      "metadata": {
        "colab": {
          "base_uri": "https://localhost:8080/"
        },
        "id": "Evael_plOTFP",
        "outputId": "39591688-e086-4d45-a2c5-e38b6f647955"
      },
      "execution_count": 8,
      "outputs": [
        {
          "output_type": "execute_result",
          "data": {
            "text/plain": [
              "(<tf.Tensor: shape=(8, 1), dtype=float64, numpy=\n",
              " array([[-7.],\n",
              "        [-4.],\n",
              "        [-1.],\n",
              "        [ 2.],\n",
              "        [ 5.],\n",
              "        [ 8.],\n",
              "        [11.],\n",
              "        [14.]])>,\n",
              " <tf.Tensor: shape=(8,), dtype=float64, numpy=array([ 3.,  6.,  9., 12., 15., 18., 21., 24.])>)"
            ]
          },
          "metadata": {},
          "execution_count": 8
        }
      ]
    },
    {
      "cell_type": "markdown",
      "source": [
        "## Steps in modelling with TensorFlow\n",
        "\n",
        "1. Creting a model - define the input and output layers, as well as the hidden layers of a deep learning model.\n",
        "2. Compiling a model - define the loss function (in other words, the function which tells our model how wrong it is) and the optimizer (tells our model how to improve the patterns its learning) and evaluation matrics (what we can use to interpret the performance of our model).\n",
        "3. Fitting a model - letting the model try to find patterns between X & y (features and labels)."
      ],
      "metadata": {
        "id": "cQY0Dqt9Oz_n"
      }
    },
    {
      "cell_type": "code",
      "source": [
        "tf.random.set_seed(42)"
      ],
      "metadata": {
        "id": "Bu7aA2UuP4gv"
      },
      "execution_count": 9,
      "outputs": []
    },
    {
      "cell_type": "code",
      "source": [
        "# create a model using the Sequential API\n",
        "model = tf.keras.Sequential([\n",
        "    tf.keras.layers.Dense(1),\n",
        "])\n",
        "\n",
        "# compile the model\n",
        "model.compile(loss=tf.keras.losses.mae,\n",
        "              optimizer=tf.keras.optimizers.SGD(),\n",
        "              metrics=['mae'])\n",
        "\n",
        "# fit the model\n",
        "model.fit(X, y, epochs=5)"
      ],
      "metadata": {
        "colab": {
          "base_uri": "https://localhost:8080/"
        },
        "id": "w80oQ9R8TZTm",
        "outputId": "3813223a-9104-4f1e-eee9-8e111864a0fa"
      },
      "execution_count": 10,
      "outputs": [
        {
          "output_type": "stream",
          "name": "stdout",
          "text": [
            "Epoch 1/5\n",
            "1/1 [==============================] - 1s 1s/step - loss: 19.7131 - mae: 19.7131\n",
            "Epoch 2/5\n",
            "1/1 [==============================] - 0s 15ms/step - loss: 19.4318 - mae: 19.4318\n",
            "Epoch 3/5\n",
            "1/1 [==============================] - 0s 12ms/step - loss: 19.1506 - mae: 19.1506\n",
            "Epoch 4/5\n",
            "1/1 [==============================] - 0s 13ms/step - loss: 18.8693 - mae: 18.8693\n",
            "Epoch 5/5\n",
            "1/1 [==============================] - 0s 11ms/step - loss: 18.5881 - mae: 18.5881\n"
          ]
        },
        {
          "output_type": "execute_result",
          "data": {
            "text/plain": [
              "<keras.callbacks.History at 0x7cc8652456f0>"
            ]
          },
          "metadata": {},
          "execution_count": 10
        }
      ]
    },
    {
      "cell_type": "markdown",
      "source": [
        "## Getting prediction form the model"
      ],
      "metadata": {
        "id": "6n3WCfFhxBCF"
      }
    },
    {
      "cell_type": "code",
      "source": [
        "model.predict([17.0])"
      ],
      "metadata": {
        "colab": {
          "base_uri": "https://localhost:8080/"
        },
        "id": "NFc3BWTAxD6h",
        "outputId": "3e5db5ff-fe29-4ee3-cc29-7d500475dc0b"
      },
      "execution_count": 11,
      "outputs": [
        {
          "output_type": "stream",
          "name": "stdout",
          "text": [
            "1/1 [==============================] - 0s 254ms/step\n"
          ]
        },
        {
          "output_type": "execute_result",
          "data": {
            "text/plain": [
              "array([[-18.047163]], dtype=float32)"
            ]
          },
          "metadata": {},
          "execution_count": 11
        }
      ]
    },
    {
      "cell_type": "markdown",
      "source": [
        "## Improving the model\n",
        "\n",
        "We can improve our model, by altering the steps we took to create a model.\n",
        "\n",
        "1. **Creating a model** - Here we might add more layers, increases the number of hidden units (all called neurons) within each of the hidden layers, change the activation function of each layer.\n",
        "2. **Compiling model** - Here we might change the optimization function or perhaps the learning rate of the optimization function.\n",
        "3. **Fitting the model** - Here we might fit a model for more epochs (leave ot training for longer) or on more data (give the model more examples to learn from)."
      ],
      "metadata": {
        "id": "qQ9xswcEzluR"
      }
    },
    {
      "cell_type": "markdown",
      "source": [
        "### Increasing number of epochs"
      ],
      "metadata": {
        "id": "yiFieMWO5d9x"
      }
    },
    {
      "cell_type": "code",
      "source": [
        "# lets recreate the model\n",
        "# Increasing the number of epochs\n",
        "model = tf.keras.Sequential([\n",
        "    tf.keras.layers.Dense(1),\n",
        "])\n",
        "\n",
        "# compile the model\n",
        "model.compile(loss=tf.keras.losses.mae,\n",
        "              optimizer=tf.keras.optimizers.SGD(),\n",
        "              metrics=['mae'])\n",
        "\n",
        "# fit the model\n",
        "model.fit(X, y, epochs=100)"
      ],
      "metadata": {
        "colab": {
          "base_uri": "https://localhost:8080/"
        },
        "id": "62_EcQzRzlQz",
        "outputId": "51ce67dd-864d-4c4f-b431-c7e3f7469b70"
      },
      "execution_count": 12,
      "outputs": [
        {
          "output_type": "stream",
          "name": "stdout",
          "text": [
            "Epoch 1/100\n",
            "1/1 [==============================] - 1s 1s/step - loss: 19.2033 - mae: 19.2033\n",
            "Epoch 2/100\n",
            "1/1 [==============================] - 0s 26ms/step - loss: 18.9220 - mae: 18.9220\n",
            "Epoch 3/100\n",
            "1/1 [==============================] - 0s 21ms/step - loss: 18.6408 - mae: 18.6408\n",
            "Epoch 4/100\n",
            "1/1 [==============================] - 0s 20ms/step - loss: 18.3595 - mae: 18.3595\n",
            "Epoch 5/100\n",
            "1/1 [==============================] - 0s 17ms/step - loss: 18.0783 - mae: 18.0783\n",
            "Epoch 6/100\n",
            "1/1 [==============================] - 0s 19ms/step - loss: 17.7970 - mae: 17.7970\n",
            "Epoch 7/100\n",
            "1/1 [==============================] - 0s 15ms/step - loss: 17.5158 - mae: 17.5158\n",
            "Epoch 8/100\n",
            "1/1 [==============================] - 0s 15ms/step - loss: 17.2345 - mae: 17.2345\n",
            "Epoch 9/100\n",
            "1/1 [==============================] - 0s 56ms/step - loss: 16.9533 - mae: 16.9533\n",
            "Epoch 10/100\n",
            "1/1 [==============================] - 0s 28ms/step - loss: 16.6720 - mae: 16.6720\n",
            "Epoch 11/100\n",
            "1/1 [==============================] - 0s 28ms/step - loss: 16.3908 - mae: 16.3908\n",
            "Epoch 12/100\n",
            "1/1 [==============================] - 0s 44ms/step - loss: 16.1095 - mae: 16.1095\n",
            "Epoch 13/100\n",
            "1/1 [==============================] - 0s 33ms/step - loss: 15.8283 - mae: 15.8283\n",
            "Epoch 14/100\n",
            "1/1 [==============================] - 0s 22ms/step - loss: 15.5470 - mae: 15.5470\n",
            "Epoch 15/100\n",
            "1/1 [==============================] - 0s 36ms/step - loss: 15.2658 - mae: 15.2658\n",
            "Epoch 16/100\n",
            "1/1 [==============================] - 0s 39ms/step - loss: 14.9845 - mae: 14.9845\n",
            "Epoch 17/100\n",
            "1/1 [==============================] - 0s 31ms/step - loss: 14.7422 - mae: 14.7422\n",
            "Epoch 18/100\n",
            "1/1 [==============================] - 0s 22ms/step - loss: 14.6097 - mae: 14.6097\n",
            "Epoch 19/100\n",
            "1/1 [==============================] - 0s 22ms/step - loss: 14.4772 - mae: 14.4772\n",
            "Epoch 20/100\n",
            "1/1 [==============================] - 0s 35ms/step - loss: 14.3447 - mae: 14.3447\n",
            "Epoch 21/100\n",
            "1/1 [==============================] - 0s 23ms/step - loss: 14.2122 - mae: 14.2122\n",
            "Epoch 22/100\n",
            "1/1 [==============================] - 0s 23ms/step - loss: 14.0797 - mae: 14.0797\n",
            "Epoch 23/100\n",
            "1/1 [==============================] - 0s 23ms/step - loss: 13.9472 - mae: 13.9472\n",
            "Epoch 24/100\n",
            "1/1 [==============================] - 0s 22ms/step - loss: 13.8147 - mae: 13.8147\n",
            "Epoch 25/100\n",
            "1/1 [==============================] - 0s 20ms/step - loss: 13.6822 - mae: 13.6822\n",
            "Epoch 26/100\n",
            "1/1 [==============================] - 0s 14ms/step - loss: 13.5497 - mae: 13.5497\n",
            "Epoch 27/100\n",
            "1/1 [==============================] - 0s 41ms/step - loss: 13.4172 - mae: 13.4172\n",
            "Epoch 28/100\n",
            "1/1 [==============================] - 0s 47ms/step - loss: 13.2847 - mae: 13.2847\n",
            "Epoch 29/100\n",
            "1/1 [==============================] - 0s 31ms/step - loss: 13.1522 - mae: 13.1522\n",
            "Epoch 30/100\n",
            "1/1 [==============================] - 0s 24ms/step - loss: 13.0197 - mae: 13.0197\n",
            "Epoch 31/100\n",
            "1/1 [==============================] - 0s 35ms/step - loss: 12.8872 - mae: 12.8872\n",
            "Epoch 32/100\n",
            "1/1 [==============================] - 0s 32ms/step - loss: 12.7547 - mae: 12.7547\n",
            "Epoch 33/100\n",
            "1/1 [==============================] - 0s 34ms/step - loss: 12.6222 - mae: 12.6222\n",
            "Epoch 34/100\n",
            "1/1 [==============================] - 0s 26ms/step - loss: 12.4897 - mae: 12.4897\n",
            "Epoch 35/100\n",
            "1/1 [==============================] - 0s 53ms/step - loss: 12.3572 - mae: 12.3572\n",
            "Epoch 36/100\n",
            "1/1 [==============================] - 0s 16ms/step - loss: 12.2247 - mae: 12.2247\n",
            "Epoch 37/100\n",
            "1/1 [==============================] - 0s 22ms/step - loss: 12.0922 - mae: 12.0922\n",
            "Epoch 38/100\n",
            "1/1 [==============================] - 0s 26ms/step - loss: 11.9597 - mae: 11.9597\n",
            "Epoch 39/100\n",
            "1/1 [==============================] - 0s 27ms/step - loss: 11.8272 - mae: 11.8272\n",
            "Epoch 40/100\n",
            "1/1 [==============================] - 0s 32ms/step - loss: 11.6947 - mae: 11.6947\n",
            "Epoch 41/100\n",
            "1/1 [==============================] - 0s 28ms/step - loss: 11.5622 - mae: 11.5622\n",
            "Epoch 42/100\n",
            "1/1 [==============================] - 0s 30ms/step - loss: 11.4297 - mae: 11.4297\n",
            "Epoch 43/100\n",
            "1/1 [==============================] - 0s 37ms/step - loss: 11.2972 - mae: 11.2972\n",
            "Epoch 44/100\n",
            "1/1 [==============================] - 0s 20ms/step - loss: 11.1647 - mae: 11.1647\n",
            "Epoch 45/100\n",
            "1/1 [==============================] - 0s 23ms/step - loss: 11.0322 - mae: 11.0322\n",
            "Epoch 46/100\n",
            "1/1 [==============================] - 0s 28ms/step - loss: 10.8997 - mae: 10.8997\n",
            "Epoch 47/100\n",
            "1/1 [==============================] - 0s 26ms/step - loss: 10.7672 - mae: 10.7672\n",
            "Epoch 48/100\n",
            "1/1 [==============================] - 0s 17ms/step - loss: 10.6347 - mae: 10.6347\n",
            "Epoch 49/100\n",
            "1/1 [==============================] - 0s 22ms/step - loss: 10.5022 - mae: 10.5022\n",
            "Epoch 50/100\n",
            "1/1 [==============================] - 0s 24ms/step - loss: 10.3697 - mae: 10.3697\n",
            "Epoch 51/100\n",
            "1/1 [==============================] - 0s 30ms/step - loss: 10.2372 - mae: 10.2372\n",
            "Epoch 52/100\n",
            "1/1 [==============================] - 0s 35ms/step - loss: 10.1047 - mae: 10.1047\n",
            "Epoch 53/100\n",
            "1/1 [==============================] - 0s 17ms/step - loss: 9.9722 - mae: 9.9722\n",
            "Epoch 54/100\n",
            "1/1 [==============================] - 0s 18ms/step - loss: 9.8397 - mae: 9.8397\n",
            "Epoch 55/100\n",
            "1/1 [==============================] - 0s 28ms/step - loss: 9.7072 - mae: 9.7072\n",
            "Epoch 56/100\n",
            "1/1 [==============================] - 0s 15ms/step - loss: 9.5747 - mae: 9.5747\n",
            "Epoch 57/100\n",
            "1/1 [==============================] - 0s 24ms/step - loss: 9.4422 - mae: 9.4422\n",
            "Epoch 58/100\n",
            "1/1 [==============================] - 0s 15ms/step - loss: 9.3097 - mae: 9.3097\n",
            "Epoch 59/100\n",
            "1/1 [==============================] - 0s 13ms/step - loss: 9.1772 - mae: 9.1772\n",
            "Epoch 60/100\n",
            "1/1 [==============================] - 0s 25ms/step - loss: 9.0447 - mae: 9.0447\n",
            "Epoch 61/100\n",
            "1/1 [==============================] - 0s 21ms/step - loss: 8.9122 - mae: 8.9122\n",
            "Epoch 62/100\n",
            "1/1 [==============================] - 0s 22ms/step - loss: 8.7797 - mae: 8.7797\n",
            "Epoch 63/100\n",
            "1/1 [==============================] - 0s 12ms/step - loss: 8.6472 - mae: 8.6472\n",
            "Epoch 64/100\n",
            "1/1 [==============================] - 0s 17ms/step - loss: 8.5147 - mae: 8.5147\n",
            "Epoch 65/100\n",
            "1/1 [==============================] - 0s 30ms/step - loss: 8.3822 - mae: 8.3822\n",
            "Epoch 66/100\n",
            "1/1 [==============================] - 0s 28ms/step - loss: 8.2497 - mae: 8.2497\n",
            "Epoch 67/100\n",
            "1/1 [==============================] - 0s 16ms/step - loss: 8.1172 - mae: 8.1172\n",
            "Epoch 68/100\n",
            "1/1 [==============================] - 0s 13ms/step - loss: 7.9847 - mae: 7.9847\n",
            "Epoch 69/100\n",
            "1/1 [==============================] - 0s 14ms/step - loss: 7.8522 - mae: 7.8522\n",
            "Epoch 70/100\n",
            "1/1 [==============================] - 0s 16ms/step - loss: 7.7197 - mae: 7.7197\n",
            "Epoch 71/100\n",
            "1/1 [==============================] - 0s 14ms/step - loss: 7.5872 - mae: 7.5872\n",
            "Epoch 72/100\n",
            "1/1 [==============================] - 0s 13ms/step - loss: 7.4547 - mae: 7.4547\n",
            "Epoch 73/100\n",
            "1/1 [==============================] - 0s 16ms/step - loss: 7.3222 - mae: 7.3222\n",
            "Epoch 74/100\n",
            "1/1 [==============================] - 0s 15ms/step - loss: 7.1897 - mae: 7.1897\n",
            "Epoch 75/100\n",
            "1/1 [==============================] - 0s 16ms/step - loss: 7.0572 - mae: 7.0572\n",
            "Epoch 76/100\n",
            "1/1 [==============================] - 0s 12ms/step - loss: 6.9675 - mae: 6.9675\n",
            "Epoch 77/100\n",
            "1/1 [==============================] - 0s 16ms/step - loss: 6.9619 - mae: 6.9619\n",
            "Epoch 78/100\n",
            "1/1 [==============================] - 0s 24ms/step - loss: 6.9563 - mae: 6.9563\n",
            "Epoch 79/100\n",
            "1/1 [==============================] - 0s 18ms/step - loss: 6.9506 - mae: 6.9506\n",
            "Epoch 80/100\n",
            "1/1 [==============================] - 0s 15ms/step - loss: 6.9450 - mae: 6.9450\n",
            "Epoch 81/100\n",
            "1/1 [==============================] - 0s 11ms/step - loss: 6.9394 - mae: 6.9394\n",
            "Epoch 82/100\n",
            "1/1 [==============================] - 0s 15ms/step - loss: 6.9338 - mae: 6.9338\n",
            "Epoch 83/100\n",
            "1/1 [==============================] - 0s 16ms/step - loss: 6.9281 - mae: 6.9281\n",
            "Epoch 84/100\n",
            "1/1 [==============================] - 0s 15ms/step - loss: 6.9225 - mae: 6.9225\n",
            "Epoch 85/100\n",
            "1/1 [==============================] - 0s 23ms/step - loss: 6.9169 - mae: 6.9169\n",
            "Epoch 86/100\n",
            "1/1 [==============================] - 0s 15ms/step - loss: 6.9113 - mae: 6.9113\n",
            "Epoch 87/100\n",
            "1/1 [==============================] - 0s 32ms/step - loss: 6.9056 - mae: 6.9056\n",
            "Epoch 88/100\n",
            "1/1 [==============================] - 0s 42ms/step - loss: 6.9000 - mae: 6.9000\n",
            "Epoch 89/100\n",
            "1/1 [==============================] - 0s 75ms/step - loss: 6.8944 - mae: 6.8944\n",
            "Epoch 90/100\n",
            "1/1 [==============================] - 0s 42ms/step - loss: 6.8888 - mae: 6.8888\n",
            "Epoch 91/100\n",
            "1/1 [==============================] - 0s 21ms/step - loss: 6.8831 - mae: 6.8831\n",
            "Epoch 92/100\n",
            "1/1 [==============================] - 0s 21ms/step - loss: 6.8775 - mae: 6.8775\n",
            "Epoch 93/100\n",
            "1/1 [==============================] - 0s 14ms/step - loss: 6.8719 - mae: 6.8719\n",
            "Epoch 94/100\n",
            "1/1 [==============================] - 0s 48ms/step - loss: 6.8663 - mae: 6.8663\n",
            "Epoch 95/100\n",
            "1/1 [==============================] - 0s 21ms/step - loss: 6.8606 - mae: 6.8606\n",
            "Epoch 96/100\n",
            "1/1 [==============================] - 0s 22ms/step - loss: 6.8550 - mae: 6.8550\n",
            "Epoch 97/100\n",
            "1/1 [==============================] - 0s 22ms/step - loss: 6.8494 - mae: 6.8494\n",
            "Epoch 98/100\n",
            "1/1 [==============================] - 0s 23ms/step - loss: 6.8438 - mae: 6.8438\n",
            "Epoch 99/100\n",
            "1/1 [==============================] - 0s 18ms/step - loss: 6.8381 - mae: 6.8381\n",
            "Epoch 100/100\n",
            "1/1 [==============================] - 0s 18ms/step - loss: 6.8325 - mae: 6.8325\n"
          ]
        },
        {
          "output_type": "execute_result",
          "data": {
            "text/plain": [
              "<keras.callbacks.History at 0x7cc865981b70>"
            ]
          },
          "metadata": {},
          "execution_count": 12
        }
      ]
    },
    {
      "cell_type": "code",
      "source": [
        "# remind ourselves of the data\n",
        "X, y"
      ],
      "metadata": {
        "colab": {
          "base_uri": "https://localhost:8080/"
        },
        "id": "CuiJN-b12oVJ",
        "outputId": "692c50cd-cc5d-4ab4-c0c7-b8f7511f1eb9"
      },
      "execution_count": 13,
      "outputs": [
        {
          "output_type": "execute_result",
          "data": {
            "text/plain": [
              "(<tf.Tensor: shape=(8, 1), dtype=float64, numpy=\n",
              " array([[-7.],\n",
              "        [-4.],\n",
              "        [-1.],\n",
              "        [ 2.],\n",
              "        [ 5.],\n",
              "        [ 8.],\n",
              "        [11.],\n",
              "        [14.]])>,\n",
              " <tf.Tensor: shape=(8,), dtype=float64, numpy=array([ 3.,  6.,  9., 12., 15., 18., 21., 24.])>)"
            ]
          },
          "metadata": {},
          "execution_count": 13
        }
      ]
    },
    {
      "cell_type": "code",
      "source": [
        "# let's see if our model's predictino has improved\n",
        "model.predict([17.0])"
      ],
      "metadata": {
        "colab": {
          "base_uri": "https://localhost:8080/"
        },
        "id": "4YP60zlc2vnx",
        "outputId": "2df6d5b8-f7e2-4c2b-bd6d-65f897b38d80"
      },
      "execution_count": 14,
      "outputs": [
        {
          "output_type": "stream",
          "name": "stdout",
          "text": [
            "1/1 [==============================] - 0s 280ms/step\n"
          ]
        },
        {
          "output_type": "execute_result",
          "data": {
            "text/plain": [
              "array([[29.386112]], dtype=float32)"
            ]
          },
          "metadata": {},
          "execution_count": 14
        }
      ]
    },
    {
      "cell_type": "markdown",
      "source": [
        "### Adding more hidden units with activation function"
      ],
      "metadata": {
        "id": "JJ5bRvcd5kBJ"
      }
    },
    {
      "cell_type": "code",
      "source": [
        "# redefining the model but this time we are adding more hidden units\n",
        "model = tf.keras.Sequential([\n",
        "    tf.keras.layers.Dense(50, activation=None),\n",
        "    tf.keras.layers.Dense(1)\n",
        "])\n",
        "\n",
        "# compile the model\n",
        "model.compile(loss=tf.keras.losses.mae,\n",
        "              optimizer=tf.keras.optimizers.SGD(),\n",
        "              metrics=['mae'])\n",
        "\n",
        "# fit the model\n",
        "model.fit(X, y, epochs=100)"
      ],
      "metadata": {
        "colab": {
          "base_uri": "https://localhost:8080/"
        },
        "id": "jXdf2nLI3OKy",
        "outputId": "8fc452a0-ca58-4942-c540-5e81b975706a"
      },
      "execution_count": 15,
      "outputs": [
        {
          "output_type": "stream",
          "name": "stdout",
          "text": [
            "Epoch 1/100\n",
            "1/1 [==============================] - 2s 2s/step - loss: 13.7844 - mae: 13.7844\n",
            "Epoch 2/100\n",
            "1/1 [==============================] - 0s 17ms/step - loss: 13.3494 - mae: 13.3494\n",
            "Epoch 3/100\n",
            "1/1 [==============================] - 0s 24ms/step - loss: 12.9148 - mae: 12.9148\n",
            "Epoch 4/100\n",
            "1/1 [==============================] - 0s 17ms/step - loss: 12.4783 - mae: 12.4783\n",
            "Epoch 5/100\n",
            "1/1 [==============================] - 0s 13ms/step - loss: 12.0377 - mae: 12.0377\n",
            "Epoch 6/100\n",
            "1/1 [==============================] - 0s 17ms/step - loss: 11.5906 - mae: 11.5906\n",
            "Epoch 7/100\n",
            "1/1 [==============================] - 0s 15ms/step - loss: 11.1349 - mae: 11.1349\n",
            "Epoch 8/100\n",
            "1/1 [==============================] - 0s 10ms/step - loss: 10.6682 - mae: 10.6682\n",
            "Epoch 9/100\n",
            "1/1 [==============================] - 0s 10ms/step - loss: 10.1880 - mae: 10.1880\n",
            "Epoch 10/100\n",
            "1/1 [==============================] - 0s 19ms/step - loss: 9.6919 - mae: 9.6919\n",
            "Epoch 11/100\n",
            "1/1 [==============================] - 0s 11ms/step - loss: 9.1775 - mae: 9.1775\n",
            "Epoch 12/100\n",
            "1/1 [==============================] - 0s 11ms/step - loss: 8.6420 - mae: 8.6420\n",
            "Epoch 13/100\n",
            "1/1 [==============================] - 0s 11ms/step - loss: 8.0827 - mae: 8.0827\n",
            "Epoch 14/100\n",
            "1/1 [==============================] - 0s 11ms/step - loss: 7.4969 - mae: 7.4969\n",
            "Epoch 15/100\n",
            "1/1 [==============================] - 0s 11ms/step - loss: 7.2127 - mae: 7.2127\n",
            "Epoch 16/100\n",
            "1/1 [==============================] - 0s 11ms/step - loss: 7.1950 - mae: 7.1950\n",
            "Epoch 17/100\n",
            "1/1 [==============================] - 0s 20ms/step - loss: 7.1772 - mae: 7.1772\n",
            "Epoch 18/100\n",
            "1/1 [==============================] - 0s 21ms/step - loss: 7.1594 - mae: 7.1594\n",
            "Epoch 19/100\n",
            "1/1 [==============================] - 0s 17ms/step - loss: 7.1415 - mae: 7.1415\n",
            "Epoch 20/100\n",
            "1/1 [==============================] - 0s 18ms/step - loss: 7.1236 - mae: 7.1236\n",
            "Epoch 21/100\n",
            "1/1 [==============================] - 0s 26ms/step - loss: 7.1056 - mae: 7.1056\n",
            "Epoch 22/100\n",
            "1/1 [==============================] - 0s 28ms/step - loss: 7.0876 - mae: 7.0876\n",
            "Epoch 23/100\n",
            "1/1 [==============================] - 0s 16ms/step - loss: 7.0695 - mae: 7.0695\n",
            "Epoch 24/100\n",
            "1/1 [==============================] - 0s 21ms/step - loss: 7.0513 - mae: 7.0513\n",
            "Epoch 25/100\n",
            "1/1 [==============================] - 0s 13ms/step - loss: 7.0331 - mae: 7.0331\n",
            "Epoch 26/100\n",
            "1/1 [==============================] - 0s 31ms/step - loss: 7.0148 - mae: 7.0148\n",
            "Epoch 27/100\n",
            "1/1 [==============================] - 0s 19ms/step - loss: 6.9964 - mae: 6.9964\n",
            "Epoch 28/100\n",
            "1/1 [==============================] - 0s 16ms/step - loss: 6.9780 - mae: 6.9780\n",
            "Epoch 29/100\n",
            "1/1 [==============================] - 0s 16ms/step - loss: 6.9595 - mae: 6.9595\n",
            "Epoch 30/100\n",
            "1/1 [==============================] - 0s 26ms/step - loss: 6.9409 - mae: 6.9409\n",
            "Epoch 31/100\n",
            "1/1 [==============================] - 0s 19ms/step - loss: 6.9223 - mae: 6.9223\n",
            "Epoch 32/100\n",
            "1/1 [==============================] - 0s 16ms/step - loss: 6.9035 - mae: 6.9035\n",
            "Epoch 33/100\n",
            "1/1 [==============================] - 0s 16ms/step - loss: 6.8847 - mae: 6.8847\n",
            "Epoch 34/100\n",
            "1/1 [==============================] - 0s 17ms/step - loss: 6.8657 - mae: 6.8657\n",
            "Epoch 35/100\n",
            "1/1 [==============================] - 0s 16ms/step - loss: 6.8467 - mae: 6.8467\n",
            "Epoch 36/100\n",
            "1/1 [==============================] - 0s 24ms/step - loss: 6.8276 - mae: 6.8276\n",
            "Epoch 37/100\n",
            "1/1 [==============================] - 0s 26ms/step - loss: 6.8236 - mae: 6.8236\n",
            "Epoch 38/100\n",
            "1/1 [==============================] - 0s 24ms/step - loss: 6.8051 - mae: 6.8051\n",
            "Epoch 39/100\n",
            "1/1 [==============================] - 0s 18ms/step - loss: 6.7862 - mae: 6.7862\n",
            "Epoch 40/100\n",
            "1/1 [==============================] - 0s 21ms/step - loss: 6.7673 - mae: 6.7673\n",
            "Epoch 41/100\n",
            "1/1 [==============================] - 0s 16ms/step - loss: 6.7482 - mae: 6.7482\n",
            "Epoch 42/100\n",
            "1/1 [==============================] - 0s 17ms/step - loss: 6.7291 - mae: 6.7291\n",
            "Epoch 43/100\n",
            "1/1 [==============================] - 0s 18ms/step - loss: 6.7098 - mae: 6.7098\n",
            "Epoch 44/100\n",
            "1/1 [==============================] - 0s 18ms/step - loss: 6.6904 - mae: 6.6904\n",
            "Epoch 45/100\n",
            "1/1 [==============================] - 0s 19ms/step - loss: 6.6709 - mae: 6.6709\n",
            "Epoch 46/100\n",
            "1/1 [==============================] - 0s 24ms/step - loss: 6.6512 - mae: 6.6512\n",
            "Epoch 47/100\n",
            "1/1 [==============================] - 0s 23ms/step - loss: 6.6315 - mae: 6.6315\n",
            "Epoch 48/100\n",
            "1/1 [==============================] - 0s 27ms/step - loss: 6.6116 - mae: 6.6116\n",
            "Epoch 49/100\n",
            "1/1 [==============================] - 0s 22ms/step - loss: 6.5916 - mae: 6.5916\n",
            "Epoch 50/100\n",
            "1/1 [==============================] - 0s 12ms/step - loss: 6.5714 - mae: 6.5714\n",
            "Epoch 51/100\n",
            "1/1 [==============================] - 0s 18ms/step - loss: 6.5511 - mae: 6.5511\n",
            "Epoch 52/100\n",
            "1/1 [==============================] - 0s 15ms/step - loss: 6.5306 - mae: 6.5306\n",
            "Epoch 53/100\n",
            "1/1 [==============================] - 0s 15ms/step - loss: 6.5101 - mae: 6.5101\n",
            "Epoch 54/100\n",
            "1/1 [==============================] - 0s 17ms/step - loss: 6.4893 - mae: 6.4893\n",
            "Epoch 55/100\n",
            "1/1 [==============================] - 0s 15ms/step - loss: 6.4684 - mae: 6.4684\n",
            "Epoch 56/100\n",
            "1/1 [==============================] - 0s 17ms/step - loss: 6.4474 - mae: 6.4474\n",
            "Epoch 57/100\n",
            "1/1 [==============================] - 0s 19ms/step - loss: 6.4261 - mae: 6.4261\n",
            "Epoch 58/100\n",
            "1/1 [==============================] - 0s 19ms/step - loss: 6.4198 - mae: 6.4198\n",
            "Epoch 59/100\n",
            "1/1 [==============================] - 0s 25ms/step - loss: 6.4052 - mae: 6.4052\n",
            "Epoch 60/100\n",
            "1/1 [==============================] - 0s 17ms/step - loss: 6.3840 - mae: 6.3840\n",
            "Epoch 61/100\n",
            "1/1 [==============================] - 0s 16ms/step - loss: 6.3628 - mae: 6.3628\n",
            "Epoch 62/100\n",
            "1/1 [==============================] - 0s 14ms/step - loss: 6.3413 - mae: 6.3413\n",
            "Epoch 63/100\n",
            "1/1 [==============================] - 0s 25ms/step - loss: 6.3197 - mae: 6.3197\n",
            "Epoch 64/100\n",
            "1/1 [==============================] - 0s 20ms/step - loss: 6.2979 - mae: 6.2979\n",
            "Epoch 65/100\n",
            "1/1 [==============================] - 0s 24ms/step - loss: 6.2759 - mae: 6.2759\n",
            "Epoch 66/100\n",
            "1/1 [==============================] - 0s 16ms/step - loss: 6.2537 - mae: 6.2537\n",
            "Epoch 67/100\n",
            "1/1 [==============================] - 0s 15ms/step - loss: 6.2313 - mae: 6.2313\n",
            "Epoch 68/100\n",
            "1/1 [==============================] - 0s 28ms/step - loss: 6.2087 - mae: 6.2087\n",
            "Epoch 69/100\n",
            "1/1 [==============================] - 0s 20ms/step - loss: 6.1859 - mae: 6.1859\n",
            "Epoch 70/100\n",
            "1/1 [==============================] - 0s 14ms/step - loss: 6.1630 - mae: 6.1630\n",
            "Epoch 71/100\n",
            "1/1 [==============================] - 0s 16ms/step - loss: 6.1398 - mae: 6.1398\n",
            "Epoch 72/100\n",
            "1/1 [==============================] - 0s 14ms/step - loss: 6.1164 - mae: 6.1164\n",
            "Epoch 73/100\n",
            "1/1 [==============================] - 0s 21ms/step - loss: 6.0928 - mae: 6.0928\n",
            "Epoch 74/100\n",
            "1/1 [==============================] - 0s 25ms/step - loss: 6.0690 - mae: 6.0690\n",
            "Epoch 75/100\n",
            "1/1 [==============================] - 0s 19ms/step - loss: 6.0681 - mae: 6.0681\n",
            "Epoch 76/100\n",
            "1/1 [==============================] - 0s 13ms/step - loss: 6.0473 - mae: 6.0473\n",
            "Epoch 77/100\n",
            "1/1 [==============================] - 0s 23ms/step - loss: 6.0234 - mae: 6.0234\n",
            "Epoch 78/100\n",
            "1/1 [==============================] - 0s 31ms/step - loss: 5.9993 - mae: 5.9993\n",
            "Epoch 79/100\n",
            "1/1 [==============================] - 0s 24ms/step - loss: 5.9749 - mae: 5.9749\n",
            "Epoch 80/100\n",
            "1/1 [==============================] - 0s 17ms/step - loss: 5.9503 - mae: 5.9503\n",
            "Epoch 81/100\n",
            "1/1 [==============================] - 0s 18ms/step - loss: 5.9255 - mae: 5.9255\n",
            "Epoch 82/100\n",
            "1/1 [==============================] - 0s 16ms/step - loss: 5.9004 - mae: 5.9004\n",
            "Epoch 83/100\n",
            "1/1 [==============================] - 0s 23ms/step - loss: 5.8750 - mae: 5.8750\n",
            "Epoch 84/100\n",
            "1/1 [==============================] - 0s 12ms/step - loss: 5.8495 - mae: 5.8495\n",
            "Epoch 85/100\n",
            "1/1 [==============================] - 0s 11ms/step - loss: 5.8236 - mae: 5.8236\n",
            "Epoch 86/100\n",
            "1/1 [==============================] - 0s 20ms/step - loss: 5.7975 - mae: 5.7975\n",
            "Epoch 87/100\n",
            "1/1 [==============================] - 0s 18ms/step - loss: 5.7711 - mae: 5.7711\n",
            "Epoch 88/100\n",
            "1/1 [==============================] - 0s 22ms/step - loss: 5.7445 - mae: 5.7445\n",
            "Epoch 89/100\n",
            "1/1 [==============================] - 0s 32ms/step - loss: 5.7259 - mae: 5.7259\n",
            "Epoch 90/100\n",
            "1/1 [==============================] - 0s 15ms/step - loss: 5.7206 - mae: 5.7206\n",
            "Epoch 91/100\n",
            "1/1 [==============================] - 0s 25ms/step - loss: 5.6937 - mae: 5.6937\n",
            "Epoch 92/100\n",
            "1/1 [==============================] - 0s 23ms/step - loss: 5.6666 - mae: 5.6666\n",
            "Epoch 93/100\n",
            "1/1 [==============================] - 0s 18ms/step - loss: 5.6391 - mae: 5.6391\n",
            "Epoch 94/100\n",
            "1/1 [==============================] - 0s 15ms/step - loss: 5.6113 - mae: 5.6113\n",
            "Epoch 95/100\n",
            "1/1 [==============================] - 0s 19ms/step - loss: 5.5833 - mae: 5.5833\n",
            "Epoch 96/100\n",
            "1/1 [==============================] - 0s 16ms/step - loss: 5.5549 - mae: 5.5549\n",
            "Epoch 97/100\n",
            "1/1 [==============================] - 0s 17ms/step - loss: 5.5262 - mae: 5.5262\n",
            "Epoch 98/100\n",
            "1/1 [==============================] - 0s 21ms/step - loss: 5.4972 - mae: 5.4972\n",
            "Epoch 99/100\n",
            "1/1 [==============================] - 0s 19ms/step - loss: 5.4679 - mae: 5.4679\n",
            "Epoch 100/100\n",
            "1/1 [==============================] - 0s 26ms/step - loss: 5.4383 - mae: 5.4383\n"
          ]
        },
        {
          "output_type": "execute_result",
          "data": {
            "text/plain": [
              "<keras.callbacks.History at 0x7cc865a37340>"
            ]
          },
          "metadata": {},
          "execution_count": 15
        }
      ]
    },
    {
      "cell_type": "code",
      "source": [
        "# remind ourselves of the data\n",
        "X, y"
      ],
      "metadata": {
        "colab": {
          "base_uri": "https://localhost:8080/"
        },
        "id": "VccH4F0g4Fwx",
        "outputId": "a03e1aa4-2e9e-4f8f-ce53-1da6a7b37c0c"
      },
      "execution_count": 16,
      "outputs": [
        {
          "output_type": "execute_result",
          "data": {
            "text/plain": [
              "(<tf.Tensor: shape=(8, 1), dtype=float64, numpy=\n",
              " array([[-7.],\n",
              "        [-4.],\n",
              "        [-1.],\n",
              "        [ 2.],\n",
              "        [ 5.],\n",
              "        [ 8.],\n",
              "        [11.],\n",
              "        [14.]])>,\n",
              " <tf.Tensor: shape=(8,), dtype=float64, numpy=array([ 3.,  6.,  9., 12., 15., 18., 21., 24.])>)"
            ]
          },
          "metadata": {},
          "execution_count": 16
        }
      ]
    },
    {
      "cell_type": "code",
      "source": [
        "# getting prediction from the model\n",
        "model.predict([17.0])"
      ],
      "metadata": {
        "colab": {
          "base_uri": "https://localhost:8080/"
        },
        "id": "ebVTntJ-4JSI",
        "outputId": "448ba0d3-66cc-44da-fc97-74b53b4fd4bc"
      },
      "execution_count": 17,
      "outputs": [
        {
          "output_type": "stream",
          "name": "stdout",
          "text": [
            "1/1 [==============================] - 0s 113ms/step\n"
          ]
        },
        {
          "output_type": "execute_result",
          "data": {
            "text/plain": [
              "array([[30.723156]], dtype=float32)"
            ]
          },
          "metadata": {},
          "execution_count": 17
        }
      ]
    },
    {
      "cell_type": "markdown",
      "source": [
        "### Changing the optimizatino funciton"
      ],
      "metadata": {
        "id": "5O57KjST6y_R"
      }
    },
    {
      "cell_type": "code",
      "source": [
        "model = tf.keras.Sequential([\n",
        "    tf.keras.layers.Dense(50, activation=None),\n",
        "    tf.keras.layers.Dense(1)\n",
        "])\n",
        "\n",
        "# compile the model\n",
        "model.compile(loss=tf.keras.losses.mae,\n",
        "              optimizer=tf.keras.optimizers.Adam(learning_rate=0.01),\n",
        "              metrics=['mae'])\n",
        "\n",
        "# fit the model\n",
        "model.fit(X, y, epochs=100)"
      ],
      "metadata": {
        "colab": {
          "base_uri": "https://localhost:8080/"
        },
        "id": "-2MsbAJN64hR",
        "outputId": "292db892-fed7-4fec-c7e9-3b1d3480442b"
      },
      "execution_count": 18,
      "outputs": [
        {
          "output_type": "stream",
          "name": "stdout",
          "text": [
            "Epoch 1/100\n",
            "1/1 [==============================] - 1s 1s/step - loss: 14.8851 - mae: 14.8851\n",
            "Epoch 2/100\n",
            "1/1 [==============================] - 0s 14ms/step - loss: 14.0938 - mae: 14.0938\n",
            "Epoch 3/100\n",
            "1/1 [==============================] - 0s 18ms/step - loss: 13.3126 - mae: 13.3126\n",
            "Epoch 4/100\n",
            "1/1 [==============================] - 0s 11ms/step - loss: 12.5384 - mae: 12.5384\n",
            "Epoch 5/100\n",
            "1/1 [==============================] - 0s 12ms/step - loss: 11.7696 - mae: 11.7696\n",
            "Epoch 6/100\n",
            "1/1 [==============================] - 0s 13ms/step - loss: 11.0042 - mae: 11.0042\n",
            "Epoch 7/100\n",
            "1/1 [==============================] - 0s 11ms/step - loss: 10.2404 - mae: 10.2404\n",
            "Epoch 8/100\n",
            "1/1 [==============================] - 0s 13ms/step - loss: 9.4764 - mae: 9.4764\n",
            "Epoch 9/100\n",
            "1/1 [==============================] - 0s 14ms/step - loss: 8.7100 - mae: 8.7100\n",
            "Epoch 10/100\n",
            "1/1 [==============================] - 0s 12ms/step - loss: 7.9392 - mae: 7.9392\n",
            "Epoch 11/100\n",
            "1/1 [==============================] - 0s 22ms/step - loss: 7.1614 - mae: 7.1614\n",
            "Epoch 12/100\n",
            "1/1 [==============================] - 0s 18ms/step - loss: 6.6423 - mae: 6.6423\n",
            "Epoch 13/100\n",
            "1/1 [==============================] - 0s 17ms/step - loss: 6.8065 - mae: 6.8065\n",
            "Epoch 14/100\n",
            "1/1 [==============================] - 0s 17ms/step - loss: 7.1108 - mae: 7.1108\n",
            "Epoch 15/100\n",
            "1/1 [==============================] - 0s 16ms/step - loss: 7.3846 - mae: 7.3846\n",
            "Epoch 16/100\n",
            "1/1 [==============================] - 0s 16ms/step - loss: 7.5324 - mae: 7.5324\n",
            "Epoch 17/100\n",
            "1/1 [==============================] - 0s 20ms/step - loss: 7.4867 - mae: 7.4867\n",
            "Epoch 18/100\n",
            "1/1 [==============================] - 0s 14ms/step - loss: 7.2920 - mae: 7.2920\n",
            "Epoch 19/100\n",
            "1/1 [==============================] - 0s 12ms/step - loss: 6.9822 - mae: 6.9822\n",
            "Epoch 20/100\n",
            "1/1 [==============================] - 0s 23ms/step - loss: 6.7100 - mae: 6.7100\n",
            "Epoch 21/100\n",
            "1/1 [==============================] - 0s 16ms/step - loss: 6.4423 - mae: 6.4423\n",
            "Epoch 22/100\n",
            "1/1 [==============================] - 0s 13ms/step - loss: 6.1622 - mae: 6.1622\n",
            "Epoch 23/100\n",
            "1/1 [==============================] - 0s 17ms/step - loss: 5.9883 - mae: 5.9883\n",
            "Epoch 24/100\n",
            "1/1 [==============================] - 0s 14ms/step - loss: 5.9407 - mae: 5.9407\n",
            "Epoch 25/100\n",
            "1/1 [==============================] - 0s 15ms/step - loss: 6.0145 - mae: 6.0145\n",
            "Epoch 26/100\n",
            "1/1 [==============================] - 0s 38ms/step - loss: 6.0971 - mae: 6.0971\n",
            "Epoch 27/100\n",
            "1/1 [==============================] - 0s 25ms/step - loss: 6.0852 - mae: 6.0852\n",
            "Epoch 28/100\n",
            "1/1 [==============================] - 0s 24ms/step - loss: 5.9903 - mae: 5.9903\n",
            "Epoch 29/100\n",
            "1/1 [==============================] - 0s 27ms/step - loss: 5.8211 - mae: 5.8211\n",
            "Epoch 30/100\n",
            "1/1 [==============================] - 0s 19ms/step - loss: 5.5841 - mae: 5.5841\n",
            "Epoch 31/100\n",
            "1/1 [==============================] - 0s 20ms/step - loss: 5.4001 - mae: 5.4001\n",
            "Epoch 32/100\n",
            "1/1 [==============================] - 0s 21ms/step - loss: 5.2966 - mae: 5.2966\n",
            "Epoch 33/100\n",
            "1/1 [==============================] - 0s 15ms/step - loss: 5.2010 - mae: 5.2010\n",
            "Epoch 34/100\n",
            "1/1 [==============================] - 0s 15ms/step - loss: 5.1974 - mae: 5.1974\n",
            "Epoch 35/100\n",
            "1/1 [==============================] - 0s 12ms/step - loss: 5.1504 - mae: 5.1504\n",
            "Epoch 36/100\n",
            "1/1 [==============================] - 0s 13ms/step - loss: 5.0633 - mae: 5.0633\n",
            "Epoch 37/100\n",
            "1/1 [==============================] - 0s 11ms/step - loss: 4.9390 - mae: 4.9390\n",
            "Epoch 38/100\n",
            "1/1 [==============================] - 0s 30ms/step - loss: 4.7804 - mae: 4.7804\n",
            "Epoch 39/100\n",
            "1/1 [==============================] - 0s 23ms/step - loss: 4.6004 - mae: 4.6004\n",
            "Epoch 40/100\n",
            "1/1 [==============================] - 0s 25ms/step - loss: 4.5002 - mae: 4.5002\n",
            "Epoch 41/100\n",
            "1/1 [==============================] - 0s 18ms/step - loss: 4.3933 - mae: 4.3933\n",
            "Epoch 42/100\n",
            "1/1 [==============================] - 0s 16ms/step - loss: 4.2798 - mae: 4.2798\n",
            "Epoch 43/100\n",
            "1/1 [==============================] - 0s 21ms/step - loss: 4.1595 - mae: 4.1595\n",
            "Epoch 44/100\n",
            "1/1 [==============================] - 0s 25ms/step - loss: 4.0371 - mae: 4.0371\n",
            "Epoch 45/100\n",
            "1/1 [==============================] - 0s 37ms/step - loss: 3.8904 - mae: 3.8904\n",
            "Epoch 46/100\n",
            "1/1 [==============================] - 0s 22ms/step - loss: 3.7418 - mae: 3.7418\n",
            "Epoch 47/100\n",
            "1/1 [==============================] - 0s 13ms/step - loss: 3.5863 - mae: 3.5863\n",
            "Epoch 48/100\n",
            "1/1 [==============================] - 0s 12ms/step - loss: 3.4234 - mae: 3.4234\n",
            "Epoch 49/100\n",
            "1/1 [==============================] - 0s 13ms/step - loss: 3.2530 - mae: 3.2530\n",
            "Epoch 50/100\n",
            "1/1 [==============================] - 0s 11ms/step - loss: 3.1138 - mae: 3.1138\n",
            "Epoch 51/100\n",
            "1/1 [==============================] - 0s 16ms/step - loss: 2.9430 - mae: 2.9430\n",
            "Epoch 52/100\n",
            "1/1 [==============================] - 0s 16ms/step - loss: 2.7212 - mae: 2.7212\n",
            "Epoch 53/100\n",
            "1/1 [==============================] - 0s 26ms/step - loss: 2.5348 - mae: 2.5348\n",
            "Epoch 54/100\n",
            "1/1 [==============================] - 0s 20ms/step - loss: 2.3382 - mae: 2.3382\n",
            "Epoch 55/100\n",
            "1/1 [==============================] - 0s 17ms/step - loss: 2.1312 - mae: 2.1312\n",
            "Epoch 56/100\n",
            "1/1 [==============================] - 0s 18ms/step - loss: 1.9137 - mae: 1.9137\n",
            "Epoch 57/100\n",
            "1/1 [==============================] - 0s 26ms/step - loss: 1.6854 - mae: 1.6854\n",
            "Epoch 58/100\n",
            "1/1 [==============================] - 0s 25ms/step - loss: 1.4461 - mae: 1.4461\n",
            "Epoch 59/100\n",
            "1/1 [==============================] - 0s 20ms/step - loss: 1.1955 - mae: 1.1955\n",
            "Epoch 60/100\n",
            "1/1 [==============================] - 0s 30ms/step - loss: 0.9334 - mae: 0.9334\n",
            "Epoch 61/100\n",
            "1/1 [==============================] - 0s 14ms/step - loss: 0.6774 - mae: 0.6774\n",
            "Epoch 62/100\n",
            "1/1 [==============================] - 0s 16ms/step - loss: 0.3918 - mae: 0.3918\n",
            "Epoch 63/100\n",
            "1/1 [==============================] - 0s 16ms/step - loss: 0.1943 - mae: 0.1943\n",
            "Epoch 64/100\n",
            "1/1 [==============================] - 0s 17ms/step - loss: 0.2511 - mae: 0.2511\n",
            "Epoch 65/100\n",
            "1/1 [==============================] - 0s 19ms/step - loss: 0.4215 - mae: 0.4215\n",
            "Epoch 66/100\n",
            "1/1 [==============================] - 0s 18ms/step - loss: 0.5940 - mae: 0.5940\n",
            "Epoch 67/100\n",
            "1/1 [==============================] - 0s 19ms/step - loss: 0.7185 - mae: 0.7185\n",
            "Epoch 68/100\n",
            "1/1 [==============================] - 0s 17ms/step - loss: 0.8123 - mae: 0.8123\n",
            "Epoch 69/100\n",
            "1/1 [==============================] - 0s 20ms/step - loss: 0.8498 - mae: 0.8498\n",
            "Epoch 70/100\n",
            "1/1 [==============================] - 0s 19ms/step - loss: 0.7759 - mae: 0.7759\n",
            "Epoch 71/100\n",
            "1/1 [==============================] - 0s 20ms/step - loss: 0.7806 - mae: 0.7806\n",
            "Epoch 72/100\n",
            "1/1 [==============================] - 0s 15ms/step - loss: 0.6838 - mae: 0.6838\n",
            "Epoch 73/100\n",
            "1/1 [==============================] - 0s 15ms/step - loss: 0.5298 - mae: 0.5298\n",
            "Epoch 74/100\n",
            "1/1 [==============================] - 0s 17ms/step - loss: 0.4633 - mae: 0.4633\n",
            "Epoch 75/100\n",
            "1/1 [==============================] - 0s 15ms/step - loss: 0.2123 - mae: 0.2123\n",
            "Epoch 76/100\n",
            "1/1 [==============================] - 0s 17ms/step - loss: 0.1533 - mae: 0.1533\n",
            "Epoch 77/100\n",
            "1/1 [==============================] - 0s 17ms/step - loss: 0.1598 - mae: 0.1598\n",
            "Epoch 78/100\n",
            "1/1 [==============================] - 0s 17ms/step - loss: 0.2477 - mae: 0.2477\n",
            "Epoch 79/100\n",
            "1/1 [==============================] - 0s 16ms/step - loss: 0.3311 - mae: 0.3311\n",
            "Epoch 80/100\n",
            "1/1 [==============================] - 0s 22ms/step - loss: 0.3226 - mae: 0.3226\n",
            "Epoch 81/100\n",
            "1/1 [==============================] - 0s 15ms/step - loss: 0.3837 - mae: 0.3837\n",
            "Epoch 82/100\n",
            "1/1 [==============================] - 0s 16ms/step - loss: 0.3773 - mae: 0.3773\n",
            "Epoch 83/100\n",
            "1/1 [==============================] - 0s 16ms/step - loss: 0.2086 - mae: 0.2086\n",
            "Epoch 84/100\n",
            "1/1 [==============================] - 0s 16ms/step - loss: 0.3979 - mae: 0.3979\n",
            "Epoch 85/100\n",
            "1/1 [==============================] - 0s 19ms/step - loss: 0.3553 - mae: 0.3553\n",
            "Epoch 86/100\n",
            "1/1 [==============================] - 0s 17ms/step - loss: 0.0583 - mae: 0.0583\n",
            "Epoch 87/100\n",
            "1/1 [==============================] - 0s 11ms/step - loss: 0.2540 - mae: 0.2540\n",
            "Epoch 88/100\n",
            "1/1 [==============================] - 0s 22ms/step - loss: 0.1539 - mae: 0.1539\n",
            "Epoch 89/100\n",
            "1/1 [==============================] - 0s 14ms/step - loss: 0.3013 - mae: 0.3013\n",
            "Epoch 90/100\n",
            "1/1 [==============================] - 0s 21ms/step - loss: 0.3180 - mae: 0.3180\n",
            "Epoch 91/100\n",
            "1/1 [==============================] - 0s 34ms/step - loss: 0.1019 - mae: 0.1019\n",
            "Epoch 92/100\n",
            "1/1 [==============================] - 0s 28ms/step - loss: 0.3672 - mae: 0.3672\n",
            "Epoch 93/100\n",
            "1/1 [==============================] - 0s 24ms/step - loss: 0.4195 - mae: 0.4195\n",
            "Epoch 94/100\n",
            "1/1 [==============================] - 0s 25ms/step - loss: 0.2226 - mae: 0.2226\n",
            "Epoch 95/100\n",
            "1/1 [==============================] - 0s 23ms/step - loss: 0.3049 - mae: 0.3049\n",
            "Epoch 96/100\n",
            "1/1 [==============================] - 0s 28ms/step - loss: 0.3913 - mae: 0.3913\n",
            "Epoch 97/100\n",
            "1/1 [==============================] - 0s 26ms/step - loss: 0.2145 - mae: 0.2145\n",
            "Epoch 98/100\n",
            "1/1 [==============================] - 0s 17ms/step - loss: 0.2846 - mae: 0.2846\n",
            "Epoch 99/100\n",
            "1/1 [==============================] - 0s 32ms/step - loss: 0.4087 - mae: 0.4087\n",
            "Epoch 100/100\n",
            "1/1 [==============================] - 0s 40ms/step - loss: 0.2433 - mae: 0.2433\n"
          ]
        },
        {
          "output_type": "execute_result",
          "data": {
            "text/plain": [
              "<keras.callbacks.History at 0x7cc865938610>"
            ]
          },
          "metadata": {},
          "execution_count": 18
        }
      ]
    },
    {
      "cell_type": "code",
      "source": [
        "model.predict([17.0])"
      ],
      "metadata": {
        "colab": {
          "base_uri": "https://localhost:8080/"
        },
        "id": "RhpYwovr7QXw",
        "outputId": "f35814e1-0915-4bd4-8eb9-046b92cc87ec"
      },
      "execution_count": 19,
      "outputs": [
        {
          "output_type": "stream",
          "name": "stdout",
          "text": [
            "1/1 [==============================] - 0s 108ms/step\n"
          ]
        },
        {
          "output_type": "execute_result",
          "data": {
            "text/plain": [
              "array([[27.48275]], dtype=float32)"
            ]
          },
          "metadata": {},
          "execution_count": 19
        }
      ]
    },
    {
      "cell_type": "markdown",
      "source": [
        "**🧮🔑Important🔑🧮:** Common ways to improve a deep learning model\n",
        "\n",
        "*   Adding layers.\n",
        "*   Increase the number of hidden units.\n",
        "*   Change the activation function.\n",
        "*   Change the optimizatino function.\n",
        "*   Change the learning rate.\n",
        "*   Fitting on more data.\n",
        "\n"
      ],
      "metadata": {
        "id": "bgicFG5H7e4A"
      }
    },
    {
      "cell_type": "markdown",
      "source": [
        "### Adding more data\n",
        "\n",
        "It is good idea to visualize:\n",
        "\n",
        "*  The data - What data are we working with? What does it look like?\n",
        "*  The model itself - What does our model look like?\n",
        "*  The training of a model - How does a model performs while it learns?\n",
        "*  The predictions of the model - How do the prediction of the model line up against the ground truth (the original labels)."
      ],
      "metadata": {
        "id": "CEvz_6qnXlzo"
      }
    },
    {
      "cell_type": "code",
      "source": [
        "# making a bigger dataset\n",
        "features = tf.range(-100, 100, 4)\n",
        "labels = features + 10\n",
        "features, labels"
      ],
      "metadata": {
        "colab": {
          "base_uri": "https://localhost:8080/"
        },
        "id": "KipjMLD_Ybwp",
        "outputId": "320c4c1b-8b23-42e1-d687-1bf0ead6d679"
      },
      "execution_count": 20,
      "outputs": [
        {
          "output_type": "execute_result",
          "data": {
            "text/plain": [
              "(<tf.Tensor: shape=(50,), dtype=int32, numpy=\n",
              " array([-100,  -96,  -92,  -88,  -84,  -80,  -76,  -72,  -68,  -64,  -60,\n",
              "         -56,  -52,  -48,  -44,  -40,  -36,  -32,  -28,  -24,  -20,  -16,\n",
              "         -12,   -8,   -4,    0,    4,    8,   12,   16,   20,   24,   28,\n",
              "          32,   36,   40,   44,   48,   52,   56,   60,   64,   68,   72,\n",
              "          76,   80,   84,   88,   92,   96], dtype=int32)>,\n",
              " <tf.Tensor: shape=(50,), dtype=int32, numpy=\n",
              " array([-90, -86, -82, -78, -74, -70, -66, -62, -58, -54, -50, -46, -42,\n",
              "        -38, -34, -30, -26, -22, -18, -14, -10,  -6,  -2,   2,   6,  10,\n",
              "         14,  18,  22,  26,  30,  34,  38,  42,  46,  50,  54,  58,  62,\n",
              "         66,  70,  74,  78,  82,  86,  90,  94,  98, 102, 106], dtype=int32)>)"
            ]
          },
          "metadata": {},
          "execution_count": 20
        }
      ]
    },
    {
      "cell_type": "code",
      "source": [
        "plt.scatter(features, labels)"
      ],
      "metadata": {
        "colab": {
          "base_uri": "https://localhost:8080/",
          "height": 447
        },
        "id": "kiX6fwFnZn-P",
        "outputId": "8d08e2b3-0212-40c5-cec2-3975e85e9e1f"
      },
      "execution_count": 21,
      "outputs": [
        {
          "output_type": "execute_result",
          "data": {
            "text/plain": [
              "<matplotlib.collections.PathCollection at 0x7cc8653438e0>"
            ]
          },
          "metadata": {},
          "execution_count": 21
        },
        {
          "output_type": "display_data",
          "data": {
            "text/plain": [
              "<Figure size 640x480 with 1 Axes>"
            ],
            "image/png": "[encoded data removed]"
          },
          "metadata": {}
        }
      ]
    },
    {
      "cell_type": "code",
      "source": [
        "plt.plot(features, labels)"
      ],
      "metadata": {
        "colab": {
          "base_uri": "https://localhost:8080/",
          "height": 447
        },
        "id": "YmQOCN8sZu9v",
        "outputId": "fd6e89b6-16b6-4831-be22-efd30c45aa78"
      },
      "execution_count": 22,
      "outputs": [
        {
          "output_type": "execute_result",
          "data": {
            "text/plain": [
              "[<matplotlib.lines.Line2D at 0x7cc864689270>]"
            ]
          },
          "metadata": {},
          "execution_count": 22
        },
        {
          "output_type": "display_data",
          "data": {
            "text/plain": [
              "<Figure size 640x480 with 1 Axes>"
            ],
            "image/png": "[encoded data removed]"
          },
          "metadata": {}
        }
      ]
    },
    {
      "cell_type": "code",
      "source": [
        "features = tf.reshape(features, shape=(50,1))\n",
        "features"
      ],
      "metadata": {
        "colab": {
          "base_uri": "https://localhost:8080/"
        },
        "id": "RzlgNeobZBXA",
        "outputId": "67cd1775-6e6e-45f0-80e7-cfc701782d24"
      },
      "execution_count": 23,
      "outputs": [
        {
          "output_type": "execute_result",
          "data": {
            "text/plain": [
              "<tf.Tensor: shape=(50, 1), dtype=int32, numpy=\n",
              "array([[-100],\n",
              "       [ -96],\n",
              "       [ -92],\n",
              "       [ -88],\n",
              "       [ -84],\n",
              "       [ -80],\n",
              "       [ -76],\n",
              "       [ -72],\n",
              "       [ -68],\n",
              "       [ -64],\n",
              "       [ -60],\n",
              "       [ -56],\n",
              "       [ -52],\n",
              "       [ -48],\n",
              "       [ -44],\n",
              "       [ -40],\n",
              "       [ -36],\n",
              "       [ -32],\n",
              "       [ -28],\n",
              "       [ -24],\n",
              "       [ -20],\n",
              "       [ -16],\n",
              "       [ -12],\n",
              "       [  -8],\n",
              "       [  -4],\n",
              "       [   0],\n",
              "       [   4],\n",
              "       [   8],\n",
              "       [  12],\n",
              "       [  16],\n",
              "       [  20],\n",
              "       [  24],\n",
              "       [  28],\n",
              "       [  32],\n",
              "       [  36],\n",
              "       [  40],\n",
              "       [  44],\n",
              "       [  48],\n",
              "       [  52],\n",
              "       [  56],\n",
              "       [  60],\n",
              "       [  64],\n",
              "       [  68],\n",
              "       [  72],\n",
              "       [  76],\n",
              "       [  80],\n",
              "       [  84],\n",
              "       [  88],\n",
              "       [  92],\n",
              "       [  96]], dtype=int32)>"
            ]
          },
          "metadata": {},
          "execution_count": 23
        }
      ]
    },
    {
      "cell_type": "code",
      "source": [
        "# split the data into train and test set\n",
        "x_train = features[:40, :1]\n",
        "y_train = labels[:40]\n",
        "\n",
        "x_test = features[40:, :1]\n",
        "y_test = labels[40:]"
      ],
      "metadata": {
        "id": "48spQS9SZlzh"
      },
      "execution_count": 24,
      "outputs": []
    },
    {
      "cell_type": "code",
      "source": [
        "len(x_train), len(x_test), len(y_train), len(y_test)"
      ],
      "metadata": {
        "colab": {
          "base_uri": "https://localhost:8080/"
        },
        "id": "V9Jwelrdp4S2",
        "outputId": "baa414f6-e0a9-4f4c-ab65-519a86a612e7"
      },
      "execution_count": 25,
      "outputs": [
        {
          "output_type": "execute_result",
          "data": {
            "text/plain": [
              "(40, 10, 40, 10)"
            ]
          },
          "metadata": {},
          "execution_count": 25
        }
      ]
    },
    {
      "cell_type": "markdown",
      "source": [
        "## Visualizing the data"
      ],
      "metadata": {
        "id": "QHK1Ga8yqbS1"
      }
    },
    {
      "cell_type": "code",
      "source": [
        "plt.figure(figsize=(10, 7))\n",
        "# plot training data in blue\n",
        "plt.scatter(x_train, y_train, c='b', label='Training data')\n",
        "# plot test data\n",
        "plt.scatter(x_test, y_test, c='g', label='Test data')\n",
        "# show the legend\n",
        "plt.legend()"
      ],
      "metadata": {
        "colab": {
          "base_uri": "https://localhost:8080/",
          "height": 616
        },
        "id": "QGLaAVuSqhMV",
        "outputId": "73cd9cbe-6889-44ad-d3a6-ef3bccc4a38b"
      },
      "execution_count": 26,
      "outputs": [
        {
          "output_type": "execute_result",
          "data": {
            "text/plain": [
              "<matplotlib.legend.Legend at 0x7cc8645400d0>"
            ]
          },
          "metadata": {},
          "execution_count": 26
        },
        {
          "output_type": "display_data",
          "data": {
            "text/plain": [
              "<Figure size 1000x700 with 1 Axes>"
            ],
            "image/png": "[encoded data removed]"
          },
          "metadata": {}
        }
      ]
    },
    {
      "cell_type": "markdown",
      "source": [
        "## Training a neural network"
      ],
      "metadata": {
        "id": "ChbVlUPDS_ki"
      }
    },
    {
      "cell_type": "code",
      "source": [
        "tf.shape(x_train)"
      ],
      "metadata": {
        "colab": {
          "base_uri": "https://localhost:8080/"
        },
        "id": "-7d9MnOOTQ9K",
        "outputId": "140f36ed-d28e-4d13-d202-36d9b2257ae9"
      },
      "execution_count": 27,
      "outputs": [
        {
          "output_type": "execute_result",
          "data": {
            "text/plain": [
              "<tf.Tensor: shape=(2,), dtype=int32, numpy=array([40,  1], dtype=int32)>"
            ]
          },
          "metadata": {},
          "execution_count": 27
        }
      ]
    },
    {
      "cell_type": "code",
      "source": [
        "# build the model\n",
        "model = tf.keras.Sequential([\n",
        "    tf.keras.layers.Dense(20, input_shape=[1], name='input_layer'),\n",
        "    tf.keras.layers.Dense(1, name='output_layer')\n",
        "], name='neural_network')\n",
        "\n",
        "# compile the model\n",
        "model.compile(loss=tf.keras.losses.mae,\n",
        "              optimizer=tf.keras.optimizers.SGD(),\n",
        "              metrics=['mae'])"
      ],
      "metadata": {
        "id": "B77t2i8WS-ZL"
      },
      "execution_count": 57,
      "outputs": []
    },
    {
      "cell_type": "code",
      "source": [
        "model.summary()"
      ],
      "metadata": {
        "colab": {
          "base_uri": "https://localhost:8080/"
        },
        "id": "or44b1aITuJ7",
        "outputId": "2933368f-f41c-4e94-9356-75d5f0689659"
      },
      "execution_count": 58,
      "outputs": [
        {
          "output_type": "stream",
          "name": "stdout",
          "text": [
            "Model: \"neural_network\"\n",
            "_________________________________________________________________\n",
            " Layer (type)                Output Shape              Param #   \n",
            "=================================================================\n",
            " input_layer (Dense)         (None, 20)                40        \n",
            "                                                                 \n",
            " output_layer (Dense)        (None, 1)                 21        \n",
            "                                                                 \n",
            "=================================================================\n",
            "Total params: 61\n",
            "Trainable params: 61\n",
            "Non-trainable params: 0\n",
            "_________________________________________________________________\n"
          ]
        }
      ]
    },
    {
      "cell_type": "markdown",
      "source": [
        "🧮🔑**Note:**🔑🧮\n",
        "*  Total params: Total number of parameters in the model.\n",
        "*  Trainable parameters: These are the parameters (paterns) the model can update as it trains.\n",
        "*  Non-trainable params: These parameters aren't updated during training (this is typical when you bring in already learn patterns or parameters from other models during **Transfer Learning**).\n",
        "\n",
        "\n",
        "**Complete details about trainable parameters within a layer:**\n",
        "\n",
        "📖**Resource:** [https://www.youtube.com/watch?v=njKP3FqW3Sk&list=PLHkKmgGGVneX2BzZVYGqcWbFw_7ymcZqv](https://www.youtube.com/watch?v=njKP3FqW3Sk&list=PLHkKmgGGVneX2BzZVYGqcWbFw_7ymcZqv)"
      ],
      "metadata": {
        "id": "Yqli5tU9Vo9K"
      }
    },
    {
      "cell_type": "code",
      "source": [
        "# fit the model\n",
        "model.fit(x_train, y_train, epochs=100)"
      ],
      "metadata": {
        "colab": {
          "base_uri": "https://localhost:8080/"
        },
        "id": "IgNOdsqETn0y",
        "outputId": "6d892c57-f895-44ed-f2d9-9252b672d5c4"
      },
      "execution_count": 59,
      "outputs": [
        {
          "output_type": "stream",
          "name": "stdout",
          "text": [
            "Epoch 1/100\n",
            "2/2 [==============================] - 0s 6ms/step - loss: 44.4690 - mae: 44.4690\n",
            "Epoch 2/100\n",
            "2/2 [==============================] - 0s 6ms/step - loss: 25.5065 - mae: 25.5065\n",
            "Epoch 3/100\n",
            "2/2 [==============================] - 0s 7ms/step - loss: 29.5919 - mae: 29.5919\n",
            "Epoch 4/100\n",
            "2/2 [==============================] - 0s 6ms/step - loss: 14.0620 - mae: 14.0620\n",
            "Epoch 5/100\n",
            "2/2 [==============================] - 0s 6ms/step - loss: 19.2806 - mae: 19.2806\n",
            "Epoch 6/100\n",
            "2/2 [==============================] - 0s 6ms/step - loss: 9.6081 - mae: 9.6081\n",
            "Epoch 7/100\n",
            "2/2 [==============================] - 0s 6ms/step - loss: 10.5911 - mae: 10.5911\n",
            "Epoch 8/100\n",
            "2/2 [==============================] - 0s 6ms/step - loss: 12.9159 - mae: 12.9159\n",
            "Epoch 9/100\n",
            "2/2 [==============================] - 0s 6ms/step - loss: 34.0280 - mae: 34.0280\n",
            "Epoch 10/100\n",
            "2/2 [==============================] - 0s 5ms/step - loss: 23.4826 - mae: 23.4826\n",
            "Epoch 11/100\n",
            "2/2 [==============================] - 0s 5ms/step - loss: 11.8620 - mae: 11.8620\n",
            "Epoch 12/100\n",
            "2/2 [==============================] - 0s 9ms/step - loss: 23.9154 - mae: 23.9154\n",
            "Epoch 13/100\n",
            "2/2 [==============================] - 0s 6ms/step - loss: 20.5714 - mae: 20.5714\n",
            "Epoch 14/100\n",
            "2/2 [==============================] - 0s 6ms/step - loss: 22.8995 - mae: 22.8995\n",
            "Epoch 15/100\n",
            "2/2 [==============================] - 0s 7ms/step - loss: 14.5202 - mae: 14.5202\n",
            "Epoch 16/100\n",
            "2/2 [==============================] - 0s 6ms/step - loss: 12.2965 - mae: 12.2965\n",
            "Epoch 17/100\n",
            "2/2 [==============================] - 0s 6ms/step - loss: 21.0443 - mae: 21.0443\n",
            "Epoch 18/100\n",
            "2/2 [==============================] - 0s 6ms/step - loss: 11.8530 - mae: 11.8530\n",
            "Epoch 19/100\n",
            "2/2 [==============================] - 0s 5ms/step - loss: 16.6687 - mae: 16.6687\n",
            "Epoch 20/100\n",
            "2/2 [==============================] - 0s 4ms/step - loss: 7.8302 - mae: 7.8302\n",
            "Epoch 21/100\n",
            "2/2 [==============================] - 0s 6ms/step - loss: 15.5130 - mae: 15.5130\n",
            "Epoch 22/100\n",
            "2/2 [==============================] - 0s 6ms/step - loss: 13.6918 - mae: 13.6918\n",
            "Epoch 23/100\n",
            "2/2 [==============================] - 0s 6ms/step - loss: 13.1992 - mae: 13.1992\n",
            "Epoch 24/100\n",
            "2/2 [==============================] - 0s 8ms/step - loss: 14.2738 - mae: 14.2738\n",
            "Epoch 25/100\n",
            "2/2 [==============================] - 0s 8ms/step - loss: 17.7765 - mae: 17.7765\n",
            "Epoch 26/100\n",
            "2/2 [==============================] - 0s 7ms/step - loss: 24.4984 - mae: 24.4984\n",
            "Epoch 27/100\n",
            "2/2 [==============================] - 0s 7ms/step - loss: 17.5063 - mae: 17.5063\n",
            "Epoch 28/100\n",
            "2/2 [==============================] - 0s 8ms/step - loss: 16.0754 - mae: 16.0754\n",
            "Epoch 29/100\n",
            "2/2 [==============================] - 0s 7ms/step - loss: 9.2232 - mae: 9.2232\n",
            "Epoch 30/100\n",
            "2/2 [==============================] - 0s 7ms/step - loss: 28.6987 - mae: 28.6987\n",
            "Epoch 31/100\n",
            "2/2 [==============================] - 0s 8ms/step - loss: 51.9347 - mae: 51.9347\n",
            "Epoch 32/100\n",
            "2/2 [==============================] - 0s 7ms/step - loss: 11.4102 - mae: 11.4102\n",
            "Epoch 33/100\n",
            "2/2 [==============================] - 0s 8ms/step - loss: 12.1593 - mae: 12.1593\n",
            "Epoch 34/100\n",
            "2/2 [==============================] - 0s 8ms/step - loss: 23.9234 - mae: 23.9234\n",
            "Epoch 35/100\n",
            "2/2 [==============================] - 0s 8ms/step - loss: 12.6138 - mae: 12.6138\n",
            "Epoch 36/100\n",
            "2/2 [==============================] - 0s 7ms/step - loss: 21.5214 - mae: 21.5214\n",
            "Epoch 37/100\n",
            "2/2 [==============================] - 0s 8ms/step - loss: 11.3780 - mae: 11.3780\n",
            "Epoch 38/100\n",
            "2/2 [==============================] - 0s 7ms/step - loss: 13.4708 - mae: 13.4708\n",
            "Epoch 39/100\n",
            "2/2 [==============================] - 0s 8ms/step - loss: 10.7898 - mae: 10.7898\n",
            "Epoch 40/100\n",
            "2/2 [==============================] - 0s 6ms/step - loss: 16.6199 - mae: 16.6199\n",
            "Epoch 41/100\n",
            "2/2 [==============================] - 0s 7ms/step - loss: 10.9795 - mae: 10.9795\n",
            "Epoch 42/100\n",
            "2/2 [==============================] - 0s 7ms/step - loss: 9.3059 - mae: 9.3059\n",
            "Epoch 43/100\n",
            "2/2 [==============================] - 0s 9ms/step - loss: 9.5904 - mae: 9.5904\n",
            "Epoch 44/100\n",
            "2/2 [==============================] - 0s 7ms/step - loss: 28.0579 - mae: 28.0579\n",
            "Epoch 45/100\n",
            "2/2 [==============================] - 0s 10ms/step - loss: 11.2951 - mae: 11.2951\n",
            "Epoch 46/100\n",
            "2/2 [==============================] - 0s 6ms/step - loss: 14.1105 - mae: 14.1105\n",
            "Epoch 47/100\n",
            "2/2 [==============================] - 0s 6ms/step - loss: 13.4824 - mae: 13.4824\n",
            "Epoch 48/100\n",
            "2/2 [==============================] - 0s 9ms/step - loss: 17.3089 - mae: 17.3089\n",
            "Epoch 49/100\n",
            "2/2 [==============================] - 0s 6ms/step - loss: 9.5281 - mae: 9.5281\n",
            "Epoch 50/100\n",
            "2/2 [==============================] - 0s 6ms/step - loss: 13.7348 - mae: 13.7348\n",
            "Epoch 51/100\n",
            "2/2 [==============================] - 0s 7ms/step - loss: 11.5671 - mae: 11.5671\n",
            "Epoch 52/100\n",
            "2/2 [==============================] - 0s 6ms/step - loss: 30.3288 - mae: 30.3288\n",
            "Epoch 53/100\n",
            "2/2 [==============================] - 0s 7ms/step - loss: 14.2575 - mae: 14.2575\n",
            "Epoch 54/100\n",
            "2/2 [==============================] - 0s 6ms/step - loss: 23.5749 - mae: 23.5749\n",
            "Epoch 55/100\n",
            "2/2 [==============================] - 0s 7ms/step - loss: 24.4941 - mae: 24.4941\n",
            "Epoch 56/100\n",
            "2/2 [==============================] - 0s 6ms/step - loss: 11.3076 - mae: 11.3076\n",
            "Epoch 57/100\n",
            "2/2 [==============================] - 0s 7ms/step - loss: 13.3173 - mae: 13.3173\n",
            "Epoch 58/100\n",
            "2/2 [==============================] - 0s 6ms/step - loss: 9.9241 - mae: 9.9241\n",
            "Epoch 59/100\n",
            "2/2 [==============================] - 0s 6ms/step - loss: 13.8667 - mae: 13.8667\n",
            "Epoch 60/100\n",
            "2/2 [==============================] - 0s 6ms/step - loss: 9.9687 - mae: 9.9687\n",
            "Epoch 61/100\n",
            "2/2 [==============================] - 0s 7ms/step - loss: 14.9273 - mae: 14.9273\n",
            "Epoch 62/100\n",
            "2/2 [==============================] - 0s 7ms/step - loss: 11.8968 - mae: 11.8968\n",
            "Epoch 63/100\n",
            "2/2 [==============================] - 0s 6ms/step - loss: 10.2704 - mae: 10.2704\n",
            "Epoch 64/100\n",
            "2/2 [==============================] - 0s 8ms/step - loss: 23.8258 - mae: 23.8258\n",
            "Epoch 65/100\n",
            "2/2 [==============================] - 0s 7ms/step - loss: 10.4473 - mae: 10.4473\n",
            "Epoch 66/100\n",
            "2/2 [==============================] - 0s 7ms/step - loss: 20.8830 - mae: 20.8830\n",
            "Epoch 67/100\n",
            "2/2 [==============================] - 0s 6ms/step - loss: 10.4240 - mae: 10.4240\n",
            "Epoch 68/100\n",
            "2/2 [==============================] - 0s 7ms/step - loss: 14.1442 - mae: 14.1442\n",
            "Epoch 69/100\n",
            "2/2 [==============================] - 0s 6ms/step - loss: 10.4944 - mae: 10.4944\n",
            "Epoch 70/100\n",
            "2/2 [==============================] - 0s 6ms/step - loss: 12.5648 - mae: 12.5648\n",
            "Epoch 71/100\n",
            "2/2 [==============================] - 0s 6ms/step - loss: 12.9969 - mae: 12.9969\n",
            "Epoch 72/100\n",
            "2/2 [==============================] - 0s 6ms/step - loss: 19.3307 - mae: 19.3307\n",
            "Epoch 73/100\n",
            "2/2 [==============================] - 0s 6ms/step - loss: 11.1187 - mae: 11.1187\n",
            "Epoch 74/100\n",
            "2/2 [==============================] - 0s 7ms/step - loss: 21.4229 - mae: 21.4229\n",
            "Epoch 75/100\n",
            "2/2 [==============================] - 0s 6ms/step - loss: 9.4505 - mae: 9.4505\n",
            "Epoch 76/100\n",
            "2/2 [==============================] - 0s 6ms/step - loss: 12.2737 - mae: 12.2737\n",
            "Epoch 77/100\n",
            "2/2 [==============================] - 0s 6ms/step - loss: 16.3117 - mae: 16.3117\n",
            "Epoch 78/100\n",
            "2/2 [==============================] - 0s 6ms/step - loss: 9.0039 - mae: 9.0039\n",
            "Epoch 79/100\n",
            "2/2 [==============================] - 0s 7ms/step - loss: 23.5638 - mae: 23.5638\n",
            "Epoch 80/100\n",
            "2/2 [==============================] - 0s 6ms/step - loss: 26.2596 - mae: 26.2596\n",
            "Epoch 81/100\n",
            "2/2 [==============================] - 0s 6ms/step - loss: 11.4373 - mae: 11.4373\n",
            "Epoch 82/100\n",
            "2/2 [==============================] - 0s 8ms/step - loss: 12.4394 - mae: 12.4394\n",
            "Epoch 83/100\n",
            "2/2 [==============================] - 0s 11ms/step - loss: 17.1034 - mae: 17.1034\n",
            "Epoch 84/100\n",
            "2/2 [==============================] - 0s 7ms/step - loss: 7.2520 - mae: 7.2520\n",
            "Epoch 85/100\n",
            "2/2 [==============================] - 0s 6ms/step - loss: 37.1891 - mae: 37.1891\n",
            "Epoch 86/100\n",
            "2/2 [==============================] - 0s 7ms/step - loss: 21.2067 - mae: 21.2067\n",
            "Epoch 87/100\n",
            "2/2 [==============================] - 0s 6ms/step - loss: 11.0194 - mae: 11.0194\n",
            "Epoch 88/100\n",
            "2/2 [==============================] - 0s 6ms/step - loss: 25.0747 - mae: 25.0747\n",
            "Epoch 89/100\n",
            "2/2 [==============================] - 0s 5ms/step - loss: 9.3537 - mae: 9.3537\n",
            "Epoch 90/100\n",
            "2/2 [==============================] - 0s 6ms/step - loss: 17.3790 - mae: 17.3790\n",
            "Epoch 91/100\n",
            "2/2 [==============================] - 0s 7ms/step - loss: 10.7972 - mae: 10.7972\n",
            "Epoch 92/100\n",
            "2/2 [==============================] - 0s 6ms/step - loss: 19.0736 - mae: 19.0736\n",
            "Epoch 93/100\n",
            "2/2 [==============================] - 0s 7ms/step - loss: 8.3160 - mae: 8.3160\n",
            "Epoch 94/100\n",
            "2/2 [==============================] - 0s 9ms/step - loss: 11.5572 - mae: 11.5572\n",
            "Epoch 95/100\n",
            "2/2 [==============================] - 0s 7ms/step - loss: 26.1250 - mae: 26.1250\n",
            "Epoch 96/100\n",
            "2/2 [==============================] - 0s 7ms/step - loss: 11.1868 - mae: 11.1868\n",
            "Epoch 97/100\n",
            "2/2 [==============================] - 0s 7ms/step - loss: 16.7950 - mae: 16.7950\n",
            "Epoch 98/100\n",
            "2/2 [==============================] - 0s 6ms/step - loss: 6.5854 - mae: 6.5854\n",
            "Epoch 99/100\n",
            "2/2 [==============================] - 0s 6ms/step - loss: 12.5971 - mae: 12.5971\n",
            "Epoch 100/100\n",
            "2/2 [==============================] - 0s 6ms/step - loss: 19.4057 - mae: 19.4057\n"
          ]
        },
        {
          "output_type": "execute_result",
          "data": {
            "text/plain": [
              "<keras.callbacks.History at 0x7cc853478a60>"
            ]
          },
          "metadata": {},
          "execution_count": 59
        }
      ]
    },
    {
      "cell_type": "markdown",
      "source": [
        "## Evaluating model"
      ],
      "metadata": {
        "id": "vypFhvji9YIP"
      }
    },
    {
      "cell_type": "code",
      "source": [
        "from tensorflow.keras.utils import plot_model"
      ],
      "metadata": {
        "id": "ciiDvD5w9avN"
      },
      "execution_count": 60,
      "outputs": []
    },
    {
      "cell_type": "code",
      "source": [
        "plot_model(model, show_shapes=True)"
      ],
      "metadata": {
        "colab": {
          "base_uri": "https://localhost:8080/",
          "height": 312
        },
        "id": "h-IbdAoa9oKd",
        "outputId": "ffc1093a-f17c-42b6-d0a8-bdcf1414706b"
      },
      "execution_count": 61,
      "outputs": [
        {
          "output_type": "execute_result",
          "data": {
            "image/png": "[encoded data removed]",
            "text/plain": [
              "<IPython.core.display.Image object>"
            ]
          },
          "metadata": {},
          "execution_count": 61
        }
      ]
    },
    {
      "cell_type": "markdown",
      "source": [
        "### Visualizing our models predictions"
      ],
      "metadata": {
        "id": "vR7tHriN_Vk9"
      }
    },
    {
      "cell_type": "code",
      "source": [
        "# make some prediction\n",
        "y_pred = model.predict(x_test)\n",
        "y_pred"
      ],
      "metadata": {
        "colab": {
          "base_uri": "https://localhost:8080/"
        },
        "id": "K6a7CILa_a7-",
        "outputId": "094027b4-a2e2-4ad1-a53d-e70f356af03a"
      },
      "execution_count": 62,
      "outputs": [
        {
          "output_type": "stream",
          "name": "stdout",
          "text": [
            "1/1 [==============================] - 0s 51ms/step\n"
          ]
        },
        {
          "output_type": "execute_result",
          "data": {
            "text/plain": [
              "array([[ 78.31976 ],\n",
              "       [ 83.42299 ],\n",
              "       [ 88.526215],\n",
              "       [ 93.62943 ],\n",
              "       [ 98.73266 ],\n",
              "       [103.83589 ],\n",
              "       [108.93911 ],\n",
              "       [114.042336],\n",
              "       [119.14556 ],\n",
              "       [124.248795]], dtype=float32)"
            ]
          },
          "metadata": {},
          "execution_count": 62
        }
      ]
    },
    {
      "cell_type": "code",
      "source": [
        "y_test"
      ],
      "metadata": {
        "colab": {
          "base_uri": "https://localhost:8080/"
        },
        "id": "3O8pCc6AAD_M",
        "outputId": "530fcda9-d90b-49b1-f3d4-b9126d71d682"
      },
      "execution_count": 63,
      "outputs": [
        {
          "output_type": "execute_result",
          "data": {
            "text/plain": [
              "<tf.Tensor: shape=(10,), dtype=int32, numpy=array([ 70,  74,  78,  82,  86,  90,  94,  98, 102, 106], dtype=int32)>"
            ]
          },
          "metadata": {},
          "execution_count": 63
        }
      ]
    },
    {
      "cell_type": "code",
      "source": [
        "# let's create a ploting function\n",
        "def plot_prediction(train_data=x_train, train_labels=y_train, test_data=x_test, test_labels=y_test, predictions=y_pred):\n",
        "  \"\"\"\n",
        "  Plots training data, test data and compares predictions to ground truth labels.\n",
        "  \"\"\"\n",
        "  plt.figure(figsize=(10, 7))\n",
        "  # plot training data in blue\n",
        "  plt.scatter(train_data, train_labels, c='b', label='Training data')\n",
        "  # plot testing data in green\n",
        "  plt.scatter(test_data, test_labels, c='g', label='Testing data')\n",
        "  # plot models prediction in red\n",
        "  plt.scatter(test_data, predictions, c='r', label='Predictions')\n",
        "  # show legend\n",
        "  plt.legend()"
      ],
      "metadata": {
        "id": "bQ_MS8h4API2"
      },
      "execution_count": 64,
      "outputs": []
    },
    {
      "cell_type": "code",
      "source": [
        "plot_prediction()"
      ],
      "metadata": {
        "colab": {
          "base_uri": "https://localhost:8080/",
          "height": 599
        },
        "id": "rrFbUy5LCMBl",
        "outputId": "a29d9917-7474-481d-90a9-1fcdc1dab0ed"
      },
      "execution_count": 65,
      "outputs": [
        {
          "output_type": "display_data",
          "data": {
            "text/plain": [
              "<Figure size 1000x700 with 1 Axes>"
            ],
            "image/png": "[encoded data removed]"
          },
          "metadata": {}
        }
      ]
    }
  ]
}